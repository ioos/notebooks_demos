{
 "cells": [
  {
   "cell_type": "markdown",
   "metadata": {
    "collapsed": false
   },
   "source": [
    "## Can we get data near the [Coastal Endurance](http://oceanobservatories.org/array/coastal-endurance/) array?\n",
    "\n",
    "This notebook uses a searches the csw NGDC catalog filtering the results with:\n",
    "- (a) bounding box for the Coastal Endurance array;\n",
    "- (b) time span of \"today &plusmn; 5 days\";\n",
    "- (c) variable: temperature\n",
    "\n",
    "This approach is very robust and was used before to analyze [coastal inundation](http://nbviewer.ipython.org/github/ocefpaf/inundation_notebook/blob/master/inundation_notebook.ipynb),\n",
    "check the water temperature for the [Boston Light Swim](http://nbviewer.ipython.org/github/ocefpaf/boston_light_swim/blob/master/02-create_map.ipynb) event, and even evaluate numerical ocean models performance or [skill score](http://secoora.github.io/secoora/comparisons/timeSeries/)."
   ]
  },
  {
   "cell_type": "markdown",
   "metadata": {},
   "source": [
    "![](http://oceanobservatories.org/wp-content/uploads/2011/04/Endurance-Array-Map_2013_04-17_ver_0-02.jpg)"
   ]
  },
  {
   "cell_type": "code",
   "execution_count": 1,
   "metadata": {
    "collapsed": true
   },
   "outputs": [],
   "source": [
    "import os\n",
    "import sys\n",
    "import time\n",
    "import warnings\n",
    "\n",
    "ioos_tools = os.path.join(os.path.pardir, os.path.pardir)\n",
    "sys.path.append(ioos_tools)\n",
    "\n",
    "# Suppresing warnings for a \"pretty output.\"\n",
    "# Remove this line to debug any possible issues.\n",
    "warnings.simplefilter(\"ignore\")\n",
    "\n",
    "start_time = time.time()"
   ]
  },
  {
   "cell_type": "markdown",
   "metadata": {},
   "source": [
    "### First step: create the filter"
   ]
  },
  {
   "cell_type": "markdown",
   "metadata": {},
   "source": [
    "(a) Bounding box: everything inside the dashed lines from the map above."
   ]
  },
  {
   "cell_type": "code",
   "execution_count": 2,
   "metadata": {
    "collapsed": false
   },
   "outputs": [],
   "source": [
    "bbox = [-127, 43, -123.75, 48]"
   ]
  },
  {
   "cell_type": "markdown",
   "metadata": {},
   "source": [
    "(b) Time span: today &plusmn;5 days."
   ]
  },
  {
   "cell_type": "code",
   "execution_count": 3,
   "metadata": {
    "collapsed": false
   },
   "outputs": [],
   "source": [
    "from datetime import datetime, timedelta\n",
    "\n",
    "dt = 5\n",
    "\n",
    "date = datetime.utcnow()  # Uncomment to use now.\n",
    "start = date - timedelta(days=dt)\n",
    "stop = date + timedelta(days=dt)"
   ]
  },
  {
   "cell_type": "code",
   "execution_count": 4,
   "metadata": {
    "collapsed": true
   },
   "outputs": [],
   "source": [
    "from ioos_tools.ioos import fes_date_filter\n",
    "\n",
    "begin, end = fes_date_filter(start, stop)"
   ]
  },
  {
   "cell_type": "markdown",
   "metadata": {},
   "source": [
    "(c) Variable: `sea water temperature`.\n",
    "\n",
    "(All names in `name_list` are [CF standard names](http://cfconventions.org/standard-names.html), but we can uses non-CF like 'Water Temperature' and that will return more datasets.)"
   ]
  },
  {
   "cell_type": "code",
   "execution_count": 5,
   "metadata": {
    "collapsed": false
   },
   "outputs": [],
   "source": [
    "sos_name = 'sea_water_temperature'\n",
    "\n",
    "name_list = ['sea_water_temperature',\n",
    "             'sea_surface_temperature',\n",
    "             'sea_water_potential_temperature',\n",
    "             'equivalent_potential_temperature',\n",
    "             'sea_water_conservative_temperature',\n",
    "             'pseudo_equivalent_potential_temperature']"
   ]
  },
  {
   "cell_type": "markdown",
   "metadata": {},
   "source": [
    "Assemble the `fes` filter with `a`+`b`+`c`."
   ]
  },
  {
   "cell_type": "code",
   "execution_count": 6,
   "metadata": {
    "collapsed": false
   },
   "outputs": [],
   "source": [
    "from owslib import fes\n",
    "\n",
    "kw = dict(wildCard='*',\n",
    "          escapeChar='\\\\',\n",
    "          singleChar='?',\n",
    "          propertyname='apiso:AnyText')\n",
    "\n",
    "or_filt = fes.Or([fes.PropertyIsLike(literal=('*%s*' % val), **kw)\n",
    "                  for val in name_list])\n",
    "\n",
    "crs = 'urn:ogc:def:crs:OGC:1.3:CRS84'\n",
    "    \n",
    "filter_list = [fes.And([begin, end, fes.BBox(bbox, crs), or_filt])]"
   ]
  },
  {
   "cell_type": "markdown",
   "metadata": {},
   "source": [
    "### Instantiate `csw` object using the catalogs.\n",
    "\n",
    "Now that we have the filter we can search the catalog.\n",
    "(See [OWSLib](https://geopython.github.io/OWSLib) for more information on filtering (`fes`) and the [`CatalogueServiceWeb`](https://geopython.github.io/OWSLib/#csw).)"
   ]
  },
  {
   "cell_type": "code",
   "execution_count": 7,
   "metadata": {
    "code_folding": [],
    "collapsed": false
   },
   "outputs": [
    {
     "name": "stdout",
     "output_type": "stream",
     "text": [
      "********************* Catalog information **********************\n",
      "CSW version: 2.0.2\n",
      "Number of datasets available: 5\n"
     ]
    }
   ],
   "source": [
    "from owslib.csw import CatalogueServiceWeb\n",
    "\n",
    "catalog = 'https://dev-catalog.ioos.us/csw'\n",
    "        \n",
    "csw = CatalogueServiceWeb(catalog, timeout=60)\n",
    "csw.getrecords2(constraints=filter_list, maxrecords=1000, esn='full')\n",
    "\n",
    "fmt = '{:*^64}'.format\n",
    "print(fmt(' Catalog information '))\n",
    "print(\"CSW version: {}\".format(csw.version))\n",
    "print(\"Number of datasets available: {}\".format(len(csw.records.keys())))"
   ]
  },
  {
   "cell_type": "markdown",
   "metadata": {},
   "source": [
    "### What are the services available?"
   ]
  },
  {
   "cell_type": "code",
   "execution_count": 8,
   "metadata": {
    "collapsed": false
   },
   "outputs": [
    {
     "name": "stdout",
     "output_type": "stream",
     "text": [
      "[ncep_global]\n",
      "OGC:WCS\n",
      "OPeNDAP:OPeNDAP\n",
      "UNIDATA:NCSS\n",
      "ERDDAP:griddap\n",
      "http\n",
      "OGC:WMS\n",
      "NOAA:LAS\n",
      "\n",
      "[G1_SST_GLOBAL]\n",
      "OPeNDAP:OPeNDAP\n",
      "OGC:WCS\n",
      "UNIDATA:NCSS\n",
      "OGC:WMS\n",
      "WWW:LINK\n",
      "\n",
      "[CA_DAS]\n",
      "OPeNDAP:OPeNDAP\n",
      "OGC:WCS\n",
      "UNIDATA:NCSS\n",
      "OGC:WMS\n",
      "WWW:LINK\n",
      "\n",
      "[COAMPS_4KM_SOL_RAD]\n",
      "OPeNDAP:OPeNDAP\n",
      "OGC:WCS\n",
      "UNIDATA:NCSS\n",
      "OGC:WMS\n",
      "WWW:LINK\n",
      "\n",
      "[hycom_global]\n",
      "OGC:WCS\n",
      "OPeNDAP:OPeNDAP\n",
      "UNIDATA:NCSS\n",
      "ERDDAP:griddap\n",
      "http\n",
      "OGC:WMS\n",
      "NOAA:LAS\n",
      "\n"
     ]
    }
   ],
   "source": [
    "for label, record in csw.records.items():\n",
    "    services = [scheme['scheme'] for scheme in record.references]\n",
    "    print('[{}]\\n{}\\n'.format(label, '\\n'.join(set(services))))"
   ]
  },
  {
   "cell_type": "markdown",
   "metadata": {},
   "source": [
    "### What do we have as `SOS` and `OPeNDAP`?\n",
    "\n",
    "Why `SOS` and `OPeNDAP`?  Both services allow us to download and explore both the data and metadata using standard tools.\n",
    "For SOS we have [pyoos](https://github.com/ioos/pyoos) (a Python library for collecting Met/Ocean observations), while for OPeNDAP we have many options:\n",
    "[netCDF4-python](http://github.com/Unidata/netcdf4-python),\n",
    "[iris](http://www.scitools.org.uk/iris),\n",
    "[xray](https://github.com/xray/xray),\n",
    "[siphon](https://github.com/Unidata/siphon)..."
   ]
  },
  {
   "cell_type": "code",
   "execution_count": 9,
   "metadata": {
    "collapsed": false,
    "scrolled": true
   },
   "outputs": [
    {
     "name": "stdout",
     "output_type": "stream",
     "text": [
      "***************************** DAP ******************************\n",
      "http://oos.soest.hawaii.edu/thredds/dodsC/hioos/model/atm/ncep_global/NCEP_Global_Atmospheric_Model_best.ncd.html\n",
      "http://oos.soest.hawaii.edu/thredds/dodsC/pacioos/hycom/global.html\n",
      "http://thredds.cencoos.org/thredds/dodsC/CA_DAS.nc.html\n",
      "http://thredds.cencoos.org/thredds/dodsC/COAMPS_4KM_SOL_RAD.nc.html\n",
      "http://thredds.cencoos.org/thredds/dodsC/G1_SST_GLOBAL.nc.html\n"
     ]
    }
   ],
   "source": [
    "from ioos_tools.ioos import service_urls\n",
    "\n",
    "opendap_strings = ['OPeNDAP:OPeNDAP',\n",
    "                   'urn:x-esri:specification:ServiceType:odp:url']\n",
    "sos_strings = ['urn:x-esri:specification:ServiceType:sos:url']\n",
    "\n",
    "dap_urls = service_urls(csw.records, services=opendap_strings)\n",
    "sos_urls = service_urls(csw.records, services=sos_strings)\n",
    "\n",
    "if sos_urls:\n",
    "    print(fmt(' SOS '))\n",
    "    for url in dap_urls:\n",
    "        print('{}'.format(url))\n",
    "if dap_urls:\n",
    "    print(fmt(' DAP '))\n",
    "    for url in dap_urls:\n",
    "        print('{}.html'.format(url))"
   ]
  },
  {
   "cell_type": "markdown",
   "metadata": {},
   "source": [
    "### Get the SOS data with pyoos `collectors`."
   ]
  },
  {
   "cell_type": "code",
   "execution_count": 10,
   "metadata": {
    "collapsed": false
   },
   "outputs": [],
   "source": [
    "from pyoos.collectors.ndbc.ndbc_sos import NdbcSos\n",
    "from pyoos.collectors.ioos.swe_sos import IoosSweSos\n",
    "from pyoos.collectors.coops.coops_sos import CoopsSos\n",
    "\n",
    "from ioos_tools.ioos import collector2table\n",
    "\n",
    "observations = []\n",
    "for url in sos_urls:\n",
    "    if 'co-ops' in url.lower():\n",
    "        collector = CoopsSos()\n",
    "    elif 'ndbc' in url.lower():\n",
    "        collector = NdbcSos()\n",
    "    else:\n",
    "        collector = IoosSweSos(url)\n",
    "    \n",
    "    collector.set_bbox(bbox)\n",
    "    collector.end_time = stop\n",
    "    collector.start_time = start\n",
    "    collector.variables = [sos_name]\n",
    "    \n",
    "    ofrs = collector.server.offerings\n",
    "    title = collector.server.identification.title\n",
    "    try:\n",
    "        observations.extend(collector2table(collector))\n",
    "        print('{}: {} offerings:'.format(title, len(ofrs)))\n",
    "        print(fmt(' {} '.format(url)))\n",
    "    except Exception as e:\n",
    "        print('\\nCannot collect:\\n{}. {}'.format(url, e))"
   ]
  },
  {
   "cell_type": "code",
   "execution_count": 11,
   "metadata": {
    "collapsed": false
   },
   "outputs": [
    {
     "data": {
      "text/plain": [
       "[]"
      ]
     },
     "execution_count": 11,
     "metadata": {},
     "output_type": "execute_result"
    }
   ],
   "source": [
    "observations"
   ]
  }
 ],
 "metadata": {
  "kernelspec": {
   "display_name": "Python [default]",
   "language": "python",
   "name": "python3"
  },
  "language_info": {
   "codemirror_mode": {
    "name": "ipython",
    "version": 3
   },
   "file_extension": ".py",
   "mimetype": "text/x-python",
   "name": "python",
   "nbconvert_exporter": "python",
   "pygments_lexer": "ipython3",
   "version": "3.5.2"
  }
 },
 "nbformat": 4,
 "nbformat_minor": 0
}
