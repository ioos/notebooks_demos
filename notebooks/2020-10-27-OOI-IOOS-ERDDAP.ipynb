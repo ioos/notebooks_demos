{
 "cells": [
  {
   "cell_type": "markdown",
   "metadata": {},
   "source": [
    "# Accessing data in multiple ERDDAP servers\n",
    "\n",
    "\n",
    "This is the first post of a series on how to access data in multiple ERDDAP servers.\n",
    "We already have example that \"hits\" a single server but thanks to EDDAP RESTful we can\"re-use\" the same query in any server. This post will do the \"poor's man\" multiple server search by just doing exactly that.\n",
    "One could also use [http://erddap.com/](http://erddap.com/) or [https://coastwatch.pfeg.noaa.gov/erddap/download/SearchMultipleERDDAPs.html](https://coastwatch.pfeg.noaa.gov/erddap/download/SearchMultipleERDDAPs.html).\n",
    "\n",
    "The [rerddap](https://cran.r-project.org/web/packages/rerddap/vignettes/Using_rerddap.html) also searches multiples ERDDAP but `erddapy` does not. The main reason was preserve the provenance of the data, by \"forcing\" the user to know which server the data is coming from. However, a future version may have a utilitiy function to search multiple ERDDAPs and return endpoints that could be used to obtain data."
   ]
  },
  {
   "cell_type": "markdown",
   "metadata": {},
   "source": [
    "We will use two ERDDAP servers for this notebook: the brand new [Axiom ERDDAP for OOI](http://erddap.dataexplorer.oceanobservatories.org/erddap) and the [Sensor Map ERDDAP from IOOS](http://erddap.sensors.ioos.us/erddap)."
   ]
  },
  {
   "cell_type": "code",
   "execution_count": 1,
   "metadata": {},
   "outputs": [],
   "source": [
    "from erddapy import ERDDAP\n",
    "protocol = \"tabledap\"\n",
    "\n",
    "ooi = ERDDAP(server=\"http://erddap.dataexplorer.oceanobservatories.org/erddap\", protocol=protocol)\n",
    "ioos = ERDDAP(server=\"http://erddap.sensors.ioos.us/erddap\", protocol=protocol)"
   ]
  },
  {
   "cell_type": "markdown",
   "metadata": {},
   "source": [
    "How many dataset do we have on each one do those servers?"
   ]
  },
  {
   "cell_type": "code",
   "execution_count": 2,
   "metadata": {},
   "outputs": [
    {
     "name": "stdout",
     "output_type": "stream",
     "text": [
      "We have 540 tabledap, 0 griddap, and 0 wms endpoints in the OOI server.\n"
     ]
    }
   ],
   "source": [
    "import pandas as pd\n",
    "\n",
    "\n",
    "url = ooi.get_search_url(search_for=\"all\", response=\"csv\")\n",
    "df = pd.read_csv(url)\n",
    "print(\n",
    "    f'We have {len(set(df[\"tabledap\"].dropna()))} '\n",
    "    f'tabledap, {len(set(df[\"griddap\"].dropna()))} '\n",
    "    f'griddap, and {len(set(df[\"wms\"].dropna()))} wms endpoints in the OOI server.'\n",
    ")"
   ]
  },
  {
   "cell_type": "code",
   "execution_count": 3,
   "metadata": {},
   "outputs": [
    {
     "name": "stdout",
     "output_type": "stream",
     "text": [
      "We have 1000 tabledap, 0 griddap, and 0 wms endpoints in the IOOS server.\n"
     ]
    }
   ],
   "source": [
    "url = ioos.get_search_url(search_for=\"all\", response=\"csv\")\n",
    "df = pd.read_csv(url)\n",
    "print(\n",
    "    f'We have {len(set(df[\"tabledap\"].dropna()))} '\n",
    "    f'tabledap, {len(set(df[\"griddap\"].dropna()))} '\n",
    "    f'griddap, and {len(set(df[\"wms\"].dropna()))} wms endpoints in the IOOS server.'\n",
    ")"
   ]
  },
  {
   "cell_type": "markdown",
   "metadata": {},
   "source": [
    "Now we'll refine our search by adding temporal, bounding box and variable constraints. "
   ]
  },
  {
   "cell_type": "code",
   "execution_count": 4,
   "metadata": {},
   "outputs": [],
   "source": [
    "min_time = \"2017-07-01T00:00:00Z\"\n",
    "max_time = \"2017-09-01T00:00:00Z\"\n",
    "min_lon, max_lon = -127, -123.75\n",
    "min_lat, max_lat = 43, 48\n",
    "standard_name = \"sea_water_practical_salinity\"\n",
    "\n",
    "kw = {\n",
    "    \"standard_name\": standard_name,\n",
    "    \"min_lon\": min_lon,\n",
    "    \"max_lon\": max_lon,\n",
    "    \"min_lat\": min_lat,\n",
    "    \"max_lat\": max_lat,\n",
    "    \"min_time\": min_time,\n",
    "    \"max_time\": max_time,\n",
    "    \"cdm_data_type\": \"timeseries\",  # let's exclude AUV's tracks\n",
    "}"
   ]
  },
  {
   "cell_type": "code",
   "execution_count": 5,
   "metadata": {},
   "outputs": [
    {
     "data": {
      "text/html": [
       "<div>\n",
       "<style scoped>\n",
       "    .dataframe tbody tr th:only-of-type {\n",
       "        vertical-align: middle;\n",
       "    }\n",
       "\n",
       "    .dataframe tbody tr th {\n",
       "        vertical-align: top;\n",
       "    }\n",
       "\n",
       "    .dataframe thead th {\n",
       "        text-align: right;\n",
       "    }\n",
       "</style>\n",
       "<table border=\"1\" class=\"dataframe\">\n",
       "  <thead>\n",
       "    <tr style=\"text-align: right;\">\n",
       "      <th></th>\n",
       "      <th>Institution</th>\n",
       "      <th>Dataset ID</th>\n",
       "      <th>tabledap</th>\n",
       "    </tr>\n",
       "  </thead>\n",
       "  <tbody>\n",
       "    <tr>\n",
       "      <th>0</th>\n",
       "      <td>Ocean Observatories Initiative (OOI)</td>\n",
       "      <td>ooi-ce01issm-rid16-02-flortd000</td>\n",
       "      <td>http://erddap.dataexplorer.oceanobservatories....</td>\n",
       "    </tr>\n",
       "    <tr>\n",
       "      <th>1</th>\n",
       "      <td>Ocean Observatories Initiative (OOI)</td>\n",
       "      <td>ooi-ce01issm-rid16-03-ctdbpc000</td>\n",
       "      <td>http://erddap.dataexplorer.oceanobservatories....</td>\n",
       "    </tr>\n",
       "    <tr>\n",
       "      <th>2</th>\n",
       "      <td>Ocean Observatories Initiative (OOI)</td>\n",
       "      <td>ooi-ce01issm-rid16-03-dostad000</td>\n",
       "      <td>http://erddap.dataexplorer.oceanobservatories....</td>\n",
       "    </tr>\n",
       "    <tr>\n",
       "      <th>3</th>\n",
       "      <td>Ocean Observatories Initiative (OOI)</td>\n",
       "      <td>ooi-ce01issm-rid16-07-nutnrb000</td>\n",
       "      <td>http://erddap.dataexplorer.oceanobservatories....</td>\n",
       "    </tr>\n",
       "    <tr>\n",
       "      <th>4</th>\n",
       "      <td>Ocean Observatories Initiative (OOI)</td>\n",
       "      <td>ooi-ce01issm-rid16-06-phsend000</td>\n",
       "      <td>http://erddap.dataexplorer.oceanobservatories....</td>\n",
       "    </tr>\n",
       "    <tr>\n",
       "      <th>...</th>\n",
       "      <td>...</td>\n",
       "      <td>...</td>\n",
       "      <td>...</td>\n",
       "    </tr>\n",
       "    <tr>\n",
       "      <th>58</th>\n",
       "      <td>Ocean Observatories Initiative (OOI)</td>\n",
       "      <td>ooi-ce07shsm-sbd11-06-metbka000</td>\n",
       "      <td>http://erddap.dataexplorer.oceanobservatories....</td>\n",
       "    </tr>\n",
       "    <tr>\n",
       "      <th>59</th>\n",
       "      <td>Ocean Observatories Initiative (OOI)</td>\n",
       "      <td>ooi-rs01slbs-lj01a-12-ctdpfb101</td>\n",
       "      <td>http://erddap.dataexplorer.oceanobservatories....</td>\n",
       "    </tr>\n",
       "    <tr>\n",
       "      <th>60</th>\n",
       "      <td>Ocean Observatories Initiative (OOI)</td>\n",
       "      <td>ooi-rs01sbps-pc01a-4c-flordd103</td>\n",
       "      <td>http://erddap.dataexplorer.oceanobservatories....</td>\n",
       "    </tr>\n",
       "    <tr>\n",
       "      <th>61</th>\n",
       "      <td>Ocean Observatories Initiative (OOI)</td>\n",
       "      <td>ooi-rs01sbps-pc01a-4a-ctdpfa103</td>\n",
       "      <td>http://erddap.dataexplorer.oceanobservatories....</td>\n",
       "    </tr>\n",
       "    <tr>\n",
       "      <th>62</th>\n",
       "      <td>Ocean Observatories Initiative (OOI)</td>\n",
       "      <td>ooi-rs01sbps-pc01a-4b-phsena102</td>\n",
       "      <td>http://erddap.dataexplorer.oceanobservatories....</td>\n",
       "    </tr>\n",
       "  </tbody>\n",
       "</table>\n",
       "<p>63 rows × 3 columns</p>\n",
       "</div>"
      ],
      "text/plain": [
       "                             Institution                       Dataset ID  \\\n",
       "0   Ocean Observatories Initiative (OOI)  ooi-ce01issm-rid16-02-flortd000   \n",
       "1   Ocean Observatories Initiative (OOI)  ooi-ce01issm-rid16-03-ctdbpc000   \n",
       "2   Ocean Observatories Initiative (OOI)  ooi-ce01issm-rid16-03-dostad000   \n",
       "3   Ocean Observatories Initiative (OOI)  ooi-ce01issm-rid16-07-nutnrb000   \n",
       "4   Ocean Observatories Initiative (OOI)  ooi-ce01issm-rid16-06-phsend000   \n",
       "..                                   ...                              ...   \n",
       "58  Ocean Observatories Initiative (OOI)  ooi-ce07shsm-sbd11-06-metbka000   \n",
       "59  Ocean Observatories Initiative (OOI)  ooi-rs01slbs-lj01a-12-ctdpfb101   \n",
       "60  Ocean Observatories Initiative (OOI)  ooi-rs01sbps-pc01a-4c-flordd103   \n",
       "61  Ocean Observatories Initiative (OOI)  ooi-rs01sbps-pc01a-4a-ctdpfa103   \n",
       "62  Ocean Observatories Initiative (OOI)  ooi-rs01sbps-pc01a-4b-phsena102   \n",
       "\n",
       "                                             tabledap  \n",
       "0   http://erddap.dataexplorer.oceanobservatories....  \n",
       "1   http://erddap.dataexplorer.oceanobservatories....  \n",
       "2   http://erddap.dataexplorer.oceanobservatories....  \n",
       "3   http://erddap.dataexplorer.oceanobservatories....  \n",
       "4   http://erddap.dataexplorer.oceanobservatories....  \n",
       "..                                                ...  \n",
       "58  http://erddap.dataexplorer.oceanobservatories....  \n",
       "59  http://erddap.dataexplorer.oceanobservatories....  \n",
       "60  http://erddap.dataexplorer.oceanobservatories....  \n",
       "61  http://erddap.dataexplorer.oceanobservatories....  \n",
       "62  http://erddap.dataexplorer.oceanobservatories....  \n",
       "\n",
       "[63 rows x 3 columns]"
      ]
     },
     "execution_count": 5,
     "metadata": {},
     "output_type": "execute_result"
    }
   ],
   "source": [
    "search_url = ooi.get_search_url(response=\"csv\", **kw)\n",
    "df_ooi = pd.read_csv(search_url)[[\"Institution\", \"Dataset ID\", \"tabledap\"]]\n",
    "df_ooi"
   ]
  },
  {
   "cell_type": "code",
   "execution_count": 6,
   "metadata": {},
   "outputs": [
    {
     "data": {
      "text/html": [
       "<div>\n",
       "<style scoped>\n",
       "    .dataframe tbody tr th:only-of-type {\n",
       "        vertical-align: middle;\n",
       "    }\n",
       "\n",
       "    .dataframe tbody tr th {\n",
       "        vertical-align: top;\n",
       "    }\n",
       "\n",
       "    .dataframe thead th {\n",
       "        text-align: right;\n",
       "    }\n",
       "</style>\n",
       "<table border=\"1\" class=\"dataframe\">\n",
       "  <thead>\n",
       "    <tr style=\"text-align: right;\">\n",
       "      <th></th>\n",
       "      <th>Institution</th>\n",
       "      <th>Dataset ID</th>\n",
       "      <th>tabledap</th>\n",
       "    </tr>\n",
       "  </thead>\n",
       "  <tbody>\n",
       "    <tr>\n",
       "      <th>0</th>\n",
       "      <td>Center for Coastal Margin Observation &amp; Predic...</td>\n",
       "      <td>org_cmop_46096</td>\n",
       "      <td>http://erddap.sensors.ioos.us/erddap/tabledap/...</td>\n",
       "    </tr>\n",
       "    <tr>\n",
       "      <th>1</th>\n",
       "      <td>Observing System Monitoring Center (OSMC)</td>\n",
       "      <td>osmc_46097</td>\n",
       "      <td>http://erddap.sensors.ioos.us/erddap/tabledap/...</td>\n",
       "    </tr>\n",
       "    <tr>\n",
       "      <th>2</th>\n",
       "      <td>Observing System Monitoring Center (OSMC)</td>\n",
       "      <td>osmc_46098</td>\n",
       "      <td>http://erddap.sensors.ioos.us/erddap/tabledap/...</td>\n",
       "    </tr>\n",
       "    <tr>\n",
       "      <th>3</th>\n",
       "      <td>Observing System Monitoring Center (OSMC)</td>\n",
       "      <td>osmc_46099</td>\n",
       "      <td>http://erddap.sensors.ioos.us/erddap/tabledap/...</td>\n",
       "    </tr>\n",
       "    <tr>\n",
       "      <th>4</th>\n",
       "      <td>Observing System Monitoring Center (OSMC)</td>\n",
       "      <td>osmc_46100</td>\n",
       "      <td>http://erddap.sensors.ioos.us/erddap/tabledap/...</td>\n",
       "    </tr>\n",
       "    <tr>\n",
       "      <th>5</th>\n",
       "      <td>NOAA National Data Buoy Center (NDBC)</td>\n",
       "      <td>wmo_46116</td>\n",
       "      <td>http://erddap.sensors.ioos.us/erddap/tabledap/...</td>\n",
       "    </tr>\n",
       "    <tr>\n",
       "      <th>6</th>\n",
       "      <td>Northwest Association of Networked Ocean Obser...</td>\n",
       "      <td>nanoos_apl_chaba</td>\n",
       "      <td>http://erddap.sensors.ioos.us/erddap/tabledap/...</td>\n",
       "    </tr>\n",
       "    <tr>\n",
       "      <th>7</th>\n",
       "      <td>Northwest Association of Networked Ocean Obser...</td>\n",
       "      <td>nanoos_apl_nemo</td>\n",
       "      <td>http://erddap.sensors.ioos.us/erddap/tabledap/...</td>\n",
       "    </tr>\n",
       "    <tr>\n",
       "      <th>8</th>\n",
       "      <td>NOAA Center for Operational Oceanographic Prod...</td>\n",
       "      <td>noaa_nos_co_ops_9432780</td>\n",
       "      <td>http://erddap.sensors.ioos.us/erddap/tabledap/...</td>\n",
       "    </tr>\n",
       "    <tr>\n",
       "      <th>9</th>\n",
       "      <td>NOAA Center for Operational Oceanographic Prod...</td>\n",
       "      <td>noaa_nos_co_ops_9437540</td>\n",
       "      <td>http://erddap.sensors.ioos.us/erddap/tabledap/...</td>\n",
       "    </tr>\n",
       "    <tr>\n",
       "      <th>10</th>\n",
       "      <td>Northwest Association of Networked Ocean Obser...</td>\n",
       "      <td>nanoos_psi_baycenter</td>\n",
       "      <td>http://erddap.sensors.ioos.us/erddap/tabledap/...</td>\n",
       "    </tr>\n",
       "    <tr>\n",
       "      <th>11</th>\n",
       "      <td>Northwest Association of Networked Ocean Obser...</td>\n",
       "      <td>nanoos_psi_nahcotta</td>\n",
       "      <td>http://erddap.sensors.ioos.us/erddap/tabledap/...</td>\n",
       "    </tr>\n",
       "    <tr>\n",
       "      <th>12</th>\n",
       "      <td>Center for Coastal Margin Observation &amp; Predic...</td>\n",
       "      <td>org_cmop_sefo3</td>\n",
       "      <td>http://erddap.sensors.ioos.us/erddap/tabledap/...</td>\n",
       "    </tr>\n",
       "    <tr>\n",
       "      <th>13</th>\n",
       "      <td>Center for Coastal Margin Observation &amp; Predic...</td>\n",
       "      <td>org_cmop_seto3</td>\n",
       "      <td>http://erddap.sensors.ioos.us/erddap/tabledap/...</td>\n",
       "    </tr>\n",
       "    <tr>\n",
       "      <th>14</th>\n",
       "      <td>Northwest Association of Networked Ocean Obser...</td>\n",
       "      <td>nanoos_wcsh_whiskey1</td>\n",
       "      <td>http://erddap.sensors.ioos.us/erddap/tabledap/...</td>\n",
       "    </tr>\n",
       "  </tbody>\n",
       "</table>\n",
       "</div>"
      ],
      "text/plain": [
       "                                          Institution  \\\n",
       "0   Center for Coastal Margin Observation & Predic...   \n",
       "1           Observing System Monitoring Center (OSMC)   \n",
       "2           Observing System Monitoring Center (OSMC)   \n",
       "3           Observing System Monitoring Center (OSMC)   \n",
       "4           Observing System Monitoring Center (OSMC)   \n",
       "5               NOAA National Data Buoy Center (NDBC)   \n",
       "6   Northwest Association of Networked Ocean Obser...   \n",
       "7   Northwest Association of Networked Ocean Obser...   \n",
       "8   NOAA Center for Operational Oceanographic Prod...   \n",
       "9   NOAA Center for Operational Oceanographic Prod...   \n",
       "10  Northwest Association of Networked Ocean Obser...   \n",
       "11  Northwest Association of Networked Ocean Obser...   \n",
       "12  Center for Coastal Margin Observation & Predic...   \n",
       "13  Center for Coastal Margin Observation & Predic...   \n",
       "14  Northwest Association of Networked Ocean Obser...   \n",
       "\n",
       "                 Dataset ID                                           tabledap  \n",
       "0            org_cmop_46096  http://erddap.sensors.ioos.us/erddap/tabledap/...  \n",
       "1                osmc_46097  http://erddap.sensors.ioos.us/erddap/tabledap/...  \n",
       "2                osmc_46098  http://erddap.sensors.ioos.us/erddap/tabledap/...  \n",
       "3                osmc_46099  http://erddap.sensors.ioos.us/erddap/tabledap/...  \n",
       "4                osmc_46100  http://erddap.sensors.ioos.us/erddap/tabledap/...  \n",
       "5                 wmo_46116  http://erddap.sensors.ioos.us/erddap/tabledap/...  \n",
       "6          nanoos_apl_chaba  http://erddap.sensors.ioos.us/erddap/tabledap/...  \n",
       "7           nanoos_apl_nemo  http://erddap.sensors.ioos.us/erddap/tabledap/...  \n",
       "8   noaa_nos_co_ops_9432780  http://erddap.sensors.ioos.us/erddap/tabledap/...  \n",
       "9   noaa_nos_co_ops_9437540  http://erddap.sensors.ioos.us/erddap/tabledap/...  \n",
       "10     nanoos_psi_baycenter  http://erddap.sensors.ioos.us/erddap/tabledap/...  \n",
       "11      nanoos_psi_nahcotta  http://erddap.sensors.ioos.us/erddap/tabledap/...  \n",
       "12           org_cmop_sefo3  http://erddap.sensors.ioos.us/erddap/tabledap/...  \n",
       "13           org_cmop_seto3  http://erddap.sensors.ioos.us/erddap/tabledap/...  \n",
       "14     nanoos_wcsh_whiskey1  http://erddap.sensors.ioos.us/erddap/tabledap/...  "
      ]
     },
     "execution_count": 6,
     "metadata": {},
     "output_type": "execute_result"
    }
   ],
   "source": [
    "search_url = ioos.get_search_url(response=\"csv\", **kw)\n",
    "df_ioos = pd.read_csv(search_url)[[\"Institution\", \"Dataset ID\", \"tabledap\"]]\n",
    "df_ioos"
   ]
  },
  {
   "cell_type": "markdown",
   "metadata": {},
   "source": [
    "We found 68 datasets in the OOI server and 8 in the IOOS server with those constraints."
   ]
  },
  {
   "cell_type": "code",
   "execution_count": 7,
   "metadata": {},
   "outputs": [],
   "source": [
    "from joblib import Parallel, delayed\n",
    "import multiprocessing\n",
    "\n",
    "\n",
    "def request_positions(e, dataset_id):\n",
    "    e.constraints = None\n",
    "    e.protocol = \"tabledap\"\n",
    "    e.variables = [\"longitude\", \"latitude\"]\n",
    "    e.dataset_id = dataset_id\n",
    "    download_url = e.get_download_url(response=\"csvp\", distinct=True)\n",
    "    df = pd.read_csv(download_url)\n",
    "    pos = df.values.squeeze().tolist()\n",
    "    return pos\n",
    "\n",
    "\n",
    "num_cores = multiprocessing.cpu_count()\n",
    "\n",
    "ioos_positions = Parallel(n_jobs=num_cores)(\n",
    "    delayed(request_positions)(ioos, dataset_id) for dataset_id in df_ioos[\"Dataset ID\"]\n",
    ")\n",
    "\n",
    "ooi_positions = Parallel(n_jobs=num_cores)(\n",
    "    delayed(request_positions)(ooi, dataset_id) for dataset_id in df_ooi[\"Dataset ID\"]\n",
    ")"
   ]
  },
  {
   "cell_type": "code",
   "execution_count": 8,
   "metadata": {},
   "outputs": [],
   "source": [
    "df_ioos[\"pos\"] = ioos_positions\n",
    "df_ooi[\"pos\"] = ooi_positions"
   ]
  },
  {
   "cell_type": "code",
   "execution_count": 9,
   "metadata": {},
   "outputs": [],
   "source": [
    "from ipyleaflet import AwesomeIcon, Marker, Map, LegendControl, FullScreenControl, Popup, Polyline, Rectangle\n",
    "from ipywidgets import HTML\n",
    "import numpy as np\n",
    "\n",
    "\n",
    "colors = {\n",
    "    \"IOOS\": \"blue\",\n",
    "    \"OOI\": \"orange\",\n",
    "}\n",
    "\n",
    "\n",
    "legend = LegendControl(\n",
    "    colors,\n",
    "    name=\"Dataset locationsfunds\",\n",
    "    position=\"bottomright\",\n",
    ")\n",
    "\n",
    "\n",
    "def make_track(pos, color):\n",
    "    pos = np.array(pos)\n",
    "    lat, lon = pos[:, 1].tolist(), pos[:, 0].tolist()\n",
    "    line = Polyline(\n",
    "        locations = list(zip(lat, lon)),\n",
    "        color=color,\n",
    "        fill=False,\n",
    "    )\n",
    "    return line\n",
    "\n",
    "\n",
    "def make_popup(row):\n",
    "    classes = \"table table-striped table-hover table-condensed table-responsive\"\n",
    "    return pd.DataFrame(row[[\"Institution\", \"Dataset ID\"]]).to_html(\n",
    "        classes=classes\n",
    "    )"
   ]
  },
  {
   "cell_type": "code",
   "execution_count": 10,
   "metadata": {
    "scrolled": false
   },
   "outputs": [],
   "source": [
    "m = Map(center=(min_lat, max_lon), zoom=4)\n",
    "m.add_control(FullScreenControl())\n",
    "m.add_control(legend)\n",
    "\n",
    "rectangle = Rectangle(\n",
    "    bounds=((min_lat, min_lon), (max_lat, max_lon)),\n",
    "    color=\"red\",\n",
    "    fill=False,\n",
    ")\n",
    "m.add_layer(rectangle)"
   ]
  },
  {
   "cell_type": "code",
   "execution_count": 11,
   "metadata": {},
   "outputs": [],
   "source": [
    "# IOOS\n",
    "for k, row in df_ioos.iterrows():\n",
    "    pos = row[\"pos\"]\n",
    "    if len(pos) == 2:\n",
    "        lon, lat = pos\n",
    "        marker = Marker(\n",
    "            draggable=True,\n",
    "            icon=AwesomeIcon(name=\"life-ring\", marker_color=colors[\"IOOS\"]),\n",
    "            location=(lat, lon),\n",
    "        )\n",
    "    else:\n",
    "        marker = make_track(pos, color=colors[\"IOOS\"])\n",
    "    msg = HTML()\n",
    "    msg.value = make_popup(row)\n",
    "    marker.popup = msg\n",
    "    m.add_layer(marker)"
   ]
  },
  {
   "cell_type": "code",
   "execution_count": 12,
   "metadata": {},
   "outputs": [],
   "source": [
    "# OOI\n",
    "for k, row in df_ooi.iterrows():\n",
    "    pos = row[\"pos\"]\n",
    "    if len(pos) == 2:\n",
    "        lon, lat = pos\n",
    "        marker = Marker(\n",
    "            draggable=False,\n",
    "            icon=AwesomeIcon(name=\"life-ring\", marker_color=colors[\"OOI\"]),\n",
    "            location=(lat, lon),\n",
    "        )\n",
    "    else:\n",
    "        marker = make_track(pos, color=colors[\"OOI\"])\n",
    "    msg = HTML()\n",
    "    msg.value = make_popup(row)\n",
    "    marker.popup = msg\n",
    "    m.add_layer(marker)"
   ]
  },
  {
   "cell_type": "code",
   "execution_count": 13,
   "metadata": {},
   "outputs": [
    {
     "data": {
      "application/vnd.jupyter.widget-view+json": {
       "model_id": "189ec6e4ce5d49a5903a2d215795a7db",
       "version_major": 2,
       "version_minor": 0
      },
      "text/plain": [
       "Map(center=[43, -123.75], controls=(ZoomControl(options=['position', 'zoom_in_text', 'zoom_in_title', 'zoom_ou…"
      ]
     },
     "metadata": {},
     "output_type": "display_data"
    }
   ],
   "source": [
    "m"
   ]
  },
  {
   "cell_type": "markdown",
   "metadata": {},
   "source": [
    "Let's get the datasets that are closest to each other for a comparison plot."
   ]
  },
  {
   "cell_type": "code",
   "execution_count": 14,
   "metadata": {},
   "outputs": [],
   "source": [
    "import seawater as sw\n",
    "\n",
    "\n",
    "dist = 1e3\n",
    "for k_i, pos_i in df_ioos[\"pos\"].items():\n",
    "    for k_o, pos_o in df_ooi[\"pos\"].items():\n",
    "        lats = pos_i[1], pos_o[1]\n",
    "        lons = pos_i[0], pos_o[0]\n",
    "        new_dist, angle = sw.dist(lats, lons)\n",
    "        if new_dist < dist:\n",
    "            dist = new_dist\n",
    "            idx = (k_i, k_o)"
   ]
  },
  {
   "cell_type": "code",
   "execution_count": 15,
   "metadata": {},
   "outputs": [],
   "source": [
    "dataset_id = df_ioos.iloc[idx[0]][\"Dataset ID\"]\n",
    "\n",
    "\n",
    "ioos.dataset_id = dataset_id\n",
    "ioos.constraints = {\"time>=\": min_time,\"time<=\": max_time}\n",
    "ioos.response = \"csv\"\n",
    "ioos.variables = [ \"time\", ioos.get_var_by_attr(dataset_id=dataset_id, standard_name=standard_name)[0]]\n",
    "\n",
    "\n",
    "sal_ioos = ioos.to_pandas()"
   ]
  },
  {
   "cell_type": "code",
   "execution_count": 16,
   "metadata": {},
   "outputs": [],
   "source": [
    "dataset_id = df_ooi.iloc[idx[1]][\"Dataset ID\"]\n",
    "\n",
    "\n",
    "ooi.dataset_id = dataset_id\n",
    "ooi.constraints = {\"time>=\": min_time,\"time<=\": max_time}\n",
    "ooi.response = \"csv\"\n",
    "ooi.variables = [ \"time\", ooi.get_var_by_attr(dataset_id=dataset_id, standard_name=standard_name)[0]]\n",
    "\n",
    "\n",
    "sal_ooi = ooi.to_pandas()"
   ]
  },
  {
   "cell_type": "code",
   "execution_count": 17,
   "metadata": {},
   "outputs": [],
   "source": [
    "def make_time_index(df):\n",
    "    df[\"time (UTC)\"] = pd.to_datetime(df[\"time (UTC)\"])\n",
    "    return df.set_index(\"time (UTC)\")"
   ]
  },
  {
   "cell_type": "code",
   "execution_count": 18,
   "metadata": {},
   "outputs": [],
   "source": [
    "sal_ioos = make_time_index(sal_ioos)\n",
    "sal_ooi = make_time_index(sal_ooi)"
   ]
  },
  {
   "cell_type": "code",
   "execution_count": 19,
   "metadata": {},
   "outputs": [
    {
     "data": {
      "image/png": "[encoded data removed]",
      "text/plain": [
       "<Figure size 1080x270 with 1 Axes>"
      ]
     },
     "metadata": {
      "needs_background": "light"
     },
     "output_type": "display_data"
    }
   ],
   "source": [
    "%matplotlib inline\n",
    "import matplotlib.pyplot as plt\n",
    "from pandas.plotting import register_matplotlib_converters\n",
    "register_matplotlib_converters()\n",
    "\n",
    "\n",
    "fig, ax = plt.subplots(figsize=(15, 3.75))\n",
    "ax.plot(sal_ioos.index, sal_ioos, label=\"IOOS\")\n",
    "ax.plot(sal_ooi.index, sal_ooi, label=\"OOI\", alpha=0.75);"
   ]
  },
  {
   "cell_type": "markdown",
   "metadata": {},
   "source": [
    "This kind of multiple server search can be useful when one is evaluating the QA/QC of a site with a nearby observation, or just trying to obtain all observations available in the region of interest."
   ]
  }
 ],
 "metadata": {
  "kernelspec": {
   "display_name": "Python 3",
   "language": "python",
   "name": "python3"
  },
  "language_info": {
   "codemirror_mode": {
    "name": "ipython",
    "version": 3
   },
   "file_extension": ".py",
   "mimetype": "text/x-python",
   "name": "python",
   "nbconvert_exporter": "python",
   "pygments_lexer": "ipython3",
   "version": "3.8.6"
  }
 },
 "nbformat": 4,
 "nbformat_minor": 4
}
