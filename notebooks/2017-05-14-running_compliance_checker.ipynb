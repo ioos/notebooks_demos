{
 "cells": [
  {
   "cell_type": "markdown",
   "metadata": {},
   "source": [
    "## Shore Station Compliance Checker Script\n",
    "\n",
    "The IOOS Compliance Checker is a Python-based tool that helps users check the meta data compliance of a netCDF file. This software can be run in a web interface here: https://data.ioos.us/compliance/index.html The checker can also be run as a Python tool either on the command line or in a Python script.  This notebook demonstrates the python usage of the Compliance Checker.\n",
    "\n",
    "\n",
    "### Purpose: \n",
    "Run the compliance checker python tool on a Scipps Pier shore station dataset to check for the metadata compliance.\n",
    "\n",
    "The Scripps Pier automated shore station operated by Southern California Coastal Ocean Observing System (SCCOOS) at Scripps Institution of Oceanography (SIO) is mounted at a nominal depth of 5 meters MLLW. The instrument package includes a Seabird SBE 16plus SEACAT Conductivity, Temperature, and Pressure recorder, and a Seapoint Chlorophyll Fluorometer with a 0-50 ug/L gain setting.\n",
    "\n",
    "### Dependencies: \n",
    "This script must be run in the \"IOOS\" environment for the compliance checker to work properly.\n",
    "\n",
    "Written by: J.Bosch Feb. 10, 2017\n",
    "\n"
   ]
  },
  {
   "cell_type": "code",
   "execution_count": 1,
   "metadata": {},
   "outputs": [
    {
     "name": "stdout",
     "output_type": "stream",
     "text": [
      "4.0.0\n"
     ]
    }
   ],
   "source": [
    "import compliance_checker\n",
    "\n",
    "print(compliance_checker.__version__)"
   ]
  },
  {
   "cell_type": "code",
   "execution_count": 2,
   "metadata": {},
   "outputs": [],
   "source": [
    "# First import the compliance checker and test that it is installed properly.\n",
    "from compliance_checker.runner import ComplianceChecker, CheckSuite\n",
    "\n",
    "# Load all available checker classes.\n",
    "check_suite = CheckSuite()\n",
    "check_suite.load_all_available_checkers()"
   ]
  },
  {
   "cell_type": "code",
   "execution_count": 3,
   "metadata": {},
   "outputs": [],
   "source": [
    "# Path to the Scripps Pier Data.\n",
    "\n",
    "buoy_path = 'https://data.nodc.noaa.gov/thredds/dodsC/ioos/sccoos/scripps_pier/scripps_pier-2016.nc'"
   ]
  },
  {
   "cell_type": "markdown",
   "metadata": {},
   "source": [
    "### Running Compliance Checker on the Scripps Pier shore station data\n",
    "This code is written with all the arguments spelled out, following the usage instructions on the README section of compliance checker github page: https://github.com/ioos/compliance-checker"
   ]
  },
  {
   "cell_type": "code",
   "execution_count": 4,
   "metadata": {
    "scrolled": true
   },
   "outputs": [
    {
     "name": "stderr",
     "output_type": "stream",
     "text": [
      "Using cached standard name table v28 from /home/filipe/.local/share/compliance-checker/cf-standard-name-table-test-28.xml\n"
     ]
    }
   ],
   "source": [
    "output_file = 'buoy_testCC.txt'\n",
    "\n",
    "return_value, errors = ComplianceChecker.run_checker(\n",
    "    ds_loc=buoy_path,\n",
    "    checker_names=['cf', 'acdd'],\n",
    "    verbose=True,\n",
    "    criteria='normal',\n",
    "    skip_checks=None,\n",
    "    output_filename=output_file,\n",
    "    output_format='text'\n",
    ")"
   ]
  },
  {
   "cell_type": "code",
   "execution_count": 5,
   "metadata": {
    "scrolled": false
   },
   "outputs": [
    {
     "name": "stdout",
     "output_type": "stream",
     "text": [
      "\n",
      "\n",
      "--------------------------------------------------------------------------------\n",
      "                         IOOS Compliance Checker Report                         \n",
      "                                  cf:1.6 check                                  \n",
      "--------------------------------------------------------------------------------\n",
      "                               Corrective Actions                               \n",
      "scripps_pier-2016.nc has 1 potential issue\n",
      "\n",
      "\n",
      "                                    Warnings                                    \n",
      "--------------------------------------------------------------------------------\n",
      "Name                                     Reasoning\n",
      "§2.3 Naming Conventions for attributes:  attribute time:_Netcdf4Dimid should\n",
      "                                         begin with a letter and be composed of\n",
      "                                         letters, digits, and underscores\n",
      "\n",
      "\n",
      "--------------------------------------------------------------------------------\n",
      "                         IOOS Compliance Checker Report                         \n",
      "                                 acdd:1.3 check                                 \n",
      "--------------------------------------------------------------------------------\n",
      "                               Corrective Actions                               \n",
      "scripps_pier-2016.nc has 17 potential issues\n",
      "\n",
      "\n",
      "                               Highly Recommended                               \n",
      "--------------------------------------------------------------------------------\n",
      "Name                         Reasoning\n",
      "variable aux1:               Var aux1 missing attribute\n",
      "                             coverage_content_type Var aux1 missing\n",
      "                             attribute standard_name\n",
      "variable aux3:               Var aux3 missing attribute\n",
      "                             coverage_content_type Var aux3 missing\n",
      "                             attribute standard_name\n",
      "variable aux4:               Var aux4 missing attribute\n",
      "                             coverage_content_type Var aux4 missing\n",
      "                             attribute standard_name\n",
      "variable chlorophyll:        Var chlorophyll missing attribute\n",
      "                             coverage_content_type\n",
      "variable chlorophyll_raw:    Var chlorophyll_raw missing attribute\n",
      "                             coverage_content_type\n",
      "variable conductivity:       Var conductivity missing attribute\n",
      "                             coverage_content_type\n",
      "variable currentDraw:        Var currentDraw missing attribute\n",
      "                             coverage_content_type Var currentDraw\n",
      "                             missing attribute standard_name\n",
      "variable diagnosticVoltage:  Var diagnosticVoltage missing attribute\n",
      "                             coverage_content_type Var\n",
      "                             diagnosticVoltage missing attribute\n",
      "                             standard_name\n",
      "variable pressure:           Var pressure missing attribute\n",
      "                             coverage_content_type\n",
      "variable salinity:           Var salinity missing attribute\n",
      "                             coverage_content_type\n",
      "variable sigmat:             Var sigmat missing attribute\n",
      "                             coverage_content_type\n",
      "variable temperature:        Var temperature missing attribute\n",
      "                             coverage_content_type\n",
      "\n"
     ]
    }
   ],
   "source": [
    "with open(output_file, 'r') as f:\n",
    "    print(f.read())"
   ]
  },
  {
   "cell_type": "markdown",
   "metadata": {
    "collapsed": true
   },
   "source": [
    "This Compliance Checker Report can be used to identify where file meta data can be improved.  A strong meta data record allows for greater utility of the data for a broader audience of data analysts."
   ]
  }
 ],
 "metadata": {
  "anaconda-cloud": {},
  "kernelspec": {
   "display_name": "Python [default]",
   "language": "python",
   "name": "python3"
  },
  "language_info": {
   "codemirror_mode": {
    "name": "ipython",
    "version": 3
   },
   "file_extension": ".py",
   "mimetype": "text/x-python",
   "name": "python",
   "nbconvert_exporter": "python",
   "pygments_lexer": "ipython3",
   "version": "3.6.5"
  }
 },
 "nbformat": 4,
 "nbformat_minor": 1
}
