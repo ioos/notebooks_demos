{
 "cells": [
  {
   "cell_type": "markdown",
   "metadata": {},
   "source": [
    "# IOOS GTS Statistics\n",
    "\n",
    "\n",
    "The Global Telecommunication System (GTS) is a coordinated effort for rapid distribution of observations.\n",
    "The GTS monthly reports show the number of messages released to GTS for each station.\n",
    "The reports contain the following fields:\n",
    "\n",
    "- location ID: Identifier that station messages are released under to the GTS;\n",
    "- region: Designated IOOS Regional Association (only for IOOS regional report);\n",
    "- sponsor: Organization that owns and maintains the station;\n",
    "- Met: Total number of met messages released to the GTS\n",
    "- Wave: Total number of wave messages released to the GTS\n",
    "\n",
    "In this notebook we will explore the statistics of the messages IOOS is releasing to GTS.\n",
    "\n",
    "The first step is to pick the appropriate date range of interest."
   ]
  },
  {
   "cell_type": "code",
   "execution_count": 2,
   "metadata": {},
   "outputs": [
    {
     "data": {
      "application/vnd.jupyter.widget-view+json": {
       "model_id": "d80a00625acf4a2e88c2a6cb4ad7720a",
       "version_major": 2,
       "version_minor": 0
      },
      "text/plain": [
       "DatePicker(value=None, description='Start Date')"
      ]
     },
     "metadata": {},
     "output_type": "display_data"
    },
    {
     "data": {
      "application/vnd.jupyter.widget-view+json": {
       "model_id": "1052e82816d947e5afc06a656a05cd90",
       "version_major": 2,
       "version_minor": 0
      },
      "text/plain": [
       "DatePicker(value=None, description='End Date')"
      ]
     },
     "metadata": {},
     "output_type": "display_data"
    }
   ],
   "source": [
    "from datetime import date,timedelta\n",
    "import ipywidgets as widgets\n",
    "\n",
    "start_date = widgets.DatePicker(\n",
    "    description='Start Date',\n",
    "    disabled=False\n",
    ")\n",
    "\n",
    "end_date = widgets.DatePicker(\n",
    "    description='End Date',\n",
    "    disabled=False\n",
    ")\n",
    "\n",
    "display(start_date)\n",
    "display(end_date)"
   ]
  },
  {
   "cell_type": "markdown",
   "metadata": {},
   "source": [
    "Now we download the data. We will use an ERDDAP server that [hosts the CSV files](https://ferret.pmel.noaa.gov/generic/erddap/files/ioos_obs_counts/) with the ingest data."
   ]
  },
  {
   "cell_type": "code",
   "execution_count": 9,
   "metadata": {},
   "outputs": [
    {
     "name": "stdout",
     "output_type": "stream",
     "text": [
      "http://osmc.noaa.gov/erddap/tabledap/ioos_obs_counts.html?time,locationID,region,sponsor,met,wave&time>=1569888000.0&time<=1601424000.0\n"
     ]
    }
   ],
   "source": [
    "from erddapy import ERDDAP\n",
    "\n",
    "server = \"http://osmc.noaa.gov/erddap\"\n",
    "e = ERDDAP(server=server, protocol=\"tabledap\")\n",
    "\n",
    "e.dataset_id = \"ioos_obs_counts\"\n",
    "e.variables = [\"time\", \"locationID\", \"region\", \"sponsor\", \"met\", \"wave\"]\n",
    "\n",
    "weeks = 18*4\n",
    "# e.relative_constraints = {\n",
    "#     \"time>=\": f\"now-{weeks}weeks\",\n",
    "# }\n",
    "e.constraints = {\n",
    "    \"time>=\": start_date.get_interact_value().strftime('%Y-%m-%d'),\n",
    "    \"time<=\": end_date.get_interact_value().strftime('%Y-%m-%d')\n",
    "}\n",
    "print(e.get_download_url())"
   ]
  },
  {
   "cell_type": "code",
   "execution_count": 10,
   "metadata": {},
   "outputs": [
    {
     "data": {
      "text/plain": [
       "array(['2019-10-01T00:00:00Z', '2019-11-01T00:00:00Z',\n",
       "       '2019-12-01T00:00:00Z', '2020-01-01T00:00:00Z',\n",
       "       '2020-02-01T00:00:00Z', '2020-03-01T00:00:00Z',\n",
       "       '2020-04-01T00:00:00Z', '2020-05-01T00:00:00Z',\n",
       "       '2020-06-01T00:00:00Z', '2020-07-01T00:00:00Z',\n",
       "       '2020-08-01T00:00:00Z', '2020-09-01T00:00:00Z'], dtype=object)"
      ]
     },
     "execution_count": 10,
     "metadata": {},
     "output_type": "execute_result"
    }
   ],
   "source": [
    "df = e.to_pandas(parse_dates=True)\n",
    "\n",
    "df[\"locationID\"] = df[\"locationID\"].str.lower()\n",
    "\n",
    "df['time (UTC)'].unique()"
   ]
  },
  {
   "cell_type": "markdown",
   "metadata": {},
   "source": [
    "The table has all the ingest data. We can now explore it grouping the data by IOOS Regional Association (RA)."
   ]
  },
  {
   "cell_type": "code",
   "execution_count": 12,
   "metadata": {},
   "outputs": [
    {
     "data": {
      "image/png": "[encoded data removed]",
      "text/plain": [
       "<Figure size 792x270 with 1 Axes>"
      ]
     },
     "metadata": {
      "needs_background": "light"
     },
     "output_type": "display_data"
    }
   ],
   "source": [
    "groups = df.groupby(\"region\")\n",
    "\n",
    "ax = groups.sum().plot(kind=\"bar\", figsize=(11, 3.75))\n",
    "ax.yaxis.get_major_formatter().set_scientific(False)\n",
    "ax.set_ylabel(\"# observations\");"
   ]
  },
  {
   "cell_type": "markdown",
   "metadata": {},
   "source": [
    "Let us check the montly sum of data released both for individual met and wave and the totals."
   ]
  },
  {
   "cell_type": "code",
   "execution_count": 13,
   "metadata": {},
   "outputs": [],
   "source": [
    "import pandas as pd\n",
    "\n",
    "df[\"time (UTC)\"] = pd.to_datetime(df[\"time (UTC)\"])\n",
    "# Remove time-zone info for easier plotting, it is all UTC.\n",
    "df[\"time (UTC)\"] = df[\"time (UTC)\"].dt.tz_localize(None)\n",
    "\n",
    "groups = df.groupby(pd.Grouper(key=\"time (UTC)\", freq=\"M\"))"
   ]
  },
  {
   "cell_type": "markdown",
   "metadata": {},
   "source": [
    "We can create a table of observations per month,"
   ]
  },
  {
   "cell_type": "code",
   "execution_count": 14,
   "metadata": {},
   "outputs": [
    {
     "name": "stdout",
     "output_type": "stream",
     "text": [
      "Monthly totals:\n",
      "                 met    wave    total\n",
      "time (UTC)                          \n",
      "2019-10     1006928  185542  1192470\n",
      "2019-11      877344  104654   981998\n",
      "2019-12      836598   77896   914494\n",
      "2020-01      803044   80102   883146\n",
      "2020-02      770202   74524   844726\n",
      "2020-03      869432   78372   947804\n",
      "2020-04      877658   95432   973090\n",
      "2020-05      887088  106754   993842\n",
      "2020-06      910610  150018  1060628\n",
      "2020-07      895840  163476  1059316\n",
      "2020-08      965234  175694  1140928\n",
      "2020-09      955778  169062  1124840 \n",
      "\n",
      "Sum for time period 2019-10 to 2020-09: 12117282\n"
     ]
    }
   ],
   "source": [
    "s = groups.sum()\n",
    "totals = s.assign(total=s[\"met\"] + s[\"wave\"])\n",
    "totals.index = totals.index.to_period(\"M\")\n",
    "\n",
    "print('Monthly totals:\\n',totals,'\\n')\n",
    "\n",
    "print('Sum for time period %s to %s: %i'%(totals.index.min(),totals.index.max(),totals['total'].sum()))"
   ]
  },
  {
   "cell_type": "markdown",
   "metadata": {},
   "source": [
    "and visualize it in a bar plot."
   ]
  },
  {
   "cell_type": "code",
   "execution_count": 15,
   "metadata": {},
   "outputs": [
    {
     "data": {
      "text/plain": [
       "Text(0, 0.5, '# observations')"
      ]
     },
     "execution_count": 15,
     "metadata": {},
     "output_type": "execute_result"
    },
    {
     "data": {
      "image/png": "[encoded data removed]",
      "text/plain": [
       "<Figure size 792x270 with 1 Axes>"
      ]
     },
     "metadata": {
      "needs_background": "light"
     },
     "output_type": "display_data"
    }
   ],
   "source": [
    "%matplotlib inline\n",
    "import matplotlib.dates as mdates\n",
    "import matplotlib.pyplot as plt\n",
    "\n",
    "fig, ax = plt.subplots(figsize=(11, 3.75))\n",
    "\n",
    "s.plot(ax=ax, kind=\"bar\")\n",
    "ax.set_xticklabels(\n",
    "    labels=s.index.to_series().dt.strftime(\"%Y-%b\"),\n",
    "    rotation=70,\n",
    "    rotation_mode=\"anchor\",\n",
    "    ha=\"right\",\n",
    ")\n",
    "ax.yaxis.get_major_formatter().set_scientific(False)\n",
    "ax.set_ylabel(\"# observations\")"
   ]
  },
  {
   "cell_type": "markdown",
   "metadata": {},
   "source": [
    "Those plots are intersting to understand the RAs role in the GTS ingest and how much data is being released over time. It would be nice to see those per buoy on a map.\n",
    "\n",
    "For that we need to get the position of the NDBC buoys. Let's get a table of all the buoys and match with what we have in teh GTS data."
   ]
  },
  {
   "cell_type": "code",
   "execution_count": 16,
   "metadata": {
    "scrolled": false
   },
   "outputs": [
    {
     "data": {
      "text/html": [
       "<div>\n",
       "<style scoped>\n",
       "    .dataframe tbody tr th:only-of-type {\n",
       "        vertical-align: middle;\n",
       "    }\n",
       "\n",
       "    .dataframe tbody tr th {\n",
       "        vertical-align: top;\n",
       "    }\n",
       "\n",
       "    .dataframe thead th {\n",
       "        text-align: right;\n",
       "    }\n",
       "</style>\n",
       "<table border=\"1\" class=\"dataframe\">\n",
       "  <thead>\n",
       "    <tr style=\"text-align: right;\">\n",
       "      <th></th>\n",
       "      <th>lat</th>\n",
       "      <th>lon</th>\n",
       "      <th>name</th>\n",
       "      <th>owner</th>\n",
       "      <th>pgm</th>\n",
       "      <th>type</th>\n",
       "      <th>met</th>\n",
       "      <th>currents</th>\n",
       "      <th>waterquality</th>\n",
       "      <th>dart</th>\n",
       "      <th>elev</th>\n",
       "      <th>seq</th>\n",
       "    </tr>\n",
       "    <tr>\n",
       "      <th>id</th>\n",
       "      <th></th>\n",
       "      <th></th>\n",
       "      <th></th>\n",
       "      <th></th>\n",
       "      <th></th>\n",
       "      <th></th>\n",
       "      <th></th>\n",
       "      <th></th>\n",
       "      <th></th>\n",
       "      <th></th>\n",
       "      <th></th>\n",
       "      <th></th>\n",
       "    </tr>\n",
       "  </thead>\n",
       "  <tbody>\n",
       "    <tr>\n",
       "      <th>00922</th>\n",
       "      <td>30.0</td>\n",
       "      <td>-90.0</td>\n",
       "      <td>OTN201 - 4800922</td>\n",
       "      <td>Dalhousie University</td>\n",
       "      <td>IOOS Partners</td>\n",
       "      <td>other</td>\n",
       "      <td>n</td>\n",
       "      <td>n</td>\n",
       "      <td>n</td>\n",
       "      <td>n</td>\n",
       "      <td>NaN</td>\n",
       "      <td>NaN</td>\n",
       "    </tr>\n",
       "    <tr>\n",
       "      <th>00923</th>\n",
       "      <td>30.0</td>\n",
       "      <td>-90.0</td>\n",
       "      <td>OTN200 - 4800923</td>\n",
       "      <td>Dalhousie University</td>\n",
       "      <td>IOOS Partners</td>\n",
       "      <td>other</td>\n",
       "      <td>n</td>\n",
       "      <td>n</td>\n",
       "      <td>n</td>\n",
       "      <td>n</td>\n",
       "      <td>NaN</td>\n",
       "      <td>NaN</td>\n",
       "    </tr>\n",
       "    <tr>\n",
       "      <th>01500</th>\n",
       "      <td>30.0</td>\n",
       "      <td>-90.0</td>\n",
       "      <td>SP031 - 3801500</td>\n",
       "      <td>SCRIPPS</td>\n",
       "      <td>IOOS Partners</td>\n",
       "      <td>other</td>\n",
       "      <td>n</td>\n",
       "      <td>n</td>\n",
       "      <td>n</td>\n",
       "      <td>n</td>\n",
       "      <td>NaN</td>\n",
       "      <td>NaN</td>\n",
       "    </tr>\n",
       "    <tr>\n",
       "      <th>01502</th>\n",
       "      <td>30.0</td>\n",
       "      <td>-90.0</td>\n",
       "      <td>Penobscot - 4801502</td>\n",
       "      <td>University of Maine</td>\n",
       "      <td>IOOS Partners</td>\n",
       "      <td>other</td>\n",
       "      <td>n</td>\n",
       "      <td>n</td>\n",
       "      <td>n</td>\n",
       "      <td>n</td>\n",
       "      <td>NaN</td>\n",
       "      <td>NaN</td>\n",
       "    </tr>\n",
       "    <tr>\n",
       "      <th>01503</th>\n",
       "      <td>30.0</td>\n",
       "      <td>-90.0</td>\n",
       "      <td>Saul - 4801503</td>\n",
       "      <td>Woods Hole Oceanographic Institution</td>\n",
       "      <td>IOOS Partners</td>\n",
       "      <td>other</td>\n",
       "      <td>n</td>\n",
       "      <td>n</td>\n",
       "      <td>n</td>\n",
       "      <td>n</td>\n",
       "      <td>NaN</td>\n",
       "      <td>NaN</td>\n",
       "    </tr>\n",
       "  </tbody>\n",
       "</table>\n",
       "</div>"
      ],
      "text/plain": [
       "        lat   lon                 name                                 owner  \\\n",
       "id                                                                             \n",
       "00922  30.0 -90.0     OTN201 - 4800922                  Dalhousie University   \n",
       "00923  30.0 -90.0     OTN200 - 4800923                  Dalhousie University   \n",
       "01500  30.0 -90.0      SP031 - 3801500                               SCRIPPS   \n",
       "01502  30.0 -90.0  Penobscot - 4801502                   University of Maine   \n",
       "01503  30.0 -90.0       Saul - 4801503  Woods Hole Oceanographic Institution   \n",
       "\n",
       "                 pgm   type met currents waterquality dart elev  seq  \n",
       "id                                                                    \n",
       "00922  IOOS Partners  other   n        n            n    n  NaN  NaN  \n",
       "00923  IOOS Partners  other   n        n            n    n  NaN  NaN  \n",
       "01500  IOOS Partners  other   n        n            n    n  NaN  NaN  \n",
       "01502  IOOS Partners  other   n        n            n    n  NaN  NaN  \n",
       "01503  IOOS Partners  other   n        n            n    n  NaN  NaN  "
      ]
     },
     "execution_count": 16,
     "metadata": {},
     "output_type": "execute_result"
    }
   ],
   "source": [
    "import xml.etree.ElementTree as et\n",
    "\n",
    "import pandas as pd\n",
    "import requests\n",
    "\n",
    "\n",
    "def make_ndbc_table():\n",
    "    url = \"https://www.ndbc.noaa.gov/activestations.xml\"\n",
    "    with requests.get(url) as r:\n",
    "        elems = et.fromstring(r.content)\n",
    "    df = pd.DataFrame([elem.attrib for elem in list(elems)])\n",
    "    df[\"id\"] = df[\"id\"].str.lower()\n",
    "    return df.set_index(\"id\")\n",
    "\n",
    "\n",
    "buoys = make_ndbc_table()\n",
    "buoys[\"lon\"] = buoys[\"lon\"].astype(float)\n",
    "buoys[\"lat\"] = buoys[\"lat\"].astype(float)\n",
    "\n",
    "buoys.head()"
   ]
  },
  {
   "cell_type": "markdown",
   "metadata": {},
   "source": [
    "For simplificty we will plot the total of observations per buoys."
   ]
  },
  {
   "cell_type": "code",
   "execution_count": 17,
   "metadata": {},
   "outputs": [],
   "source": [
    "groups = df.groupby(\"locationID\")\n",
    "location_sum = groups.sum()"
   ]
  },
  {
   "cell_type": "code",
   "execution_count": 18,
   "metadata": {},
   "outputs": [],
   "source": [
    "buoys = buoys.T\n",
    "\n",
    "extra_cols = pd.DataFrame({k: buoys.get(k) for k, row in location_sum.iterrows()}).T\n",
    "extra_cols = extra_cols[[\"lat\", \"lon\", \"type\", \"pgm\", \"name\"]]\n",
    "\n",
    "map_df = pd.concat([location_sum, extra_cols], axis=1)\n",
    "map_df = map_df.loc[map_df[\"met\"] + map_df[\"wave\"] > 0]"
   ]
  },
  {
   "cell_type": "markdown",
   "metadata": {},
   "source": [
    "And now we can overlay an HTML table with the buoy information and ingest data totals."
   ]
  },
  {
   "cell_type": "code",
   "execution_count": 19,
   "metadata": {},
   "outputs": [
    {
     "data": {
      "application/vnd.jupyter.widget-view+json": {
       "model_id": "2a86e68ad4eb4ef2a11d9f3faf60c058",
       "version_major": 2,
       "version_minor": 0
      },
      "text/plain": [
       "Map(center=[35, -95], controls=(ZoomControl(options=['position', 'zoom_in_text', 'zoom_in_title', 'zoom_out_te…"
      ]
     },
     "metadata": {},
     "output_type": "display_data"
    }
   ],
   "source": [
    "from ipyleaflet import AwesomeIcon, Marker, Map, LegendControl, FullScreenControl, Popup\n",
    "from ipywidgets import HTML\n",
    "\n",
    "\n",
    "m = Map(center=(35, -95), zoom=4)\n",
    "m.add_control(FullScreenControl())\n",
    "\n",
    "legend = LegendControl(\n",
    "    {\n",
    "        \"wave\": \"#FF0000\",\n",
    "        \"met\": \"#FFA500\",\n",
    "        \"both\": \"#008000\"\n",
    "    },\n",
    "    name=\"GTS\",\n",
    "    position=\"bottomright\",\n",
    ")\n",
    "m.add_control(legend)\n",
    "\n",
    "\n",
    "def make_popup(row):\n",
    "    classes = \"table table-striped table-hover table-condensed table-responsive\"\n",
    "    return pd.DataFrame(row[[\"met\", \"wave\", \"type\", \"name\", \"pgm\"]]).to_html(\n",
    "        classes=classes\n",
    "    )\n",
    "\n",
    "for k, row in map_df.iterrows():\n",
    "    if (row[\"met\"] + row[\"wave\"]) > 0:\n",
    "        location = row[\"lat\"], row[\"lon\"]\n",
    "        if row[\"met\"] == 0:\n",
    "            color = \"red\"\n",
    "        elif row[\"wave\"] == 0:\n",
    "            color = \"orange\"\n",
    "        else:\n",
    "            color = \"green\"\n",
    "        marker = Marker(\n",
    "            draggable=False,\n",
    "            icon=AwesomeIcon(name=\"life-ring\", marker_color=color),\n",
    "            location=location,\n",
    "        )\n",
    "        msg = HTML()\n",
    "        msg.value = make_popup(row)\n",
    "        marker.popup = msg\n",
    "        m.add_layer(marker)\n",
    "m"
   ]
  },
  {
   "cell_type": "code",
   "execution_count": null,
   "metadata": {},
   "outputs": [],
   "source": []
  }
 ],
 "metadata": {
  "kernelspec": {
   "display_name": "Python 3",
   "language": "python",
   "name": "python3"
  },
  "language_info": {
   "codemirror_mode": {
    "name": "ipython",
    "version": 3
   },
   "file_extension": ".py",
   "mimetype": "text/x-python",
   "name": "python",
   "nbconvert_exporter": "python",
   "pygments_lexer": "ipython3",
   "version": "3.8.5"
  },
  "widgets": {
   "application/vnd.jupyter.widget-state+json": {
    "state": {
     "00a9d9d635e4423bb53f63e091ce107a": {
      "model_module": "@jupyter-widgets/base",
      "model_module_version": "1.2.0",
      "model_name": "LayoutModel",
      "state": {}
     },
     "00f63d59d0024e2c9b24524ecef0cb3c": {
      "model_module": "@jupyter-widgets/controls",
      "model_module_version": "1.5.0",
      "model_name": "HTMLModel",
      "state": {
       "layout": "IPY_MODEL_ada1727097d3457c982daaf6e6dd7985",
       "style": "IPY_MODEL_9dcb085bbaf74bda933030b153a0c602",
       "value": "<table border=\"1\" class=\"dataframe table table-striped table-hover table-condensed table-responsive\">\n  <thead>\n    <tr style=\"text-align: right;\">\n      <th></th>\n      <th>51201</th>\n    </tr>\n  </thead>\n  <tbody>\n    <tr>\n      <th>met</th>\n      <td>0</td>\n    </tr>\n    <tr>\n      <th>wave</th>\n      <td>35006</td>\n    </tr>\n    <tr>\n      <th>type</th>\n      <td>buoy</td>\n    </tr>\n    <tr>\n      <th>name</th>\n      <td>Waimea Bay, HI (106)</td>\n    </tr>\n    <tr>\n      <th>pgm</th>\n      <td>IOOS Partners</td>\n    </tr>\n  </tbody>\n</table>"
      }
     },
     "012d030661194b12b50a514ae3ad51f2": {
      "model_module": "@jupyter-widgets/base",
      "model_module_version": "1.2.0",
      "model_name": "LayoutModel",
      "state": {}
     },
     "014bd1361d654ae5b37f609c0e1b241d": {
      "model_module": "jupyter-leaflet",
      "model_module_version": "^0.13.2",
      "model_name": "LeafletAwesomeIconModel",
      "state": {
       "_model_module_version": "^0.13.2",
       "_view_module_version": "^0.13.2",
       "icon_color": "white",
       "marker_color": "orange",
       "name": "life-ring"
      }
     },
     "022a2729b303438184e39aaaf7002961": {
      "model_module": "@jupyter-widgets/controls",
      "model_module_version": "1.5.0",
      "model_name": "HTMLModel",
      "state": {
       "layout": "IPY_MODEL_f98c1d0403d547c2b2269eca07768cc0",
       "style": "IPY_MODEL_a7aed1a359a74ce5849fe5222d2c8d46",
       "value": "<table border=\"1\" class=\"dataframe table table-striped table-hover table-condensed table-responsive\">\n  <thead>\n    <tr style=\"text-align: right;\">\n      <th></th>\n      <th>arpf1</th>\n    </tr>\n  </thead>\n  <tbody>\n    <tr>\n      <th>met</th>\n      <td>87538</td>\n    </tr>\n    <tr>\n      <th>wave</th>\n      <td>0</td>\n    </tr>\n    <tr>\n      <th>type</th>\n      <td>fixed</td>\n    </tr>\n    <tr>\n      <th>name</th>\n      <td>APK - Aripeka, FL</td>\n    </tr>\n    <tr>\n      <th>pgm</th>\n      <td>IOOS Partners</td>\n    </tr>\n  </tbody>\n</table>"
      }
     },
     "02605fdcee8e49d3bd5c7653779c6c10": {
      "model_module": "@jupyter-widgets/controls",
      "model_module_version": "1.5.0",
      "model_name": "HTMLModel",
      "state": {
       "layout": "IPY_MODEL_a7fe051def7a4c91bdc7123f0979f485",
       "style": "IPY_MODEL_22a2c49302ca4be38e22910ba035f33c",
       "value": "<table border=\"1\" class=\"dataframe table table-striped table-hover table-condensed table-responsive\">\n  <thead>\n    <tr style=\"text-align: right;\">\n      <th></th>\n      <th>ajxa2</th>\n    </tr>\n  </thead>\n  <tbody>\n    <tr>\n      <th>met</th>\n      <td>111196</td>\n    </tr>\n    <tr>\n      <th>wave</th>\n      <td>0</td>\n    </tr>\n    <tr>\n      <th>type</th>\n      <td>fixed</td>\n    </tr>\n    <tr>\n      <th>name</th>\n      <td>Juneau AJ Dock, AK</td>\n    </tr>\n    <tr>\n      <th>pgm</th>\n      <td>IOOS Partners</td>\n    </tr>\n  </tbody>\n</table>"
      }
     },
     "02ac1660517049568877580d9f147c8d": {
      "model_module": "@jupyter-widgets/base",
      "model_module_version": "1.2.0",
      "model_name": "LayoutModel",
      "state": {}
     },
     "02af044dd80e434bbff3295f640a6db6": {
      "model_module": "@jupyter-widgets/base",
      "model_module_version": "1.2.0",
      "model_name": "LayoutModel",
      "state": {}
     },
     "03477970b88843be8dc77f6fd1f08649": {
      "model_module": "@jupyter-widgets/base",
      "model_module_version": "1.2.0",
      "model_name": "LayoutModel",
      "state": {}
     },
     "03a3c5df381e4a2ca463c9ae9e3fb073": {
      "model_module": "@jupyter-widgets/base",
      "model_module_version": "1.2.0",
      "model_name": "LayoutModel",
      "state": {}
     },
     "03ab42568a494c199ab22ec705ba2aba": {
      "model_module": "@jupyter-widgets/base",
      "model_module_version": "1.2.0",
      "model_name": "LayoutModel",
      "state": {}
     },
     "03cf23bd82c74bac9bea5ef0e97e1512": {
      "model_module": "@jupyter-widgets/controls",
      "model_module_version": "1.5.0",
      "model_name": "DescriptionStyleModel",
      "state": {
       "description_width": ""
      }
     },
     "040bd3b18e874daaba02d9c01d73a240": {
      "model_module": "@jupyter-widgets/controls",
      "model_module_version": "1.5.0",
      "model_name": "DescriptionStyleModel",
      "state": {
       "description_width": ""
      }
     },
     "046b2ec0305b48f8bada0cbcde8e770e": {
      "model_module": "@jupyter-widgets/controls",
      "model_module_version": "1.5.0",
      "model_name": "HTMLModel",
      "state": {
       "layout": "IPY_MODEL_d874e691c72846019f8f2d7c8c746661",
       "style": "IPY_MODEL_383b2e5a13d4464da0ad83b1cafbb503",
       "value": "<table border=\"1\" class=\"dataframe table table-striped table-hover table-condensed table-responsive\">\n  <thead>\n    <tr style=\"text-align: right;\">\n      <th></th>\n      <th>shxa2</th>\n    </tr>\n  </thead>\n  <tbody>\n    <tr>\n      <th>met</th>\n      <td>110058</td>\n    </tr>\n    <tr>\n      <th>wave</th>\n      <td>0</td>\n    </tr>\n    <tr>\n      <th>type</th>\n      <td>fixed</td>\n    </tr>\n    <tr>\n      <th>name</th>\n      <td>Sitka Harbor, AK</td>\n    </tr>\n    <tr>\n      <th>pgm</th>\n      <td>IOOS Partners</td>\n    </tr>\n  </tbody>\n</table>"
      }
     },
     "04a06c8a4fc740888a849a514472a638": {
      "model_module": "jupyter-leaflet",
      "model_module_version": "^0.13.2",
      "model_name": "LeafletAwesomeIconModel",
      "state": {
       "_model_module_version": "^0.13.2",
       "_view_module_version": "^0.13.2",
       "icon_color": "white",
       "marker_color": "orange",
       "name": "life-ring"
      }
     },
     "04aba470606a4962bb0b6e17f904bd53": {
      "model_module": "@jupyter-widgets/controls",
      "model_module_version": "1.5.0",
      "model_name": "DescriptionStyleModel",
      "state": {
       "description_width": ""
      }
     },
     "050edae0cc2d408197cbd15f8cd4ffda": {
      "model_module": "@jupyter-widgets/base",
      "model_module_version": "1.2.0",
      "model_name": "LayoutModel",
      "state": {}
     },
     "0528de834c094d1bab7e7243618c3537": {
      "model_module": "@jupyter-widgets/controls",
      "model_module_version": "1.5.0",
      "model_name": "DescriptionStyleModel",
      "state": {
       "description_width": ""
      }
     },
     "05dbe665d4a14eba8a1189b96019bac7": {
      "model_module": "jupyter-leaflet",
      "model_module_version": "^0.13.2",
      "model_name": "LeafletMarkerModel",
      "state": {
       "_model_module_version": "^0.13.2",
       "_view_module_version": "^0.13.2",
       "draggable": false,
       "icon": "IPY_MODEL_8870cac3a2074fad9dcb34984e709981",
       "location": [
        26.01,
        -83.086
       ],
       "options": [
        "alt",
        "draggable",
        "keyboard",
        "rise_offset",
        "rise_on_hover",
        "rotation_angle",
        "rotation_origin",
        "title",
        "z_index_offset"
       ],
       "popup": "IPY_MODEL_b8a241f4cade45448a20b3d685d4b89a"
      }
     },
     "06338cd0cf1a499db72a0e062764ccea": {
      "model_module": "jupyter-leaflet",
      "model_module_version": "^0.13.2",
      "model_name": "LeafletMarkerModel",
      "state": {
       "_model_module_version": "^0.13.2",
       "_view_module_version": "^0.13.2",
       "draggable": false,
       "icon": "IPY_MODEL_6785ffb3efc74c47878c231f86c861b0",
       "location": [
        33.838,
        -78.484
       ],
       "options": [
        "alt",
        "draggable",
        "keyboard",
        "rise_offset",
        "rise_on_hover",
        "rotation_angle",
        "rotation_origin",
        "title",
        "z_index_offset"
       ],
       "popup": "IPY_MODEL_c1db31c7b999401081f0da9177df1e3f"
      }
     },
     "063dbef2270a4d6ebfb7421af072cb4a": {
      "model_module": "jupyter-leaflet",
      "model_module_version": "^0.13.2",
      "model_name": "LeafletAwesomeIconModel",
      "state": {
       "_model_module_version": "^0.13.2",
       "_view_module_version": "^0.13.2",
       "icon_color": "white",
       "marker_color": "red",
       "name": "life-ring"
      }
     },
     "065e3f62ff444004b94ec527d1968b1c": {
      "model_module": "jupyter-leaflet",
      "model_module_version": "^0.13.2",
      "model_name": "LeafletAwesomeIconModel",
      "state": {
       "_model_module_version": "^0.13.2",
       "_view_module_version": "^0.13.2",
       "icon_color": "white",
       "marker_color": "orange",
       "name": "life-ring"
      }
     },
     "07060fd0d63b49479d03ebff9c687898": {
      "model_module": "@jupyter-widgets/controls",
      "model_module_version": "1.5.0",
      "model_name": "DescriptionStyleModel",
      "state": {
       "description_width": ""
      }
     },
     "072c5d1076ea4f2f87a52a843d11c37d": {
      "model_module": "jupyter-leaflet",
      "model_module_version": "^0.13.2",
      "model_name": "LeafletAwesomeIconModel",
      "state": {
       "_model_module_version": "^0.13.2",
       "_view_module_version": "^0.13.2",
       "icon_color": "white",
       "marker_color": "orange",
       "name": "life-ring"
      }
     },
     "0740579930f6475ba99a5782e2d7a9c7": {
      "model_module": "@jupyter-widgets/controls",
      "model_module_version": "1.5.0",
      "model_name": "HTMLModel",
      "state": {
       "layout": "IPY_MODEL_d8c8dc0e70ff4fa88c04c0d3430c2d1b",
       "style": "IPY_MODEL_04aba470606a4962bb0b6e17f904bd53",
       "value": "<table border=\"1\" class=\"dataframe table table-striped table-hover table-condensed table-responsive\">\n  <thead>\n    <tr style=\"text-align: right;\">\n      <th></th>\n      <th>cpxc1</th>\n    </tr>\n  </thead>\n  <tbody>\n    <tr>\n      <th>met</th>\n      <td>202486</td>\n    </tr>\n    <tr>\n      <th>wave</th>\n      <td>0</td>\n    </tr>\n    <tr>\n      <th>type</th>\n      <td>fixed</td>\n    </tr>\n    <tr>\n      <th>name</th>\n      <td>Cal Poly Pier, CA</td>\n    </tr>\n    <tr>\n      <th>pgm</th>\n      <td>IOOS Partners</td>\n    </tr>\n  </tbody>\n</table>"
      }
     },
     "0740626ae7c34645a0e0a4c10b80fe40": {
      "model_module": "jupyter-leaflet",
      "model_module_version": "^0.13.2",
      "model_name": "LeafletAwesomeIconModel",
      "state": {
       "_model_module_version": "^0.13.2",
       "_view_module_version": "^0.13.2",
       "icon_color": "white",
       "marker_color": "orange",
       "name": "life-ring"
      }
     },
     "075e34e376604d5381f5e87a73e0e1f0": {
      "model_module": "@jupyter-widgets/controls",
      "model_module_version": "1.5.0",
      "model_name": "HTMLModel",
      "state": {
       "layout": "IPY_MODEL_6695ab931ddf418a957e8573d2bcf146",
       "style": "IPY_MODEL_cd8a19a23d14498a924ee6db3cb92db2",
       "value": "<table border=\"1\" class=\"dataframe table table-striped table-hover table-condensed table-responsive\">\n  <thead>\n    <tr style=\"text-align: right;\">\n      <th></th>\n      <th>pmnt2</th>\n    </tr>\n  </thead>\n  <tbody>\n    <tr>\n      <th>met</th>\n      <td>183766</td>\n    </tr>\n    <tr>\n      <th>wave</th>\n      <td>0</td>\n    </tr>\n    <tr>\n      <th>type</th>\n      <td>fixed</td>\n    </tr>\n    <tr>\n      <th>name</th>\n      <td>8778490 - Port Mansfield, TX</td>\n    </tr>\n    <tr>\n      <th>pgm</th>\n      <td>IOOS Partners</td>\n    </tr>\n  </tbody>\n</table>"
      }
     },
     "0895b9dd5fe14953a0fcb71cf66df970": {
      "model_module": "jupyter-leaflet",
      "model_module_version": "^0.13.2",
      "model_name": "LeafletMarkerModel",
      "state": {
       "_model_module_version": "^0.13.2",
       "_view_module_version": "^0.13.2",
       "draggable": false,
       "icon": "IPY_MODEL_b0a144adc04e42e688f7d72c0a436095",
       "location": [
        42.185,
        -80.135
       ],
       "options": [
        "alt",
        "draggable",
        "keyboard",
        "rise_offset",
        "rise_on_hover",
        "rotation_angle",
        "rotation_origin",
        "title",
        "z_index_offset"
       ],
       "popup": "IPY_MODEL_42c3f5882eb548eb9897dc524331d941"
      }
     },
     "09f8448c98cf49008528b3ae8606d094": {
      "model_module": "jupyter-leaflet",
      "model_module_version": "^0.13.2",
      "model_name": "LeafletAwesomeIconModel",
      "state": {
       "_model_module_version": "^0.13.2",
       "_view_module_version": "^0.13.2",
       "icon_color": "white",
       "marker_color": "orange",
       "name": "life-ring"
      }
     },
     "0a85b91f498342afa666774c8f372389": {
      "model_module": "@jupyter-widgets/base",
      "model_module_version": "1.2.0",
      "model_name": "LayoutModel",
      "state": {}
     },
     "0ae210c4b5f24da4b06c3785babeb279": {
      "model_module": "@jupyter-widgets/controls",
      "model_module_version": "1.5.0",
      "model_name": "DescriptionStyleModel",
      "state": {
       "description_width": ""
      }
     },
     "0af2630c82a34f5294c85f3d8f6e4f03": {
      "model_module": "@jupyter-widgets/base",
      "model_module_version": "1.2.0",
      "model_name": "LayoutModel",
      "state": {}
     },
     "0b3fa2a0fb6d40d2a9eeecda7e131b6a": {
      "model_module": "@jupyter-widgets/controls",
      "model_module_version": "1.5.0",
      "model_name": "DescriptionStyleModel",
      "state": {
       "description_width": ""
      }
     },
     "0c13d30b6b6a4592963a6e2e7a04fef9": {
      "model_module": "jupyter-leaflet",
      "model_module_version": "^0.13.2",
      "model_name": "LeafletAwesomeIconModel",
      "state": {
       "_model_module_version": "^0.13.2",
       "_view_module_version": "^0.13.2",
       "icon_color": "white",
       "marker_color": "green",
       "name": "life-ring"
      }
     },
     "0c2e3d7fb69c4e81a45656a5113928cc": {
      "model_module": "@jupyter-widgets/base",
      "model_module_version": "1.2.0",
      "model_name": "LayoutModel",
      "state": {}
     },
     "0c5d8dd2822a40b280ce1ff7d2f721b9": {
      "model_module": "@jupyter-widgets/controls",
      "model_module_version": "1.5.0",
      "model_name": "DescriptionStyleModel",
      "state": {
       "description_width": ""
      }
     },
     "0cd17afcbf384c18bc1a29f992bc4547": {
      "model_module": "@jupyter-widgets/controls",
      "model_module_version": "1.5.0",
      "model_name": "DescriptionStyleModel",
      "state": {
       "description_width": ""
      }
     },
     "0d7f72d8e3e847ef982315b41ece9d50": {
      "model_module": "@jupyter-widgets/controls",
      "model_module_version": "1.5.0",
      "model_name": "DescriptionStyleModel",
      "state": {
       "description_width": ""
      }
     },
     "0d9eca3156574ac1b98fc9712293e583": {
      "model_module": "@jupyter-widgets/controls",
      "model_module_version": "1.5.0",
      "model_name": "HTMLModel",
      "state": {
       "layout": "IPY_MODEL_fdbc835f268d499886219e035bb02c0e",
       "style": "IPY_MODEL_ab7bc7e19e3f4832ac33781de2ac80bf",
       "value": "<table border=\"1\" class=\"dataframe table table-striped table-hover table-condensed table-responsive\">\n  <thead>\n    <tr style=\"text-align: right;\">\n      <th></th>\n      <th>45024</th>\n    </tr>\n  </thead>\n  <tbody>\n    <tr>\n      <th>met</th>\n      <td>24508</td>\n    </tr>\n    <tr>\n      <th>wave</th>\n      <td>24508</td>\n    </tr>\n    <tr>\n      <th>type</th>\n      <td>buoy</td>\n    </tr>\n    <tr>\n      <th>name</th>\n      <td>Ludington Buoy, MI</td>\n    </tr>\n    <tr>\n      <th>pgm</th>\n      <td>IOOS Partners</td>\n    </tr>\n  </tbody>\n</table>"
      }
     },
     "0e350a670d7b46bd9bde4ea0fba4ae12": {
      "model_module": "@jupyter-widgets/base",
      "model_module_version": "1.2.0",
      "model_name": "LayoutModel",
      "state": {}
     },
     "0fe5a15429f848769c3c937feb4625c8": {
      "model_module": "@jupyter-widgets/controls",
      "model_module_version": "1.5.0",
      "model_name": "DescriptionStyleModel",
      "state": {
       "description_width": ""
      }
     },
     "10322db2cebb483e975bbe180a31eb13": {
      "model_module": "jupyter-leaflet",
      "model_module_version": "^0.13.2",
      "model_name": "LeafletMarkerModel",
      "state": {
       "_model_module_version": "^0.13.2",
       "_view_module_version": "^0.13.2",
       "draggable": false,
       "icon": "IPY_MODEL_7b57876d5a3d48019a11553bd64124d8",
       "location": [
        43.715,
        -69.355
       ],
       "options": [
        "alt",
        "draggable",
        "keyboard",
        "rise_offset",
        "rise_on_hover",
        "rotation_angle",
        "rotation_origin",
        "title",
        "z_index_offset"
       ],
       "popup": "IPY_MODEL_cd38ff91d058450ab84b482682968b3d"
      }
     },
     "1067968b3ebf4ad2ad0c147a473a1a56": {
      "model_module": "@jupyter-widgets/controls",
      "model_module_version": "1.5.0",
      "model_name": "DescriptionStyleModel",
      "state": {
       "description_width": ""
      }
     },
     "10d396fd0bc44ad08b266b90e30f3e1a": {
      "model_module": "@jupyter-widgets/base",
      "model_module_version": "1.2.0",
      "model_name": "LayoutModel",
      "state": {}
     },
     "1108f9fd90d04e458946ae8b5cb8b443": {
      "model_module": "@jupyter-widgets/base",
      "model_module_version": "1.2.0",
      "model_name": "LayoutModel",
      "state": {}
     },
     "1164c35e9a624722b5f7a456297cf73e": {
      "model_module": "jupyter-leaflet",
      "model_module_version": "^0.13.2",
      "model_name": "LeafletAwesomeIconModel",
      "state": {
       "_model_module_version": "^0.13.2",
       "_view_module_version": "^0.13.2",
       "icon_color": "white",
       "marker_color": "orange",
       "name": "life-ring"
      }
     },
     "116f97d170c34ae692acb8c4f98eee41": {
      "model_module": "@jupyter-widgets/controls",
      "model_module_version": "1.5.0",
      "model_name": "HTMLModel",
      "state": {
       "layout": "IPY_MODEL_119bde3ed5ee4024afc8175f8e25ea4d",
       "style": "IPY_MODEL_0b3fa2a0fb6d40d2a9eeecda7e131b6a",
       "value": "<table border=\"1\" class=\"dataframe table table-striped table-hover table-condensed table-responsive\">\n  <thead>\n    <tr style=\"text-align: right;\">\n      <th></th>\n      <th>grrt2</th>\n    </tr>\n  </thead>\n  <tbody>\n    <tr>\n      <th>met</th>\n      <td>182918</td>\n    </tr>\n    <tr>\n      <th>wave</th>\n      <td>0</td>\n    </tr>\n    <tr>\n      <th>type</th>\n      <td>fixed</td>\n    </tr>\n    <tr>\n      <th>name</th>\n      <td>8771486 - Galveston RR Bridge, TX</td>\n    </tr>\n    <tr>\n      <th>pgm</th>\n      <td>IOOS Partners</td>\n    </tr>\n  </tbody>\n</table>"
      }
     },
     "119bde3ed5ee4024afc8175f8e25ea4d": {
      "model_module": "@jupyter-widgets/base",
      "model_module_version": "1.2.0",
      "model_name": "LayoutModel",
      "state": {}
     },
     "11ba21d1eef44d93a5a550a131e0751a": {
      "model_module": "@jupyter-widgets/controls",
      "model_module_version": "1.5.0",
      "model_name": "HTMLModel",
      "state": {
       "layout": "IPY_MODEL_296634905a3947d5a46662ebe932e6e7",
       "style": "IPY_MODEL_44fe0388135f4477ab18ebcdc2a149eb",
       "value": "<table border=\"1\" class=\"dataframe table table-striped table-hover table-condensed table-responsive\">\n  <thead>\n    <tr style=\"text-align: right;\">\n      <th></th>\n      <th>46128</th>\n    </tr>\n  </thead>\n  <tbody>\n    <tr>\n      <th>met</th>\n      <td>23114</td>\n    </tr>\n    <tr>\n      <th>wave</th>\n      <td>0</td>\n    </tr>\n    <tr>\n      <th>type</th>\n      <td>buoy</td>\n    </tr>\n    <tr>\n      <th>name</th>\n      <td>Buoy CB-06 - West of Coos Bay, OR</td>\n    </tr>\n    <tr>\n      <th>pgm</th>\n      <td>IOOS Partners</td>\n    </tr>\n  </tbody>\n</table>"
      }
     },
     "126c8c873cb84543b25492e840907f3e": {
      "model_module": "@jupyter-widgets/controls",
      "model_module_version": "1.5.0",
      "model_name": "DescriptionStyleModel",
      "state": {
       "description_width": ""
      }
     },
     "12f93e67051f44f288e158f5c55158bd": {
      "model_module": "@jupyter-widgets/controls",
      "model_module_version": "1.5.0",
      "model_name": "DescriptionStyleModel",
      "state": {
       "description_width": ""
      }
     },
     "131f70e5c0e949ea8c433e748c8991a3": {
      "model_module": "@jupyter-widgets/controls",
      "model_module_version": "1.5.0",
      "model_name": "DescriptionStyleModel",
      "state": {
       "description_width": ""
      }
     },
     "137ff16fe94a451dbe4280d4e69159e8": {
      "model_module": "jupyter-leaflet",
      "model_module_version": "^0.13.2",
      "model_name": "LeafletMarkerModel",
      "state": {
       "_model_module_version": "^0.13.2",
       "_view_module_version": "^0.13.2",
       "draggable": false,
       "icon": "IPY_MODEL_86839f7a2f9047d1b5bcd8101dfe2ba6",
       "location": [
        40.699,
        -73.086
       ],
       "options": [
        "alt",
        "draggable",
        "keyboard",
        "rise_offset",
        "rise_on_hover",
        "rotation_angle",
        "rotation_origin",
        "title",
        "z_index_offset"
       ],
       "popup": "IPY_MODEL_4b67c0156f2248c8bc9cba30a7a45cb7"
      }
     },
     "13afe411111c47c286dc4a5710d8e3b9": {
      "model_module": "@jupyter-widgets/controls",
      "model_module_version": "1.5.0",
      "model_name": "HTMLModel",
      "state": {
       "layout": "IPY_MODEL_54c7010ea6504a83877436de5d6c4a03",
       "style": "IPY_MODEL_69106499fb22461cb31e9718c329089b",
       "value": "<table border=\"1\" class=\"dataframe table table-striped table-hover table-condensed table-responsive\">\n  <thead>\n    <tr style=\"text-align: right;\">\n      <th></th>\n      <th>ptla2</th>\n    </tr>\n  </thead>\n  <tbody>\n    <tr>\n      <th>met</th>\n      <td>101068</td>\n    </tr>\n    <tr>\n      <th>wave</th>\n      <td>0</td>\n    </tr>\n    <tr>\n      <th>type</th>\n      <td>fixed</td>\n    </tr>\n    <tr>\n      <th>name</th>\n      <td>Portland Island, AK</td>\n    </tr>\n    <tr>\n      <th>pgm</th>\n      <td>IOOS Partners</td>\n    </tr>\n  </tbody>\n</table>"
      }
     },
     "13b780d52cf348ddb34b8133671a828d": {
      "model_module": "jupyter-leaflet",
      "model_module_version": "^0.13.2",
      "model_name": "LeafletAwesomeIconModel",
      "state": {
       "_model_module_version": "^0.13.2",
       "_view_module_version": "^0.13.2",
       "icon_color": "white",
       "marker_color": "green",
       "name": "life-ring"
      }
     },
     "13bc4f2aa6754e4ea6f3c6ccf9913c78": {
      "model_module": "@jupyter-widgets/controls",
      "model_module_version": "1.5.0",
      "model_name": "DescriptionStyleModel",
      "state": {
       "description_width": ""
      }
     },
     "13fd4fccc4f64f52b29c5834ceaffc53": {
      "model_module": "jupyter-leaflet",
      "model_module_version": "^0.13.2",
      "model_name": "LeafletMarkerModel",
      "state": {
       "_model_module_version": "^0.13.2",
       "_view_module_version": "^0.13.2",
       "draggable": false,
       "icon": "IPY_MODEL_a2c4d5879f554666bb332cf5386b00ba",
       "location": [
        21.323,
        -158.149
       ],
       "options": [
        "alt",
        "draggable",
        "keyboard",
        "rise_offset",
        "rise_on_hover",
        "rotation_angle",
        "rotation_origin",
        "title",
        "z_index_offset"
       ],
       "popup": "IPY_MODEL_a7fafaaacd8f43099d93a94afc166fb7"
      }
     },
     "14247a685eca4b01b95c3b4bb37f30b1": {
      "model_module": "@jupyter-widgets/base",
      "model_module_version": "1.2.0",
      "model_name": "LayoutModel",
      "state": {}
     },
     "1431210312764ba081d76f5d9f3e3165": {
      "model_module": "@jupyter-widgets/controls",
      "model_module_version": "1.5.0",
      "model_name": "HTMLModel",
      "state": {
       "layout": "IPY_MODEL_8047fd42c6cf41eaa2cbe2aa325149d6",
       "style": "IPY_MODEL_f04b5474067c454589e3e26c530d1b3a",
       "value": "<table border=\"1\" class=\"dataframe table table-striped table-hover table-condensed table-responsive\">\n  <thead>\n    <tr style=\"text-align: right;\">\n      <th></th>\n      <th>bzst2</th>\n    </tr>\n  </thead>\n  <tbody>\n    <tr>\n      <th>met</th>\n      <td>182732</td>\n    </tr>\n    <tr>\n      <th>wave</th>\n      <td>0</td>\n    </tr>\n    <tr>\n      <th>type</th>\n      <td>fixed</td>\n    </tr>\n    <tr>\n      <th>name</th>\n      <td>8779749 - SPI Brazos Santiago, TX</td>\n    </tr>\n    <tr>\n      <th>pgm</th>\n      <td>IOOS Partners</td>\n    </tr>\n  </tbody>\n</table>"
      }
     },
     "1433f2ce8bd94f4192df211b03031427": {
      "model_module": "jupyter-leaflet",
      "model_module_version": "^0.13.2",
      "model_name": "LeafletAwesomeIconModel",
      "state": {
       "_model_module_version": "^0.13.2",
       "_view_module_version": "^0.13.2",
       "icon_color": "white",
       "marker_color": "orange",
       "name": "life-ring"
      }
     },
     "148f779c4c9c48748249a7ab59e5f7a9": {
      "model_module": "jupyter-leaflet",
      "model_module_version": "^0.13.2",
      "model_name": "LeafletMarkerModel",
      "state": {
       "_model_module_version": "^0.13.2",
       "_view_module_version": "^0.13.2",
       "draggable": false,
       "icon": "IPY_MODEL_d0d7bf55bc5d411dbe85e22c50d58492",
       "location": [
        55.099,
        -131.182
       ],
       "options": [
        "alt",
        "draggable",
        "keyboard",
        "rise_offset",
        "rise_on_hover",
        "rotation_angle",
        "rotation_origin",
        "title",
        "z_index_offset"
       ],
       "popup": "IPY_MODEL_a6477fb56b7545dcab67165265b225a7"
      }
     },
     "151bf650825e4fe48504be01364bd551": {
      "model_module": "jupyter-leaflet",
      "model_module_version": "^0.13.2",
      "model_name": "LeafletMarkerModel",
      "state": {
       "_model_module_version": "^0.13.2",
       "_view_module_version": "^0.13.2",
       "draggable": false,
       "icon": "IPY_MODEL_8ed2ffb159df4f7287fd3fafaa7b58f7",
       "location": [
        27.862,
        -80.445
       ],
       "options": [
        "alt",
        "draggable",
        "keyboard",
        "rise_offset",
        "rise_on_hover",
        "rotation_angle",
        "rotation_origin",
        "title",
        "z_index_offset"
       ],
       "popup": "IPY_MODEL_edfcbb9d3edd4730a7a6b890b7b43df0"
      }
     },
     "151e517f68954db6b937c6f1b9a11eae": {
      "model_module": "@jupyter-widgets/controls",
      "model_module_version": "1.5.0",
      "model_name": "DescriptionStyleModel",
      "state": {
       "description_width": ""
      }
     },
     "1527c7188bdf4f2e92d947b9bef4ba16": {
      "model_module": "jupyter-leaflet",
      "model_module_version": "^0.13.2",
      "model_name": "LeafletAwesomeIconModel",
      "state": {
       "_model_module_version": "^0.13.2",
       "_view_module_version": "^0.13.2",
       "icon_color": "white",
       "marker_color": "orange",
       "name": "life-ring"
      }
     },
     "15344973c0884eb7b357738cf5bf040f": {
      "model_module": "jupyter-leaflet",
      "model_module_version": "^0.13.2",
      "model_name": "LeafletMarkerModel",
      "state": {
       "_model_module_version": "^0.13.2",
       "_view_module_version": "^0.13.2",
       "draggable": false,
       "icon": "IPY_MODEL_d4bca8b0a5ae4bc4a3e9ea2e7502c0c9",
       "location": [
        28.771,
        -95.617
       ],
       "options": [
        "alt",
        "draggable",
        "keyboard",
        "rise_offset",
        "rise_on_hover",
        "rotation_angle",
        "rotation_origin",
        "title",
        "z_index_offset"
       ],
       "popup": "IPY_MODEL_3e143846eb134622930ae19b0f71ea37"
      }
     },
     "15d5017233e84f169df877ac5aba5026": {
      "model_module": "@jupyter-widgets/controls",
      "model_module_version": "1.5.0",
      "model_name": "DescriptionStyleModel",
      "state": {
       "description_width": ""
      }
     },
     "15e2b906e7994f419fd3b819f71dab16": {
      "model_module": "@jupyter-widgets/controls",
      "model_module_version": "1.5.0",
      "model_name": "HTMLModel",
      "state": {
       "layout": "IPY_MODEL_e1003afa6a4f46d897713bb10b0044b1",
       "style": "IPY_MODEL_c909940872084bf4b933d075116df7fe",
       "value": "<table border=\"1\" class=\"dataframe table table-striped table-hover table-condensed table-responsive\">\n  <thead>\n    <tr style=\"text-align: right;\">\n      <th></th>\n      <th>rlot2</th>\n    </tr>\n  </thead>\n  <tbody>\n    <tr>\n      <th>met</th>\n      <td>183994</td>\n    </tr>\n    <tr>\n      <th>wave</th>\n      <td>0</td>\n    </tr>\n    <tr>\n      <th>type</th>\n      <td>fixed</td>\n    </tr>\n    <tr>\n      <th>name</th>\n      <td>8770971 - Rollover Pass, TX</td>\n    </tr>\n    <tr>\n      <th>pgm</th>\n      <td>IOOS Partners</td>\n    </tr>\n  </tbody>\n</table>"
      }
     },
     "15fc4fc6febb4531b0d2d0d47cec3974": {
      "model_module": "jupyter-leaflet",
      "model_module_version": "^0.13.2",
      "model_name": "LeafletAwesomeIconModel",
      "state": {
       "_model_module_version": "^0.13.2",
       "_view_module_version": "^0.13.2",
       "icon_color": "white",
       "marker_color": "orange",
       "name": "life-ring"
      }
     },
     "16b5b3c618b04e149fbd4ea5ca658008": {
      "model_module": "@jupyter-widgets/controls",
      "model_module_version": "1.5.0",
      "model_name": "DescriptionStyleModel",
      "state": {
       "description_width": ""
      }
     },
     "173b177358c04f9f83a1a90d5a486f02": {
      "model_module": "jupyter-leaflet",
      "model_module_version": "^0.13.2",
      "model_name": "LeafletMarkerModel",
      "state": {
       "_model_module_version": "^0.13.2",
       "_view_module_version": "^0.13.2",
       "draggable": false,
       "icon": "IPY_MODEL_d01179b4bf78492b8719d12ec3e4bc17",
       "location": [
        27.837,
        -97.039
       ],
       "options": [
        "alt",
        "draggable",
        "keyboard",
        "rise_offset",
        "rise_on_hover",
        "rotation_angle",
        "rotation_origin",
        "title",
        "z_index_offset"
       ],
       "popup": "IPY_MODEL_74d9eb8fad1c4615995e05a90b33077f"
      }
     },
     "179aa78fb15e407d8bfad77cb5879859": {
      "model_module": "jupyter-leaflet",
      "model_module_version": "^0.13.2",
      "model_name": "LeafletMarkerModel",
      "state": {
       "_model_module_version": "^0.13.2",
       "_view_module_version": "^0.13.2",
       "draggable": false,
       "icon": "IPY_MODEL_def1893bcfca49a4944710b6f8f4ee48",
       "location": [
        35.75,
        -75.33
       ],
       "options": [
        "alt",
        "draggable",
        "keyboard",
        "rise_offset",
        "rise_on_hover",
        "rotation_angle",
        "rotation_origin",
        "title",
        "z_index_offset"
       ],
       "popup": "IPY_MODEL_d5b0de59a76e48a0a0394e9e69493780"
      }
     },
     "17cf2dc5a75e4aa8858af8d2022ef89f": {
      "model_module": "jupyter-leaflet",
      "model_module_version": "^0.13.2",
      "model_name": "LeafletAwesomeIconModel",
      "state": {
       "_model_module_version": "^0.13.2",
       "_view_module_version": "^0.13.2",
       "icon_color": "white",
       "marker_color": "orange",
       "name": "life-ring"
      }
     },
     "17d2506a9d4e4250a1dab52524aae985": {
      "model_module": "@jupyter-widgets/base",
      "model_module_version": "1.2.0",
      "model_name": "LayoutModel",
      "state": {}
     },
     "18166b964900462b908a8c537e500fd2": {
      "model_module": "@jupyter-widgets/base",
      "model_module_version": "1.2.0",
      "model_name": "LayoutModel",
      "state": {}
     },
     "18f78e49bc08490e8dfea5c8d3d86f5c": {
      "model_module": "jupyter-leaflet",
      "model_module_version": "^0.13.2",
      "model_name": "LeafletMarkerModel",
      "state": {
       "_model_module_version": "^0.13.2",
       "_view_module_version": "^0.13.2",
       "draggable": false,
       "icon": "IPY_MODEL_c1c11629d1354597872d37725e8d9bc2",
       "location": [
        21.477,
        -157.756
       ],
       "options": [
        "alt",
        "draggable",
        "keyboard",
        "rise_offset",
        "rise_on_hover",
        "rotation_angle",
        "rotation_origin",
        "title",
        "z_index_offset"
       ],
       "popup": "IPY_MODEL_4bddd344629e430d927c0e6fe33d3e13"
      }
     },
     "19e489332d3d4816b71d1517a6b42bcb": {
      "model_module": "@jupyter-widgets/controls",
      "model_module_version": "1.5.0",
      "model_name": "DescriptionStyleModel",
      "state": {
       "description_width": ""
      }
     },
     "1a06d1afa5874dcbaac0387a08df38fd": {
      "model_module": "@jupyter-widgets/controls",
      "model_module_version": "1.5.0",
      "model_name": "DescriptionStyleModel",
      "state": {
       "description_width": ""
      }
     },
     "1a2f7d18942849649c1c8017d93e51f0": {
      "model_module": "jupyter-leaflet",
      "model_module_version": "^0.13.2",
      "model_name": "LeafletMarkerModel",
      "state": {
       "_model_module_version": "^0.13.2",
       "_view_module_version": "^0.13.2",
       "draggable": false,
       "icon": "IPY_MODEL_b0d90326bcde45a9a43e9389347cda29",
       "location": [
        59.927,
        -141.359
       ],
       "options": [
        "alt",
        "draggable",
        "keyboard",
        "rise_offset",
        "rise_on_hover",
        "rotation_angle",
        "rotation_origin",
        "title",
        "z_index_offset"
       ],
       "popup": "IPY_MODEL_2a9e076c69264a25bf4b8562b6110ce9"
      }
     },
     "1a44b44ae76744bda732ff1496961ac4": {
      "model_module": "@jupyter-widgets/base",
      "model_module_version": "1.2.0",
      "model_name": "LayoutModel",
      "state": {}
     },
     "1a58797c06ff4630beef4d413994efae": {
      "model_module": "@jupyter-widgets/controls",
      "model_module_version": "1.5.0",
      "model_name": "HTMLModel",
      "state": {
       "layout": "IPY_MODEL_b0392c098aff43cca91562ff3cfa7f67",
       "style": "IPY_MODEL_b662097b04054c3aade1ec4b79ceae9d",
       "value": "<table border=\"1\" class=\"dataframe table table-striped table-hover table-condensed table-responsive\">\n  <thead>\n    <tr style=\"text-align: right;\">\n      <th></th>\n      <th>41037</th>\n    </tr>\n  </thead>\n  <tbody>\n    <tr>\n      <th>met</th>\n      <td>18728</td>\n    </tr>\n    <tr>\n      <th>wave</th>\n      <td>0</td>\n    </tr>\n    <tr>\n      <th>type</th>\n      <td>buoy</td>\n    </tr>\n    <tr>\n      <th>name</th>\n      <td>Wrightsville Beach Offshore, NC (ILM3)</td>\n    </tr>\n    <tr>\n      <th>pgm</th>\n      <td>IOOS Partners</td>\n    </tr>\n  </tbody>\n</table>"
      }
     },
     "1aa093e96b164fdd92db5548565add39": {
      "model_module": "@jupyter-widgets/controls",
      "model_module_version": "1.5.0",
      "model_name": "HTMLModel",
      "state": {
       "layout": "IPY_MODEL_e5ccbe4d73eb43cdafe5f85c08645f6a",
       "style": "IPY_MODEL_12f93e67051f44f288e158f5c55158bd",
       "value": "<table border=\"1\" class=\"dataframe table table-striped table-hover table-condensed table-responsive\">\n  <thead>\n    <tr style=\"text-align: right;\">\n      <th></th>\n      <th>mxxa2</th>\n    </tr>\n  </thead>\n  <tbody>\n    <tr>\n      <th>met</th>\n      <td>110254</td>\n    </tr>\n    <tr>\n      <th>wave</th>\n      <td>0</td>\n    </tr>\n    <tr>\n      <th>type</th>\n      <td>fixed</td>\n    </tr>\n    <tr>\n      <th>name</th>\n      <td>MXAK Office, AK</td>\n    </tr>\n    <tr>\n      <th>pgm</th>\n      <td>IOOS Partners</td>\n    </tr>\n  </tbody>\n</table>"
      }
     },
     "1aa1f8db2c684b5da52d12cab8dbae48": {
      "model_module": "@jupyter-widgets/base",
      "model_module_version": "1.2.0",
      "model_name": "LayoutModel",
      "state": {}
     },
     "1acae620c1374bed821bbdd0a09985b5": {
      "model_module": "@jupyter-widgets/controls",
      "model_module_version": "1.5.0",
      "model_name": "DescriptionStyleModel",
      "state": {
       "description_width": ""
      }
     },
     "1acb1b8b6cad46e9a83592adc25b5a73": {
      "model_module": "@jupyter-widgets/controls",
      "model_module_version": "1.5.0",
      "model_name": "HTMLModel",
      "state": {
       "layout": "IPY_MODEL_457c04491b5c45a1b0469fc70ef8f194",
       "style": "IPY_MODEL_80997b9c964946378bcbcadef67fd432",
       "value": "<table border=\"1\" class=\"dataframe table table-striped table-hover table-condensed table-responsive\">\n  <thead>\n    <tr style=\"text-align: right;\">\n      <th></th>\n      <th>45170</th>\n    </tr>\n  </thead>\n  <tbody>\n    <tr>\n      <th>met</th>\n      <td>31690</td>\n    </tr>\n    <tr>\n      <th>wave</th>\n      <td>31684</td>\n    </tr>\n    <tr>\n      <th>type</th>\n      <td>buoy</td>\n    </tr>\n    <tr>\n      <th>name</th>\n      <td>Michigan City Buoy, IN</td>\n    </tr>\n    <tr>\n      <th>pgm</th>\n      <td>IOOS Partners</td>\n    </tr>\n  </tbody>\n</table>"
      }
     },
     "1b6f3cb2369c4d2e854c9d225323ba89": {
      "model_module": "jupyter-leaflet",
      "model_module_version": "^0.13.2",
      "model_name": "LeafletAwesomeIconModel",
      "state": {
       "_model_module_version": "^0.13.2",
       "_view_module_version": "^0.13.2",
       "icon_color": "white",
       "marker_color": "green",
       "name": "life-ring"
      }
     },
     "1b9b06db5be246539319759ada2cd8b5": {
      "model_module": "@jupyter-widgets/controls",
      "model_module_version": "1.5.0",
      "model_name": "HTMLModel",
      "state": {
       "layout": "IPY_MODEL_28a703649a0749a3b5ecf30e54bdd673",
       "style": "IPY_MODEL_47d9b841f3664959b290bcf4b6771bbe",
       "value": "<table border=\"1\" class=\"dataframe table table-striped table-hover table-condensed table-responsive\">\n  <thead>\n    <tr style=\"text-align: right;\">\n      <th></th>\n      <th>45176</th>\n    </tr>\n  </thead>\n  <tbody>\n    <tr>\n      <th>met</th>\n      <td>27018</td>\n    </tr>\n    <tr>\n      <th>wave</th>\n      <td>26910</td>\n    </tr>\n    <tr>\n      <th>type</th>\n      <td>buoy</td>\n    </tr>\n    <tr>\n      <th>name</th>\n      <td>Cleveland Intake Crib Buoy, OH</td>\n    </tr>\n    <tr>\n      <th>pgm</th>\n      <td>IOOS Partners</td>\n    </tr>\n  </tbody>\n</table>"
      }
     },
     "1d3e9cb5faca4159a2d9334c677c45ee": {
      "model_module": "jupyter-leaflet",
      "model_module_version": "^0.13.2",
      "model_name": "LeafletMarkerModel",
      "state": {
       "_model_module_version": "^0.13.2",
       "_view_module_version": "^0.13.2",
       "draggable": false,
       "icon": "IPY_MODEL_17cf2dc5a75e4aa8858af8d2022ef89f",
       "location": [
        46.173,
        -124.127
       ],
       "options": [
        "alt",
        "draggable",
        "keyboard",
        "rise_offset",
        "rise_on_hover",
        "rotation_angle",
        "rotation_origin",
        "title",
        "z_index_offset"
       ],
       "popup": "IPY_MODEL_73f7fc5a2e2d4f0ca9b0bd6984e7a45c"
      }
     },
     "1de0f76d35a44a5c92e3017e43f93ffe": {
      "model_module": "jupyter-leaflet",
      "model_module_version": "^0.13.2",
      "model_name": "LeafletMarkerModel",
      "state": {
       "_model_module_version": "^0.13.2",
       "_view_module_version": "^0.13.2",
       "draggable": false,
       "icon": "IPY_MODEL_59078cad283f401584c9388e43628b6e",
       "location": [
        43.497,
        -67.876
       ],
       "options": [
        "alt",
        "draggable",
        "keyboard",
        "rise_offset",
        "rise_on_hover",
        "rotation_angle",
        "rotation_origin",
        "title",
        "z_index_offset"
       ],
       "popup": "IPY_MODEL_d5ac455e4a6e4318b0866248ab4f29c3"
      }
     },
     "1df43c7a1a524764a5eccefa896f7cdc": {
      "model_module": "jupyter-leaflet",
      "model_module_version": "^0.13.2",
      "model_name": "LeafletAwesomeIconModel",
      "state": {
       "_model_module_version": "^0.13.2",
       "_view_module_version": "^0.13.2",
       "icon_color": "white",
       "marker_color": "orange",
       "name": "life-ring"
      }
     },
     "1e1e4fc476964646be15d28fbd647a43": {
      "model_module": "@jupyter-widgets/controls",
      "model_module_version": "1.5.0",
      "model_name": "DescriptionStyleModel",
      "state": {
       "description_width": ""
      }
     },
     "1e286121202a41d7b50c39dcd1e09e70": {
      "model_module": "@jupyter-widgets/controls",
      "model_module_version": "1.5.0",
      "model_name": "DescriptionStyleModel",
      "state": {
       "description_width": ""
      }
     },
     "1eb1893ae57a4358b3e8b99dcd993c0f": {
      "model_module": "@jupyter-widgets/controls",
      "model_module_version": "1.5.0",
      "model_name": "HTMLModel",
      "state": {
       "layout": "IPY_MODEL_0e350a670d7b46bd9bde4ea0fba4ae12",
       "style": "IPY_MODEL_1f6d4073bae045cca41e58fbdc5ad1a5",
       "value": "<table border=\"1\" class=\"dataframe table table-striped table-hover table-condensed table-responsive\">\n  <thead>\n    <tr style=\"text-align: right;\">\n      <th></th>\n      <th>hmsa2</th>\n    </tr>\n  </thead>\n  <tbody>\n    <tr>\n      <th>met</th>\n      <td>109880</td>\n    </tr>\n    <tr>\n      <th>wave</th>\n      <td>0</td>\n    </tr>\n    <tr>\n      <th>type</th>\n      <td>fixed</td>\n    </tr>\n    <tr>\n      <th>name</th>\n      <td>Homer Spit, AK</td>\n    </tr>\n    <tr>\n      <th>pgm</th>\n      <td>IOOS Partners</td>\n    </tr>\n  </tbody>\n</table>"
      }
     },
     "1f6d4073bae045cca41e58fbdc5ad1a5": {
      "model_module": "@jupyter-widgets/controls",
      "model_module_version": "1.5.0",
      "model_name": "DescriptionStyleModel",
      "state": {
       "description_width": ""
      }
     },
     "1fc09a4f079a42db9c4083c1864fe895": {
      "model_module": "@jupyter-widgets/controls",
      "model_module_version": "1.5.0",
      "model_name": "DescriptionStyleModel",
      "state": {
       "description_width": ""
      }
     },
     "1fca1cdd1c0a41b180ef71145ad5167c": {
      "model_module": "@jupyter-widgets/base",
      "model_module_version": "1.2.0",
      "model_name": "LayoutModel",
      "state": {}
     },
     "203198d2f91141cd814886234f760630": {
      "model_module": "jupyter-leaflet",
      "model_module_version": "^0.13.2",
      "model_name": "LeafletAwesomeIconModel",
      "state": {
       "_model_module_version": "^0.13.2",
       "_view_module_version": "^0.13.2",
       "icon_color": "white",
       "marker_color": "orange",
       "name": "life-ring"
      }
     },
     "20385c500d2e4350b12156250d59bda0": {
      "model_module": "jupyter-leaflet",
      "model_module_version": "^0.13.2",
      "model_name": "LeafletMarkerModel",
      "state": {
       "_model_module_version": "^0.13.2",
       "_view_module_version": "^0.13.2",
       "draggable": false,
       "icon": "IPY_MODEL_0740626ae7c34645a0e0a4c10b80fe40",
       "location": [
        34.207,
        -76.949
       ],
       "options": [
        "alt",
        "draggable",
        "keyboard",
        "rise_offset",
        "rise_on_hover",
        "rotation_angle",
        "rotation_origin",
        "title",
        "z_index_offset"
       ],
       "popup": "IPY_MODEL_d0708c4c2aa14a6a838751e487eb6305"
      }
     },
     "206385ebd8114f10a67f0365ac5d63a9": {
      "model_module": "@jupyter-widgets/controls",
      "model_module_version": "1.5.0",
      "model_name": "DescriptionStyleModel",
      "state": {
       "description_width": ""
      }
     },
     "209727143abc4d82b3d59d185d5fe982": {
      "model_module": "jupyter-leaflet",
      "model_module_version": "^0.13.2",
      "model_name": "LeafletMarkerModel",
      "state": {
       "_model_module_version": "^0.13.2",
       "_view_module_version": "^0.13.2",
       "draggable": false,
       "icon": "IPY_MODEL_072c5d1076ea4f2f87a52a843d11c37d",
       "location": [
        59.234,
        -135.442
       ],
       "options": [
        "alt",
        "draggable",
        "keyboard",
        "rise_offset",
        "rise_on_hover",
        "rotation_angle",
        "rotation_origin",
        "title",
        "z_index_offset"
       ],
       "popup": "IPY_MODEL_530eaf06690341acad9b05716a351002"
      }
     },
     "209b7839513d4ed3ab2933217fa5d285": {
      "model_module": "jupyter-leaflet",
      "model_module_version": "^0.13.2",
      "model_name": "LeafletAwesomeIconModel",
      "state": {
       "_model_module_version": "^0.13.2",
       "_view_module_version": "^0.13.2",
       "icon_color": "white",
       "marker_color": "orange",
       "name": "life-ring"
      }
     },
     "20fd58b649ec4641ad6a4d890e7d1bf3": {
      "model_module": "@jupyter-widgets/base",
      "model_module_version": "1.2.0",
      "model_name": "LayoutModel",
      "state": {}
     },
     "214068f391bf441294c27b64563d1e3c": {
      "model_module": "jupyter-leaflet",
      "model_module_version": "^0.13.2",
      "model_name": "LeafletMarkerModel",
      "state": {
       "_model_module_version": "^0.13.2",
       "_view_module_version": "^0.13.2",
       "draggable": false,
       "icon": "IPY_MODEL_fe65f2271e9548a6af6da0e41e2fb777",
       "location": [
        13.684,
        144.812
       ],
       "options": [
        "alt",
        "draggable",
        "keyboard",
        "rise_offset",
        "rise_on_hover",
        "rotation_angle",
        "rotation_origin",
        "title",
        "z_index_offset"
       ],
       "popup": "IPY_MODEL_3f399ee978504224b93da986f467c0e8"
      }
     },
     "21496c8075954d04b68f8acccb1509b9": {
      "model_module": "@jupyter-widgets/base",
      "model_module_version": "1.2.0",
      "model_name": "LayoutModel",
      "state": {}
     },
     "2192c44970b14fa8846a0b8d603bc70d": {
      "model_module": "jupyter-leaflet",
      "model_module_version": "^0.13.2",
      "model_name": "LeafletMarkerModel",
      "state": {
       "_model_module_version": "^0.13.2",
       "_view_module_version": "^0.13.2",
       "draggable": false,
       "icon": "IPY_MODEL_ce2c8326cf1447d0ad1a8d1501bd36ff",
       "location": [
        41.755,
        -86.968
       ],
       "options": [
        "alt",
        "draggable",
        "keyboard",
        "rise_offset",
        "rise_on_hover",
        "rotation_angle",
        "rotation_origin",
        "title",
        "z_index_offset"
       ],
       "popup": "IPY_MODEL_1acb1b8b6cad46e9a83592adc25b5a73"
      }
     },
     "21b4aa5f202c4896af46c05297cd52b1": {
      "model_module": "@jupyter-widgets/controls",
      "model_module_version": "1.5.0",
      "model_name": "DescriptionStyleModel",
      "state": {
       "description_width": ""
      }
     },
     "21d3a93f8a0a47aa9b4521e9dc52918d": {
      "model_module": "@jupyter-widgets/controls",
      "model_module_version": "1.5.0",
      "model_name": "DescriptionStyleModel",
      "state": {
       "description_width": ""
      }
     },
     "22a2c49302ca4be38e22910ba035f33c": {
      "model_module": "@jupyter-widgets/controls",
      "model_module_version": "1.5.0",
      "model_name": "DescriptionStyleModel",
      "state": {
       "description_width": ""
      }
     },
     "231e3eb37ed042458baaff8c71d1be5e": {
      "model_module": "@jupyter-widgets/base",
      "model_module_version": "1.2.0",
      "model_name": "LayoutModel",
      "state": {}
     },
     "23a047c5009b459995d5b697a0575e79": {
      "model_module": "@jupyter-widgets/controls",
      "model_module_version": "1.5.0",
      "model_name": "DescriptionStyleModel",
      "state": {
       "description_width": ""
      }
     },
     "23da6233cfa84ecdaae28167a98f2bba": {
      "model_module": "@jupyter-widgets/controls",
      "model_module_version": "1.5.0",
      "model_name": "HTMLModel",
      "state": {
       "layout": "IPY_MODEL_03477970b88843be8dc77f6fd1f08649",
       "style": "IPY_MODEL_c93bb6062d074d04813e983a7a485d6a",
       "value": "<table border=\"1\" class=\"dataframe table table-striped table-hover table-condensed table-responsive\">\n  <thead>\n    <tr style=\"text-align: right;\">\n      <th></th>\n      <th>port2</th>\n    </tr>\n  </thead>\n  <tbody>\n    <tr>\n      <th>met</th>\n      <td>183218</td>\n    </tr>\n    <tr>\n      <th>wave</th>\n      <td>0</td>\n    </tr>\n    <tr>\n      <th>type</th>\n      <td>fixed</td>\n    </tr>\n    <tr>\n      <th>name</th>\n      <td>8770475 - Port Arthur, TX</td>\n    </tr>\n    <tr>\n      <th>pgm</th>\n      <td>IOOS Partners</td>\n    </tr>\n  </tbody>\n</table>"
      }
     },
     "2417d6f7c4cb4423a6ebd4f24d2e6f83": {
      "model_module": "@jupyter-widgets/controls",
      "model_module_version": "1.5.0",
      "model_name": "HTMLModel",
      "state": {
       "layout": "IPY_MODEL_a38ffca024664097b00789510b71209a",
       "style": "IPY_MODEL_557e49a944334fa1959b009926c4a052",
       "value": "<table border=\"1\" class=\"dataframe table table-striped table-hover table-condensed table-responsive\">\n  <thead>\n    <tr style=\"text-align: right;\">\n      <th></th>\n      <th>erxa2</th>\n    </tr>\n  </thead>\n  <tbody>\n    <tr>\n      <th>met</th>\n      <td>86778</td>\n    </tr>\n    <tr>\n      <th>wave</th>\n      <td>0</td>\n    </tr>\n    <tr>\n      <th>type</th>\n      <td>fixed</td>\n    </tr>\n    <tr>\n      <th>name</th>\n      <td>Eldred Rock MXAK, AK</td>\n    </tr>\n    <tr>\n      <th>pgm</th>\n      <td>IOOS Partners</td>\n    </tr>\n  </tbody>\n</table>"
      }
     },
     "249c603133404284ac83d182e2e2b7af": {
      "model_module": "@jupyter-widgets/controls",
      "model_module_version": "1.5.0",
      "model_name": "DescriptionStyleModel",
      "state": {
       "description_width": ""
      }
     },
     "24ab27d41dbb4b3ea7dcd2ab77041190": {
      "model_module": "@jupyter-widgets/controls",
      "model_module_version": "1.5.0",
      "model_name": "DescriptionStyleModel",
      "state": {
       "description_width": ""
      }
     },
     "24bb2f066d4a410abadd67847fc6c327": {
      "model_module": "jupyter-leaflet",
      "model_module_version": "^0.13.2",
      "model_name": "LeafletAwesomeIconModel",
      "state": {
       "_model_module_version": "^0.13.2",
       "_view_module_version": "^0.13.2",
       "icon_color": "white",
       "marker_color": "green",
       "name": "life-ring"
      }
     },
     "24df1361fcb34f6f9d2659456389d1d8": {
      "model_module": "@jupyter-widgets/base",
      "model_module_version": "1.2.0",
      "model_name": "LayoutModel",
      "state": {}
     },
     "24f5e065b8d848da86b272a6f17c3eed": {
      "model_module": "@jupyter-widgets/controls",
      "model_module_version": "1.5.0",
      "model_name": "HTMLModel",
      "state": {
       "layout": "IPY_MODEL_5c5e8b8b1a454dd598d6a08badb45a19",
       "style": "IPY_MODEL_da267e272c8745ec8fecf3fc6cc1d93f",
       "value": "<table border=\"1\" class=\"dataframe table table-striped table-hover table-condensed table-responsive\">\n  <thead>\n    <tr style=\"text-align: right;\">\n      <th></th>\n      <th>44022</th>\n    </tr>\n  </thead>\n  <tbody>\n    <tr>\n      <th>met</th>\n      <td>55956</td>\n    </tr>\n    <tr>\n      <th>wave</th>\n      <td>0</td>\n    </tr>\n    <tr>\n      <th>type</th>\n      <td>buoy</td>\n    </tr>\n    <tr>\n      <th>name</th>\n      <td>Execution Rocks</td>\n    </tr>\n    <tr>\n      <th>pgm</th>\n      <td>IOOS Partners</td>\n    </tr>\n  </tbody>\n</table>"
      }
     },
     "25465c87a19f48a19be8f90d1c9ced5d": {
      "model_module": "@jupyter-widgets/controls",
      "model_module_version": "1.5.0",
      "model_name": "HTMLModel",
      "state": {
       "layout": "IPY_MODEL_d2cbaf9218d54ee8b5b8b2abfdb50768",
       "style": "IPY_MODEL_2a88378758ea4f08b487d18e3cf154d0",
       "value": "<table border=\"1\" class=\"dataframe table table-striped table-hover table-condensed table-responsive\">\n  <thead>\n    <tr style=\"text-align: right;\">\n      <th></th>\n      <th>guxa2</th>\n    </tr>\n  </thead>\n  <tbody>\n    <tr>\n      <th>met</th>\n      <td>110614</td>\n    </tr>\n    <tr>\n      <th>wave</th>\n      <td>0</td>\n    </tr>\n    <tr>\n      <th>type</th>\n      <td>fixed</td>\n    </tr>\n    <tr>\n      <th>name</th>\n      <td>Gustavus Dock, AK</td>\n    </tr>\n    <tr>\n      <th>pgm</th>\n      <td>IOOS Partners</td>\n    </tr>\n  </tbody>\n</table>"
      }
     },
     "25a14ed6e54c40d6bcc9bd3c5226a1a1": {
      "model_module": "@jupyter-widgets/controls",
      "model_module_version": "1.5.0",
      "model_name": "DescriptionStyleModel",
      "state": {
       "description_width": ""
      }
     },
     "25c29866409345f49117ae29fab5f22b": {
      "model_module": "@jupyter-widgets/controls",
      "model_module_version": "1.5.0",
      "model_name": "DescriptionStyleModel",
      "state": {
       "description_width": ""
      }
     },
     "25ca17fe5d6546388712c212bfdd038a": {
      "model_module": "jupyter-leaflet",
      "model_module_version": "^0.13.2",
      "model_name": "LeafletAwesomeIconModel",
      "state": {
       "_model_module_version": "^0.13.2",
       "_view_module_version": "^0.13.2",
       "icon_color": "white",
       "marker_color": "orange",
       "name": "life-ring"
      }
     },
     "2604e8c52b73404d8e670f845371bb84": {
      "model_module": "@jupyter-widgets/controls",
      "model_module_version": "1.5.0",
      "model_name": "DescriptionStyleModel",
      "state": {
       "description_width": ""
      }
     },
     "2672b6ae4005416e9492e22907c6818f": {
      "model_module": "@jupyter-widgets/controls",
      "model_module_version": "1.5.0",
      "model_name": "HTMLModel",
      "state": {
       "layout": "IPY_MODEL_c851b29b27f0409daa022f918ca412ce",
       "style": "IPY_MODEL_e84851ba3cff411f913abc5709201b6b",
       "value": "<table border=\"1\" class=\"dataframe table table-striped table-hover table-condensed table-responsive\">\n  <thead>\n    <tr style=\"text-align: right;\">\n      <th></th>\n      <th>tkea2</th>\n    </tr>\n  </thead>\n  <tbody>\n    <tr>\n      <th>met</th>\n      <td>110306</td>\n    </tr>\n    <tr>\n      <th>wave</th>\n      <td>0</td>\n    </tr>\n    <tr>\n      <th>type</th>\n      <td>fixed</td>\n    </tr>\n    <tr>\n      <th>name</th>\n      <td>Tenakee Springs, AK</td>\n    </tr>\n    <tr>\n      <th>pgm</th>\n      <td>IOOS Partners</td>\n    </tr>\n  </tbody>\n</table>"
      }
     },
     "26cb192363cf489f9361f02f0c100b53": {
      "model_module": "@jupyter-widgets/base",
      "model_module_version": "1.2.0",
      "model_name": "LayoutModel",
      "state": {}
     },
     "26dd3cf82b644502b71ee78761b4afc9": {
      "model_module": "jupyter-leaflet",
      "model_module_version": "^0.13.2",
      "model_name": "LeafletMarkerModel",
      "state": {
       "_model_module_version": "^0.13.2",
       "_view_module_version": "^0.13.2",
       "draggable": false,
       "icon": "IPY_MODEL_be60145c92be4fd68250d1492467931e",
       "location": [
        27.48,
        -97.322
       ],
       "options": [
        "alt",
        "draggable",
        "keyboard",
        "rise_offset",
        "rise_on_hover",
        "rotation_angle",
        "rotation_origin",
        "title",
        "z_index_offset"
       ],
       "popup": "IPY_MODEL_fd193ff28d18465d9c61968cf8540964"
      }
     },
     "27229e7f2e9b4441a59a306ba7590131": {
      "model_module": "jupyter-leaflet",
      "model_module_version": "^0.13.2",
      "model_name": "LeafletMarkerModel",
      "state": {
       "_model_module_version": "^0.13.2",
       "_view_module_version": "^0.13.2",
       "draggable": false,
       "icon": "IPY_MODEL_44ae506d523049709efe299b8e4fd0c2",
       "location": [
        58.159,
        -134.178
       ],
       "options": [
        "alt",
        "draggable",
        "keyboard",
        "rise_offset",
        "rise_on_hover",
        "rotation_angle",
        "rotation_origin",
        "title",
        "z_index_offset"
       ],
       "popup": "IPY_MODEL_3a25aefbc10d46488cf2b62469d6ef20"
      }
     },
     "275dd127cc06426e9677c7a35a3cfa25": {
      "model_module": "jupyter-leaflet",
      "model_module_version": "^0.13.2",
      "model_name": "LeafletMarkerModel",
      "state": {
       "_model_module_version": "^0.13.2",
       "_view_module_version": "^0.13.2",
       "draggable": false,
       "icon": "IPY_MODEL_bbd51ab513c949b5877ed018aa68aa0e",
       "location": [
        41.732,
        -81.694
       ],
       "options": [
        "alt",
        "draggable",
        "keyboard",
        "rise_offset",
        "rise_on_hover",
        "rotation_angle",
        "rotation_origin",
        "title",
        "z_index_offset"
       ],
       "popup": "IPY_MODEL_5ad35a348a2d49e3b15818703d19128b"
      }
     },
     "27a36503c12d4344b4344ca5af5ff7c9": {
      "model_module": "@jupyter-widgets/controls",
      "model_module_version": "1.5.0",
      "model_name": "HTMLModel",
      "state": {
       "layout": "IPY_MODEL_9f58e9af6c3943529cae42223ba76b4d",
       "style": "IPY_MODEL_13bc4f2aa6754e4ea6f3c6ccf9913c78",
       "value": "<table border=\"1\" class=\"dataframe table table-striped table-hover table-condensed table-responsive\">\n  <thead>\n    <tr style=\"text-align: right;\">\n      <th></th>\n      <th>44034</th>\n    </tr>\n  </thead>\n  <tbody>\n    <tr>\n      <th>met</th>\n      <td>18688</td>\n    </tr>\n    <tr>\n      <th>wave</th>\n      <td>12208</td>\n    </tr>\n    <tr>\n      <th>type</th>\n      <td>buoy</td>\n    </tr>\n    <tr>\n      <th>name</th>\n      <td>Buoy I01 - Eastern Maine Shelf</td>\n    </tr>\n    <tr>\n      <th>pgm</th>\n      <td>IOOS Partners</td>\n    </tr>\n  </tbody>\n</table>"
      }
     },
     "28a703649a0749a3b5ecf30e54bdd673": {
      "model_module": "@jupyter-widgets/base",
      "model_module_version": "1.2.0",
      "model_name": "LayoutModel",
      "state": {}
     },
     "28c0e8d9951a469692351e7cb48ec961": {
      "model_module": "jupyter-leaflet",
      "model_module_version": "^0.13.2",
      "model_name": "LeafletAwesomeIconModel",
      "state": {
       "_model_module_version": "^0.13.2",
       "_view_module_version": "^0.13.2",
       "icon_color": "white",
       "marker_color": "orange",
       "name": "life-ring"
      }
     },
     "296634905a3947d5a46662ebe932e6e7": {
      "model_module": "@jupyter-widgets/base",
      "model_module_version": "1.2.0",
      "model_name": "LayoutModel",
      "state": {}
     },
     "2a43960cd7b14b2f89bc280a9f3399b5": {
      "model_module": "@jupyter-widgets/controls",
      "model_module_version": "1.5.0",
      "model_name": "HTMLModel",
      "state": {
       "layout": "IPY_MODEL_4d3a940e8d294392baaca712831afca8",
       "style": "IPY_MODEL_e9d7c1e5cac345c9b86bac23ec797bf8",
       "value": "<table border=\"1\" class=\"dataframe table table-striped table-hover table-condensed table-responsive\">\n  <thead>\n    <tr style=\"text-align: right;\">\n      <th></th>\n      <th>nuet2</th>\n    </tr>\n  </thead>\n  <tbody>\n    <tr>\n      <th>met</th>\n      <td>182026</td>\n    </tr>\n    <tr>\n      <th>wave</th>\n      <td>0</td>\n    </tr>\n    <tr>\n      <th>type</th>\n      <td>fixed</td>\n    </tr>\n    <tr>\n      <th>name</th>\n      <td>8775244 - Nueces Bay, TX</td>\n    </tr>\n    <tr>\n      <th>pgm</th>\n      <td>IOOS Partners</td>\n    </tr>\n  </tbody>\n</table>"
      }
     },
     "2a88378758ea4f08b487d18e3cf154d0": {
      "model_module": "@jupyter-widgets/controls",
      "model_module_version": "1.5.0",
      "model_name": "DescriptionStyleModel",
      "state": {
       "description_width": ""
      }
     },
     "2a9e076c69264a25bf4b8562b6110ce9": {
      "model_module": "@jupyter-widgets/controls",
      "model_module_version": "1.5.0",
      "model_name": "HTMLModel",
      "state": {
       "layout": "IPY_MODEL_7578cf704cb94a8b9328180c9bfd65b0",
       "style": "IPY_MODEL_31b5ae7d04d34d07aa088e8e6931ec4a",
       "value": "<table border=\"1\" class=\"dataframe table table-striped table-hover table-condensed table-responsive\">\n  <thead>\n    <tr style=\"text-align: right;\">\n      <th></th>\n      <th>icya2</th>\n    </tr>\n  </thead>\n  <tbody>\n    <tr>\n      <th>met</th>\n      <td>100146</td>\n    </tr>\n    <tr>\n      <th>wave</th>\n      <td>0</td>\n    </tr>\n    <tr>\n      <th>type</th>\n      <td>fixed</td>\n    </tr>\n    <tr>\n      <th>name</th>\n      <td>Icy Bay, AK</td>\n    </tr>\n    <tr>\n      <th>pgm</th>\n      <td>IOOS Partners</td>\n    </tr>\n  </tbody>\n</table>"
      }
     },
     "2ab884810e0a40edaa6601f690d085ca": {
      "model_module": "jupyter-leaflet",
      "model_module_version": "^0.13.2",
      "model_name": "LeafletAwesomeIconModel",
      "state": {
       "_model_module_version": "^0.13.2",
       "_view_module_version": "^0.13.2",
       "icon_color": "white",
       "marker_color": "orange",
       "name": "life-ring"
      }
     },
     "2af2bdda46a046f0bc87a613f1115bd5": {
      "model_module": "@jupyter-widgets/controls",
      "model_module_version": "1.5.0",
      "model_name": "DescriptionStyleModel",
      "state": {
       "description_width": ""
      }
     },
     "2b39b6984d0544c2a3d6ff136eb2cbd6": {
      "model_module": "@jupyter-widgets/base",
      "model_module_version": "1.2.0",
      "model_name": "LayoutModel",
      "state": {}
     },
     "2b3e234f4b0d42b8a0ee58b28fdb50b6": {
      "model_module": "@jupyter-widgets/controls",
      "model_module_version": "1.5.0",
      "model_name": "DescriptionStyleModel",
      "state": {
       "description_width": ""
      }
     },
     "2b746c6231b24ad9b26cfe62f64a8199": {
      "model_module": "jupyter-leaflet",
      "model_module_version": "^0.13.2",
      "model_name": "LeafletAwesomeIconModel",
      "state": {
       "_model_module_version": "^0.13.2",
       "_view_module_version": "^0.13.2",
       "icon_color": "white",
       "marker_color": "orange",
       "name": "life-ring"
      }
     },
     "2c08f0c04e73475fa6bfa09bbdb0fe60": {
      "model_module": "@jupyter-widgets/controls",
      "model_module_version": "1.5.0",
      "model_name": "DescriptionStyleModel",
      "state": {
       "description_width": ""
      }
     },
     "2c6e081f946e4c99b990385eae17677b": {
      "model_module": "jupyter-leaflet",
      "model_module_version": "^0.13.2",
      "model_name": "LeafletMarkerModel",
      "state": {
       "_model_module_version": "^0.13.2",
       "_view_module_version": "^0.13.2",
       "draggable": false,
       "icon": "IPY_MODEL_cecb6cc954f342228533f5970d345c8b",
       "location": [
        27.59,
        -82.931
       ],
       "options": [
        "alt",
        "draggable",
        "keyboard",
        "rise_offset",
        "rise_on_hover",
        "rotation_angle",
        "rotation_origin",
        "title",
        "z_index_offset"
       ],
       "popup": "IPY_MODEL_ae90e0ae6cec452692728eee5f8d79be"
      }
     },
     "2c9a541e81574b8ea820c0a7db6f7586": {
      "model_module": "@jupyter-widgets/controls",
      "model_module_version": "1.5.0",
      "model_name": "HTMLModel",
      "state": {
       "layout": "IPY_MODEL_efd52a41e70c4dcd95110c8c6f89a470",
       "style": "IPY_MODEL_5ee3f84aaf0e42cbb99029460ae838df",
       "value": "<table border=\"1\" class=\"dataframe table table-striped table-hover table-condensed table-responsive\">\n  <thead>\n    <tr style=\"text-align: right;\">\n      <th></th>\n      <th>luit2</th>\n    </tr>\n  </thead>\n  <tbody>\n    <tr>\n      <th>met</th>\n      <td>175672</td>\n    </tr>\n    <tr>\n      <th>wave</th>\n      <td>0</td>\n    </tr>\n    <tr>\n      <th>type</th>\n      <td>fixed</td>\n    </tr>\n    <tr>\n      <th>name</th>\n      <td>8771972 - San Luis Pass, TX</td>\n    </tr>\n    <tr>\n      <th>pgm</th>\n      <td>IOOS Partners</td>\n    </tr>\n  </tbody>\n</table>"
      }
     },
     "2cde4a29107b4a659a802e077c7ef7c4": {
      "model_module": "@jupyter-widgets/base",
      "model_module_version": "1.2.0",
      "model_name": "LayoutModel",
      "state": {}
     },
     "2ddf4601fd30437194d49ff51a79f741": {
      "model_module": "jupyter-leaflet",
      "model_module_version": "^0.13.2",
      "model_name": "LeafletMarkerModel",
      "state": {
       "_model_module_version": "^0.13.2",
       "_view_module_version": "^0.13.2",
       "draggable": false,
       "icon": "IPY_MODEL_f8c1606c01054acfba306da922ed6a3a",
       "location": [
        58.971,
        -135.221
       ],
       "options": [
        "alt",
        "draggable",
        "keyboard",
        "rise_offset",
        "rise_on_hover",
        "rotation_angle",
        "rotation_origin",
        "title",
        "z_index_offset"
       ],
       "popup": "IPY_MODEL_2417d6f7c4cb4423a6ebd4f24d2e6f83"
      }
     },
     "2de560557f024e6d8dc5234a76f181c4": {
      "model_module": "jupyter-leaflet",
      "model_module_version": "^0.13.2",
      "model_name": "LeafletAwesomeIconModel",
      "state": {
       "_model_module_version": "^0.13.2",
       "_view_module_version": "^0.13.2",
       "icon_color": "white",
       "marker_color": "green",
       "name": "life-ring"
      }
     },
     "2e7ae29a2d7b44318d3a5e0428d2f729": {
      "model_module": "@jupyter-widgets/controls",
      "model_module_version": "1.5.0",
      "model_name": "DescriptionStyleModel",
      "state": {
       "description_width": ""
      }
     },
     "2e937c5785c040858c70b4aa5eb127cb": {
      "model_module": "@jupyter-widgets/controls",
      "model_module_version": "1.5.0",
      "model_name": "HTMLModel",
      "state": {
       "layout": "IPY_MODEL_953ecb955324438890e111f00d03a976",
       "style": "IPY_MODEL_03cf23bd82c74bac9bea5ef0e97e1512",
       "value": "<table border=\"1\" class=\"dataframe table table-striped table-hover table-condensed table-responsive\">\n  <thead>\n    <tr style=\"text-align: right;\">\n      <th></th>\n      <th>ptrp4</th>\n    </tr>\n  </thead>\n  <tbody>\n    <tr>\n      <th>met</th>\n      <td>224304</td>\n    </tr>\n    <tr>\n      <th>wave</th>\n      <td>0</td>\n    </tr>\n    <tr>\n      <th>type</th>\n      <td>fixed</td>\n    </tr>\n    <tr>\n      <th>name</th>\n      <td>Puntas Rincon, PR</td>\n    </tr>\n    <tr>\n      <th>pgm</th>\n      <td>IOOS Partners</td>\n    </tr>\n  </tbody>\n</table>"
      }
     },
     "2e9ac4af8a694f5a97cc7fb936c0a638": {
      "model_module": "@jupyter-widgets/base",
      "model_module_version": "1.2.0",
      "model_name": "LayoutModel",
      "state": {}
     },
     "2f3509a917c64d9ebc7f6af928d755d7": {
      "model_module": "jupyter-leaflet",
      "model_module_version": "^0.13.2",
      "model_name": "LeafletMarkerModel",
      "state": {
       "_model_module_version": "^0.13.2",
       "_view_module_version": "^0.13.2",
       "draggable": false,
       "icon": "IPY_MODEL_8a57d5b0375e463e93ca2af69009d084",
       "location": [
        29.726,
        -95.266
       ],
       "options": [
        "alt",
        "draggable",
        "keyboard",
        "rise_offset",
        "rise_on_hover",
        "rotation_angle",
        "rotation_origin",
        "title",
        "z_index_offset"
       ],
       "popup": "IPY_MODEL_cbb99e30d72b494a8cfe3d7487f7e678"
      }
     },
     "2f5992be92934fa1bfba95f55a863366": {
      "model_module": "@jupyter-widgets/controls",
      "model_module_version": "1.5.0",
      "model_name": "HTMLModel",
      "state": {
       "layout": "IPY_MODEL_6c389873389c4454b5afc22812657c46",
       "style": "IPY_MODEL_cc0367d4b9964bc0a04eba63cfdfcaf0",
       "value": "<table border=\"1\" class=\"dataframe table table-striped table-hover table-condensed table-responsive\">\n  <thead>\n    <tr style=\"text-align: right;\">\n      <th></th>\n      <th>41052</th>\n    </tr>\n  </thead>\n  <tbody>\n    <tr>\n      <th>met</th>\n      <td>59484</td>\n    </tr>\n    <tr>\n      <th>wave</th>\n      <td>13686</td>\n    </tr>\n    <tr>\n      <th>type</th>\n      <td>buoy</td>\n    </tr>\n    <tr>\n      <th>name</th>\n      <td>South of St. John, VI</td>\n    </tr>\n    <tr>\n      <th>pgm</th>\n      <td>IOOS Partners</td>\n    </tr>\n  </tbody>\n</table>"
      }
     },
     "2f8a18e81b05401fb51ce0a68f2910e4": {
      "model_module": "@jupyter-widgets/controls",
      "model_module_version": "1.5.0",
      "model_name": "DescriptionStyleModel",
      "state": {
       "description_width": ""
      }
     },
     "2fef8bfa7d394c0f830bfd920fcf60fe": {
      "model_module": "@jupyter-widgets/controls",
      "model_module_version": "1.5.0",
      "model_name": "HTMLModel",
      "state": {
       "layout": "IPY_MODEL_820c8b2440084eaf937a3f54b99722a4",
       "style": "IPY_MODEL_0528de834c094d1bab7e7243618c3537",
       "value": "<table border=\"1\" class=\"dataframe table table-striped table-hover table-condensed table-responsive\">\n  <thead>\n    <tr style=\"text-align: right;\">\n      <th></th>\n      <th>45169</th>\n    </tr>\n  </thead>\n  <tbody>\n    <tr>\n      <th>met</th>\n      <td>28452</td>\n    </tr>\n    <tr>\n      <th>wave</th>\n      <td>28452</td>\n    </tr>\n    <tr>\n      <th>type</th>\n      <td>buoy</td>\n    </tr>\n    <tr>\n      <th>name</th>\n      <td>Lakewood Buoy, OH</td>\n    </tr>\n    <tr>\n      <th>pgm</th>\n      <td>IOOS Partners</td>\n    </tr>\n  </tbody>\n</table>"
      }
     },
     "30029a21cdf94305a1b557639bcf7370": {
      "model_module": "jupyter-leaflet",
      "model_module_version": "^0.13.2",
      "model_name": "LeafletAwesomeIconModel",
      "state": {
       "_model_module_version": "^0.13.2",
       "_view_module_version": "^0.13.2",
       "icon_color": "white",
       "marker_color": "red",
       "name": "life-ring"
      }
     },
     "30a9c4fea0ea414889056f74048a3824": {
      "model_module": "jupyter-leaflet",
      "model_module_version": "^0.13.2",
      "model_name": "LeafletMarkerModel",
      "state": {
       "_model_module_version": "^0.13.2",
       "_view_module_version": "^0.13.2",
       "draggable": false,
       "icon": "IPY_MODEL_1164c35e9a624722b5f7a456297cf73e",
       "location": [
        32.279,
        -80.406
       ],
       "options": [
        "alt",
        "draggable",
        "keyboard",
        "rise_offset",
        "rise_on_hover",
        "rotation_angle",
        "rotation_origin",
        "title",
        "z_index_offset"
       ],
       "popup": "IPY_MODEL_4765806e1012451da625f60018d15e43"
      }
     },
     "30b07c33676e47919a36a740680df027": {
      "model_module": "jupyter-leaflet",
      "model_module_version": "^0.13.2",
      "model_name": "LeafletMarkerModel",
      "state": {
       "_model_module_version": "^0.13.2",
       "_view_module_version": "^0.13.2",
       "draggable": false,
       "icon": "IPY_MODEL_880de304708a476f9fce5587a3058a85",
       "location": [
        52.972,
        -168.855
       ],
       "options": [
        "alt",
        "draggable",
        "keyboard",
        "rise_offset",
        "rise_on_hover",
        "rotation_angle",
        "rotation_origin",
        "title",
        "z_index_offset"
       ],
       "popup": "IPY_MODEL_9e41c41bba09449baf1872221ddb7ca4"
      }
     },
     "30b63e481f8f42aa8ef2e5ed9ad840e2": {
      "model_module": "@jupyter-widgets/controls",
      "model_module_version": "1.5.0",
      "model_name": "HTMLModel",
      "state": {
       "layout": "IPY_MODEL_a90a6d295b6646a8b537e75e4e746a7c",
       "style": "IPY_MODEL_907f8bfc200a4b4596dffd1bcf56a9ed",
       "value": "<table border=\"1\" class=\"dataframe table table-striped table-hover table-condensed table-responsive\">\n  <thead>\n    <tr style=\"text-align: right;\">\n      <th></th>\n      <th>clbf1</th>\n    </tr>\n  </thead>\n  <tbody>\n    <tr>\n      <th>met</th>\n      <td>187940</td>\n    </tr>\n    <tr>\n      <th>wave</th>\n      <td>0</td>\n    </tr>\n    <tr>\n      <th>type</th>\n      <td>fixed</td>\n    </tr>\n    <tr>\n      <th>name</th>\n      <td>Clam Bayou, FL</td>\n    </tr>\n    <tr>\n      <th>pgm</th>\n      <td>IOOS Partners</td>\n    </tr>\n  </tbody>\n</table>"
      }
     },
     "31483d3b27804960a691c3ddef67ef1a": {
      "model_module": "jupyter-leaflet",
      "model_module_version": "^0.13.2",
      "model_name": "LeafletMarkerModel",
      "state": {
       "_model_module_version": "^0.13.2",
       "_view_module_version": "^0.13.2",
       "draggable": false,
       "icon": "IPY_MODEL_85f1ba59dd4e478293a3f2aace5677be",
       "location": [
        46.86,
        -91.93
       ],
       "options": [
        "alt",
        "draggable",
        "keyboard",
        "rise_offset",
        "rise_on_hover",
        "rotation_angle",
        "rotation_origin",
        "title",
        "z_index_offset"
       ],
       "popup": "IPY_MODEL_893d756b343744ceb069af2f382adab4"
      }
     },
     "31b5ae7d04d34d07aa088e8e6931ec4a": {
      "model_module": "@jupyter-widgets/controls",
      "model_module_version": "1.5.0",
      "model_name": "DescriptionStyleModel",
      "state": {
       "description_width": ""
      }
     },
     "31c2cd73d344484b8864154baebde41b": {
      "model_module": "@jupyter-widgets/controls",
      "model_module_version": "1.5.0",
      "model_name": "HTMLModel",
      "state": {
       "layout": "IPY_MODEL_aca84a4de6c140ea8a670f32c610a385",
       "style": "IPY_MODEL_4d48646d96824d3cb244b8f10b43c223",
       "value": "<table border=\"1\" class=\"dataframe table table-striped table-hover table-condensed table-responsive\">\n  <thead>\n    <tr style=\"text-align: right;\">\n      <th></th>\n      <th>oksi2</th>\n    </tr>\n  </thead>\n  <tbody>\n    <tr>\n      <th>met</th>\n      <td>5610</td>\n    </tr>\n    <tr>\n      <th>wave</th>\n      <td>0</td>\n    </tr>\n    <tr>\n      <th>type</th>\n      <td>fixed</td>\n    </tr>\n    <tr>\n      <th>name</th>\n      <td>Oak St., Chicago, IL</td>\n    </tr>\n    <tr>\n      <th>pgm</th>\n      <td>IOOS Partners</td>\n    </tr>\n  </tbody>\n</table>"
      }
     },
     "32277911e2f542028d0543dacac7516d": {
      "model_module": "@jupyter-widgets/base",
      "model_module_version": "1.2.0",
      "model_name": "LayoutModel",
      "state": {}
     },
     "323c27e02fcb4106839a4ecb07b2e226": {
      "model_module": "@jupyter-widgets/controls",
      "model_module_version": "1.5.0",
      "model_name": "HTMLModel",
      "state": {
       "layout": "IPY_MODEL_af6a3833669f49d383da38c0afd616e5",
       "style": "IPY_MODEL_5cab5bb4d537481999b0a96902d125c3",
       "value": "<table border=\"1\" class=\"dataframe table table-striped table-hover table-condensed table-responsive\">\n  <thead>\n    <tr style=\"text-align: right;\">\n      <th></th>\n      <th>45025</th>\n    </tr>\n  </thead>\n  <tbody>\n    <tr>\n      <th>met</th>\n      <td>43750</td>\n    </tr>\n    <tr>\n      <th>wave</th>\n      <td>43742</td>\n    </tr>\n    <tr>\n      <th>type</th>\n      <td>buoy</td>\n    </tr>\n    <tr>\n      <th>name</th>\n      <td>South Entry Buoy, South Keweenaw Peninsula, MI</td>\n    </tr>\n    <tr>\n      <th>pgm</th>\n      <td>IOOS Partners</td>\n    </tr>\n  </tbody>\n</table>"
      }
     },
     "32505bd1ca394a498b995ccc5090b939": {
      "model_module": "@jupyter-widgets/controls",
      "model_module_version": "1.5.0",
      "model_name": "HTMLModel",
      "state": {
       "layout": "IPY_MODEL_41b9bab7843649b399f2f825b04790e1",
       "style": "IPY_MODEL_6a9b53d0604f405fb75403f09b0aec9d",
       "value": "<table border=\"1\" class=\"dataframe table table-striped table-hover table-condensed table-responsive\">\n  <thead>\n    <tr style=\"text-align: right;\">\n      <th></th>\n      <th>46092</th>\n    </tr>\n  </thead>\n  <tbody>\n    <tr>\n      <th>met</th>\n      <td>16644</td>\n    </tr>\n    <tr>\n      <th>wave</th>\n      <td>0</td>\n    </tr>\n    <tr>\n      <th>type</th>\n      <td>buoy</td>\n    </tr>\n    <tr>\n      <th>name</th>\n      <td>MBM1</td>\n    </tr>\n    <tr>\n      <th>pgm</th>\n      <td>IOOS Partners</td>\n    </tr>\n  </tbody>\n</table>"
      }
     },
     "32d88af65ad04ba2ab894c9d0815dc7d": {
      "model_module": "@jupyter-widgets/base",
      "model_module_version": "1.2.0",
      "model_name": "LayoutModel",
      "state": {}
     },
     "32d9f07a58544bca95e8d2ff80bf1ca6": {
      "model_module": "@jupyter-widgets/base",
      "model_module_version": "1.2.0",
      "model_name": "LayoutModel",
      "state": {}
     },
     "33a8ca7958124ec493aa014ad5fd356f": {
      "model_module": "jupyter-leaflet",
      "model_module_version": "^0.13.2",
      "model_name": "LeafletAwesomeIconModel",
      "state": {
       "_model_module_version": "^0.13.2",
       "_view_module_version": "^0.13.2",
       "icon_color": "white",
       "marker_color": "red",
       "name": "life-ring"
      }
     },
     "33d32168e23b40d994c18c1a1aacdb8e": {
      "model_module": "@jupyter-widgets/controls",
      "model_module_version": "1.5.0",
      "model_name": "HTMLModel",
      "state": {
       "layout": "IPY_MODEL_9bbbe459061e40a1b9ce15b7a6a25d7c",
       "style": "IPY_MODEL_f432291cd3b544b4a1a740e8a6b69059",
       "value": "<table border=\"1\" class=\"dataframe table table-striped table-hover table-condensed table-responsive\">\n  <thead>\n    <tr style=\"text-align: right;\">\n      <th></th>\n      <th>jlxa2</th>\n    </tr>\n  </thead>\n  <tbody>\n    <tr>\n      <th>met</th>\n      <td>110924</td>\n    </tr>\n    <tr>\n      <th>wave</th>\n      <td>0</td>\n    </tr>\n    <tr>\n      <th>type</th>\n      <td>fixed</td>\n    </tr>\n    <tr>\n      <th>name</th>\n      <td>Juneau Library, AK</td>\n    </tr>\n    <tr>\n      <th>pgm</th>\n      <td>IOOS Partners</td>\n    </tr>\n  </tbody>\n</table>"
      }
     },
     "33e8af73bb7c4f3f9582333ecf0a4fa1": {
      "model_module": "@jupyter-widgets/controls",
      "model_module_version": "1.5.0",
      "model_name": "HTMLModel",
      "state": {
       "layout": "IPY_MODEL_d6dba0a42f7e4b3ebc036ed01b12d336",
       "style": "IPY_MODEL_63cbcf757c8d4a9c87bdc218b8574dd0",
       "value": "<table border=\"1\" class=\"dataframe table table-striped table-hover table-condensed table-responsive\">\n  <thead>\n    <tr style=\"text-align: right;\">\n      <th></th>\n      <th>pcgt2</th>\n    </tr>\n  </thead>\n  <tbody>\n    <tr>\n      <th>met</th>\n      <td>183884</td>\n    </tr>\n    <tr>\n      <th>wave</th>\n      <td>0</td>\n    </tr>\n    <tr>\n      <th>type</th>\n      <td>fixed</td>\n    </tr>\n    <tr>\n      <th>name</th>\n      <td>8779748 - South Padre Island CGS, TX</td>\n    </tr>\n    <tr>\n      <th>pgm</th>\n      <td>IOOS Partners</td>\n    </tr>\n  </tbody>\n</table>"
      }
     },
     "344cc32319e1469b9e6e97896b04ccc7": {
      "model_module": "jupyter-leaflet",
      "model_module_version": "^0.13.2",
      "model_name": "LeafletMarkerModel",
      "state": {
       "_model_module_version": "^0.13.2",
       "_view_module_version": "^0.13.2",
       "draggable": false,
       "icon": "IPY_MODEL_7dd5c4e892524ee59535f84273237ba7",
       "location": [
        18.48,
        -66.702
       ],
       "options": [
        "alt",
        "draggable",
        "keyboard",
        "rise_offset",
        "rise_on_hover",
        "rotation_angle",
        "rotation_origin",
        "title",
        "z_index_offset"
       ],
       "popup": "IPY_MODEL_f7d59fe8d3d046d89f19e3bb655c68d8"
      }
     },
     "344ccb9bf8b049cfa4d50aa8e8167c38": {
      "model_module": "jupyter-leaflet",
      "model_module_version": "^0.13.2",
      "model_name": "LeafletAwesomeIconModel",
      "state": {
       "_model_module_version": "^0.13.2",
       "_view_module_version": "^0.13.2",
       "icon_color": "white",
       "marker_color": "red",
       "name": "life-ring"
      }
     },
     "346411d6630c49d79c52e49ae54c4327": {
      "model_module": "@jupyter-widgets/controls",
      "model_module_version": "1.5.0",
      "model_name": "HTMLModel",
      "state": {
       "layout": "IPY_MODEL_e3a022b4fb494e8fbb22d6dcfd49d9c1",
       "style": "IPY_MODEL_ac5641b069374b3584980bf51f001d06",
       "value": "<table border=\"1\" class=\"dataframe table table-striped table-hover table-condensed table-responsive\">\n  <thead>\n    <tr style=\"text-align: right;\">\n      <th></th>\n      <th>emat2</th>\n    </tr>\n  </thead>\n  <tbody>\n    <tr>\n      <th>met</th>\n      <td>183650</td>\n    </tr>\n    <tr>\n      <th>wave</th>\n      <td>0</td>\n    </tr>\n    <tr>\n      <th>type</th>\n      <td>fixed</td>\n    </tr>\n    <tr>\n      <th>name</th>\n      <td>8773146 - Matagorda City, TX</td>\n    </tr>\n    <tr>\n      <th>pgm</th>\n      <td>IOOS Partners</td>\n    </tr>\n  </tbody>\n</table>"
      }
     },
     "3479e008923840ba9479f4e72a5e8dc4": {
      "model_module": "@jupyter-widgets/controls",
      "model_module_version": "1.5.0",
      "model_name": "DescriptionStyleModel",
      "state": {
       "description_width": ""
      }
     },
     "361fee7a88b4445696db24953c2956bf": {
      "model_module": "jupyter-leaflet",
      "model_module_version": "^0.13.2",
      "model_name": "LeafletAwesomeIconModel",
      "state": {
       "_model_module_version": "^0.13.2",
       "_view_module_version": "^0.13.2",
       "icon_color": "white",
       "marker_color": "orange",
       "name": "life-ring"
      }
     },
     "36755058e7954b1e83db89baf2ede56e": {
      "model_module": "jupyter-leaflet",
      "model_module_version": "^0.13.2",
      "model_name": "LeafletMarkerModel",
      "state": {
       "_model_module_version": "^0.13.2",
       "_view_module_version": "^0.13.2",
       "draggable": false,
       "icon": "IPY_MODEL_646f9931ceaf48f998177b5922f4bfea",
       "location": [
        42.368,
        -87.795
       ],
       "options": [
        "alt",
        "draggable",
        "keyboard",
        "rise_offset",
        "rise_on_hover",
        "rotation_angle",
        "rotation_origin",
        "title",
        "z_index_offset"
       ],
       "popup": "IPY_MODEL_38599e04523f40fdace509d347b9ed49"
      }
     },
     "36c634f6d62f4892a7695478613736cf": {
      "model_module": "@jupyter-widgets/base",
      "model_module_version": "1.2.0",
      "model_name": "LayoutModel",
      "state": {}
     },
     "37065f4477684e3fbaf875f9dbb289cd": {
      "model_module": "@jupyter-widgets/controls",
      "model_module_version": "1.5.0",
      "model_name": "DescriptionStyleModel",
      "state": {
       "description_width": ""
      }
     },
     "3738d0c109d445b0bd5057e378050657": {
      "model_module": "jupyter-leaflet",
      "model_module_version": "^0.13.2",
      "model_name": "LeafletMarkerModel",
      "state": {
       "_model_module_version": "^0.13.2",
       "_view_module_version": "^0.13.2",
       "draggable": false,
       "icon": "IPY_MODEL_4cb31e71a9d14003a4cf30f6e7a0fc13",
       "location": [
        50.017,
        -145.17
       ],
       "options": [
        "alt",
        "draggable",
        "keyboard",
        "rise_offset",
        "rise_on_hover",
        "rotation_angle",
        "rotation_origin",
        "title",
        "z_index_offset"
       ],
       "popup": "IPY_MODEL_711ac62fbc5545048091727752045e6c"
      }
     },
     "38097ec9c3b549068d9853e93a3aeed2": {
      "model_module": "jupyter-leaflet",
      "model_module_version": "^0.13.2",
      "model_name": "LeafletMarkerModel",
      "state": {
       "_model_module_version": "^0.13.2",
       "_view_module_version": "^0.13.2",
       "draggable": false,
       "icon": "IPY_MODEL_e795b7453eca43cd986a75ffd26efe02",
       "location": [
        41.306,
        -72.077
       ],
       "options": [
        "alt",
        "draggable",
        "keyboard",
        "rise_offset",
        "rise_on_hover",
        "rotation_angle",
        "rotation_origin",
        "title",
        "z_index_offset"
       ],
       "popup": "IPY_MODEL_c745c2ca601548f99c8cebb8d8a41dd0"
      }
     },
     "380df6f560ce4af7ab04be57bb9c2c9f": {
      "model_module": "jupyter-leaflet",
      "model_module_version": "^0.13.2",
      "model_name": "LeafletMarkerModel",
      "state": {
       "_model_module_version": "^0.13.2",
       "_view_module_version": "^0.13.2",
       "draggable": false,
       "icon": "IPY_MODEL_c178f51e05a64a8ba023316bdaa8d785",
       "location": [
        42.491,
        -87.779
       ],
       "options": [
        "alt",
        "draggable",
        "keyboard",
        "rise_offset",
        "rise_on_hover",
        "rotation_angle",
        "rotation_origin",
        "title",
        "z_index_offset"
       ],
       "popup": "IPY_MODEL_e3e1085b041f488e9a0ddb5442427e0b"
      }
     },
     "383ab8485e044a56b59a2f1236fe7c59": {
      "model_module": "@jupyter-widgets/controls",
      "model_module_version": "1.5.0",
      "model_name": "DescriptionStyleModel",
      "state": {
       "description_width": ""
      }
     },
     "383b2e5a13d4464da0ad83b1cafbb503": {
      "model_module": "@jupyter-widgets/controls",
      "model_module_version": "1.5.0",
      "model_name": "DescriptionStyleModel",
      "state": {
       "description_width": ""
      }
     },
     "38599e04523f40fdace509d347b9ed49": {
      "model_module": "@jupyter-widgets/controls",
      "model_module_version": "1.5.0",
      "model_name": "HTMLModel",
      "state": {
       "layout": "IPY_MODEL_c72ad3ac937f4d11812e161d14186bee",
       "style": "IPY_MODEL_126c8c873cb84543b25492e840907f3e",
       "value": "<table border=\"1\" class=\"dataframe table table-striped table-hover table-condensed table-responsive\">\n  <thead>\n    <tr style=\"text-align: right;\">\n      <th></th>\n      <th>45186</th>\n    </tr>\n  </thead>\n  <tbody>\n    <tr>\n      <th>met</th>\n      <td>25136</td>\n    </tr>\n    <tr>\n      <th>wave</th>\n      <td>24822</td>\n    </tr>\n    <tr>\n      <th>type</th>\n      <td>buoy</td>\n    </tr>\n    <tr>\n      <th>name</th>\n      <td>Waukegan Buoy, IL</td>\n    </tr>\n    <tr>\n      <th>pgm</th>\n      <td>IOOS Partners</td>\n    </tr>\n  </tbody>\n</table>"
      }
     },
     "3898c456996c41958d1188f3ecb5569e": {
      "model_module": "@jupyter-widgets/controls",
      "model_module_version": "1.5.0",
      "model_name": "DescriptionStyleModel",
      "state": {
       "description_width": ""
      }
     },
     "399ffaf6f86c49c6ae8e621a49ac1785": {
      "model_module": "jupyter-leaflet",
      "model_module_version": "^0.13.2",
      "model_name": "LeafletAwesomeIconModel",
      "state": {
       "_model_module_version": "^0.13.2",
       "_view_module_version": "^0.13.2",
       "icon_color": "white",
       "marker_color": "orange",
       "name": "life-ring"
      }
     },
     "3a00a975ea8c4d14a74218f0bbd805a6": {
      "model_module": "jupyter-leaflet",
      "model_module_version": "^0.13.2",
      "model_name": "LeafletAwesomeIconModel",
      "state": {
       "_model_module_version": "^0.13.2",
       "_view_module_version": "^0.13.2",
       "icon_color": "white",
       "marker_color": "red",
       "name": "life-ring"
      }
     },
     "3a25aefbc10d46488cf2b62469d6ef20": {
      "model_module": "@jupyter-widgets/controls",
      "model_module_version": "1.5.0",
      "model_name": "HTMLModel",
      "state": {
       "layout": "IPY_MODEL_5509fdf90a694d98ad7d8e9ec9908afd",
       "style": "IPY_MODEL_d023781cd26f4beb95a8b5d792c94f01",
       "value": "<table border=\"1\" class=\"dataframe table table-striped table-hover table-condensed table-responsive\">\n  <thead>\n    <tr style=\"text-align: right;\">\n      <th></th>\n      <th>paxa2</th>\n    </tr>\n  </thead>\n  <tbody>\n    <tr>\n      <th>met</th>\n      <td>110230</td>\n    </tr>\n    <tr>\n      <th>wave</th>\n      <td>0</td>\n    </tr>\n    <tr>\n      <th>type</th>\n      <td>fixed</td>\n    </tr>\n    <tr>\n      <th>name</th>\n      <td>Point Arden, AK</td>\n    </tr>\n    <tr>\n      <th>pgm</th>\n      <td>IOOS Partners</td>\n    </tr>\n  </tbody>\n</table>"
      }
     },
     "3a3e7099129147a286d72bf08e58012b": {
      "model_module": "jupyter-leaflet",
      "model_module_version": "^0.13.2",
      "model_name": "LeafletMapStyleModel",
      "state": {
       "_model_module_version": "^0.13.2"
      }
     },
     "3a859d042c854b25ae1265f66e587828": {
      "model_module": "jupyter-leaflet",
      "model_module_version": "^0.13.2",
      "model_name": "LeafletAwesomeIconModel",
      "state": {
       "_model_module_version": "^0.13.2",
       "_view_module_version": "^0.13.2",
       "icon_color": "white",
       "marker_color": "orange",
       "name": "life-ring"
      }
     },
     "3a9561b07ff1497c9f3e85cbe3d55819": {
      "model_module": "jupyter-leaflet",
      "model_module_version": "^0.13.2",
      "model_name": "LeafletMarkerModel",
      "state": {
       "_model_module_version": "^0.13.2",
       "_view_module_version": "^0.13.2",
       "draggable": false,
       "icon": "IPY_MODEL_69b104a941544deab8eb5a2884116dea",
       "location": [
        18.367,
        -67.251
       ],
       "options": [
        "alt",
        "draggable",
        "keyboard",
        "rise_offset",
        "rise_on_hover",
        "rotation_angle",
        "rotation_origin",
        "title",
        "z_index_offset"
       ],
       "popup": "IPY_MODEL_2e937c5785c040858c70b4aa5eb127cb"
      }
     },
     "3aa434218a9f415797a03408646be2b9": {
      "model_module": "jupyter-leaflet",
      "model_module_version": "^0.13.2",
      "model_name": "LeafletMarkerModel",
      "state": {
       "_model_module_version": "^0.13.2",
       "_view_module_version": "^0.13.2",
       "draggable": false,
       "icon": "IPY_MODEL_aa47991eee944204a83e51e766976529",
       "location": [
        21.018,
        -156.425
       ],
       "options": [
        "alt",
        "draggable",
        "keyboard",
        "rise_offset",
        "rise_on_hover",
        "rotation_angle",
        "rotation_origin",
        "title",
        "z_index_offset"
       ],
       "popup": "IPY_MODEL_8567247e5217409bbd2c557e8bf498b2"
      }
     },
     "3aaace4a96f644479dbf0db19cfccbe3": {
      "model_module": "@jupyter-widgets/controls",
      "model_module_version": "1.5.0",
      "model_name": "DescriptionStyleModel",
      "state": {
       "description_width": ""
      }
     },
     "3ac4db64fc414f3d8fd35f46def71d97": {
      "model_module": "@jupyter-widgets/controls",
      "model_module_version": "1.5.0",
      "model_name": "HTMLModel",
      "state": {
       "layout": "IPY_MODEL_9bbfa1c4a4b84fda9331e7f7f320a57f",
       "style": "IPY_MODEL_151e517f68954db6b937c6f1b9a11eae",
       "value": "<table border=\"1\" class=\"dataframe table table-striped table-hover table-condensed table-responsive\">\n  <thead>\n    <tr style=\"text-align: right;\">\n      <th></th>\n      <th>bgcf1</th>\n    </tr>\n  </thead>\n  <tbody>\n    <tr>\n      <th>met</th>\n      <td>166404</td>\n    </tr>\n    <tr>\n      <th>wave</th>\n      <td>0</td>\n    </tr>\n    <tr>\n      <th>type</th>\n      <td>fixed</td>\n    </tr>\n    <tr>\n      <th>name</th>\n      <td>BCP - Big Carlos Pass, FL</td>\n    </tr>\n    <tr>\n      <th>pgm</th>\n      <td>IOOS Partners</td>\n    </tr>\n  </tbody>\n</table>"
      }
     },
     "3af81c81c0aa4715a164393ec0ec413d": {
      "model_module": "@jupyter-widgets/controls",
      "model_module_version": "1.5.0",
      "model_name": "HTMLModel",
      "state": {
       "layout": "IPY_MODEL_f2f60fefd9a4485a8f36c6fded559c78",
       "style": "IPY_MODEL_e78deb4289d84978b0ef49e88e55c7b2",
       "value": "<table border=\"1\" class=\"dataframe table table-striped table-hover table-condensed table-responsive\">\n  <thead>\n    <tr style=\"text-align: right;\">\n      <th></th>\n      <th>babt2</th>\n    </tr>\n  </thead>\n  <tbody>\n    <tr>\n      <th>met</th>\n      <td>183350</td>\n    </tr>\n    <tr>\n      <th>wave</th>\n      <td>0</td>\n    </tr>\n    <tr>\n      <th>type</th>\n      <td>fixed</td>\n    </tr>\n    <tr>\n      <th>name</th>\n      <td>8776604 - Baffin Bay, TX</td>\n    </tr>\n    <tr>\n      <th>pgm</th>\n      <td>IOOS Partners</td>\n    </tr>\n  </tbody>\n</table>"
      }
     },
     "3b084961c961434ea52b434b9e6ef275": {
      "model_module": "jupyter-leaflet",
      "model_module_version": "^0.13.2",
      "model_name": "LeafletAwesomeIconModel",
      "state": {
       "_model_module_version": "^0.13.2",
       "_view_module_version": "^0.13.2",
       "icon_color": "white",
       "marker_color": "orange",
       "name": "life-ring"
      }
     },
     "3c1b9cf690234e66a36ad6fc4d10a0b5": {
      "model_module": "jupyter-leaflet",
      "model_module_version": "^0.13.2",
      "model_name": "LeafletMarkerModel",
      "state": {
       "_model_module_version": "^0.13.2",
       "_view_module_version": "^0.13.2",
       "draggable": false,
       "icon": "IPY_MODEL_24bb2f066d4a410abadd67847fc6c327",
       "location": [
        46.969,
        -88.398
       ],
       "options": [
        "alt",
        "draggable",
        "keyboard",
        "rise_offset",
        "rise_on_hover",
        "rotation_angle",
        "rotation_origin",
        "title",
        "z_index_offset"
       ],
       "popup": "IPY_MODEL_323c27e02fcb4106839a4ecb07b2e226"
      }
     },
     "3c26137874eb428f90e52fed7a7aea78": {
      "model_module": "jupyter-leaflet",
      "model_module_version": "^0.13.2",
      "model_name": "LeafletAwesomeIconModel",
      "state": {
       "_model_module_version": "^0.13.2",
       "_view_module_version": "^0.13.2",
       "icon_color": "white",
       "marker_color": "orange",
       "name": "life-ring"
      }
     },
     "3cd9b987bfed493bb55f3d2dc63f0779": {
      "model_module": "jupyter-leaflet",
      "model_module_version": "^0.13.2",
      "model_name": "LeafletMarkerModel",
      "state": {
       "_model_module_version": "^0.13.2",
       "_view_module_version": "^0.13.2",
       "draggable": false,
       "icon": "IPY_MODEL_a208200b06f943fd979c557c5dc4d4b6",
       "location": [
        58.205,
        -134.646
       ],
       "options": [
        "alt",
        "draggable",
        "keyboard",
        "rise_offset",
        "rise_on_hover",
        "rotation_angle",
        "rotation_origin",
        "title",
        "z_index_offset"
       ],
       "popup": "IPY_MODEL_d428aee289a54aeaabca6cae856b2b28"
      }
     },
     "3cfe17a010d44abd8e863e42deb27b9d": {
      "model_module": "@jupyter-widgets/base",
      "model_module_version": "1.2.0",
      "model_name": "LayoutModel",
      "state": {}
     },
     "3d34155233784a34b88d921c3516c48e": {
      "model_module": "jupyter-leaflet",
      "model_module_version": "^0.13.2",
      "model_name": "LeafletMarkerModel",
      "state": {
       "_model_module_version": "^0.13.2",
       "_view_module_version": "^0.13.2",
       "draggable": false,
       "icon": "IPY_MODEL_e1e650cff0254d188b619ddf3c28c2db",
       "location": [
        47.907,
        -122.627
       ],
       "options": [
        "alt",
        "draggable",
        "keyboard",
        "rise_offset",
        "rise_on_hover",
        "rotation_angle",
        "rotation_origin",
        "title",
        "z_index_offset"
       ],
       "popup": "IPY_MODEL_6542bdbda6cc4103b4036e6762715ea2"
      }
     },
     "3d90e66a96a84a128e35dba53dcf7936": {
      "model_module": "@jupyter-widgets/controls",
      "model_module_version": "1.5.0",
      "model_name": "HTMLModel",
      "state": {
       "layout": "IPY_MODEL_a193bc3b31324eebbd00f6d9d064c3c0",
       "style": "IPY_MODEL_ba266590ae454237936c7992bd87e134",
       "value": "<table border=\"1\" class=\"dataframe table table-striped table-hover table-condensed table-responsive\">\n  <thead>\n    <tr style=\"text-align: right;\">\n      <th></th>\n      <th>45165</th>\n    </tr>\n  </thead>\n  <tbody>\n    <tr>\n      <th>met</th>\n      <td>50808</td>\n    </tr>\n    <tr>\n      <th>wave</th>\n      <td>50808</td>\n    </tr>\n    <tr>\n      <th>type</th>\n      <td>buoy</td>\n    </tr>\n    <tr>\n      <th>name</th>\n      <td>Toledo Water Intake Buoy, Oregon, OH</td>\n    </tr>\n    <tr>\n      <th>pgm</th>\n      <td>IOOS Partners</td>\n    </tr>\n  </tbody>\n</table>"
      }
     },
     "3e143846eb134622930ae19b0f71ea37": {
      "model_module": "@jupyter-widgets/controls",
      "model_module_version": "1.5.0",
      "model_name": "HTMLModel",
      "state": {
       "layout": "IPY_MODEL_8da51ba3fcdf41848d74e7825ed83dc5",
       "style": "IPY_MODEL_1e286121202a41d7b50c39dcd1e09e70",
       "value": "<table border=\"1\" class=\"dataframe table table-striped table-hover table-condensed table-responsive\">\n  <thead>\n    <tr style=\"text-align: right;\">\n      <th></th>\n      <th>sgnt2</th>\n    </tr>\n  </thead>\n  <tbody>\n    <tr>\n      <th>met</th>\n      <td>182108</td>\n    </tr>\n    <tr>\n      <th>wave</th>\n      <td>0</td>\n    </tr>\n    <tr>\n      <th>type</th>\n      <td>fixed</td>\n    </tr>\n    <tr>\n      <th>name</th>\n      <td>8772985 - Sargent, TX</td>\n    </tr>\n    <tr>\n      <th>pgm</th>\n      <td>IOOS Partners</td>\n    </tr>\n  </tbody>\n</table>"
      }
     },
     "3f399ee978504224b93da986f467c0e8": {
      "model_module": "@jupyter-widgets/controls",
      "model_module_version": "1.5.0",
      "model_name": "HTMLModel",
      "state": {
       "layout": "IPY_MODEL_0af2630c82a34f5294c85f3d8f6e4f03",
       "style": "IPY_MODEL_24ab27d41dbb4b3ea7dcd2ab77041190",
       "value": "<table border=\"1\" class=\"dataframe table table-striped table-hover table-condensed table-responsive\">\n  <thead>\n    <tr style=\"text-align: right;\">\n      <th></th>\n      <th>52202</th>\n    </tr>\n  </thead>\n  <tbody>\n    <tr>\n      <th>met</th>\n      <td>0</td>\n    </tr>\n    <tr>\n      <th>wave</th>\n      <td>18366</td>\n    </tr>\n    <tr>\n      <th>type</th>\n      <td>buoy</td>\n    </tr>\n    <tr>\n      <th>name</th>\n      <td>Ritidian Point, Guam (196)</td>\n    </tr>\n    <tr>\n      <th>pgm</th>\n      <td>IOOS Partners</td>\n    </tr>\n  </tbody>\n</table>"
      }
     },
     "3f8800ea79b54278863222654890a49c": {
      "model_module": "@jupyter-widgets/controls",
      "model_module_version": "1.5.0",
      "model_name": "HTMLModel",
      "state": {
       "layout": "IPY_MODEL_ee08b75c2ebe4e359330548a8b1db1eb",
       "style": "IPY_MODEL_a50a49a1fea940f988001a78ca241947",
       "value": "<table border=\"1\" class=\"dataframe table table-striped table-hover table-condensed table-responsive\">\n  <thead>\n    <tr style=\"text-align: right;\">\n      <th></th>\n      <th>45175</th>\n    </tr>\n  </thead>\n  <tbody>\n    <tr>\n      <th>met</th>\n      <td>58292</td>\n    </tr>\n    <tr>\n      <th>wave</th>\n      <td>30914</td>\n    </tr>\n    <tr>\n      <th>type</th>\n      <td>buoy</td>\n    </tr>\n    <tr>\n      <th>name</th>\n      <td>Mackinac Straits West, Mackinaw City, MI</td>\n    </tr>\n    <tr>\n      <th>pgm</th>\n      <td>IOOS Partners</td>\n    </tr>\n  </tbody>\n</table>"
      }
     },
     "3fdb6648fb9d443eb8b3d31fb1d9c9dc": {
      "model_module": "@jupyter-widgets/controls",
      "model_module_version": "1.5.0",
      "model_name": "DescriptionStyleModel",
      "state": {
       "description_width": ""
      }
     },
     "3fdc921e48824e3ca8a5a79265f04f3f": {
      "model_module": "jupyter-leaflet",
      "model_module_version": "^0.13.2",
      "model_name": "LeafletMarkerModel",
      "state": {
       "_model_module_version": "^0.13.2",
       "_view_module_version": "^0.13.2",
       "draggable": false,
       "icon": "IPY_MODEL_e778dfe6ae9e4e6c880b445f3d05c0c1",
       "location": [
        26.217,
        -96.5
       ],
       "options": [
        "alt",
        "draggable",
        "keyboard",
        "rise_offset",
        "rise_on_hover",
        "rotation_angle",
        "rotation_origin",
        "title",
        "z_index_offset"
       ],
       "popup": "IPY_MODEL_bf01bb9c18614513bb70b85c78c04cb4"
      }
     },
     "40b4cb77e2c641c482858349cbf562ff": {
      "model_module": "jupyter-leaflet",
      "model_module_version": "^0.13.2",
      "model_name": "LeafletAwesomeIconModel",
      "state": {
       "_model_module_version": "^0.13.2",
       "_view_module_version": "^0.13.2",
       "icon_color": "white",
       "marker_color": "red",
       "name": "life-ring"
      }
     },
     "40cad90d4c11435eb134931b1bbd0892": {
      "model_module": "@jupyter-widgets/controls",
      "model_module_version": "1.5.0",
      "model_name": "DescriptionStyleModel",
      "state": {
       "description_width": ""
      }
     },
     "413ef07f2add474eb905f40958e862bf": {
      "model_module": "jupyter-leaflet",
      "model_module_version": "^0.13.2",
      "model_name": "LeafletAwesomeIconModel",
      "state": {
       "_model_module_version": "^0.13.2",
       "_view_module_version": "^0.13.2",
       "icon_color": "white",
       "marker_color": "orange",
       "name": "life-ring"
      }
     },
     "414fabd4a56940f883a5d4d793a92562": {
      "model_module": "@jupyter-widgets/controls",
      "model_module_version": "1.5.0",
      "model_name": "DescriptionStyleModel",
      "state": {
       "description_width": ""
      }
     },
     "4170fa4c243d41709b60e6a3bbf8b585": {
      "model_module": "jupyter-leaflet",
      "model_module_version": "^0.13.2",
      "model_name": "LeafletAwesomeIconModel",
      "state": {
       "_model_module_version": "^0.13.2",
       "_view_module_version": "^0.13.2",
       "icon_color": "white",
       "marker_color": "green",
       "name": "life-ring"
      }
     },
     "41b9bab7843649b399f2f825b04790e1": {
      "model_module": "@jupyter-widgets/base",
      "model_module_version": "1.2.0",
      "model_name": "LayoutModel",
      "state": {}
     },
     "41e85c9c109a4c9a88cdba19078c8ca2": {
      "model_module": "jupyter-leaflet",
      "model_module_version": "^0.13.2",
      "model_name": "LeafletMarkerModel",
      "state": {
       "_model_module_version": "^0.13.2",
       "_view_module_version": "^0.13.2",
       "draggable": false,
       "icon": "IPY_MODEL_3a00a975ea8c4d14a74218f0bbd805a6",
       "location": [
        13.354,
        144.788
       ],
       "options": [
        "alt",
        "draggable",
        "keyboard",
        "rise_offset",
        "rise_on_hover",
        "rotation_angle",
        "rotation_origin",
        "title",
        "z_index_offset"
       ],
       "popup": "IPY_MODEL_8cee36dc94124d82b82d46cc3e6edd45"
      }
     },
     "41fa51bd84324bc2a453bab6f5951c75": {
      "model_module": "@jupyter-widgets/controls",
      "model_module_version": "1.5.0",
      "model_name": "HTMLModel",
      "state": {
       "layout": "IPY_MODEL_050edae0cc2d408197cbd15f8cd4ffda",
       "style": "IPY_MODEL_8f0cded4cf63492bb9ea86ac34190047",
       "value": "<table border=\"1\" class=\"dataframe table table-striped table-hover table-condensed table-responsive\">\n  <thead>\n    <tr style=\"text-align: right;\">\n      <th></th>\n      <th>txpt2</th>\n    </tr>\n  </thead>\n  <tbody>\n    <tr>\n      <th>met</th>\n      <td>176724</td>\n    </tr>\n    <tr>\n      <th>wave</th>\n      <td>0</td>\n    </tr>\n    <tr>\n      <th>type</th>\n      <td>fixed</td>\n    </tr>\n    <tr>\n      <th>name</th>\n      <td>8770822 - Texas Point, Sabine Pass, TX</td>\n    </tr>\n    <tr>\n      <th>pgm</th>\n      <td>IOOS Partners</td>\n    </tr>\n  </tbody>\n</table>"
      }
     },
     "4203466f16a04b9a99d980bbbaeee3b2": {
      "model_module": "@jupyter-widgets/base",
      "model_module_version": "1.2.0",
      "model_name": "LayoutModel",
      "state": {}
     },
     "42903cd487fb49c68890ae98587714a9": {
      "model_module": "jupyter-leaflet",
      "model_module_version": "^0.13.2",
      "model_name": "LeafletMarkerModel",
      "state": {
       "_model_module_version": "^0.13.2",
       "_view_module_version": "^0.13.2",
       "draggable": false,
       "icon": "IPY_MODEL_8af7b7fd19a648fbb5bc7ad234e9544a",
       "location": [
        20.75,
        -157.003
       ],
       "options": [
        "alt",
        "draggable",
        "keyboard",
        "rise_offset",
        "rise_on_hover",
        "rotation_angle",
        "rotation_origin",
        "title",
        "z_index_offset"
       ],
       "popup": "IPY_MODEL_f30527f0e2414e4a9dcbb0c305f7426b"
      }
     },
     "42ad1c5239c34e94b2a1d66200a92c31": {
      "model_module": "jupyter-leaflet",
      "model_module_version": "^0.13.2",
      "model_name": "LeafletAwesomeIconModel",
      "state": {
       "_model_module_version": "^0.13.2",
       "_view_module_version": "^0.13.2",
       "icon_color": "white",
       "marker_color": "orange",
       "name": "life-ring"
      }
     },
     "42c3f5882eb548eb9897dc524331d941": {
      "model_module": "@jupyter-widgets/controls",
      "model_module_version": "1.5.0",
      "model_name": "HTMLModel",
      "state": {
       "layout": "IPY_MODEL_012d030661194b12b50a514ae3ad51f2",
       "style": "IPY_MODEL_4a56dd7486c741229336244947ebd501",
       "value": "<table border=\"1\" class=\"dataframe table table-striped table-hover table-condensed table-responsive\">\n  <thead>\n    <tr style=\"text-align: right;\">\n      <th></th>\n      <th>45167</th>\n    </tr>\n  </thead>\n  <tbody>\n    <tr>\n      <th>met</th>\n      <td>12136</td>\n    </tr>\n    <tr>\n      <th>wave</th>\n      <td>3290</td>\n    </tr>\n    <tr>\n      <th>type</th>\n      <td>buoy</td>\n    </tr>\n    <tr>\n      <th>name</th>\n      <td>Erie Nearshore Buoy, Erie, PA</td>\n    </tr>\n    <tr>\n      <th>pgm</th>\n      <td>IOOS Partners</td>\n    </tr>\n  </tbody>\n</table>"
      }
     },
     "42e05a7b22e14b54b487539a36e98b8a": {
      "model_module": "@jupyter-widgets/controls",
      "model_module_version": "1.5.0",
      "model_name": "HTMLModel",
      "state": {
       "layout": "IPY_MODEL_c47bf2d1342f46bca7e2490b9ccb4dd2",
       "style": "IPY_MODEL_b601129e86a34b6fb9100b70c095014f",
       "value": "<table border=\"1\" class=\"dataframe table table-striped table-hover table-condensed table-responsive\">\n  <thead>\n    <tr style=\"text-align: right;\">\n      <th></th>\n      <th>51209</th>\n    </tr>\n  </thead>\n  <tbody>\n    <tr>\n      <th>met</th>\n      <td>0</td>\n    </tr>\n    <tr>\n      <th>wave</th>\n      <td>37638</td>\n    </tr>\n    <tr>\n      <th>type</th>\n      <td>buoy</td>\n    </tr>\n    <tr>\n      <th>name</th>\n      <td>Aunuu, American Samoa (189)</td>\n    </tr>\n    <tr>\n      <th>pgm</th>\n      <td>IOOS Partners</td>\n    </tr>\n  </tbody>\n</table>"
      }
     },
     "44ae506d523049709efe299b8e4fd0c2": {
      "model_module": "jupyter-leaflet",
      "model_module_version": "^0.13.2",
      "model_name": "LeafletAwesomeIconModel",
      "state": {
       "_model_module_version": "^0.13.2",
       "_view_module_version": "^0.13.2",
       "icon_color": "white",
       "marker_color": "orange",
       "name": "life-ring"
      }
     },
     "44fcd471667249d293db887db572d23d": {
      "model_module": "jupyter-leaflet",
      "model_module_version": "^0.13.2",
      "model_name": "LeafletAwesomeIconModel",
      "state": {
       "_model_module_version": "^0.13.2",
       "_view_module_version": "^0.13.2",
       "icon_color": "white",
       "marker_color": "orange",
       "name": "life-ring"
      }
     },
     "44fe0388135f4477ab18ebcdc2a149eb": {
      "model_module": "@jupyter-widgets/controls",
      "model_module_version": "1.5.0",
      "model_name": "DescriptionStyleModel",
      "state": {
       "description_width": ""
      }
     },
     "452090c84ab74f0ab88b87afa3f3cc48": {
      "model_module": "jupyter-leaflet",
      "model_module_version": "^0.13.2",
      "model_name": "LeafletAwesomeIconModel",
      "state": {
       "_model_module_version": "^0.13.2",
       "_view_module_version": "^0.13.2",
       "icon_color": "white",
       "marker_color": "orange",
       "name": "life-ring"
      }
     },
     "457c04491b5c45a1b0469fc70ef8f194": {
      "model_module": "@jupyter-widgets/base",
      "model_module_version": "1.2.0",
      "model_name": "LayoutModel",
      "state": {}
     },
     "45c1b02aa7594f0492a916a4440cf339": {
      "model_module": "@jupyter-widgets/controls",
      "model_module_version": "1.5.0",
      "model_name": "DescriptionStyleModel",
      "state": {
       "description_width": ""
      }
     },
     "46d3bc4af1a24deb89d382957a07fcbc": {
      "model_module": "@jupyter-widgets/base",
      "model_module_version": "1.2.0",
      "model_name": "LayoutModel",
      "state": {}
     },
     "46fdef395bd74b4882d97e889eacc639": {
      "model_module": "@jupyter-widgets/base",
      "model_module_version": "1.2.0",
      "model_name": "LayoutModel",
      "state": {}
     },
     "4765806e1012451da625f60018d15e43": {
      "model_module": "@jupyter-widgets/controls",
      "model_module_version": "1.5.0",
      "model_name": "HTMLModel",
      "state": {
       "layout": "IPY_MODEL_56b78245204f4c56b602306bdab11e90",
       "style": "IPY_MODEL_2e7ae29a2d7b44318d3a5e0428d2f729",
       "value": "<table border=\"1\" class=\"dataframe table table-striped table-hover table-condensed table-responsive\">\n  <thead>\n    <tr style=\"text-align: right;\">\n      <th></th>\n      <th>41033</th>\n    </tr>\n  </thead>\n  <tbody>\n    <tr>\n      <th>met</th>\n      <td>17510</td>\n    </tr>\n    <tr>\n      <th>wave</th>\n      <td>0</td>\n    </tr>\n    <tr>\n      <th>type</th>\n      <td>buoy</td>\n    </tr>\n    <tr>\n      <th>name</th>\n      <td>Fripp Nearshore, SC (FRP2)</td>\n    </tr>\n    <tr>\n      <th>pgm</th>\n      <td>IOOS Partners</td>\n    </tr>\n  </tbody>\n</table>"
      }
     },
     "47c31ebb72454d55b6d1219986062386": {
      "model_module": "@jupyter-widgets/controls",
      "model_module_version": "1.5.0",
      "model_name": "DescriptionStyleModel",
      "state": {
       "description_width": ""
      }
     },
     "47ce41a42d3e47b083131c2d79c2809b": {
      "model_module": "jupyter-leaflet",
      "model_module_version": "^0.13.2",
      "model_name": "LeafletMarkerModel",
      "state": {
       "_model_module_version": "^0.13.2",
       "_view_module_version": "^0.13.2",
       "draggable": false,
       "icon": "IPY_MODEL_4f385264c96c4d07a170f2c4ee5dd099",
       "location": [
        42.9,
        -86.272
       ],
       "options": [
        "alt",
        "draggable",
        "keyboard",
        "rise_offset",
        "rise_on_hover",
        "rotation_angle",
        "rotation_origin",
        "title",
        "z_index_offset"
       ],
       "popup": "IPY_MODEL_e8bba27421e64a1e97c6911f2816f9aa"
      }
     },
     "47d9b841f3664959b290bcf4b6771bbe": {
      "model_module": "@jupyter-widgets/controls",
      "model_module_version": "1.5.0",
      "model_name": "DescriptionStyleModel",
      "state": {
       "description_width": ""
      }
     },
     "47f8105f45f84eb588e2cff0eb383e5c": {
      "model_module": "jupyter-leaflet",
      "model_module_version": "^0.13.2",
      "model_name": "LeafletMarkerModel",
      "state": {
       "_model_module_version": "^0.13.2",
       "_view_module_version": "^0.13.2",
       "draggable": false,
       "icon": "IPY_MODEL_78fb2a30b2c048ca902a656e9966d818",
       "location": [
        28.64,
        -96.609
       ],
       "options": [
        "alt",
        "draggable",
        "keyboard",
        "rise_offset",
        "rise_on_hover",
        "rotation_angle",
        "rotation_origin",
        "title",
        "z_index_offset"
       ],
       "popup": "IPY_MODEL_fbb2f6dd0f0b4b8484396942ea90998b"
      }
     },
     "493bc4dffa6946ac89ce8bd1e65a9320": {
      "model_module": "@jupyter-widgets/controls",
      "model_module_version": "1.5.0",
      "model_name": "DescriptionStyleModel",
      "state": {
       "description_width": ""
      }
     },
     "49f9edc599e941b18d1f38b63dd1d4b5": {
      "model_module": "@jupyter-widgets/controls",
      "model_module_version": "1.5.0",
      "model_name": "HTMLModel",
      "state": {
       "layout": "IPY_MODEL_980a959d553a4f43ba9fd8cd3411fcff",
       "style": "IPY_MODEL_0c5d8dd2822a40b280ce1ff7d2f721b9",
       "value": "<table border=\"1\" class=\"dataframe table table-striped table-hover table-condensed table-responsive\">\n  <thead>\n    <tr style=\"text-align: right;\">\n      <th></th>\n      <th>41115</th>\n    </tr>\n  </thead>\n  <tbody>\n    <tr>\n      <th>met</th>\n      <td>0</td>\n    </tr>\n    <tr>\n      <th>wave</th>\n      <td>35676</td>\n    </tr>\n    <tr>\n      <th>type</th>\n      <td>buoy</td>\n    </tr>\n    <tr>\n      <th>name</th>\n      <td>Rincon, Puerto Rico (181)</td>\n    </tr>\n    <tr>\n      <th>pgm</th>\n      <td>IOOS Partners</td>\n    </tr>\n  </tbody>\n</table>"
      }
     },
     "49ff5c93e2064d1cb4dd1321cbd53279": {
      "model_module": "jupyter-leaflet",
      "model_module_version": "^0.13.2",
      "model_name": "LeafletMarkerModel",
      "state": {
       "_model_module_version": "^0.13.2",
       "_view_module_version": "^0.13.2",
       "draggable": false,
       "icon": "IPY_MODEL_44fcd471667249d293db887db572d23d",
       "location": [
        30.329,
        -87.829
       ],
       "options": [
        "alt",
        "draggable",
        "keyboard",
        "rise_offset",
        "rise_on_hover",
        "rotation_angle",
        "rotation_origin",
        "title",
        "z_index_offset"
       ],
       "popup": "IPY_MODEL_c3963f5f0a574a5a88a38e55c132c1ea"
      }
     },
     "4a56dd7486c741229336244947ebd501": {
      "model_module": "@jupyter-widgets/controls",
      "model_module_version": "1.5.0",
      "model_name": "DescriptionStyleModel",
      "state": {
       "description_width": ""
      }
     },
     "4b2ec5ca977940578f80276ae023c44d": {
      "model_module": "@jupyter-widgets/base",
      "model_module_version": "1.2.0",
      "model_name": "LayoutModel",
      "state": {}
     },
     "4b67c0156f2248c8bc9cba30a7a45cb7": {
      "model_module": "@jupyter-widgets/controls",
      "model_module_version": "1.5.0",
      "model_name": "HTMLModel",
      "state": {
       "layout": "IPY_MODEL_9a0c432df5d14891925028eb48be3a69",
       "style": "IPY_MODEL_19e489332d3d4816b71d1517a6b42bcb",
       "value": "<table border=\"1\" class=\"dataframe table table-striped table-hover table-condensed table-responsive\">\n  <thead>\n    <tr style=\"text-align: right;\">\n      <th></th>\n      <th>44069</th>\n    </tr>\n  </thead>\n  <tbody>\n    <tr>\n      <th>met</th>\n      <td>11754</td>\n    </tr>\n    <tr>\n      <th>wave</th>\n      <td>0</td>\n    </tr>\n    <tr>\n      <th>type</th>\n      <td>buoy</td>\n    </tr>\n    <tr>\n      <th>name</th>\n      <td>Great South Bay</td>\n    </tr>\n    <tr>\n      <th>pgm</th>\n      <td>IOOS Partners</td>\n    </tr>\n  </tbody>\n</table>"
      }
     },
     "4b994bca9eb8465fa1ff5de0a4574abe": {
      "model_module": "jupyter-leaflet",
      "model_module_version": "^0.13.2",
      "model_name": "LeafletAwesomeIconModel",
      "state": {
       "_model_module_version": "^0.13.2",
       "_view_module_version": "^0.13.2",
       "icon_color": "white",
       "marker_color": "red",
       "name": "life-ring"
      }
     },
     "4bdc8f3c296d4936b7eacac75560680b": {
      "model_module": "jupyter-leaflet",
      "model_module_version": "^0.13.2",
      "model_name": "LeafletAwesomeIconModel",
      "state": {
       "_model_module_version": "^0.13.2",
       "_view_module_version": "^0.13.2",
       "icon_color": "white",
       "marker_color": "green",
       "name": "life-ring"
      }
     },
     "4bddd344629e430d927c0e6fe33d3e13": {
      "model_module": "@jupyter-widgets/controls",
      "model_module_version": "1.5.0",
      "model_name": "HTMLModel",
      "state": {
       "layout": "IPY_MODEL_8976bbb05cd9493b8643efeb0cc0a1be",
       "style": "IPY_MODEL_b1673594c3c4455e8506370f438b7db9",
       "value": "<table border=\"1\" class=\"dataframe table table-striped table-hover table-condensed table-responsive\">\n  <thead>\n    <tr style=\"text-align: right;\">\n      <th></th>\n      <th>51210</th>\n    </tr>\n  </thead>\n  <tbody>\n    <tr>\n      <th>met</th>\n      <td>0</td>\n    </tr>\n    <tr>\n      <th>wave</th>\n      <td>37592</td>\n    </tr>\n    <tr>\n      <th>type</th>\n      <td>buoy</td>\n    </tr>\n    <tr>\n      <th>name</th>\n      <td>Kaneohe Bay, WETS, HI (225)</td>\n    </tr>\n    <tr>\n      <th>pgm</th>\n      <td>IOOS Partners</td>\n    </tr>\n  </tbody>\n</table>"
      }
     },
     "4c8d6ccca17343df8a8c548b42a96b6b": {
      "model_module": "@jupyter-widgets/base",
      "model_module_version": "1.2.0",
      "model_name": "LayoutModel",
      "state": {}
     },
     "4cb31e71a9d14003a4cf30f6e7a0fc13": {
      "model_module": "jupyter-leaflet",
      "model_module_version": "^0.13.2",
      "model_name": "LeafletAwesomeIconModel",
      "state": {
       "_model_module_version": "^0.13.2",
       "_view_module_version": "^0.13.2",
       "icon_color": "white",
       "marker_color": "red",
       "name": "life-ring"
      }
     },
     "4cdf83b8867a4984ab0d8f80c2ec0e7d": {
      "model_module": "@jupyter-widgets/controls",
      "model_module_version": "1.5.0",
      "model_name": "DescriptionStyleModel",
      "state": {
       "description_width": ""
      }
     },
     "4d3a940e8d294392baaca712831afca8": {
      "model_module": "@jupyter-widgets/base",
      "model_module_version": "1.2.0",
      "model_name": "LayoutModel",
      "state": {}
     },
     "4d48646d96824d3cb244b8f10b43c223": {
      "model_module": "@jupyter-widgets/controls",
      "model_module_version": "1.5.0",
      "model_name": "DescriptionStyleModel",
      "state": {
       "description_width": ""
      }
     },
     "4d89b67ccc454a15bcc8d0185bf031c2": {
      "model_module": "jupyter-leaflet",
      "model_module_version": "^0.13.2",
      "model_name": "LeafletMarkerModel",
      "state": {
       "_model_module_version": "^0.13.2",
       "_view_module_version": "^0.13.2",
       "draggable": false,
       "icon": "IPY_MODEL_a847f3dabaef415bba3d1d0da770ec81",
       "location": [
        28.867,
        -90.483
       ],
       "options": [
        "alt",
        "draggable",
        "keyboard",
        "rise_offset",
        "rise_on_hover",
        "rotation_angle",
        "rotation_origin",
        "title",
        "z_index_offset"
       ],
       "popup": "IPY_MODEL_648b2fd111fe41538f6d268364755d24"
      }
     },
     "4d89b6cef30f46f4836d45428e8634e7": {
      "model_module": "jupyter-leaflet",
      "model_module_version": "^0.13.2",
      "model_name": "LeafletAwesomeIconModel",
      "state": {
       "_model_module_version": "^0.13.2",
       "_view_module_version": "^0.13.2",
       "icon_color": "white",
       "marker_color": "orange",
       "name": "life-ring"
      }
     },
     "4d9df8f2551b4d40970c1927883b43af": {
      "model_module": "@jupyter-widgets/base",
      "model_module_version": "1.2.0",
      "model_name": "LayoutModel",
      "state": {}
     },
     "4decf99d313f4a51943b11174163f32e": {
      "model_module": "jupyter-leaflet",
      "model_module_version": "^0.13.2",
      "model_name": "LeafletMarkerModel",
      "state": {
       "_model_module_version": "^0.13.2",
       "_view_module_version": "^0.13.2",
       "draggable": false,
       "icon": "IPY_MODEL_c26d25ce6e2746e897d94ceaac8fef21",
       "location": [
        26.404,
        -81.881
       ],
       "options": [
        "alt",
        "draggable",
        "keyboard",
        "rise_offset",
        "rise_on_hover",
        "rotation_angle",
        "rotation_origin",
        "title",
        "z_index_offset"
       ],
       "popup": "IPY_MODEL_3ac4db64fc414f3d8fd35f46def71d97"
      }
     },
     "4e30ae5a6bd74f74a22cfd2f9af807dc": {
      "model_module": "@jupyter-widgets/controls",
      "model_module_version": "1.5.0",
      "model_name": "HTMLModel",
      "state": {
       "layout": "IPY_MODEL_8527ab820fe742bc9d958f360dae8b7b",
       "style": "IPY_MODEL_1acae620c1374bed821bbdd0a09985b5",
       "value": "<table border=\"1\" class=\"dataframe table table-striped table-hover table-condensed table-responsive\">\n  <thead>\n    <tr style=\"text-align: right;\">\n      <th></th>\n      <th>45168</th>\n    </tr>\n  </thead>\n  <tbody>\n    <tr>\n      <th>met</th>\n      <td>65520</td>\n    </tr>\n    <tr>\n      <th>wave</th>\n      <td>65520</td>\n    </tr>\n    <tr>\n      <th>type</th>\n      <td>buoy</td>\n    </tr>\n    <tr>\n      <th>name</th>\n      <td>South Haven Buoy, MI</td>\n    </tr>\n    <tr>\n      <th>pgm</th>\n      <td>IOOS Partners</td>\n    </tr>\n  </tbody>\n</table>"
      }
     },
     "4e3c36c17b2c42d987f7cb0bb968f969": {
      "model_module": "@jupyter-widgets/controls",
      "model_module_version": "1.5.0",
      "model_name": "DescriptionStyleModel",
      "state": {
       "description_width": ""
      }
     },
     "4f385264c96c4d07a170f2c4ee5dd099": {
      "model_module": "jupyter-leaflet",
      "model_module_version": "^0.13.2",
      "model_name": "LeafletAwesomeIconModel",
      "state": {
       "_model_module_version": "^0.13.2",
       "_view_module_version": "^0.13.2",
       "icon_color": "white",
       "marker_color": "green",
       "name": "life-ring"
      }
     },
     "50cb55ae269a4cef98a2b4839b8d623f": {
      "model_module": "jupyter-leaflet",
      "model_module_version": "^0.13.2",
      "model_name": "LeafletMarkerModel",
      "state": {
       "_model_module_version": "^0.13.2",
       "_view_module_version": "^0.13.2",
       "draggable": false,
       "icon": "IPY_MODEL_89f99a932505426890ca3e703a832a4a",
       "location": [
        30.05,
        -88.583
       ],
       "options": [
        "alt",
        "draggable",
        "keyboard",
        "rise_offset",
        "rise_on_hover",
        "rotation_angle",
        "rotation_origin",
        "title",
        "z_index_offset"
       ],
       "popup": "IPY_MODEL_7fe6f68b6dc54c3d9efa5c601e58419f"
      }
     },
     "50f81feead554e74a6e32a0dc4860984": {
      "model_module": "jupyter-leaflet",
      "model_module_version": "^0.13.2",
      "model_name": "LeafletMapStyleModel",
      "state": {
       "_model_module_version": "^0.13.2",
       "cursor": "move"
      }
     },
     "517f3ad11e6a473487e3dc58e39dde0a": {
      "model_module": "jupyter-leaflet",
      "model_module_version": "^0.13.2",
      "model_name": "LeafletAwesomeIconModel",
      "state": {
       "_model_module_version": "^0.13.2",
       "_view_module_version": "^0.13.2",
       "icon_color": "white",
       "marker_color": "orange",
       "name": "life-ring"
      }
     },
     "51c0b739ab844fa6822a21f4b6abbae5": {
      "model_module": "jupyter-leaflet",
      "model_module_version": "^0.13.2",
      "model_name": "LeafletAwesomeIconModel",
      "state": {
       "_model_module_version": "^0.13.2",
       "_view_module_version": "^0.13.2",
       "icon_color": "white",
       "marker_color": "orange",
       "name": "life-ring"
      }
     },
     "525f366242c342d59427b424bc19333c": {
      "model_module": "jupyter-leaflet",
      "model_module_version": "^0.13.2",
      "model_name": "LeafletMarkerModel",
      "state": {
       "_model_module_version": "^0.13.2",
       "_view_module_version": "^0.13.2",
       "draggable": false,
       "icon": "IPY_MODEL_4170fa4c243d41709b60e6a3bbf8b585",
       "location": [
        18.249,
        -64.763
       ],
       "options": [
        "alt",
        "draggable",
        "keyboard",
        "rise_offset",
        "rise_on_hover",
        "rotation_angle",
        "rotation_origin",
        "title",
        "z_index_offset"
       ],
       "popup": "IPY_MODEL_2f5992be92934fa1bfba95f55a863366"
      }
     },
     "52cb6d3df5e9484da51f70958922b1ec": {
      "model_module": "@jupyter-widgets/controls",
      "model_module_version": "1.5.0",
      "model_name": "HTMLModel",
      "state": {
       "layout": "IPY_MODEL_46fdef395bd74b4882d97e889eacc639",
       "style": "IPY_MODEL_9196b046fbca4fb5986e7212542c8f76",
       "value": "<table border=\"1\" class=\"dataframe table table-striped table-hover table-condensed table-responsive\">\n  <thead>\n    <tr style=\"text-align: right;\">\n      <th></th>\n      <th>lixa2</th>\n    </tr>\n  </thead>\n  <tbody>\n    <tr>\n      <th>met</th>\n      <td>108612</td>\n    </tr>\n    <tr>\n      <th>wave</th>\n      <td>0</td>\n    </tr>\n    <tr>\n      <th>type</th>\n      <td>fixed</td>\n    </tr>\n    <tr>\n      <th>name</th>\n      <td>Little Island, AK</td>\n    </tr>\n    <tr>\n      <th>pgm</th>\n      <td>IOOS Partners</td>\n    </tr>\n  </tbody>\n</table>"
      }
     },
     "530eaf06690341acad9b05716a351002": {
      "model_module": "@jupyter-widgets/controls",
      "model_module_version": "1.5.0",
      "model_name": "HTMLModel",
      "state": {
       "layout": "IPY_MODEL_c5aac906404c45f884478b8681aadb71",
       "style": "IPY_MODEL_b69227c4748c4a009302c1740e13a46b",
       "value": "<table border=\"1\" class=\"dataframe table table-striped table-hover table-condensed table-responsive\">\n  <thead>\n    <tr style=\"text-align: right;\">\n      <th></th>\n      <th>haxa2</th>\n    </tr>\n  </thead>\n  <tbody>\n    <tr>\n      <th>met</th>\n      <td>105268</td>\n    </tr>\n    <tr>\n      <th>wave</th>\n      <td>0</td>\n    </tr>\n    <tr>\n      <th>type</th>\n      <td>fixed</td>\n    </tr>\n    <tr>\n      <th>name</th>\n      <td>Haines Harbor, AK</td>\n    </tr>\n    <tr>\n      <th>pgm</th>\n      <td>IOOS Partners</td>\n    </tr>\n  </tbody>\n</table>"
      }
     },
     "532c8c5e6cea4927846bf22557a13eba": {
      "model_module": "jupyter-leaflet",
      "model_module_version": "^0.13.2",
      "model_name": "LeafletAttributionControlModel",
      "state": {
       "_model_module_version": "^0.13.2",
       "_view_module_version": "^0.13.2",
       "options": [
        "position",
        "prefix"
       ],
       "position": "bottomright",
       "prefix": "ipyleaflet"
      }
     },
     "534f0e71ed32428587c5aff263642eab": {
      "model_module": "@jupyter-widgets/controls",
      "model_module_version": "1.5.0",
      "model_name": "DescriptionStyleModel",
      "state": {
       "description_width": ""
      }
     },
     "5384c47444f947658781723510da0db2": {
      "model_module": "@jupyter-widgets/controls",
      "model_module_version": "1.5.0",
      "model_name": "DescriptionStyleModel",
      "state": {
       "description_width": ""
      }
     },
     "54c7010ea6504a83877436de5d6c4a03": {
      "model_module": "@jupyter-widgets/base",
      "model_module_version": "1.2.0",
      "model_name": "LayoutModel",
      "state": {}
     },
     "5509fdf90a694d98ad7d8e9ec9908afd": {
      "model_module": "@jupyter-widgets/base",
      "model_module_version": "1.2.0",
      "model_name": "LayoutModel",
      "state": {}
     },
     "5577412b0626493a90d2c904ed2274e7": {
      "model_module": "@jupyter-widgets/controls",
      "model_module_version": "1.5.0",
      "model_name": "HTMLModel",
      "state": {
       "layout": "IPY_MODEL_36c634f6d62f4892a7695478613736cf",
       "style": "IPY_MODEL_d978998c9f80458cad892a8a8c5fdb32",
       "value": "<table border=\"1\" class=\"dataframe table table-striped table-hover table-condensed table-responsive\">\n  <thead>\n    <tr style=\"text-align: right;\">\n      <th></th>\n      <th>shpf1</th>\n    </tr>\n  </thead>\n  <tbody>\n    <tr>\n      <th>met</th>\n      <td>188380</td>\n    </tr>\n    <tr>\n      <th>wave</th>\n      <td>0</td>\n    </tr>\n    <tr>\n      <th>type</th>\n      <td>fixed</td>\n    </tr>\n    <tr>\n      <th>name</th>\n      <td>SHP - Shell Point, FL</td>\n    </tr>\n    <tr>\n      <th>pgm</th>\n      <td>IOOS Partners</td>\n    </tr>\n  </tbody>\n</table>"
      }
     },
     "557e49a944334fa1959b009926c4a052": {
      "model_module": "@jupyter-widgets/controls",
      "model_module_version": "1.5.0",
      "model_name": "DescriptionStyleModel",
      "state": {
       "description_width": ""
      }
     },
     "55944f6153e64a4dab74a9e1e0ca987b": {
      "model_module": "@jupyter-widgets/base",
      "model_module_version": "1.2.0",
      "model_name": "LayoutModel",
      "state": {}
     },
     "55cba1edc87a455b9af43ef90f8ab6e9": {
      "model_module": "jupyter-leaflet",
      "model_module_version": "^0.13.2",
      "model_name": "LeafletMarkerModel",
      "state": {
       "_model_module_version": "^0.13.2",
       "_view_module_version": "^0.13.2",
       "draggable": false,
       "icon": "IPY_MODEL_859af90a79ab411fad0d2886ca893e2d",
       "location": [
        56.001,
        -134.136
       ],
       "options": [
        "alt",
        "draggable",
        "keyboard",
        "rise_offset",
        "rise_on_hover",
        "rotation_angle",
        "rotation_origin",
        "title",
        "z_index_offset"
       ],
       "popup": "IPY_MODEL_7e1e77b1b6fe415fb04ca01515dd58f1"
      }
     },
     "56657a01dbba417eac9878614d9427be": {
      "model_module": "@jupyter-widgets/controls",
      "model_module_version": "1.5.0",
      "model_name": "DescriptionStyleModel",
      "state": {
       "description_width": ""
      }
     },
     "568710b6b61f4d98b5337ff3df7a6bb8": {
      "model_module": "jupyter-leaflet",
      "model_module_version": "^0.13.2",
      "model_name": "LeafletAwesomeIconModel",
      "state": {
       "_model_module_version": "^0.13.2",
       "_view_module_version": "^0.13.2",
       "icon_color": "white",
       "marker_color": "orange",
       "name": "life-ring"
      }
     },
     "56a8eee48303433b808f070d2adf75c9": {
      "model_module": "jupyter-leaflet",
      "model_module_version": "^0.13.2",
      "model_name": "LeafletAwesomeIconModel",
      "state": {
       "_model_module_version": "^0.13.2",
       "_view_module_version": "^0.13.2",
       "icon_color": "white",
       "marker_color": "red",
       "name": "life-ring"
      }
     },
     "56b78245204f4c56b602306bdab11e90": {
      "model_module": "@jupyter-widgets/base",
      "model_module_version": "1.2.0",
      "model_name": "LayoutModel",
      "state": {}
     },
     "56e0a732f90a4b06bec95baa5dd9d91a": {
      "model_module": "jupyter-leaflet",
      "model_module_version": "^0.13.2",
      "model_name": "LeafletMarkerModel",
      "state": {
       "_model_module_version": "^0.13.2",
       "_view_module_version": "^0.13.2",
       "draggable": false,
       "icon": "IPY_MODEL_643e1af1211d4900abf1ddfd754707b1",
       "location": [
        22.285,
        -159.574
       ],
       "options": [
        "alt",
        "draggable",
        "keyboard",
        "rise_offset",
        "rise_on_hover",
        "rotation_angle",
        "rotation_origin",
        "title",
        "z_index_offset"
       ],
       "popup": "IPY_MODEL_c605c96951084ed0bc6dbc246d5060b0"
      }
     },
     "5712c9e6ee90468eb88a2ad2f8a71d6f": {
      "model_module": "jupyter-leaflet",
      "model_module_version": "^0.13.2",
      "model_name": "LeafletMarkerModel",
      "state": {
       "_model_module_version": "^0.13.2",
       "_view_module_version": "^0.13.2",
       "draggable": false,
       "icon": "IPY_MODEL_1b6f3cb2369c4d2e854c9d225323ba89",
       "location": [
        47.27,
        -88.607
       ],
       "options": [
        "alt",
        "draggable",
        "keyboard",
        "rise_offset",
        "rise_on_hover",
        "rotation_angle",
        "rotation_origin",
        "title",
        "z_index_offset"
       ],
       "popup": "IPY_MODEL_8ca435aa33ef451997047de22498a17a"
      }
     },
     "5721eed2c58141dca9ff2a1048f27dda": {
      "model_module": "@jupyter-widgets/controls",
      "model_module_version": "1.5.0",
      "model_name": "DescriptionStyleModel",
      "state": {
       "description_width": ""
      }
     },
     "577df2888db04574af74ee93b35c2070": {
      "model_module": "@jupyter-widgets/controls",
      "model_module_version": "1.5.0",
      "model_name": "DescriptionStyleModel",
      "state": {
       "description_width": ""
      }
     },
     "583a7a4a2b0442059f11392a399dbc45": {
      "model_module": "@jupyter-widgets/controls",
      "model_module_version": "1.5.0",
      "model_name": "DescriptionStyleModel",
      "state": {
       "description_width": ""
      }
     },
     "58d26b3a1bac43b9b3213e1aa9ead2d8": {
      "model_module": "@jupyter-widgets/base",
      "model_module_version": "1.2.0",
      "model_name": "LayoutModel",
      "state": {}
     },
     "59078cad283f401584c9388e43628b6e": {
      "model_module": "jupyter-leaflet",
      "model_module_version": "^0.13.2",
      "model_name": "LeafletAwesomeIconModel",
      "state": {
       "_model_module_version": "^0.13.2",
       "_view_module_version": "^0.13.2",
       "icon_color": "white",
       "marker_color": "green",
       "name": "life-ring"
      }
     },
     "5959b0cb515f4cfc995444c1ef530c55": {
      "model_module": "@jupyter-widgets/controls",
      "model_module_version": "1.5.0",
      "model_name": "DescriptionStyleModel",
      "state": {
       "description_width": ""
      }
     },
     "59ae0d9b135044a6948cc940bdb3defc": {
      "model_module": "@jupyter-widgets/controls",
      "model_module_version": "1.5.0",
      "model_name": "HTMLModel",
      "state": {
       "layout": "IPY_MODEL_18166b964900462b908a8c537e500fd2",
       "style": "IPY_MODEL_df1a597242354fbe8eff08e602b3475b",
       "value": "<table border=\"1\" class=\"dataframe table table-striped table-hover table-condensed table-responsive\">\n  <thead>\n    <tr style=\"text-align: right;\">\n      <th></th>\n      <th>kata1</th>\n    </tr>\n  </thead>\n  <tbody>\n    <tr>\n      <th>met</th>\n      <td>34004</td>\n    </tr>\n    <tr>\n      <th>wave</th>\n      <td>0</td>\n    </tr>\n    <tr>\n      <th>type</th>\n      <td>fixed</td>\n    </tr>\n    <tr>\n      <th>name</th>\n      <td>Katrina Cut, AL</td>\n    </tr>\n    <tr>\n      <th>pgm</th>\n      <td>IOOS Partners</td>\n    </tr>\n  </tbody>\n</table>"
      }
     },
     "5a3e387bb2c240e685c9c3123420b43a": {
      "model_module": "@jupyter-widgets/controls",
      "model_module_version": "1.5.0",
      "model_name": "DescriptionStyleModel",
      "state": {
       "description_width": ""
      }
     },
     "5a9efbcc760945b79f5bd9cc69f8966f": {
      "model_module": "@jupyter-widgets/controls",
      "model_module_version": "1.5.0",
      "model_name": "HTMLModel",
      "state": {
       "layout": "IPY_MODEL_58d26b3a1bac43b9b3213e1aa9ead2d8",
       "style": "IPY_MODEL_6afd3cd6734c45579898de8e9e87b86a",
       "value": "<table border=\"1\" class=\"dataframe table table-striped table-hover table-condensed table-responsive\">\n  <thead>\n    <tr style=\"text-align: right;\">\n      <th></th>\n      <th>stxa2</th>\n    </tr>\n  </thead>\n  <tbody>\n    <tr>\n      <th>met</th>\n      <td>111104</td>\n    </tr>\n    <tr>\n      <th>wave</th>\n      <td>0</td>\n    </tr>\n    <tr>\n      <th>type</th>\n      <td>fixed</td>\n    </tr>\n    <tr>\n      <th>name</th>\n      <td>Sitka AML, AK</td>\n    </tr>\n    <tr>\n      <th>pgm</th>\n      <td>IOOS Partners</td>\n    </tr>\n  </tbody>\n</table>"
      }
     },
     "5ad35a348a2d49e3b15818703d19128b": {
      "model_module": "@jupyter-widgets/controls",
      "model_module_version": "1.5.0",
      "model_name": "HTMLModel",
      "state": {
       "layout": "IPY_MODEL_24df1361fcb34f6f9d2659456389d1d8",
       "style": "IPY_MODEL_577df2888db04574af74ee93b35c2070",
       "value": "<table border=\"1\" class=\"dataframe table table-striped table-hover table-condensed table-responsive\">\n  <thead>\n    <tr style=\"text-align: right;\">\n      <th></th>\n      <th>45164</th>\n    </tr>\n  </thead>\n  <tbody>\n    <tr>\n      <th>met</th>\n      <td>0</td>\n    </tr>\n    <tr>\n      <th>wave</th>\n      <td>8494</td>\n    </tr>\n    <tr>\n      <th>type</th>\n      <td>buoy</td>\n    </tr>\n    <tr>\n      <th>name</th>\n      <td>Cleveland Buoy, OH</td>\n    </tr>\n    <tr>\n      <th>pgm</th>\n      <td>IOOS Partners</td>\n    </tr>\n  </tbody>\n</table>"
      }
     },
     "5b0e4aa4e1374fcb9493d75a127c9aff": {
      "model_module": "jupyter-leaflet",
      "model_module_version": "^0.13.2",
      "model_name": "LeafletAwesomeIconModel",
      "state": {
       "_model_module_version": "^0.13.2",
       "_view_module_version": "^0.13.2",
       "icon_color": "white",
       "marker_color": "orange",
       "name": "life-ring"
      }
     },
     "5b374555e8cd4eea963962df6735f355": {
      "model_module": "jupyter-leaflet",
      "model_module_version": "^0.13.2",
      "model_name": "LeafletMarkerModel",
      "state": {
       "_model_module_version": "^0.13.2",
       "_view_module_version": "^0.13.2",
       "draggable": false,
       "icon": "IPY_MODEL_7b6deb6c3cf34192b9444e05d3967f4d",
       "location": [
        41.55,
        -81.765
       ],
       "options": [
        "alt",
        "draggable",
        "keyboard",
        "rise_offset",
        "rise_on_hover",
        "rotation_angle",
        "rotation_origin",
        "title",
        "z_index_offset"
       ],
       "popup": "IPY_MODEL_1b9b06db5be246539319759ada2cd8b5"
      }
     },
     "5b6865fc35404c2aa088fe5f027e99a8": {
      "model_module": "jupyter-leaflet",
      "model_module_version": "^0.13.2",
      "model_name": "LeafletMarkerModel",
      "state": {
       "_model_module_version": "^0.13.2",
       "_view_module_version": "^0.13.2",
       "draggable": false,
       "icon": "IPY_MODEL_caf0fcc7fce449ccb7eb2757f04c8c6d",
       "location": [
        34.213,
        -76.946
       ],
       "options": [
        "alt",
        "draggable",
        "keyboard",
        "rise_offset",
        "rise_on_hover",
        "rotation_angle",
        "rotation_origin",
        "title",
        "z_index_offset"
       ],
       "popup": "IPY_MODEL_6595d1ea99784f7b82c986d285f731d0"
      }
     },
     "5be9d2c1bf57411194a875d6df3f1ff5": {
      "model_module": "jupyter-leaflet",
      "model_module_version": "^0.13.2",
      "model_name": "LeafletAwesomeIconModel",
      "state": {
       "_model_module_version": "^0.13.2",
       "_view_module_version": "^0.13.2",
       "icon_color": "white",
       "marker_color": "orange",
       "name": "life-ring"
      }
     },
     "5c5e8b8b1a454dd598d6a08badb45a19": {
      "model_module": "@jupyter-widgets/base",
      "model_module_version": "1.2.0",
      "model_name": "LayoutModel",
      "state": {}
     },
     "5c8a00fe708e4ee5aed4c03bbc45644b": {
      "model_module": "jupyter-leaflet",
      "model_module_version": "^0.13.2",
      "model_name": "LeafletTileLayerModel",
      "state": {
       "_model_module_version": "^0.13.2",
       "_view_module_version": "^0.13.2",
       "base": true,
       "max_native_zoom": 18,
       "max_zoom": 19,
       "min_native_zoom": 0,
       "min_zoom": 1,
       "options": [
        "attribution",
        "detect_retina",
        "max_native_zoom",
        "max_zoom",
        "min_native_zoom",
        "min_zoom",
        "no_wrap",
        "tile_size",
        "tms"
       ]
      }
     },
     "5cab5bb4d537481999b0a96902d125c3": {
      "model_module": "@jupyter-widgets/controls",
      "model_module_version": "1.5.0",
      "model_name": "DescriptionStyleModel",
      "state": {
       "description_width": ""
      }
     },
     "5cc826c1a17e4860b99fd6b46a4d4fc9": {
      "model_module": "jupyter-leaflet",
      "model_module_version": "^0.13.2",
      "model_name": "LeafletMarkerModel",
      "state": {
       "_model_module_version": "^0.13.2",
       "_view_module_version": "^0.13.2",
       "draggable": false,
       "icon": "IPY_MODEL_2b746c6231b24ad9b26cfe62f64a8199",
       "location": [
        26.072,
        -97.167
       ],
       "options": [
        "alt",
        "draggable",
        "keyboard",
        "rise_offset",
        "rise_on_hover",
        "rotation_angle",
        "rotation_origin",
        "title",
        "z_index_offset"
       ],
       "popup": "IPY_MODEL_33e8af73bb7c4f3f9582333ecf0a4fa1"
      }
     },
     "5ce71fa76e5a4348bbea34a82130f88d": {
      "model_module": "@jupyter-widgets/controls",
      "model_module_version": "1.5.0",
      "model_name": "HTMLModel",
      "state": {
       "layout": "IPY_MODEL_878ab087301f4141b3484dc6fb743ecf",
       "style": "IPY_MODEL_d6be7f99656e4cfb822755ad7b2f4e90",
       "value": "<table border=\"1\" class=\"dataframe table table-striped table-hover table-condensed table-responsive\">\n  <thead>\n    <tr style=\"text-align: right;\">\n      <th></th>\n      <th>52201</th>\n    </tr>\n  </thead>\n  <tbody>\n    <tr>\n      <th>met</th>\n      <td>0</td>\n    </tr>\n    <tr>\n      <th>wave</th>\n      <td>37128</td>\n    </tr>\n    <tr>\n      <th>type</th>\n      <td>buoy</td>\n    </tr>\n    <tr>\n      <th>name</th>\n      <td>Kalo, Majuro, Marshall Islands (163)</td>\n    </tr>\n    <tr>\n      <th>pgm</th>\n      <td>IOOS Partners</td>\n    </tr>\n  </tbody>\n</table>"
      }
     },
     "5d7a49ae46344ab587e2ff93c1d4ae42": {
      "model_module": "@jupyter-widgets/controls",
      "model_module_version": "1.5.0",
      "model_name": "DescriptionStyleModel",
      "state": {
       "description_width": ""
      }
     },
     "5da91a724cb7484199a7d9cb421eab9e": {
      "model_module": "@jupyter-widgets/base",
      "model_module_version": "1.2.0",
      "model_name": "LayoutModel",
      "state": {}
     },
     "5ec8e9a5843d4abfb5d909e2aa9304cd": {
      "model_module": "@jupyter-widgets/controls",
      "model_module_version": "1.5.0",
      "model_name": "HTMLModel",
      "state": {
       "layout": "IPY_MODEL_907712a06f0f48ebb235892b8d1d3b2a",
       "style": "IPY_MODEL_71fc2810772d420884345e3572e8f32d",
       "value": "<table border=\"1\" class=\"dataframe table table-striped table-hover table-condensed table-responsive\">\n  <thead>\n    <tr style=\"text-align: right;\">\n      <th></th>\n      <th>45022</th>\n    </tr>\n  </thead>\n  <tbody>\n    <tr>\n      <th>met</th>\n      <td>11032</td>\n    </tr>\n    <tr>\n      <th>wave</th>\n      <td>11032</td>\n    </tr>\n    <tr>\n      <th>type</th>\n      <td>buoy</td>\n    </tr>\n    <tr>\n      <th>name</th>\n      <td>Little Traverse Bay Buoy, MI</td>\n    </tr>\n    <tr>\n      <th>pgm</th>\n      <td>IOOS Partners</td>\n    </tr>\n  </tbody>\n</table>"
      }
     },
     "5ee3f84aaf0e42cbb99029460ae838df": {
      "model_module": "@jupyter-widgets/controls",
      "model_module_version": "1.5.0",
      "model_name": "DescriptionStyleModel",
      "state": {
       "description_width": ""
      }
     },
     "5f2c366ab7374bd1b2920f38bf4bb4db": {
      "model_module": "@jupyter-widgets/controls",
      "model_module_version": "1.5.0",
      "model_name": "DescriptionStyleModel",
      "state": {
       "description_width": ""
      }
     },
     "5fa15003c6594b43a26b4e1a5b4e402f": {
      "model_module": "@jupyter-widgets/controls",
      "model_module_version": "1.5.0",
      "model_name": "HTMLModel",
      "state": {
       "layout": "IPY_MODEL_32d88af65ad04ba2ab894c9d0815dc7d",
       "style": "IPY_MODEL_d51c9d8149034d6cbbfeb73438027351",
       "value": "<table border=\"1\" class=\"dataframe table table-striped table-hover table-condensed table-responsive\">\n  <thead>\n    <tr style=\"text-align: right;\">\n      <th></th>\n      <th>skxa2</th>\n    </tr>\n  </thead>\n  <tbody>\n    <tr>\n      <th>met</th>\n      <td>111178</td>\n    </tr>\n    <tr>\n      <th>wave</th>\n      <td>0</td>\n    </tr>\n    <tr>\n      <th>type</th>\n      <td>fixed</td>\n    </tr>\n    <tr>\n      <th>name</th>\n      <td>Skagway MXAK, AK</td>\n    </tr>\n    <tr>\n      <th>pgm</th>\n      <td>IOOS Partners</td>\n    </tr>\n  </tbody>\n</table>"
      }
     },
     "602c8e56d88b43619d53e54b1873f9bf": {
      "model_module": "jupyter-leaflet",
      "model_module_version": "^0.13.2",
      "model_name": "LeafletAwesomeIconModel",
      "state": {
       "_model_module_version": "^0.13.2",
       "_view_module_version": "^0.13.2",
       "icon_color": "white",
       "marker_color": "green",
       "name": "life-ring"
      }
     },
     "6124b97a16c54e0f8931bbf986972971": {
      "model_module": "jupyter-leaflet",
      "model_module_version": "^0.13.2",
      "model_name": "LeafletMarkerModel",
      "state": {
       "_model_module_version": "^0.13.2",
       "_view_module_version": "^0.13.2",
       "draggable": false,
       "icon": "IPY_MODEL_f3df302328c7488ca2c1e3bbab3ed19a",
       "location": [
        28.982,
        -94.899
       ],
       "options": [
        "alt",
        "draggable",
        "keyboard",
        "rise_offset",
        "rise_on_hover",
        "rotation_angle",
        "rotation_origin",
        "title",
        "z_index_offset"
       ],
       "popup": "IPY_MODEL_c60afcdf23d740fbb9fa463877c42015"
      }
     },
     "61540a1bf02e459caa2edddedf4b386d": {
      "model_module": "@jupyter-widgets/controls",
      "model_module_version": "1.5.0",
      "model_name": "HTMLModel",
      "state": {
       "layout": "IPY_MODEL_4203466f16a04b9a99d980bbbaeee3b2",
       "style": "IPY_MODEL_bdad8f102e00450983a31fe7730bf462",
       "value": "<table border=\"1\" class=\"dataframe table table-striped table-hover table-condensed table-responsive\">\n  <thead>\n    <tr style=\"text-align: right;\">\n      <th></th>\n      <th>41056</th>\n    </tr>\n  </thead>\n  <tbody>\n    <tr>\n      <th>met</th>\n      <td>112408</td>\n    </tr>\n    <tr>\n      <th>wave</th>\n      <td>18588</td>\n    </tr>\n    <tr>\n      <th>type</th>\n      <td>buoy</td>\n    </tr>\n    <tr>\n      <th>name</th>\n      <td>Vieques Island, PR</td>\n    </tr>\n    <tr>\n      <th>pgm</th>\n      <td>IOOS Partners</td>\n    </tr>\n  </tbody>\n</table>"
      }
     },
     "621610969ddc4d3486230ef7b0f6f905": {
      "model_module": "jupyter-leaflet",
      "model_module_version": "^0.13.2",
      "model_name": "LeafletAwesomeIconModel",
      "state": {
       "_model_module_version": "^0.13.2",
       "_view_module_version": "^0.13.2",
       "icon_color": "white",
       "marker_color": "orange",
       "name": "life-ring"
      }
     },
     "63cbcf757c8d4a9c87bdc218b8574dd0": {
      "model_module": "@jupyter-widgets/controls",
      "model_module_version": "1.5.0",
      "model_name": "DescriptionStyleModel",
      "state": {
       "description_width": ""
      }
     },
     "63dd4d01596149fcb22e2a9c341d8510": {
      "model_module": "jupyter-leaflet",
      "model_module_version": "^0.13.2",
      "model_name": "LeafletMarkerModel",
      "state": {
       "_model_module_version": "^0.13.2",
       "_view_module_version": "^0.13.2",
       "draggable": false,
       "icon": "IPY_MODEL_063dbef2270a4d6ebfb7421af072cb4a",
       "location": [
        41.894,
        -87.613
       ],
       "options": [
        "alt",
        "draggable",
        "keyboard",
        "rise_offset",
        "rise_on_hover",
        "rotation_angle",
        "rotation_origin",
        "title",
        "z_index_offset"
       ],
       "popup": "IPY_MODEL_8f8a4dfe807a48b08b7c790f3d6ad12c"
      }
     },
     "643e1af1211d4900abf1ddfd754707b1": {
      "model_module": "jupyter-leaflet",
      "model_module_version": "^0.13.2",
      "model_name": "LeafletAwesomeIconModel",
      "state": {
       "_model_module_version": "^0.13.2",
       "_view_module_version": "^0.13.2",
       "icon_color": "white",
       "marker_color": "red",
       "name": "life-ring"
      }
     },
     "64643eb8f9774d1a816e080994e3080e": {
      "model_module": "@jupyter-widgets/controls",
      "model_module_version": "1.5.0",
      "model_name": "HTMLModel",
      "state": {
       "layout": "IPY_MODEL_76f63d5515184dabb9891579a995d332",
       "style": "IPY_MODEL_383ab8485e044a56b59a2f1236fe7c59",
       "value": "<table border=\"1\" class=\"dataframe table table-striped table-hover table-condensed table-responsive\">\n  <thead>\n    <tr style=\"text-align: right;\">\n      <th></th>\n      <th>45026</th>\n    </tr>\n  </thead>\n  <tbody>\n    <tr>\n      <th>met</th>\n      <td>44664</td>\n    </tr>\n    <tr>\n      <th>wave</th>\n      <td>44558</td>\n    </tr>\n    <tr>\n      <th>type</th>\n      <td>buoy</td>\n    </tr>\n    <tr>\n      <th>name</th>\n      <td>Cook Nuclear Plant Buoy, Stevensville, MI</td>\n    </tr>\n    <tr>\n      <th>pgm</th>\n      <td>IOOS Partners</td>\n    </tr>\n  </tbody>\n</table>"
      }
     },
     "646f9931ceaf48f998177b5922f4bfea": {
      "model_module": "jupyter-leaflet",
      "model_module_version": "^0.13.2",
      "model_name": "LeafletAwesomeIconModel",
      "state": {
       "_model_module_version": "^0.13.2",
       "_view_module_version": "^0.13.2",
       "icon_color": "white",
       "marker_color": "green",
       "name": "life-ring"
      }
     },
     "647efcbbad95449bba5ec691d217bc3f": {
      "model_module": "jupyter-leaflet",
      "model_module_version": "^0.13.2",
      "model_name": "LeafletMarkerModel",
      "state": {
       "_model_module_version": "^0.13.2",
       "_view_module_version": "^0.13.2",
       "draggable": false,
       "icon": "IPY_MODEL_6f4b541c530b44faa3a2cc27b32eafb2",
       "location": [
        17.869,
        -66.532
       ],
       "options": [
        "alt",
        "draggable",
        "keyboard",
        "rise_offset",
        "rise_on_hover",
        "rotation_angle",
        "rotation_origin",
        "title",
        "z_index_offset"
       ],
       "popup": "IPY_MODEL_8c4981271bb243cab67e7a3fff353e44"
      }
     },
     "648b2fd111fe41538f6d268364755d24": {
      "model_module": "@jupyter-widgets/controls",
      "model_module_version": "1.5.0",
      "model_name": "HTMLModel",
      "state": {
       "layout": "IPY_MODEL_03a3c5df381e4a2ca463c9ae9e3fb073",
       "style": "IPY_MODEL_583a7a4a2b0442059f11392a399dbc45",
       "value": "<table border=\"1\" class=\"dataframe table table-striped table-hover table-condensed table-responsive\">\n  <thead>\n    <tr style=\"text-align: right;\">\n      <th></th>\n      <th>spll1</th>\n    </tr>\n  </thead>\n  <tbody>\n    <tr>\n      <th>met</th>\n      <td>8272</td>\n    </tr>\n    <tr>\n      <th>wave</th>\n      <td>0</td>\n    </tr>\n    <tr>\n      <th>type</th>\n      <td>fixed</td>\n    </tr>\n    <tr>\n      <th>name</th>\n      <td>South Timbalier Block 52, LA / CSI06</td>\n    </tr>\n    <tr>\n      <th>pgm</th>\n      <td>IOOS Partners</td>\n    </tr>\n  </tbody>\n</table>"
      }
     },
     "64d72ac7cc76442286045798248263f9": {
      "model_module": "@jupyter-widgets/base",
      "model_module_version": "1.2.0",
      "model_name": "LayoutModel",
      "state": {}
     },
     "64e2c07983bc42dbb563bbfce0b5bb69": {
      "model_module": "jupyter-leaflet",
      "model_module_version": "^0.13.2",
      "model_name": "LeafletMarkerModel",
      "state": {
       "_model_module_version": "^0.13.2",
       "_view_module_version": "^0.13.2",
       "draggable": false,
       "icon": "IPY_MODEL_25ca17fe5d6546388712c212bfdd038a",
       "location": [
        29.441,
        -92.061
       ],
       "options": [
        "alt",
        "draggable",
        "keyboard",
        "rise_offset",
        "rise_on_hover",
        "rotation_angle",
        "rotation_origin",
        "title",
        "z_index_offset"
       ],
       "popup": "IPY_MODEL_de98150b6ddd46f2997f6ed68420e01c"
      }
     },
     "6542bdbda6cc4103b4036e6762715ea2": {
      "model_module": "@jupyter-widgets/controls",
      "model_module_version": "1.5.0",
      "model_name": "HTMLModel",
      "state": {
       "layout": "IPY_MODEL_e9c694b916e44303aaedab55f9f36bd0",
       "style": "IPY_MODEL_5d7a49ae46344ab587e2ff93c1d4ae42",
       "value": "<table border=\"1\" class=\"dataframe table table-striped table-hover table-condensed table-responsive\">\n  <thead>\n    <tr style=\"text-align: right;\">\n      <th></th>\n      <th>46125</th>\n    </tr>\n  </thead>\n  <tbody>\n    <tr>\n      <th>met</th>\n      <td>80648</td>\n    </tr>\n    <tr>\n      <th>wave</th>\n      <td>0</td>\n    </tr>\n    <tr>\n      <th>type</th>\n      <td>buoy</td>\n    </tr>\n    <tr>\n      <th>name</th>\n      <td>Hansville - Hood Canal, WA</td>\n    </tr>\n    <tr>\n      <th>pgm</th>\n      <td>IOOS Partners</td>\n    </tr>\n  </tbody>\n</table>"
      }
     },
     "6567c75069464d458e90fac6d37039df": {
      "model_module": "jupyter-leaflet",
      "model_module_version": "^0.13.2",
      "model_name": "LeafletAwesomeIconModel",
      "state": {
       "_model_module_version": "^0.13.2",
       "_view_module_version": "^0.13.2",
       "icon_color": "white",
       "marker_color": "orange",
       "name": "life-ring"
      }
     },
     "6595d1ea99784f7b82c986d285f731d0": {
      "model_module": "@jupyter-widgets/controls",
      "model_module_version": "1.5.0",
      "model_name": "HTMLModel",
      "state": {
       "layout": "IPY_MODEL_a04ca26b133e429ca9c6c5fd4d882b68",
       "style": "IPY_MODEL_e0715a91d7fe46ad8d068ae60af9b527",
       "value": "<table border=\"1\" class=\"dataframe table table-striped table-hover table-condensed table-responsive\">\n  <thead>\n    <tr style=\"text-align: right;\">\n      <th></th>\n      <th>41159</th>\n    </tr>\n  </thead>\n  <tbody>\n    <tr>\n      <th>met</th>\n      <td>0</td>\n    </tr>\n    <tr>\n      <th>wave</th>\n      <td>37570</td>\n    </tr>\n    <tr>\n      <th>type</th>\n      <td>buoy</td>\n    </tr>\n    <tr>\n      <th>name</th>\n      <td>Onslow Bay Outer, NC (217)</td>\n    </tr>\n    <tr>\n      <th>pgm</th>\n      <td>IOOS Partners</td>\n    </tr>\n  </tbody>\n</table>"
      }
     },
     "65da719305f24cab80e875b668ae5c95": {
      "model_module": "@jupyter-widgets/controls",
      "model_module_version": "1.5.0",
      "model_name": "HTMLModel",
      "state": {
       "layout": "IPY_MODEL_dd0f4c3dfdf04a79bffeca3439139d8b",
       "style": "IPY_MODEL_c3cc0dfca0154339880c6b97b662c0b4",
       "value": "<table border=\"1\" class=\"dataframe table table-striped table-hover table-condensed table-responsive\">\n  <thead>\n    <tr style=\"text-align: right;\">\n      <th></th>\n      <th>45028</th>\n    </tr>\n  </thead>\n  <tbody>\n    <tr>\n      <th>met</th>\n      <td>31450</td>\n    </tr>\n    <tr>\n      <th>wave</th>\n      <td>31450</td>\n    </tr>\n    <tr>\n      <th>type</th>\n      <td>buoy</td>\n    </tr>\n    <tr>\n      <th>name</th>\n      <td>Western Lake Superior</td>\n    </tr>\n    <tr>\n      <th>pgm</th>\n      <td>IOOS Partners</td>\n    </tr>\n  </tbody>\n</table>"
      }
     },
     "6651c27e556d43bf98a301a2511a54a2": {
      "model_module": "jupyter-leaflet",
      "model_module_version": "^0.13.2",
      "model_name": "LeafletAwesomeIconModel",
      "state": {
       "_model_module_version": "^0.13.2",
       "_view_module_version": "^0.13.2",
       "icon_color": "white",
       "marker_color": "orange",
       "name": "life-ring"
      }
     },
     "6662eed7397b4b469739746df4d1a75c": {
      "model_module": "@jupyter-widgets/base",
      "model_module_version": "1.2.0",
      "model_name": "LayoutModel",
      "state": {}
     },
     "6695ab931ddf418a957e8573d2bcf146": {
      "model_module": "@jupyter-widgets/base",
      "model_module_version": "1.2.0",
      "model_name": "LayoutModel",
      "state": {}
     },
     "673695a390e84767b09425c41fe596d7": {
      "model_module": "jupyter-leaflet",
      "model_module_version": "^0.13.2",
      "model_name": "LeafletMapModel",
      "state": {
       "_model_module_version": "^0.13.2",
       "_view_module_version": "^0.13.2",
       "bottom": 1822,
       "center": [
        35,
        -95
       ],
       "controls": [
        "IPY_MODEL_d1f2552b315c44f982d64208149edaff",
        "IPY_MODEL_532c8c5e6cea4927846bf22557a13eba",
        "IPY_MODEL_f438ba2a9cc945a89a390bd8dccf1c41",
        "IPY_MODEL_73e266fb1e0046439e90f5a89e14552d"
       ],
       "default_style": "IPY_MODEL_ecfbcf52817d44ffb78193df7ed4cbec",
       "dragging_style": "IPY_MODEL_50f81feead554e74a6e32a0dc4860984",
       "east": -70.04882812500001,
       "fullscreen": false,
       "interpolation": "bilinear",
       "layers": [
        "IPY_MODEL_5c8a00fe708e4ee5aed4c03bbc45644b",
        "IPY_MODEL_ddb9cfdae52946958465a12a11b71b3f",
        "IPY_MODEL_ec2738044e9041bd9c6be159cb74a27d",
        "IPY_MODEL_30a9c4fea0ea414889056f74048a3824",
        "IPY_MODEL_b1f983745321480ba23e218004677efb",
        "IPY_MODEL_93d95d7a83a547c2b9fd4b128e3f682a",
        "IPY_MODEL_525f366242c342d59427b424bc19333c",
        "IPY_MODEL_8e268d2286f54cefb534298bd085b4e8",
        "IPY_MODEL_df4280ac48654d45a642a41e6c90e632",
        "IPY_MODEL_20385c500d2e4350b12156250d59bda0",
        "IPY_MODEL_d3bf5af4d0a84bc7b21eeda0f7b36167",
        "IPY_MODEL_f6dc0adfcd8d43de80c592a595c78b22",
        "IPY_MODEL_5b6865fc35404c2aa088fe5f027e99a8",
        "IPY_MODEL_dc1216e76ef24d4b918ea4ebd97262ff",
        "IPY_MODEL_90413bbefdde48429f15733557003ce0",
        "IPY_MODEL_05dbe665d4a14eba8a1189b96019bac7",
        "IPY_MODEL_6124b97a16c54e0f8931bbf986972971",
        "IPY_MODEL_b01e719a2dff4fcaa14a36681ab6901a",
        "IPY_MODEL_3fdc921e48824e3ca8a5a79265f04f3f",
        "IPY_MODEL_50cb55ae269a4cef98a2b4839b8d623f",
        "IPY_MODEL_647efcbbad95449bba5ec691d217bc3f",
        "IPY_MODEL_2c6e081f946e4c99b990385eae17677b",
        "IPY_MODEL_cc0d94591e504037b6fed25ea3f0c923",
        "IPY_MODEL_b836de72c8894b0f87bdffe3d3617989",
        "IPY_MODEL_e7aa7a258d4543679d2870ec60fe07c4",
        "IPY_MODEL_10322db2cebb483e975bbe180a31eb13",
        "IPY_MODEL_7e1dceba5d4b4a58bff652cecdb7af8f",
        "IPY_MODEL_9b87226ad6ea42f484d32711b8cbbee7",
        "IPY_MODEL_1de0f76d35a44a5c92e3017e43f93ffe",
        "IPY_MODEL_ebd3ead1a9b243ab9c70a96642407f3a",
        "IPY_MODEL_137ff16fe94a451dbe4280d4e69159e8",
        "IPY_MODEL_179aa78fb15e407d8bfad77cb5879859",
        "IPY_MODEL_90acece6b85e4e838d023690b6cec8e9",
        "IPY_MODEL_f469ecbc22e54333800b64c214c51d07",
        "IPY_MODEL_d1e15b8b0e1f48adb41867c3e740a238",
        "IPY_MODEL_99d2a57cdcec4d06b81241e791074713",
        "IPY_MODEL_5712c9e6ee90468eb88a2ad2f8a71d6f",
        "IPY_MODEL_ce85db58c2fb465fa3eda43b8e1087f6",
        "IPY_MODEL_3c1b9cf690234e66a36ad6fc4d10a0b5",
        "IPY_MODEL_8bce3d838ff44e8e82944dd6bb8cee84",
        "IPY_MODEL_31483d3b27804960a691c3ddef67ef1a",
        "IPY_MODEL_e809220a8af24be099a64e61bb09c432",
        "IPY_MODEL_47ce41a42d3e47b083131c2d79c2809b",
        "IPY_MODEL_275dd127cc06426e9677c7a35a3cfa25",
        "IPY_MODEL_6a1b068a864a4d35bcc54c53005eb19d",
        "IPY_MODEL_0895b9dd5fe14953a0fcb71cf66df970",
        "IPY_MODEL_8e52bd2e58674d75a6849bd0d17a20a9",
        "IPY_MODEL_a6029edc7aca478eb62186b480e36cc2",
        "IPY_MODEL_2192c44970b14fa8846a0b8d603bc70d",
        "IPY_MODEL_7975066892a34ed299f0d2641e43d5c6",
        "IPY_MODEL_ff901f7ffcfe48a3bed0cb22391fc62c",
        "IPY_MODEL_e4115efddf48413496015275cab349a0",
        "IPY_MODEL_81bed7bc71be4862bd37865c928d8015",
        "IPY_MODEL_5b374555e8cd4eea963962df6735f355",
        "IPY_MODEL_63dd4d01596149fcb22e2a9c341d8510",
        "IPY_MODEL_36755058e7954b1e83db89baf2ede56e",
        "IPY_MODEL_380df6f560ce4af7ab04be57bb9c2c9f",
        "IPY_MODEL_b9e111e5c1af4776b484205f1ddbb7cc",
        "IPY_MODEL_1d3e9cb5faca4159a2d9334c677c45ee",
        "IPY_MODEL_7e577e7ad15f4cb78df0e460e498d93d",
        "IPY_MODEL_f85cb1b954624d8e8a52b6a3b726e68e",
        "IPY_MODEL_7160f7e8a9d1489c8d152dffd38c2681",
        "IPY_MODEL_f45154c8bfae4f4a9c29559c47c9a36d",
        "IPY_MODEL_3d34155233784a34b88d921c3516c48e",
        "IPY_MODEL_96dfac9b4ba648faa64e8c632537a974",
        "IPY_MODEL_3738d0c109d445b0bd5057e378050657",
        "IPY_MODEL_f7f3649df88f4cdfa53d576d8af90542",
        "IPY_MODEL_aefb8de7bc4e4876b3bb4adc34907d54",
        "IPY_MODEL_a242d779c16147ad92c8dd114683d59a",
        "IPY_MODEL_3aa434218a9f415797a03408646be2b9",
        "IPY_MODEL_e75b04fd2db6421ba771ba4bd416f464",
        "IPY_MODEL_ed9aad0f402a4883b68b08feb626b37d",
        "IPY_MODEL_56e0a732f90a4b06bec95baa5dd9d91a",
        "IPY_MODEL_df00d01cff2944f48ba1621d7d964cf8",
        "IPY_MODEL_18f78e49bc08490e8dfea5c8d3d86f5c",
        "IPY_MODEL_c7a980946286429eaca413ef8bce778d",
        "IPY_MODEL_13fd4fccc4f64f52b29c5834ceaffc53",
        "IPY_MODEL_42903cd487fb49c68890ae98587714a9",
        "IPY_MODEL_41e85c9c109a4c9a88cdba19078c8ca2",
        "IPY_MODEL_7978d6005dd843d3bde8927d0223e367",
        "IPY_MODEL_214068f391bf441294c27b64563d1e3c",
        "IPY_MODEL_8f338f39d565459cbc9dbfbd2448d906",
        "IPY_MODEL_756b422fc3b243e59aeb57f38b691cb6",
        "IPY_MODEL_173b177358c04f9f83a1a90d5a486f02",
        "IPY_MODEL_344cc32319e1469b9e6e97896b04ccc7",
        "IPY_MODEL_f3a6cb8b86924747ab30415c3b0ed4e6",
        "IPY_MODEL_6d82f6c894c44f1aa8e3da90aaaff154",
        "IPY_MODEL_d879522636d843af9066f32d72917dc1",
        "IPY_MODEL_4decf99d313f4a51943b11174163f32e",
        "IPY_MODEL_49ff5c93e2064d1cb4dd1321cbd53279",
        "IPY_MODEL_8feeecc7836044c794a240e3056ca934",
        "IPY_MODEL_55cba1edc87a455b9af43ef90f8ab6e9",
        "IPY_MODEL_911908ed066f46f48965a2ea997e83a6",
        "IPY_MODEL_760fc7c190584f5f8a01971d846ec2cf",
        "IPY_MODEL_92955841334643ba8f581aa9eb759857",
        "IPY_MODEL_8b329235433a4cfeb46814474095d548",
        "IPY_MODEL_2ddf4601fd30437194d49ff51a79f741",
        "IPY_MODEL_d5e96ca822b04257ae3229c4450a4daf",
        "IPY_MODEL_f99f96e1a19443078a8bc4f1268a3f4c",
        "IPY_MODEL_b9306674aa4f4815aa6da5bfec2c271b",
        "IPY_MODEL_7194d5286f2b42e683450a43b998f74f",
        "IPY_MODEL_d07049b4ce8e4ea49ffe6b605e671bed",
        "IPY_MODEL_f765b2c7144a4d088fcde6ea959e6a41",
        "IPY_MODEL_8dad0e5c4f3043afaf90cb708788bac0",
        "IPY_MODEL_209727143abc4d82b3d59d185d5fe982",
        "IPY_MODEL_8274d25c22e4403f8fcbd70b1c928d4e",
        "IPY_MODEL_a5afedb6f5a34ae9aa6751f93534cc7d",
        "IPY_MODEL_1a2f7d18942849649c1c8017d93e51f0",
        "IPY_MODEL_26dd3cf82b644502b71ee78761b4afc9",
        "IPY_MODEL_cea5f453271b45dc8dd3053e7f260852",
        "IPY_MODEL_cb29d47f322c457cbffa7ccc607599ca",
        "IPY_MODEL_89a5332578d0402ca3ed3c2be1da1791",
        "IPY_MODEL_8018cd9c1f6d4e68a7011904901dd228",
        "IPY_MODEL_fbff03a7c330459eb10edb5a54b40e36",
        "IPY_MODEL_38097ec9c3b549068d9853e93a3aeed2",
        "IPY_MODEL_fadad80529704a76a39517605df57704",
        "IPY_MODEL_f4ee95b5d8ee4cd9a919fc1ed28ec20e",
        "IPY_MODEL_b3dd05557ff6435cb028da1aabe0de06",
        "IPY_MODEL_c1e947b6c898477382895793f0048d62",
        "IPY_MODEL_72e6c82b8cdd4fa5b3b7ede1799a25e6",
        "IPY_MODEL_bb46463671774ab38e092425ce1b16b1",
        "IPY_MODEL_64e2c07983bc42dbb563bbfce0b5bb69",
        "IPY_MODEL_148f779c4c9c48748249a7ab59e5f7a9",
        "IPY_MODEL_f711cf141bc349db8eae0962a00561af",
        "IPY_MODEL_8b765520827d4fe5be50c86b79c46a7b",
        "IPY_MODEL_2f3509a917c64d9ebc7f6af928d755d7",
        "IPY_MODEL_30b07c33676e47919a36a740680df027",
        "IPY_MODEL_95849d1d676f4055a18de1c2c389982a",
        "IPY_MODEL_cd4bc9b29f6a48deaf557b124ab21aa3",
        "IPY_MODEL_982c1a94aba044feb33eeade23dbdbd3",
        "IPY_MODEL_eeecca4ba5ea462c91d78d665d8d5c2c",
        "IPY_MODEL_27229e7f2e9b4441a59a306ba7590131",
        "IPY_MODEL_5cc826c1a17e4860b99fd6b46a4d4fc9",
        "IPY_MODEL_9c441a811b494d04b66156fcd01b8aa6",
        "IPY_MODEL_fd20ab55f3944f99b2871898dc0bdf72",
        "IPY_MODEL_c49c0259cae244748ba1300be41c5793",
        "IPY_MODEL_70a2f9b755f243f7842daca0afdc1cd5",
        "IPY_MODEL_df0d1ad2a3bd419fb5a2fb9eacc72c7a",
        "IPY_MODEL_a264dba647104c5f840f9691c65f655d",
        "IPY_MODEL_3a9561b07ff1497c9f3e85cbe3d55819",
        "IPY_MODEL_d2c197bf5f024c8cb7f76552c4483e9e",
        "IPY_MODEL_6afab708846f4052918e21ce5c4f287c",
        "IPY_MODEL_a69d6c4155174e98a077ab1c31d1dc08",
        "IPY_MODEL_eb5ca10052ea4a629d437cc639e9e326",
        "IPY_MODEL_ad0ebebf31304271ab563e9eca1c295a",
        "IPY_MODEL_3cd9b987bfed493bb55f3d2dc63f0779",
        "IPY_MODEL_d0c00cfe51db4923b5d5e9fa4cd0a47f",
        "IPY_MODEL_15344973c0884eb7b357738cf5bf040f",
        "IPY_MODEL_fc90b893ad0842a087edbffe25fc224a",
        "IPY_MODEL_b50eb48a8b8c400bad593c8cb00424ff",
        "IPY_MODEL_151bf650825e4fe48504be01364bd551",
        "IPY_MODEL_fdff20158fb44bc4b3d3d2c68df2308b",
        "IPY_MODEL_71232bd4e0034bf798346d8421094154",
        "IPY_MODEL_4d89b67ccc454a15bcc8d0185bf031c2",
        "IPY_MODEL_06338cd0cf1a499db72a0e062764ccea",
        "IPY_MODEL_7235ed2cc70549ed822f7be039ac34bd",
        "IPY_MODEL_c23bba04a87c4f56a8ac50ebfe8eb531",
        "IPY_MODEL_d246141385944b4cac619bde08c36744",
        "IPY_MODEL_db08ade78a03485dba0a2de37ab21bf3",
        "IPY_MODEL_c62364c1ddfd440eac817f64cbe63f36",
        "IPY_MODEL_673b51d30a964991a16177521130bf5a",
        "IPY_MODEL_47f8105f45f84eb588e2cff0eb383e5c"
       ],
       "layout": "IPY_MODEL_9a695073e01748a99ed4a4dadc34cad3",
       "left": 684,
       "modisdate": "yesterday",
       "north": 48.10743118848039,
       "options": [
        "bounce_at_zoom_limits",
        "box_zoom",
        "center",
        "close_popup_on_click",
        "double_click_zoom",
        "dragging",
        "fullscreen",
        "inertia",
        "inertia_deceleration",
        "inertia_max_speed",
        "interpolation",
        "keyboard",
        "keyboard_pan_offset",
        "keyboard_zoom_offset",
        "max_zoom",
        "min_zoom",
        "scroll_wheel_zoom",
        "tap",
        "tap_tolerance",
        "touch_zoom",
        "world_copy_jump",
        "zoom",
        "zoom_animation_threshold",
        "zoom_delta",
        "zoom_snap",
        "zoom_start"
       ],
       "right": 1251,
       "south": 19.476950206488414,
       "style": "IPY_MODEL_3a3e7099129147a286d72bf08e58012b",
       "top": 1422,
       "west": -119.88281250000001,
       "window_url": "http://127.0.0.1:8888/notebooks/notebooks/2020-10-10-GTS.ipynb",
       "zoom": 4
      }
     },
     "673b51d30a964991a16177521130bf5a": {
      "model_module": "jupyter-leaflet",
      "model_module_version": "^0.13.2",
      "model_name": "LeafletMarkerModel",
      "state": {
       "_model_module_version": "^0.13.2",
       "_view_module_version": "^0.13.2",
       "draggable": false,
       "icon": "IPY_MODEL_8e77b50aa49e47e99c21751433c56492",
       "location": [
        29.689,
        -93.842
       ],
       "options": [
        "alt",
        "draggable",
        "keyboard",
        "rise_offset",
        "rise_on_hover",
        "rotation_angle",
        "rotation_origin",
        "title",
        "z_index_offset"
       ],
       "popup": "IPY_MODEL_41fa51bd84324bc2a453bab6f5951c75"
      }
     },
     "675f1680d21f49ac87eba685a639a330": {
      "model_module": "@jupyter-widgets/controls",
      "model_module_version": "1.5.0",
      "model_name": "HTMLModel",
      "state": {
       "layout": "IPY_MODEL_c5fdfb5f87b24856b5eb508dbcf93378",
       "style": "IPY_MODEL_15d5017233e84f169df877ac5aba5026",
       "value": "<table border=\"1\" class=\"dataframe table table-striped table-hover table-condensed table-responsive\">\n  <thead>\n    <tr style=\"text-align: right;\">\n      <th></th>\n      <th>44040</th>\n    </tr>\n  </thead>\n  <tbody>\n    <tr>\n      <th>met</th>\n      <td>24874</td>\n    </tr>\n    <tr>\n      <th>wave</th>\n      <td>21384</td>\n    </tr>\n    <tr>\n      <th>type</th>\n      <td>buoy</td>\n    </tr>\n    <tr>\n      <th>name</th>\n      <td>Western Long Island Sound</td>\n    </tr>\n    <tr>\n      <th>pgm</th>\n      <td>IOOS Partners</td>\n    </tr>\n  </tbody>\n</table>"
      }
     },
     "6785ffb3efc74c47878c231f86c861b0": {
      "model_module": "jupyter-leaflet",
      "model_module_version": "^0.13.2",
      "model_name": "LeafletAwesomeIconModel",
      "state": {
       "_model_module_version": "^0.13.2",
       "_view_module_version": "^0.13.2",
       "icon_color": "white",
       "marker_color": "red",
       "name": "life-ring"
      }
     },
     "69106499fb22461cb31e9718c329089b": {
      "model_module": "@jupyter-widgets/controls",
      "model_module_version": "1.5.0",
      "model_name": "DescriptionStyleModel",
      "state": {
       "description_width": ""
      }
     },
     "69b104a941544deab8eb5a2884116dea": {
      "model_module": "jupyter-leaflet",
      "model_module_version": "^0.13.2",
      "model_name": "LeafletAwesomeIconModel",
      "state": {
       "_model_module_version": "^0.13.2",
       "_view_module_version": "^0.13.2",
       "icon_color": "white",
       "marker_color": "orange",
       "name": "life-ring"
      }
     },
     "6a1b068a864a4d35bcc54c53005eb19d": {
      "model_module": "jupyter-leaflet",
      "model_module_version": "^0.13.2",
      "model_name": "LeafletMarkerModel",
      "state": {
       "_model_module_version": "^0.13.2",
       "_view_module_version": "^0.13.2",
       "draggable": false,
       "icon": "IPY_MODEL_85fb89e183da429184aff71febcac840",
       "location": [
        41.702,
        -83.261
       ],
       "options": [
        "alt",
        "draggable",
        "keyboard",
        "rise_offset",
        "rise_on_hover",
        "rotation_angle",
        "rotation_origin",
        "title",
        "z_index_offset"
       ],
       "popup": "IPY_MODEL_3d90e66a96a84a128e35dba53dcf7936"
      }
     },
     "6a598ce9b5ce4dc1b5ae65628d21d661": {
      "model_module": "jupyter-leaflet",
      "model_module_version": "^0.13.2",
      "model_name": "LeafletAwesomeIconModel",
      "state": {
       "_model_module_version": "^0.13.2",
       "_view_module_version": "^0.13.2",
       "icon_color": "white",
       "marker_color": "orange",
       "name": "life-ring"
      }
     },
     "6a62d46a9c094da1a86e1a92a69e1494": {
      "model_module": "@jupyter-widgets/controls",
      "model_module_version": "1.5.0",
      "model_name": "HTMLModel",
      "state": {
       "layout": "IPY_MODEL_02af044dd80e434bbff3295f640a6db6",
       "style": "IPY_MODEL_1067968b3ebf4ad2ad0c147a473a1a56",
       "value": "<table border=\"1\" class=\"dataframe table table-striped table-hover table-condensed table-responsive\">\n  <thead>\n    <tr style=\"text-align: right;\">\n      <th></th>\n      <th>nkxa2</th>\n    </tr>\n  </thead>\n  <tbody>\n    <tr>\n      <th>met</th>\n      <td>111242</td>\n    </tr>\n    <tr>\n      <th>wave</th>\n      <td>0</td>\n    </tr>\n    <tr>\n      <th>type</th>\n      <td>fixed</td>\n    </tr>\n    <tr>\n      <th>name</th>\n      <td>Naked Island, AK</td>\n    </tr>\n    <tr>\n      <th>pgm</th>\n      <td>IOOS Partners</td>\n    </tr>\n  </tbody>\n</table>"
      }
     },
     "6a9b53d0604f405fb75403f09b0aec9d": {
      "model_module": "@jupyter-widgets/controls",
      "model_module_version": "1.5.0",
      "model_name": "DescriptionStyleModel",
      "state": {
       "description_width": ""
      }
     },
     "6aebd9d1b2324763be09946de4947f09": {
      "model_module": "@jupyter-widgets/controls",
      "model_module_version": "1.5.0",
      "model_name": "HTMLModel",
      "state": {
       "layout": "IPY_MODEL_8564467cfd704581af7393a218224e41",
       "style": "IPY_MODEL_745e053586124306bc38dd9c8e2c3d53",
       "value": "<table border=\"1\" class=\"dataframe table table-striped table-hover table-condensed table-responsive\">\n  <thead>\n    <tr style=\"text-align: right;\">\n      <th></th>\n      <th>tibc1</th>\n    </tr>\n  </thead>\n  <tbody>\n    <tr>\n      <th>met</th>\n      <td>156554</td>\n    </tr>\n    <tr>\n      <th>wave</th>\n      <td>0</td>\n    </tr>\n    <tr>\n      <th>type</th>\n      <td>fixed</td>\n    </tr>\n    <tr>\n      <th>name</th>\n      <td>Tiburon Pier, San Francisco Bay, CA</td>\n    </tr>\n    <tr>\n      <th>pgm</th>\n      <td>IOOS Partners</td>\n    </tr>\n  </tbody>\n</table>"
      }
     },
     "6afab708846f4052918e21ce5c4f287c": {
      "model_module": "jupyter-leaflet",
      "model_module_version": "^0.13.2",
      "model_name": "LeafletMarkerModel",
      "state": {
       "_model_module_version": "^0.13.2",
       "_view_module_version": "^0.13.2",
       "draggable": false,
       "icon": "IPY_MODEL_f20f58f2ef4941bfbf7b45af7e9f58e8",
       "location": [
        26.262,
        -97.285
       ],
       "options": [
        "alt",
        "draggable",
        "keyboard",
        "rise_offset",
        "rise_on_hover",
        "rotation_angle",
        "rotation_origin",
        "title",
        "z_index_offset"
       ],
       "popup": "IPY_MODEL_d92582acb8394419aec58671043a0f9f"
      }
     },
     "6afd3cd6734c45579898de8e9e87b86a": {
      "model_module": "@jupyter-widgets/controls",
      "model_module_version": "1.5.0",
      "model_name": "DescriptionStyleModel",
      "state": {
       "description_width": ""
      }
     },
     "6c389873389c4454b5afc22812657c46": {
      "model_module": "@jupyter-widgets/base",
      "model_module_version": "1.2.0",
      "model_name": "LayoutModel",
      "state": {}
     },
     "6d1d1d9ec8664b45accd70d8653e3e21": {
      "model_module": "@jupyter-widgets/controls",
      "model_module_version": "1.5.0",
      "model_name": "HTMLModel",
      "state": {
       "layout": "IPY_MODEL_a9fe25b92cb245b6ac6727c7d1463f93",
       "style": "IPY_MODEL_5a3e387bb2c240e685c9c3123420b43a",
       "value": "<table border=\"1\" class=\"dataframe table table-striped table-hover table-condensed table-responsive\">\n  <thead>\n    <tr style=\"text-align: right;\">\n      <th></th>\n      <th>42013</th>\n    </tr>\n  </thead>\n  <tbody>\n    <tr>\n      <th>met</th>\n      <td>31924</td>\n    </tr>\n    <tr>\n      <th>wave</th>\n      <td>0</td>\n    </tr>\n    <tr>\n      <th>type</th>\n      <td>buoy</td>\n    </tr>\n    <tr>\n      <th>name</th>\n      <td>C10 - WFS Central Buoy, 25m Isobath</td>\n    </tr>\n    <tr>\n      <th>pgm</th>\n      <td>IOOS Partners</td>\n    </tr>\n  </tbody>\n</table>"
      }
     },
     "6d1fda86813841ed936b0a1d31a3ffc2": {
      "model_module": "@jupyter-widgets/base",
      "model_module_version": "1.2.0",
      "model_name": "LayoutModel",
      "state": {}
     },
     "6d6c098a92994a26a68a689f79585ebb": {
      "model_module": "jupyter-leaflet",
      "model_module_version": "^0.13.2",
      "model_name": "LeafletAwesomeIconModel",
      "state": {
       "_model_module_version": "^0.13.2",
       "_view_module_version": "^0.13.2",
       "icon_color": "white",
       "marker_color": "green",
       "name": "life-ring"
      }
     },
     "6d82f6c894c44f1aa8e3da90aaaff154": {
      "model_module": "jupyter-leaflet",
      "model_module_version": "^0.13.2",
      "model_name": "LeafletMarkerModel",
      "state": {
       "_model_module_version": "^0.13.2",
       "_view_module_version": "^0.13.2",
       "draggable": false,
       "icon": "IPY_MODEL_a0e2dc8f6602484c931f47e6d7b1b5c9",
       "location": [
        28.227,
        -96.796
       ],
       "options": [
        "alt",
        "draggable",
        "keyboard",
        "rise_offset",
        "rise_on_hover",
        "rotation_angle",
        "rotation_origin",
        "title",
        "z_index_offset"
       ],
       "popup": "IPY_MODEL_dfd5a6077cbb4885811f248cf22f20e0"
      }
     },
     "6de86034fdde475094895a088fddcc7b": {
      "model_module": "jupyter-leaflet",
      "model_module_version": "^0.13.2",
      "model_name": "LeafletAwesomeIconModel",
      "state": {
       "_model_module_version": "^0.13.2",
       "_view_module_version": "^0.13.2",
       "icon_color": "white",
       "marker_color": "orange",
       "name": "life-ring"
      }
     },
     "6df04ecb29244a16a2b23599a1c232f8": {
      "model_module": "@jupyter-widgets/controls",
      "model_module_version": "1.5.0",
      "model_name": "HTMLModel",
      "state": {
       "layout": "IPY_MODEL_c6b83517f73f404fbb68f6282b1af806",
       "style": "IPY_MODEL_ea8eb25919cb4fa584c46a1334a582fd",
       "value": "<table border=\"1\" class=\"dataframe table table-striped table-hover table-condensed table-responsive\">\n  <thead>\n    <tr style=\"text-align: right;\">\n      <th></th>\n      <th>rixa2</th>\n    </tr>\n  </thead>\n  <tbody>\n    <tr>\n      <th>met</th>\n      <td>109358</td>\n    </tr>\n    <tr>\n      <th>wave</th>\n      <td>0</td>\n    </tr>\n    <tr>\n      <th>type</th>\n      <td>fixed</td>\n    </tr>\n    <tr>\n      <th>name</th>\n      <td>Rocky Island, AK</td>\n    </tr>\n    <tr>\n      <th>pgm</th>\n      <td>IOOS Partners</td>\n    </tr>\n  </tbody>\n</table>"
      }
     },
     "6efa17e1a02c420d8c9a8d343d257e2d": {
      "model_module": "jupyter-leaflet",
      "model_module_version": "^0.13.2",
      "model_name": "LeafletAwesomeIconModel",
      "state": {
       "_model_module_version": "^0.13.2",
       "_view_module_version": "^0.13.2",
       "icon_color": "white",
       "marker_color": "orange",
       "name": "life-ring"
      }
     },
     "6f4b541c530b44faa3a2cc27b32eafb2": {
      "model_module": "jupyter-leaflet",
      "model_module_version": "^0.13.2",
      "model_name": "LeafletAwesomeIconModel",
      "state": {
       "_model_module_version": "^0.13.2",
       "_view_module_version": "^0.13.2",
       "icon_color": "white",
       "marker_color": "green",
       "name": "life-ring"
      }
     },
     "709b6debf60d430cbed4e1014c431be8": {
      "model_module": "@jupyter-widgets/controls",
      "model_module_version": "1.5.0",
      "model_name": "HTMLModel",
      "state": {
       "layout": "IPY_MODEL_55944f6153e64a4dab74a9e1e0ca987b",
       "style": "IPY_MODEL_21b4aa5f202c4896af46c05297cd52b1",
       "value": "<table border=\"1\" class=\"dataframe table table-striped table-hover table-condensed table-responsive\">\n  <thead>\n    <tr style=\"text-align: right;\">\n      <th></th>\n      <th>fsti2</th>\n    </tr>\n  </thead>\n  <tbody>\n    <tr>\n      <th>met</th>\n      <td>814</td>\n    </tr>\n    <tr>\n      <th>wave</th>\n      <td>0</td>\n    </tr>\n    <tr>\n      <th>type</th>\n      <td>fixed</td>\n    </tr>\n    <tr>\n      <th>name</th>\n      <td>Foster Ave., Chicago, IL</td>\n    </tr>\n    <tr>\n      <th>pgm</th>\n      <td>IOOS Partners</td>\n    </tr>\n  </tbody>\n</table>"
      }
     },
     "70a2f9b755f243f7842daca0afdc1cd5": {
      "model_module": "jupyter-leaflet",
      "model_module_version": "^0.13.2",
      "model_name": "LeafletMarkerModel",
      "state": {
       "_model_module_version": "^0.13.2",
       "_view_module_version": "^0.13.2",
       "draggable": false,
       "icon": "IPY_MODEL_ad092598435a4e3f8610e472f2ee1f1a",
       "location": [
        29.867,
        -93.931
       ],
       "options": [
        "alt",
        "draggable",
        "keyboard",
        "rise_offset",
        "rise_on_hover",
        "rotation_angle",
        "rotation_origin",
        "title",
        "z_index_offset"
       ],
       "popup": "IPY_MODEL_23da6233cfa84ecdaae28167a98f2bba"
      }
     },
     "70d17b4ab94c48a799ff22c4e3ed86cd": {
      "model_module": "@jupyter-widgets/base",
      "model_module_version": "1.2.0",
      "model_name": "LayoutModel",
      "state": {}
     },
     "710c0bc593ca4f36b78cb92b7e38167e": {
      "model_module": "@jupyter-widgets/controls",
      "model_module_version": "1.5.0",
      "model_name": "DescriptionStyleModel",
      "state": {
       "description_width": ""
      }
     },
     "711ac62fbc5545048091727752045e6c": {
      "model_module": "@jupyter-widgets/controls",
      "model_module_version": "1.5.0",
      "model_name": "HTMLModel",
      "state": {
       "layout": "IPY_MODEL_80e7eab73298465f89050cedd267a65a",
       "style": "IPY_MODEL_5721eed2c58141dca9ff2a1048f27dda",
       "value": "<table border=\"1\" class=\"dataframe table table-striped table-hover table-condensed table-responsive\">\n  <thead>\n    <tr style=\"text-align: right;\">\n      <th></th>\n      <th>46246</th>\n    </tr>\n  </thead>\n  <tbody>\n    <tr>\n      <th>met</th>\n      <td>0</td>\n    </tr>\n    <tr>\n      <th>wave</th>\n      <td>27700</td>\n    </tr>\n    <tr>\n      <th>type</th>\n      <td>buoy</td>\n    </tr>\n    <tr>\n      <th>name</th>\n      <td>Ocean Station PAPA  (166)</td>\n    </tr>\n    <tr>\n      <th>pgm</th>\n      <td>IOOS Partners</td>\n    </tr>\n  </tbody>\n</table>"
      }
     },
     "71232bd4e0034bf798346d8421094154": {
      "model_module": "jupyter-leaflet",
      "model_module_version": "^0.13.2",
      "model_name": "LeafletMarkerModel",
      "state": {
       "_model_module_version": "^0.13.2",
       "_view_module_version": "^0.13.2",
       "draggable": false,
       "icon": "IPY_MODEL_209b7839513d4ed3ab2933217fa5d285",
       "location": [
        55.34,
        -131.644
       ],
       "options": [
        "alt",
        "draggable",
        "keyboard",
        "rise_offset",
        "rise_on_hover",
        "rotation_angle",
        "rotation_origin",
        "title",
        "z_index_offset"
       ],
       "popup": "IPY_MODEL_948af176459847438b600abfc5a3f302"
      }
     },
     "7160f7e8a9d1489c8d152dffd38c2681": {
      "model_module": "jupyter-leaflet",
      "model_module_version": "^0.13.2",
      "model_name": "LeafletMarkerModel",
      "state": {
       "_model_module_version": "^0.13.2",
       "_view_module_version": "^0.13.2",
       "draggable": false,
       "icon": "IPY_MODEL_81c4b139726b4f569c8e31a96ef39fe2",
       "location": [
        47.761,
        -122.397
       ],
       "options": [
        "alt",
        "draggable",
        "keyboard",
        "rise_offset",
        "rise_on_hover",
        "rotation_angle",
        "rotation_origin",
        "title",
        "z_index_offset"
       ],
       "popup": "IPY_MODEL_d37d77af19724c33bb1c6577335b6c16"
      }
     },
     "7194d5286f2b42e683450a43b998f74f": {
      "model_module": "jupyter-leaflet",
      "model_module_version": "^0.13.2",
      "model_name": "LeafletMarkerModel",
      "state": {
       "_model_module_version": "^0.13.2",
       "_view_module_version": "^0.13.2",
       "draggable": false,
       "icon": "IPY_MODEL_ace05c446a9d49efb7913ecd274b6bbb",
       "location": [
        55.446,
        -131.881
       ],
       "options": [
        "alt",
        "draggable",
        "keyboard",
        "rise_offset",
        "rise_on_hover",
        "rotation_angle",
        "rotation_origin",
        "title",
        "z_index_offset"
       ],
       "popup": "IPY_MODEL_f6fdc7f8a1904ee5a8f7006ebc1810c5"
      }
     },
     "71fc2810772d420884345e3572e8f32d": {
      "model_module": "@jupyter-widgets/controls",
      "model_module_version": "1.5.0",
      "model_name": "DescriptionStyleModel",
      "state": {
       "description_width": ""
      }
     },
     "7235ed2cc70549ed822f7be039ac34bd": {
      "model_module": "jupyter-leaflet",
      "model_module_version": "^0.13.2",
      "model_name": "LeafletMarkerModel",
      "state": {
       "_model_module_version": "^0.13.2",
       "_view_module_version": "^0.13.2",
       "draggable": false,
       "icon": "IPY_MODEL_7767cddc21814d51956ecfc5ce615fb1",
       "location": [
        57.116,
        -135.391
       ],
       "options": [
        "alt",
        "draggable",
        "keyboard",
        "rise_offset",
        "rise_on_hover",
        "rotation_angle",
        "rotation_origin",
        "title",
        "z_index_offset"
       ],
       "popup": "IPY_MODEL_5a9efbcc760945b79f5bd9cc69f8966f"
      }
     },
     "72e6c82b8cdd4fa5b3b7ede1799a25e6": {
      "model_module": "jupyter-leaflet",
      "model_module_version": "^0.13.2",
      "model_name": "LeafletMarkerModel",
      "state": {
       "_model_module_version": "^0.13.2",
       "_view_module_version": "^0.13.2",
       "draggable": false,
       "icon": "IPY_MODEL_ff048db60e2b4be58ef84faa9fc70c08",
       "location": [
        36.802,
        -121.791
       ],
       "options": [
        "alt",
        "draggable",
        "keyboard",
        "rise_offset",
        "rise_on_hover",
        "rotation_angle",
        "rotation_origin",
        "title",
        "z_index_offset"
       ],
       "popup": "IPY_MODEL_9cae2e268b604b7ba73ab7b972f2bf65"
      }
     },
     "7308bcc6a6d746fc80b5189257838aad": {
      "model_module": "@jupyter-widgets/controls",
      "model_module_version": "1.5.0",
      "model_name": "HTMLModel",
      "state": {
       "layout": "IPY_MODEL_64d72ac7cc76442286045798248263f9",
       "style": "IPY_MODEL_493bc4dffa6946ac89ce8bd1e65a9320",
       "value": "<table border=\"1\" class=\"dataframe table table-striped table-hover table-condensed table-responsive\">\n  <thead>\n    <tr style=\"text-align: right;\">\n      <th></th>\n      <th>jaki2</th>\n    </tr>\n  </thead>\n  <tbody>\n    <tr>\n      <th>met</th>\n      <td>2588</td>\n    </tr>\n    <tr>\n      <th>wave</th>\n      <td>0</td>\n    </tr>\n    <tr>\n      <th>type</th>\n      <td>fixed</td>\n    </tr>\n    <tr>\n      <th>name</th>\n      <td>63rd St., Chicago, IL</td>\n    </tr>\n    <tr>\n      <th>pgm</th>\n      <td>IOOS Partners</td>\n    </tr>\n  </tbody>\n</table>"
      }
     },
     "73e266fb1e0046439e90f5a89e14552d": {
      "model_module": "jupyter-leaflet",
      "model_module_version": "^0.13.2",
      "model_name": "LeafletLegendControlModel",
      "state": {
       "_model_module_version": "^0.13.2",
       "_view_module_version": "^0.13.2",
       "legend": {
        "both": "#008000",
        "met": "#FFA500",
        "wave": "#FF0000"
       },
       "options": [
        "position"
       ],
       "title": "GTS"
      }
     },
     "73f7fc5a2e2d4f0ca9b0bd6984e7a45c": {
      "model_module": "@jupyter-widgets/controls",
      "model_module_version": "1.5.0",
      "model_name": "HTMLModel",
      "state": {
       "layout": "IPY_MODEL_8d2dadbca6cb404ebd759d2a682a0d6c",
       "style": "IPY_MODEL_07060fd0d63b49479d03ebff9c687898",
       "value": "<table border=\"1\" class=\"dataframe table table-striped table-hover table-condensed table-responsive\">\n  <thead>\n    <tr style=\"text-align: right;\">\n      <th></th>\n      <th>46096</th>\n    </tr>\n  </thead>\n  <tbody>\n    <tr>\n      <th>met</th>\n      <td>6084</td>\n    </tr>\n    <tr>\n      <th>wave</th>\n      <td>0</td>\n    </tr>\n    <tr>\n      <th>type</th>\n      <td>buoy</td>\n    </tr>\n    <tr>\n      <th>name</th>\n      <td>Columbia River Entrance - SATURN Station #02 Offshore</td>\n    </tr>\n    <tr>\n      <th>pgm</th>\n      <td>IOOS Partners</td>\n    </tr>\n  </tbody>\n</table>"
      }
     },
     "745e053586124306bc38dd9c8e2c3d53": {
      "model_module": "@jupyter-widgets/controls",
      "model_module_version": "1.5.0",
      "model_name": "DescriptionStyleModel",
      "state": {
       "description_width": ""
      }
     },
     "746a0f71be094324997ebf8f9652bcf0": {
      "model_module": "@jupyter-widgets/base",
      "model_module_version": "1.2.0",
      "model_name": "LayoutModel",
      "state": {}
     },
     "74829284b3144b53bbc4292705f2716f": {
      "model_module": "@jupyter-widgets/controls",
      "model_module_version": "1.5.0",
      "model_name": "DescriptionStyleModel",
      "state": {
       "description_width": ""
      }
     },
     "74bc3427059d45ef83d61a40df1ee25b": {
      "model_module": "jupyter-leaflet",
      "model_module_version": "^0.13.2",
      "model_name": "LeafletAwesomeIconModel",
      "state": {
       "_model_module_version": "^0.13.2",
       "_view_module_version": "^0.13.2",
       "icon_color": "white",
       "marker_color": "orange",
       "name": "life-ring"
      }
     },
     "74d9eb8fad1c4615995e05a90b33077f": {
      "model_module": "@jupyter-widgets/controls",
      "model_module_version": "1.5.0",
      "model_name": "HTMLModel",
      "state": {
       "layout": "IPY_MODEL_cd297e10261940289c4950c4fb1fe684",
       "style": "IPY_MODEL_7eea673961a84b9a97f9d2a673d5ffab",
       "value": "<table border=\"1\" class=\"dataframe table table-striped table-hover table-condensed table-responsive\">\n  <thead>\n    <tr style=\"text-align: right;\">\n      <th></th>\n      <th>anpt2</th>\n    </tr>\n  </thead>\n  <tbody>\n    <tr>\n      <th>met</th>\n      <td>183800</td>\n    </tr>\n    <tr>\n      <th>wave</th>\n      <td>0</td>\n    </tr>\n    <tr>\n      <th>type</th>\n      <td>fixed</td>\n    </tr>\n    <tr>\n      <th>name</th>\n      <td>8775241 - Aransas, Aransas Pass, TX</td>\n    </tr>\n    <tr>\n      <th>pgm</th>\n      <td>IOOS Partners</td>\n    </tr>\n  </tbody>\n</table>"
      }
     },
     "756b422fc3b243e59aeb57f38b691cb6": {
      "model_module": "jupyter-leaflet",
      "model_module_version": "^0.13.2",
      "model_name": "LeafletMarkerModel",
      "state": {
       "_model_module_version": "^0.13.2",
       "_view_module_version": "^0.13.2",
       "draggable": false,
       "icon": "IPY_MODEL_d3afcc2ec4c54dc79213568cf8c3502c",
       "location": [
        58.287,
        -134.398
       ],
       "options": [
        "alt",
        "draggable",
        "keyboard",
        "rise_offset",
        "rise_on_hover",
        "rotation_angle",
        "rotation_origin",
        "title",
        "z_index_offset"
       ],
       "popup": "IPY_MODEL_02605fdcee8e49d3bd5c7653779c6c10"
      }
     },
     "7578cf704cb94a8b9328180c9bfd65b0": {
      "model_module": "@jupyter-widgets/base",
      "model_module_version": "1.2.0",
      "model_name": "LayoutModel",
      "state": {}
     },
     "760fc7c190584f5f8a01971d846ec2cf": {
      "model_module": "jupyter-leaflet",
      "model_module_version": "^0.13.2",
      "model_name": "LeafletMarkerModel",
      "state": {
       "_model_module_version": "^0.13.2",
       "_view_module_version": "^0.13.2",
       "draggable": false,
       "icon": "IPY_MODEL_e60ddf3a4bf64f7fb1fba2d25b424dff",
       "location": [
        35.17,
        -120.741
       ],
       "options": [
        "alt",
        "draggable",
        "keyboard",
        "rise_offset",
        "rise_on_hover",
        "rotation_angle",
        "rotation_origin",
        "title",
        "z_index_offset"
       ],
       "popup": "IPY_MODEL_0740579930f6475ba99a5782e2d7a9c7"
      }
     },
     "76b13e69bc6543d89d5bd9ee18f441d2": {
      "model_module": "@jupyter-widgets/controls",
      "model_module_version": "1.5.0",
      "model_name": "DescriptionStyleModel",
      "state": {
       "description_width": ""
      }
     },
     "76f63d5515184dabb9891579a995d332": {
      "model_module": "@jupyter-widgets/base",
      "model_module_version": "1.2.0",
      "model_name": "LayoutModel",
      "state": {}
     },
     "773f67c6018c40469c56b5b8688a601a": {
      "model_module": "@jupyter-widgets/base",
      "model_module_version": "1.2.0",
      "model_name": "LayoutModel",
      "state": {}
     },
     "77594c71860c4be8ad35ecddd8a49335": {
      "model_module": "jupyter-leaflet",
      "model_module_version": "^0.13.2",
      "model_name": "LeafletAwesomeIconModel",
      "state": {
       "_model_module_version": "^0.13.2",
       "_view_module_version": "^0.13.2",
       "icon_color": "white",
       "marker_color": "green",
       "name": "life-ring"
      }
     },
     "7767cddc21814d51956ecfc5ce615fb1": {
      "model_module": "jupyter-leaflet",
      "model_module_version": "^0.13.2",
      "model_name": "LeafletAwesomeIconModel",
      "state": {
       "_model_module_version": "^0.13.2",
       "_view_module_version": "^0.13.2",
       "icon_color": "white",
       "marker_color": "orange",
       "name": "life-ring"
      }
     },
     "7839dafd3d0f4e4bb9bf410d6448c4e9": {
      "model_module": "@jupyter-widgets/controls",
      "model_module_version": "1.5.0",
      "model_name": "DescriptionStyleModel",
      "state": {
       "description_width": ""
      }
     },
     "78fb2a30b2c048ca902a656e9966d818": {
      "model_module": "jupyter-leaflet",
      "model_module_version": "^0.13.2",
      "model_name": "LeafletAwesomeIconModel",
      "state": {
       "_model_module_version": "^0.13.2",
       "_view_module_version": "^0.13.2",
       "icon_color": "white",
       "marker_color": "orange",
       "name": "life-ring"
      }
     },
     "791741f10f14431e842e6af0a7161ab7": {
      "model_module": "jupyter-leaflet",
      "model_module_version": "^0.13.2",
      "model_name": "LeafletAwesomeIconModel",
      "state": {
       "_model_module_version": "^0.13.2",
       "_view_module_version": "^0.13.2",
       "icon_color": "white",
       "marker_color": "red",
       "name": "life-ring"
      }
     },
     "7975066892a34ed299f0d2641e43d5c6": {
      "model_module": "jupyter-leaflet",
      "model_module_version": "^0.13.2",
      "model_name": "LeafletMarkerModel",
      "state": {
       "_model_module_version": "^0.13.2",
       "_view_module_version": "^0.13.2",
       "draggable": false,
       "icon": "IPY_MODEL_4bdc8f3c296d4936b7eacac75560680b",
       "location": [
        46.74,
        -85.98
       ],
       "options": [
        "alt",
        "draggable",
        "keyboard",
        "rise_offset",
        "rise_on_hover",
        "rotation_angle",
        "rotation_origin",
        "title",
        "z_index_offset"
       ],
       "popup": "IPY_MODEL_efbf3e5250bc4a338d1ce68868c78993"
      }
     },
     "7978d6005dd843d3bde8927d0223e367": {
      "model_module": "jupyter-leaflet",
      "model_module_version": "^0.13.2",
      "model_name": "LeafletMarkerModel",
      "state": {
       "_model_module_version": "^0.13.2",
       "_view_module_version": "^0.13.2",
       "draggable": false,
       "icon": "IPY_MODEL_344ccb9bf8b049cfa4d50aa8e8167c38",
       "location": [
        7.083,
        171.392
       ],
       "options": [
        "alt",
        "draggable",
        "keyboard",
        "rise_offset",
        "rise_on_hover",
        "rotation_angle",
        "rotation_origin",
        "title",
        "z_index_offset"
       ],
       "popup": "IPY_MODEL_5ce71fa76e5a4348bbea34a82130f88d"
      }
     },
     "79be39c4a58e49ec8f80488438196c12": {
      "model_module": "jupyter-leaflet",
      "model_module_version": "^0.13.2",
      "model_name": "LeafletAwesomeIconModel",
      "state": {
       "_model_module_version": "^0.13.2",
       "_view_module_version": "^0.13.2",
       "icon_color": "white",
       "marker_color": "orange",
       "name": "life-ring"
      }
     },
     "7b1cc5835aca45e29b8399ec8832886c": {
      "model_module": "@jupyter-widgets/base",
      "model_module_version": "1.2.0",
      "model_name": "LayoutModel",
      "state": {}
     },
     "7b57876d5a3d48019a11553bd64124d8": {
      "model_module": "jupyter-leaflet",
      "model_module_version": "^0.13.2",
      "model_name": "LeafletAwesomeIconModel",
      "state": {
       "_model_module_version": "^0.13.2",
       "_view_module_version": "^0.13.2",
       "icon_color": "white",
       "marker_color": "green",
       "name": "life-ring"
      }
     },
     "7b6deb6c3cf34192b9444e05d3967f4d": {
      "model_module": "jupyter-leaflet",
      "model_module_version": "^0.13.2",
      "model_name": "LeafletAwesomeIconModel",
      "state": {
       "_model_module_version": "^0.13.2",
       "_view_module_version": "^0.13.2",
       "icon_color": "white",
       "marker_color": "green",
       "name": "life-ring"
      }
     },
     "7ba1db12a59c4e53a2d1b402db0992ac": {
      "model_module": "@jupyter-widgets/controls",
      "model_module_version": "1.5.0",
      "model_name": "HTMLModel",
      "state": {
       "layout": "IPY_MODEL_1aa1f8db2c684b5da52d12cab8dbae48",
       "style": "IPY_MODEL_c94f0484b4fd49b1b955418263d6fda9",
       "value": "<table border=\"1\" class=\"dataframe table table-striped table-hover table-condensed table-responsive\">\n  <thead>\n    <tr style=\"text-align: right;\">\n      <th></th>\n      <th>46108</th>\n    </tr>\n  </thead>\n  <tbody>\n    <tr>\n      <th>met</th>\n      <td>0</td>\n    </tr>\n    <tr>\n      <th>wave</th>\n      <td>10398</td>\n    </tr>\n    <tr>\n      <th>type</th>\n      <td>buoy</td>\n    </tr>\n    <tr>\n      <th>name</th>\n      <td>Lower Cook Inlet (204)</td>\n    </tr>\n    <tr>\n      <th>pgm</th>\n      <td>IOOS Partners</td>\n    </tr>\n  </tbody>\n</table>"
      }
     },
     "7ce708a1ea8345128cbf20161b2de611": {
      "model_module": "jupyter-leaflet",
      "model_module_version": "^0.13.2",
      "model_name": "LeafletAwesomeIconModel",
      "state": {
       "_model_module_version": "^0.13.2",
       "_view_module_version": "^0.13.2",
       "icon_color": "white",
       "marker_color": "orange",
       "name": "life-ring"
      }
     },
     "7cf5502702f54350a641533c2de92641": {
      "model_module": "@jupyter-widgets/controls",
      "model_module_version": "1.5.0",
      "model_name": "HTMLModel",
      "state": {
       "layout": "IPY_MODEL_2b39b6984d0544c2a3d6ff136eb2cbd6",
       "style": "IPY_MODEL_2b3e234f4b0d42b8a0ee58b28fdb50b6",
       "value": "<table border=\"1\" class=\"dataframe table table-striped table-hover table-condensed table-responsive\">\n  <thead>\n    <tr style=\"text-align: right;\">\n      <th></th>\n      <th>mrna2</th>\n    </tr>\n  </thead>\n  <tbody>\n    <tr>\n      <th>met</th>\n      <td>95060</td>\n    </tr>\n    <tr>\n      <th>wave</th>\n      <td>0</td>\n    </tr>\n    <tr>\n      <th>type</th>\n      <td>fixed</td>\n    </tr>\n    <tr>\n      <th>name</th>\n      <td>Marmion Island, AK</td>\n    </tr>\n    <tr>\n      <th>pgm</th>\n      <td>IOOS Partners</td>\n    </tr>\n  </tbody>\n</table>"
      }
     },
     "7dd5c4e892524ee59535f84273237ba7": {
      "model_module": "jupyter-leaflet",
      "model_module_version": "^0.13.2",
      "model_name": "LeafletAwesomeIconModel",
      "state": {
       "_model_module_version": "^0.13.2",
       "_view_module_version": "^0.13.2",
       "icon_color": "white",
       "marker_color": "orange",
       "name": "life-ring"
      }
     },
     "7e1dceba5d4b4a58bff652cecdb7af8f": {
      "model_module": "jupyter-leaflet",
      "model_module_version": "^0.13.2",
      "model_name": "LeafletMarkerModel",
      "state": {
       "_model_module_version": "^0.13.2",
       "_view_module_version": "^0.13.2",
       "draggable": false,
       "icon": "IPY_MODEL_77594c71860c4be8ad35ecddd8a49335",
       "location": [
        44.055,
        -68.996
       ],
       "options": [
        "alt",
        "draggable",
        "keyboard",
        "rise_offset",
        "rise_on_hover",
        "rotation_angle",
        "rotation_origin",
        "title",
        "z_index_offset"
       ],
       "popup": "IPY_MODEL_8f1ba7eb94a04b4cb321368ddc5745be"
      }
     },
     "7e1e77b1b6fe415fb04ca01515dd58f1": {
      "model_module": "@jupyter-widgets/controls",
      "model_module_version": "1.5.0",
      "model_name": "HTMLModel",
      "state": {
       "layout": "IPY_MODEL_cb011b7f308b467689d5744134379f0f",
       "style": "IPY_MODEL_8f234e4239804f9a97cd5b237b0e4e12",
       "value": "<table border=\"1\" class=\"dataframe table table-striped table-hover table-condensed table-responsive\">\n  <thead>\n    <tr style=\"text-align: right;\">\n      <th></th>\n      <th>cdxa2</th>\n    </tr>\n  </thead>\n  <tbody>\n    <tr>\n      <th>met</th>\n      <td>57320</td>\n    </tr>\n    <tr>\n      <th>wave</th>\n      <td>0</td>\n    </tr>\n    <tr>\n      <th>type</th>\n      <td>fixed</td>\n    </tr>\n    <tr>\n      <th>name</th>\n      <td>Cape Decision MXAK, AK</td>\n    </tr>\n    <tr>\n      <th>pgm</th>\n      <td>IOOS Partners</td>\n    </tr>\n  </tbody>\n</table>"
      }
     },
     "7e577e7ad15f4cb78df0e460e498d93d": {
      "model_module": "jupyter-leaflet",
      "model_module_version": "^0.13.2",
      "model_name": "LeafletMarkerModel",
      "state": {
       "_model_module_version": "^0.13.2",
       "_view_module_version": "^0.13.2",
       "draggable": false,
       "icon": "IPY_MODEL_56a8eee48303433b808f070d2adf75c9",
       "location": [
        59.597,
        -151.83
       ],
       "options": [
        "alt",
        "draggable",
        "keyboard",
        "rise_offset",
        "rise_on_hover",
        "rotation_angle",
        "rotation_origin",
        "title",
        "z_index_offset"
       ],
       "popup": "IPY_MODEL_7ba1db12a59c4e53a2d1b402db0992ac"
      }
     },
     "7eea673961a84b9a97f9d2a673d5ffab": {
      "model_module": "@jupyter-widgets/controls",
      "model_module_version": "1.5.0",
      "model_name": "DescriptionStyleModel",
      "state": {
       "description_width": ""
      }
     },
     "7f233d1fb65749338ed337e7fe37fb4a": {
      "model_module": "@jupyter-widgets/controls",
      "model_module_version": "1.5.0",
      "model_name": "HTMLModel",
      "state": {
       "layout": "IPY_MODEL_efd428866ccc44dab1ff1e0fe5154da6",
       "style": "IPY_MODEL_afb49d306ded4aa08d693727067bac22",
       "value": "<table border=\"1\" class=\"dataframe table table-striped table-hover table-condensed table-responsive\">\n  <thead>\n    <tr style=\"text-align: right;\">\n      <th></th>\n      <th>rsjt2</th>\n    </tr>\n  </thead>\n  <tbody>\n    <tr>\n      <th>met</th>\n      <td>183376</td>\n    </tr>\n    <tr>\n      <th>wave</th>\n      <td>0</td>\n    </tr>\n    <tr>\n      <th>type</th>\n      <td>fixed</td>\n    </tr>\n    <tr>\n      <th>name</th>\n      <td>8777812 - Rincon del San Jose, TX</td>\n    </tr>\n    <tr>\n      <th>pgm</th>\n      <td>IOOS Partners</td>\n    </tr>\n  </tbody>\n</table>"
      }
     },
     "7f363f407ad84d458560390cbe184cc8": {
      "model_module": "@jupyter-widgets/base",
      "model_module_version": "1.2.0",
      "model_name": "LayoutModel",
      "state": {}
     },
     "7fe6f68b6dc54c3d9efa5c601e58419f": {
      "model_module": "@jupyter-widgets/controls",
      "model_module_version": "1.5.0",
      "model_name": "HTMLModel",
      "state": {
       "layout": "IPY_MODEL_8446d81c2eda4d899b9d925553f6cfea",
       "style": "IPY_MODEL_3fdb6648fb9d443eb8b3d31fb1d9c9dc",
       "value": "<table border=\"1\" class=\"dataframe table table-striped table-hover table-condensed table-responsive\">\n  <thead>\n    <tr style=\"text-align: right;\">\n      <th></th>\n      <th>42067</th>\n    </tr>\n  </thead>\n  <tbody>\n    <tr>\n      <th>met</th>\n      <td>11638</td>\n    </tr>\n    <tr>\n      <th>wave</th>\n      <td>11630</td>\n    </tr>\n    <tr>\n      <th>type</th>\n      <td>other</td>\n    </tr>\n    <tr>\n      <th>name</th>\n      <td>USM-R1</td>\n    </tr>\n    <tr>\n      <th>pgm</th>\n      <td>IOOS Partners</td>\n    </tr>\n  </tbody>\n</table>"
      }
     },
     "8018cd9c1f6d4e68a7011904901dd228": {
      "model_module": "jupyter-leaflet",
      "model_module_version": "^0.13.2",
      "model_name": "LeafletMarkerModel",
      "state": {
       "_model_module_version": "^0.13.2",
       "_view_module_version": "^0.13.2",
       "draggable": false,
       "icon": "IPY_MODEL_9c1f4f1692dc4b07a1a7cc7884680354",
       "location": [
        30.258,
        -88.213
       ],
       "options": [
        "alt",
        "draggable",
        "keyboard",
        "rise_offset",
        "rise_on_hover",
        "rotation_angle",
        "rotation_origin",
        "title",
        "z_index_offset"
       ],
       "popup": "IPY_MODEL_59ae0d9b135044a6948cc940bdb3defc"
      }
     },
     "8047fd42c6cf41eaa2cbe2aa325149d6": {
      "model_module": "@jupyter-widgets/base",
      "model_module_version": "1.2.0",
      "model_name": "LayoutModel",
      "state": {}
     },
     "80997b9c964946378bcbcadef67fd432": {
      "model_module": "@jupyter-widgets/controls",
      "model_module_version": "1.5.0",
      "model_name": "DescriptionStyleModel",
      "state": {
       "description_width": ""
      }
     },
     "80e7eab73298465f89050cedd267a65a": {
      "model_module": "@jupyter-widgets/base",
      "model_module_version": "1.2.0",
      "model_name": "LayoutModel",
      "state": {}
     },
     "8163c73bbba04e259594321e121fbb89": {
      "model_module": "@jupyter-widgets/controls",
      "model_module_version": "1.5.0",
      "model_name": "DescriptionStyleModel",
      "state": {
       "description_width": ""
      }
     },
     "81bed7bc71be4862bd37865c928d8015": {
      "model_module": "jupyter-leaflet",
      "model_module_version": "^0.13.2",
      "model_name": "LeafletMarkerModel",
      "state": {
       "_model_module_version": "^0.13.2",
       "_view_module_version": "^0.13.2",
       "draggable": false,
       "icon": "IPY_MODEL_d7032c5b1e6b485293167554cda14232",
       "location": [
        45.825,
        -84.772
       ],
       "options": [
        "alt",
        "draggable",
        "keyboard",
        "rise_offset",
        "rise_on_hover",
        "rotation_angle",
        "rotation_origin",
        "title",
        "z_index_offset"
       ],
       "popup": "IPY_MODEL_3f8800ea79b54278863222654890a49c"
      }
     },
     "81c02dd84dab4eae8ee7a6ab3e4eb4f7": {
      "model_module": "@jupyter-widgets/controls",
      "model_module_version": "1.5.0",
      "model_name": "DescriptionStyleModel",
      "state": {
       "description_width": ""
      }
     },
     "81c4b139726b4f569c8e31a96ef39fe2": {
      "model_module": "jupyter-leaflet",
      "model_module_version": "^0.13.2",
      "model_name": "LeafletAwesomeIconModel",
      "state": {
       "_model_module_version": "^0.13.2",
       "_view_module_version": "^0.13.2",
       "icon_color": "white",
       "marker_color": "orange",
       "name": "life-ring"
      }
     },
     "820a803e1a8e4dea97c88c8ecf0b614e": {
      "model_module": "jupyter-leaflet",
      "model_module_version": "^0.13.2",
      "model_name": "LeafletAwesomeIconModel",
      "state": {
       "_model_module_version": "^0.13.2",
       "_view_module_version": "^0.13.2",
       "icon_color": "white",
       "marker_color": "orange",
       "name": "life-ring"
      }
     },
     "820c8b2440084eaf937a3f54b99722a4": {
      "model_module": "@jupyter-widgets/base",
      "model_module_version": "1.2.0",
      "model_name": "LayoutModel",
      "state": {}
     },
     "8274d25c22e4403f8fcbd70b1c928d4e": {
      "model_module": "jupyter-leaflet",
      "model_module_version": "^0.13.2",
      "model_name": "LeafletMarkerModel",
      "state": {
       "_model_module_version": "^0.13.2",
       "_view_module_version": "^0.13.2",
       "draggable": false,
       "icon": "IPY_MODEL_7ce708a1ea8345128cbf20161b2de611",
       "location": [
        29.595,
        -94.39
       ],
       "options": [
        "alt",
        "draggable",
        "keyboard",
        "rise_offset",
        "rise_on_hover",
        "rotation_angle",
        "rotation_origin",
        "title",
        "z_index_offset"
       ],
       "popup": "IPY_MODEL_e063109e304444858ded7e59c2811b9c"
      }
     },
     "8446d81c2eda4d899b9d925553f6cfea": {
      "model_module": "@jupyter-widgets/base",
      "model_module_version": "1.2.0",
      "model_name": "LayoutModel",
      "state": {}
     },
     "84ad15b605d24fb9b64e7f7f47344df4": {
      "model_module": "@jupyter-widgets/controls",
      "model_module_version": "1.5.0",
      "model_name": "DescriptionStyleModel",
      "state": {
       "description_width": ""
      }
     },
     "8527ab820fe742bc9d958f360dae8b7b": {
      "model_module": "@jupyter-widgets/base",
      "model_module_version": "1.2.0",
      "model_name": "LayoutModel",
      "state": {}
     },
     "853723e55a044b8f89f39f1f24c1533a": {
      "model_module": "@jupyter-widgets/controls",
      "model_module_version": "1.5.0",
      "model_name": "HTMLModel",
      "state": {
       "layout": "IPY_MODEL_e6266dbbf78c47269ab20c8642bb736d",
       "style": "IPY_MODEL_d43213db7daa48d3bf666b5b734944b6",
       "value": "<table border=\"1\" class=\"dataframe table table-striped table-hover table-condensed table-responsive\">\n  <thead>\n    <tr style=\"text-align: right;\">\n      <th></th>\n      <th>46118</th>\n    </tr>\n  </thead>\n  <tbody>\n    <tr>\n      <th>met</th>\n      <td>10084</td>\n    </tr>\n    <tr>\n      <th>wave</th>\n      <td>0</td>\n    </tr>\n    <tr>\n      <th>type</th>\n      <td>buoy</td>\n    </tr>\n    <tr>\n      <th>name</th>\n      <td>Se'lhaem Bellingham Bay</td>\n    </tr>\n    <tr>\n      <th>pgm</th>\n      <td>IOOS Partners</td>\n    </tr>\n  </tbody>\n</table>"
      }
     },
     "8564467cfd704581af7393a218224e41": {
      "model_module": "@jupyter-widgets/base",
      "model_module_version": "1.2.0",
      "model_name": "LayoutModel",
      "state": {}
     },
     "8567247e5217409bbd2c557e8bf498b2": {
      "model_module": "@jupyter-widgets/controls",
      "model_module_version": "1.5.0",
      "model_name": "HTMLModel",
      "state": {
       "layout": "IPY_MODEL_dfc1e223525b4cb9a6d4ec8d2e3dba32",
       "style": "IPY_MODEL_3479e008923840ba9479f4e72a5e8dc4",
       "value": "<table border=\"1\" class=\"dataframe table table-striped table-hover table-condensed table-responsive\">\n  <thead>\n    <tr style=\"text-align: right;\">\n      <th></th>\n      <th>51205</th>\n    </tr>\n  </thead>\n  <tbody>\n    <tr>\n      <th>met</th>\n      <td>0</td>\n    </tr>\n    <tr>\n      <th>wave</th>\n      <td>33920</td>\n    </tr>\n    <tr>\n      <th>type</th>\n      <td>buoy</td>\n    </tr>\n    <tr>\n      <th>name</th>\n      <td>Pauwela, Maui, HI (187)</td>\n    </tr>\n    <tr>\n      <th>pgm</th>\n      <td>IOOS Partners</td>\n    </tr>\n  </tbody>\n</table>"
      }
     },
     "859af90a79ab411fad0d2886ca893e2d": {
      "model_module": "jupyter-leaflet",
      "model_module_version": "^0.13.2",
      "model_name": "LeafletAwesomeIconModel",
      "state": {
       "_model_module_version": "^0.13.2",
       "_view_module_version": "^0.13.2",
       "icon_color": "white",
       "marker_color": "orange",
       "name": "life-ring"
      }
     },
     "85b5368e09b1458a845935c704ff59e9": {
      "model_module": "@jupyter-widgets/base",
      "model_module_version": "1.2.0",
      "model_name": "LayoutModel",
      "state": {}
     },
     "85f1ba59dd4e478293a3f2aace5677be": {
      "model_module": "jupyter-leaflet",
      "model_module_version": "^0.13.2",
      "model_name": "LeafletAwesomeIconModel",
      "state": {
       "_model_module_version": "^0.13.2",
       "_view_module_version": "^0.13.2",
       "icon_color": "white",
       "marker_color": "orange",
       "name": "life-ring"
      }
     },
     "85fb89e183da429184aff71febcac840": {
      "model_module": "jupyter-leaflet",
      "model_module_version": "^0.13.2",
      "model_name": "LeafletAwesomeIconModel",
      "state": {
       "_model_module_version": "^0.13.2",
       "_view_module_version": "^0.13.2",
       "icon_color": "white",
       "marker_color": "green",
       "name": "life-ring"
      }
     },
     "861cc83e2aec4ca2a8ba8d8f86e5d9b4": {
      "model_module": "jupyter-leaflet",
      "model_module_version": "^0.13.2",
      "model_name": "LeafletAwesomeIconModel",
      "state": {
       "_model_module_version": "^0.13.2",
       "_view_module_version": "^0.13.2",
       "icon_color": "white",
       "marker_color": "red",
       "name": "life-ring"
      }
     },
     "864b7c81df0a488f999b367fd3a69bc2": {
      "model_module": "@jupyter-widgets/controls",
      "model_module_version": "1.5.0",
      "model_name": "DescriptionStyleModel",
      "state": {
       "description_width": ""
      }
     },
     "86839f7a2f9047d1b5bcd8101dfe2ba6": {
      "model_module": "jupyter-leaflet",
      "model_module_version": "^0.13.2",
      "model_name": "LeafletAwesomeIconModel",
      "state": {
       "_model_module_version": "^0.13.2",
       "_view_module_version": "^0.13.2",
       "icon_color": "white",
       "marker_color": "orange",
       "name": "life-ring"
      }
     },
     "86a8e7e7a7474cc2aa1dfd19789e59bf": {
      "model_module": "jupyter-leaflet",
      "model_module_version": "^0.13.2",
      "model_name": "LeafletAwesomeIconModel",
      "state": {
       "_model_module_version": "^0.13.2",
       "_view_module_version": "^0.13.2",
       "icon_color": "white",
       "marker_color": "orange",
       "name": "life-ring"
      }
     },
     "878ab087301f4141b3484dc6fb743ecf": {
      "model_module": "@jupyter-widgets/base",
      "model_module_version": "1.2.0",
      "model_name": "LayoutModel",
      "state": {}
     },
     "880de304708a476f9fce5587a3058a85": {
      "model_module": "jupyter-leaflet",
      "model_module_version": "^0.13.2",
      "model_name": "LeafletAwesomeIconModel",
      "state": {
       "_model_module_version": "^0.13.2",
       "_view_module_version": "^0.13.2",
       "icon_color": "white",
       "marker_color": "orange",
       "name": "life-ring"
      }
     },
     "8870cac3a2074fad9dcb34984e709981": {
      "model_module": "jupyter-leaflet",
      "model_module_version": "^0.13.2",
      "model_name": "LeafletAwesomeIconModel",
      "state": {
       "_model_module_version": "^0.13.2",
       "_view_module_version": "^0.13.2",
       "icon_color": "white",
       "marker_color": "orange",
       "name": "life-ring"
      }
     },
     "8896c3576b46405bb7db00b55cf17e49": {
      "model_module": "@jupyter-widgets/controls",
      "model_module_version": "1.5.0",
      "model_name": "HTMLModel",
      "state": {
       "layout": "IPY_MODEL_b13541e474c043228cbe7101e98c9488",
       "style": "IPY_MODEL_d59b6bd681cf4e169daa0ae04d58522a",
       "value": "<table border=\"1\" class=\"dataframe table table-striped table-hover table-condensed table-responsive\">\n  <thead>\n    <tr style=\"text-align: right;\">\n      <th></th>\n      <th>41029</th>\n    </tr>\n  </thead>\n  <tbody>\n    <tr>\n      <th>met</th>\n      <td>19180</td>\n    </tr>\n    <tr>\n      <th>wave</th>\n      <td>0</td>\n    </tr>\n    <tr>\n      <th>type</th>\n      <td>buoy</td>\n    </tr>\n    <tr>\n      <th>name</th>\n      <td>Capers Nearshore, SC (CAP2)</td>\n    </tr>\n    <tr>\n      <th>pgm</th>\n      <td>IOOS Partners</td>\n    </tr>\n  </tbody>\n</table>"
      }
     },
     "893d756b343744ceb069af2f382adab4": {
      "model_module": "@jupyter-widgets/controls",
      "model_module_version": "1.5.0",
      "model_name": "HTMLModel",
      "state": {
       "layout": "IPY_MODEL_6662eed7397b4b469739746df4d1a75c",
       "style": "IPY_MODEL_131f70e5c0e949ea8c433e748c8991a3",
       "value": "<table border=\"1\" class=\"dataframe table table-striped table-hover table-condensed table-responsive\">\n  <thead>\n    <tr style=\"text-align: right;\">\n      <th></th>\n      <th>45027</th>\n    </tr>\n  </thead>\n  <tbody>\n    <tr>\n      <th>met</th>\n      <td>18622</td>\n    </tr>\n    <tr>\n      <th>wave</th>\n      <td>0</td>\n    </tr>\n    <tr>\n      <th>type</th>\n      <td>buoy</td>\n    </tr>\n    <tr>\n      <th>name</th>\n      <td>McQuade Harbor Nearshore, MN</td>\n    </tr>\n    <tr>\n      <th>pgm</th>\n      <td>IOOS Partners</td>\n    </tr>\n  </tbody>\n</table>"
      }
     },
     "8976bbb05cd9493b8643efeb0cc0a1be": {
      "model_module": "@jupyter-widgets/base",
      "model_module_version": "1.2.0",
      "model_name": "LayoutModel",
      "state": {}
     },
     "8978f82af680495a8a70a89ce340351c": {
      "model_module": "@jupyter-widgets/base",
      "model_module_version": "1.2.0",
      "model_name": "LayoutModel",
      "state": {}
     },
     "8982adfa203a485ebcbcc72caf80a588": {
      "model_module": "@jupyter-widgets/base",
      "model_module_version": "1.2.0",
      "model_name": "LayoutModel",
      "state": {}
     },
     "89a5332578d0402ca3ed3c2be1da1791": {
      "model_module": "jupyter-leaflet",
      "model_module_version": "^0.13.2",
      "model_name": "LeafletMarkerModel",
      "state": {
       "_model_module_version": "^0.13.2",
       "_view_module_version": "^0.13.2",
       "draggable": false,
       "icon": "IPY_MODEL_aadde3e41f4c4e188761b9b37ccf45bd",
       "location": [
        58.286,
        -134.39
       ],
       "options": [
        "alt",
        "draggable",
        "keyboard",
        "rise_offset",
        "rise_on_hover",
        "rotation_angle",
        "rotation_origin",
        "title",
        "z_index_offset"
       ],
       "popup": "IPY_MODEL_e4705756c63e488cbb9b0f96efd8c535"
      }
     },
     "89be2db890ef4125b959d3f8f5f708c9": {
      "model_module": "@jupyter-widgets/base",
      "model_module_version": "1.2.0",
      "model_name": "LayoutModel",
      "state": {}
     },
     "89f99a932505426890ca3e703a832a4a": {
      "model_module": "jupyter-leaflet",
      "model_module_version": "^0.13.2",
      "model_name": "LeafletAwesomeIconModel",
      "state": {
       "_model_module_version": "^0.13.2",
       "_view_module_version": "^0.13.2",
       "icon_color": "white",
       "marker_color": "green",
       "name": "life-ring"
      }
     },
     "8a57d5b0375e463e93ca2af69009d084": {
      "model_module": "jupyter-leaflet",
      "model_module_version": "^0.13.2",
      "model_name": "LeafletAwesomeIconModel",
      "state": {
       "_model_module_version": "^0.13.2",
       "_view_module_version": "^0.13.2",
       "icon_color": "white",
       "marker_color": "orange",
       "name": "life-ring"
      }
     },
     "8af7b7fd19a648fbb5bc7ad234e9544a": {
      "model_module": "jupyter-leaflet",
      "model_module_version": "^0.13.2",
      "model_name": "LeafletAwesomeIconModel",
      "state": {
       "_model_module_version": "^0.13.2",
       "_view_module_version": "^0.13.2",
       "icon_color": "white",
       "marker_color": "red",
       "name": "life-ring"
      }
     },
     "8b20de308d75497ca8faada76c1fbd32": {
      "model_module": "@jupyter-widgets/controls",
      "model_module_version": "1.5.0",
      "model_name": "DescriptionStyleModel",
      "state": {
       "description_width": ""
      }
     },
     "8b329235433a4cfeb46814474095d548": {
      "model_module": "jupyter-leaflet",
      "model_module_version": "^0.13.2",
      "model_name": "LeafletMarkerModel",
      "state": {
       "_model_module_version": "^0.13.2",
       "_view_module_version": "^0.13.2",
       "draggable": false,
       "icon": "IPY_MODEL_ec33181d6dfe40a5a35b4561b90febd7",
       "location": [
        28.71,
        -95.914
       ],
       "options": [
        "alt",
        "draggable",
        "keyboard",
        "rise_offset",
        "rise_on_hover",
        "rotation_angle",
        "rotation_origin",
        "title",
        "z_index_offset"
       ],
       "popup": "IPY_MODEL_346411d6630c49d79c52e49ae54c4327"
      }
     },
     "8b765520827d4fe5be50c86b79c46a7b": {
      "model_module": "jupyter-leaflet",
      "model_module_version": "^0.13.2",
      "model_name": "LeafletMarkerModel",
      "state": {
       "_model_module_version": "^0.13.2",
       "_view_module_version": "^0.13.2",
       "draggable": false,
       "icon": "IPY_MODEL_09f8448c98cf49008528b3ae8606d094",
       "location": [
        58.301,
        -134.425
       ],
       "options": [
        "alt",
        "draggable",
        "keyboard",
        "rise_offset",
        "rise_on_hover",
        "rotation_angle",
        "rotation_origin",
        "title",
        "z_index_offset"
       ],
       "popup": "IPY_MODEL_1aa093e96b164fdd92db5548565add39"
      }
     },
     "8bce3d838ff44e8e82944dd6bb8cee84": {
      "model_module": "jupyter-leaflet",
      "model_module_version": "^0.13.2",
      "model_name": "LeafletMarkerModel",
      "state": {
       "_model_module_version": "^0.13.2",
       "_view_module_version": "^0.13.2",
       "draggable": false,
       "icon": "IPY_MODEL_6d6c098a92994a26a68a689f79585ebb",
       "location": [
        41.982,
        -86.619
       ],
       "options": [
        "alt",
        "draggable",
        "keyboard",
        "rise_offset",
        "rise_on_hover",
        "rotation_angle",
        "rotation_origin",
        "title",
        "z_index_offset"
       ],
       "popup": "IPY_MODEL_64643eb8f9774d1a816e080994e3080e"
      }
     },
     "8bef69fdf6364a648d49023a7ad1face": {
      "model_module": "@jupyter-widgets/controls",
      "model_module_version": "1.5.0",
      "model_name": "DescriptionStyleModel",
      "state": {
       "description_width": ""
      }
     },
     "8c4981271bb243cab67e7a3fff353e44": {
      "model_module": "@jupyter-widgets/controls",
      "model_module_version": "1.5.0",
      "model_name": "HTMLModel",
      "state": {
       "layout": "IPY_MODEL_02ac1660517049568877580d9f147c8d",
       "style": "IPY_MODEL_f3f8c185f34b4091a6fbd3f2d939e92b",
       "value": "<table border=\"1\" class=\"dataframe table table-striped table-hover table-condensed table-responsive\">\n  <thead>\n    <tr style=\"text-align: right;\">\n      <th></th>\n      <th>42085</th>\n    </tr>\n  </thead>\n  <tbody>\n    <tr>\n      <th>met</th>\n      <td>110682</td>\n    </tr>\n    <tr>\n      <th>wave</th>\n      <td>18298</td>\n    </tr>\n    <tr>\n      <th>type</th>\n      <td>buoy</td>\n    </tr>\n    <tr>\n      <th>name</th>\n      <td>Southeast of Ponce, PR</td>\n    </tr>\n    <tr>\n      <th>pgm</th>\n      <td>IOOS Partners</td>\n    </tr>\n  </tbody>\n</table>"
      }
     },
     "8c811bdb9f024fedb816bf8ad0794a9b": {
      "model_module": "jupyter-leaflet",
      "model_module_version": "^0.13.2",
      "model_name": "LeafletAwesomeIconModel",
      "state": {
       "_model_module_version": "^0.13.2",
       "_view_module_version": "^0.13.2",
       "icon_color": "white",
       "marker_color": "orange",
       "name": "life-ring"
      }
     },
     "8ca435aa33ef451997047de22498a17a": {
      "model_module": "@jupyter-widgets/controls",
      "model_module_version": "1.5.0",
      "model_name": "HTMLModel",
      "state": {
       "layout": "IPY_MODEL_7f363f407ad84d458560390cbe184cc8",
       "style": "IPY_MODEL_25c29866409345f49117ae29fab5f22b",
       "value": "<table border=\"1\" class=\"dataframe table table-striped table-hover table-condensed table-responsive\">\n  <thead>\n    <tr style=\"text-align: right;\">\n      <th></th>\n      <th>45023</th>\n    </tr>\n  </thead>\n  <tbody>\n    <tr>\n      <th>met</th>\n      <td>48754</td>\n    </tr>\n    <tr>\n      <th>wave</th>\n      <td>48648</td>\n    </tr>\n    <tr>\n      <th>type</th>\n      <td>buoy</td>\n    </tr>\n    <tr>\n      <th>name</th>\n      <td>North Entry Buoy, North Keweenaw Peninsula, MI</td>\n    </tr>\n    <tr>\n      <th>pgm</th>\n      <td>IOOS Partners</td>\n    </tr>\n  </tbody>\n</table>"
      }
     },
     "8cee36dc94124d82b82d46cc3e6edd45": {
      "model_module": "@jupyter-widgets/controls",
      "model_module_version": "1.5.0",
      "model_name": "HTMLModel",
      "state": {
       "layout": "IPY_MODEL_14247a685eca4b01b95c3b4bb37f30b1",
       "style": "IPY_MODEL_a8a452a71e9d4304be7b52728532c19f",
       "value": "<table border=\"1\" class=\"dataframe table table-striped table-hover table-condensed table-responsive\">\n  <thead>\n    <tr style=\"text-align: right;\">\n      <th></th>\n      <th>52200</th>\n    </tr>\n  </thead>\n  <tbody>\n    <tr>\n      <th>met</th>\n      <td>0</td>\n    </tr>\n    <tr>\n      <th>wave</th>\n      <td>37340</td>\n    </tr>\n    <tr>\n      <th>type</th>\n      <td>buoy</td>\n    </tr>\n    <tr>\n      <th>name</th>\n      <td>Ipan, Guam (121)</td>\n    </tr>\n    <tr>\n      <th>pgm</th>\n      <td>IOOS Partners</td>\n    </tr>\n  </tbody>\n</table>"
      }
     },
     "8cf9b723170a4f75a0ba4735909e697e": {
      "model_module": "@jupyter-widgets/controls",
      "model_module_version": "1.5.0",
      "model_name": "HTMLModel",
      "state": {
       "layout": "IPY_MODEL_03ab42568a494c199ab22ec705ba2aba",
       "style": "IPY_MODEL_dfefee4bc7464f1caf9e215f6f38dabc",
       "value": "<table border=\"1\" class=\"dataframe table table-striped table-hover table-condensed table-responsive\">\n  <thead>\n    <tr style=\"text-align: right;\">\n      <th></th>\n      <th>sdrt2</th>\n    </tr>\n  </thead>\n  <tbody>\n    <tr>\n      <th>met</th>\n      <td>183160</td>\n    </tr>\n    <tr>\n      <th>wave</th>\n      <td>0</td>\n    </tr>\n    <tr>\n      <th>type</th>\n      <td>fixed</td>\n    </tr>\n    <tr>\n      <th>name</th>\n      <td>8773037 - Seadrift, TX</td>\n    </tr>\n    <tr>\n      <th>pgm</th>\n      <td>IOOS Partners</td>\n    </tr>\n  </tbody>\n</table>"
      }
     },
     "8d1df67f219543c495a7526586ddade1": {
      "model_module": "@jupyter-widgets/controls",
      "model_module_version": "1.5.0",
      "model_name": "HTMLModel",
      "state": {
       "layout": "IPY_MODEL_00a9d9d635e4423bb53f63e091ce107a",
       "style": "IPY_MODEL_1a06d1afa5874dcbaac0387a08df38fd",
       "value": "<table border=\"1\" class=\"dataframe table table-striped table-hover table-condensed table-responsive\">\n  <thead>\n    <tr style=\"text-align: right;\">\n      <th></th>\n      <th>45014</th>\n    </tr>\n  </thead>\n  <tbody>\n    <tr>\n      <th>met</th>\n      <td>7188</td>\n    </tr>\n    <tr>\n      <th>wave</th>\n      <td>0</td>\n    </tr>\n    <tr>\n      <th>type</th>\n      <td>buoy</td>\n    </tr>\n    <tr>\n      <th>name</th>\n      <td>GB17 - South Green Bay, WI</td>\n    </tr>\n    <tr>\n      <th>pgm</th>\n      <td>IOOS Partners</td>\n    </tr>\n  </tbody>\n</table>"
      }
     },
     "8d2dadbca6cb404ebd759d2a682a0d6c": {
      "model_module": "@jupyter-widgets/base",
      "model_module_version": "1.2.0",
      "model_name": "LayoutModel",
      "state": {}
     },
     "8d9d82b7a1434b41aac47e4b0a708cc3": {
      "model_module": "@jupyter-widgets/controls",
      "model_module_version": "1.5.0",
      "model_name": "DescriptionStyleModel",
      "state": {
       "description_width": ""
      }
     },
     "8da51ba3fcdf41848d74e7825ed83dc5": {
      "model_module": "@jupyter-widgets/base",
      "model_module_version": "1.2.0",
      "model_name": "LayoutModel",
      "state": {}
     },
     "8dad0e5c4f3043afaf90cb708788bac0": {
      "model_module": "jupyter-leaflet",
      "model_module_version": "^0.13.2",
      "model_name": "LeafletMarkerModel",
      "state": {
       "_model_module_version": "^0.13.2",
       "_view_module_version": "^0.13.2",
       "draggable": false,
       "icon": "IPY_MODEL_86a8e7e7a7474cc2aa1dfd19789e59bf",
       "location": [
        58.408,
        -135.726
       ],
       "options": [
        "alt",
        "draggable",
        "keyboard",
        "rise_offset",
        "rise_on_hover",
        "rotation_angle",
        "rotation_origin",
        "title",
        "z_index_offset"
       ],
       "popup": "IPY_MODEL_25465c87a19f48a19be8f90d1c9ced5d"
      }
     },
     "8e268d2286f54cefb534298bd085b4e8": {
      "model_module": "jupyter-leaflet",
      "model_module_version": "^0.13.2",
      "model_name": "LeafletMarkerModel",
      "state": {
       "_model_module_version": "^0.13.2",
       "_view_module_version": "^0.13.2",
       "draggable": false,
       "icon": "IPY_MODEL_b606529fd6424e96a833373ae36c868b",
       "location": [
        18.474,
        -66.099
       ],
       "options": [
        "alt",
        "draggable",
        "keyboard",
        "rise_offset",
        "rise_on_hover",
        "rotation_angle",
        "rotation_origin",
        "title",
        "z_index_offset"
       ],
       "popup": "IPY_MODEL_b2bfd2582c124366b1e9dc84562aa415"
      }
     },
     "8e52bd2e58674d75a6849bd0d17a20a9": {
      "model_module": "jupyter-leaflet",
      "model_module_version": "^0.13.2",
      "model_name": "LeafletMarkerModel",
      "state": {
       "_model_module_version": "^0.13.2",
       "_view_module_version": "^0.13.2",
       "draggable": false,
       "icon": "IPY_MODEL_d50c2bfd1883442db2fcf27428447621",
       "location": [
        42.397,
        -86.331
       ],
       "options": [
        "alt",
        "draggable",
        "keyboard",
        "rise_offset",
        "rise_on_hover",
        "rotation_angle",
        "rotation_origin",
        "title",
        "z_index_offset"
       ],
       "popup": "IPY_MODEL_4e30ae5a6bd74f74a22cfd2f9af807dc"
      }
     },
     "8e66b04adc7f475a85bd13b39302c034": {
      "model_module": "@jupyter-widgets/controls",
      "model_module_version": "1.5.0",
      "model_name": "HTMLModel",
      "state": {
       "layout": "IPY_MODEL_231e3eb37ed042458baaff8c71d1be5e",
       "style": "IPY_MODEL_b55d9da6cb3b4f34ac3d11c6b908d46c",
       "value": "<table border=\"1\" class=\"dataframe table table-striped table-hover table-condensed table-responsive\">\n  <thead>\n    <tr style=\"text-align: right;\">\n      <th></th>\n      <th>kexa2</th>\n    </tr>\n  </thead>\n  <tbody>\n    <tr>\n      <th>met</th>\n      <td>111282</td>\n    </tr>\n    <tr>\n      <th>wave</th>\n      <td>0</td>\n    </tr>\n    <tr>\n      <th>type</th>\n      <td>fixed</td>\n    </tr>\n    <tr>\n      <th>name</th>\n      <td>Ketchikan Harbor, AK</td>\n    </tr>\n    <tr>\n      <th>pgm</th>\n      <td>IOOS Partners</td>\n    </tr>\n  </tbody>\n</table>"
      }
     },
     "8e77b50aa49e47e99c21751433c56492": {
      "model_module": "jupyter-leaflet",
      "model_module_version": "^0.13.2",
      "model_name": "LeafletAwesomeIconModel",
      "state": {
       "_model_module_version": "^0.13.2",
       "_view_module_version": "^0.13.2",
       "icon_color": "white",
       "marker_color": "orange",
       "name": "life-ring"
      }
     },
     "8ea02b6b0305493ca87f3bb6885739b4": {
      "model_module": "@jupyter-widgets/controls",
      "model_module_version": "1.5.0",
      "model_name": "DescriptionStyleModel",
      "state": {
       "description_width": ""
      }
     },
     "8ed2ffb159df4f7287fd3fafaa7b58f7": {
      "model_module": "jupyter-leaflet",
      "model_module_version": "^0.13.2",
      "model_name": "LeafletAwesomeIconModel",
      "state": {
       "_model_module_version": "^0.13.2",
       "_view_module_version": "^0.13.2",
       "icon_color": "white",
       "marker_color": "orange",
       "name": "life-ring"
      }
     },
     "8edbad78731d4ca8943600763b5133b4": {
      "model_module": "@jupyter-widgets/controls",
      "model_module_version": "1.5.0",
      "model_name": "HTMLModel",
      "state": {
       "layout": "IPY_MODEL_f8bf660672a241368ac374539e08527c",
       "style": "IPY_MODEL_f38032e13d4e4ae8b4a3214189bf4215",
       "value": "<table border=\"1\" class=\"dataframe table table-striped table-hover table-condensed table-responsive\">\n  <thead>\n    <tr style=\"text-align: right;\">\n      <th></th>\n      <th>51202</th>\n    </tr>\n  </thead>\n  <tbody>\n    <tr>\n      <th>met</th>\n      <td>0</td>\n    </tr>\n    <tr>\n      <th>wave</th>\n      <td>36238</td>\n    </tr>\n    <tr>\n      <th>type</th>\n      <td>buoy</td>\n    </tr>\n    <tr>\n      <th>name</th>\n      <td>Mokapu Point, HI (098)</td>\n    </tr>\n    <tr>\n      <th>pgm</th>\n      <td>IOOS Partners</td>\n    </tr>\n  </tbody>\n</table>"
      }
     },
     "8f0cded4cf63492bb9ea86ac34190047": {
      "model_module": "@jupyter-widgets/controls",
      "model_module_version": "1.5.0",
      "model_name": "DescriptionStyleModel",
      "state": {
       "description_width": ""
      }
     },
     "8f1ba7eb94a04b4cb321368ddc5745be": {
      "model_module": "@jupyter-widgets/controls",
      "model_module_version": "1.5.0",
      "model_name": "HTMLModel",
      "state": {
       "layout": "IPY_MODEL_e6ea2e2c8e96421094f8118a2900aef4",
       "style": "IPY_MODEL_8d9d82b7a1434b41aac47e4b0a708cc3",
       "value": "<table border=\"1\" class=\"dataframe table table-striped table-hover table-condensed table-responsive\">\n  <thead>\n    <tr style=\"text-align: right;\">\n      <th></th>\n      <th>44033</th>\n    </tr>\n  </thead>\n  <tbody>\n    <tr>\n      <th>met</th>\n      <td>18320</td>\n    </tr>\n    <tr>\n      <th>wave</th>\n      <td>18300</td>\n    </tr>\n    <tr>\n      <th>type</th>\n      <td>buoy</td>\n    </tr>\n    <tr>\n      <th>name</th>\n      <td>Buoy F01 - Penobscot Bay</td>\n    </tr>\n    <tr>\n      <th>pgm</th>\n      <td>IOOS Partners</td>\n    </tr>\n  </tbody>\n</table>"
      }
     },
     "8f234e4239804f9a97cd5b237b0e4e12": {
      "model_module": "@jupyter-widgets/controls",
      "model_module_version": "1.5.0",
      "model_name": "DescriptionStyleModel",
      "state": {
       "description_width": ""
      }
     },
     "8f338f39d565459cbc9dbfbd2448d906": {
      "model_module": "jupyter-leaflet",
      "model_module_version": "^0.13.2",
      "model_name": "LeafletMarkerModel",
      "state": {
       "_model_module_version": "^0.13.2",
       "_view_module_version": "^0.13.2",
       "draggable": false,
       "icon": "IPY_MODEL_e8fa05abe8a9404baf92731f4be0f2ac",
       "location": [
        15.268,
        145.662
       ],
       "options": [
        "alt",
        "draggable",
        "keyboard",
        "rise_offset",
        "rise_on_hover",
        "rotation_angle",
        "rotation_origin",
        "title",
        "z_index_offset"
       ],
       "popup": "IPY_MODEL_eaad9ea36efd485db60c19b77ff83f9b"
      }
     },
     "8f8a4dfe807a48b08b7c790f3d6ad12c": {
      "model_module": "@jupyter-widgets/controls",
      "model_module_version": "1.5.0",
      "model_name": "HTMLModel",
      "state": {
       "layout": "IPY_MODEL_f1f3b595a0aa463a85aa2edd4a3fabc9",
       "style": "IPY_MODEL_feb82d2fbf894be684f012cd8eb23fad",
       "value": "<table border=\"1\" class=\"dataframe table table-striped table-hover table-condensed table-responsive\">\n  <thead>\n    <tr style=\"text-align: right;\">\n      <th></th>\n      <th>45177</th>\n    </tr>\n  </thead>\n  <tbody>\n    <tr>\n      <th>met</th>\n      <td>0</td>\n    </tr>\n    <tr>\n      <th>wave</th>\n      <td>512</td>\n    </tr>\n    <tr>\n      <th>type</th>\n      <td>buoy</td>\n    </tr>\n    <tr>\n      <th>name</th>\n      <td>Ohio St. Beach, Chicago, IL</td>\n    </tr>\n    <tr>\n      <th>pgm</th>\n      <td>IOOS Partners</td>\n    </tr>\n  </tbody>\n</table>"
      }
     },
     "8fa3dae851ce4af6ad90994d4924cab3": {
      "model_module": "jupyter-leaflet",
      "model_module_version": "^0.13.2",
      "model_name": "LeafletAwesomeIconModel",
      "state": {
       "_model_module_version": "^0.13.2",
       "_view_module_version": "^0.13.2",
       "icon_color": "white",
       "marker_color": "orange",
       "name": "life-ring"
      }
     },
     "8feeecc7836044c794a240e3056ca934": {
      "model_module": "jupyter-leaflet",
      "model_module_version": "^0.13.2",
      "model_name": "LeafletMarkerModel",
      "state": {
       "_model_module_version": "^0.13.2",
       "_view_module_version": "^0.13.2",
       "draggable": false,
       "icon": "IPY_MODEL_5b0e4aa4e1374fcb9493d75a127c9aff",
       "location": [
        26.067,
        -97.155
       ],
       "options": [
        "alt",
        "draggable",
        "keyboard",
        "rise_offset",
        "rise_on_hover",
        "rotation_angle",
        "rotation_origin",
        "title",
        "z_index_offset"
       ],
       "popup": "IPY_MODEL_1431210312764ba081d76f5d9f3e3165"
      }
     },
     "903aa5d49d3e4ae99e6f1a751321e7cb": {
      "model_module": "@jupyter-widgets/controls",
      "model_module_version": "1.5.0",
      "model_name": "DescriptionStyleModel",
      "state": {
       "description_width": ""
      }
     },
     "90413bbefdde48429f15733557003ce0": {
      "model_module": "jupyter-leaflet",
      "model_module_version": "^0.13.2",
      "model_name": "LeafletMarkerModel",
      "state": {
       "_model_module_version": "^0.13.2",
       "_view_module_version": "^0.13.2",
       "draggable": false,
       "icon": "IPY_MODEL_74bc3427059d45ef83d61a40df1ee25b",
       "location": [
        27.505,
        -83.741
       ],
       "options": [
        "alt",
        "draggable",
        "keyboard",
        "rise_offset",
        "rise_on_hover",
        "rotation_angle",
        "rotation_origin",
        "title",
        "z_index_offset"
       ],
       "popup": "IPY_MODEL_f88256eb3476458e9d6d133eaa1c3cfe"
      }
     },
     "907712a06f0f48ebb235892b8d1d3b2a": {
      "model_module": "@jupyter-widgets/base",
      "model_module_version": "1.2.0",
      "model_name": "LayoutModel",
      "state": {}
     },
     "907f8bfc200a4b4596dffd1bcf56a9ed": {
      "model_module": "@jupyter-widgets/controls",
      "model_module_version": "1.5.0",
      "model_name": "DescriptionStyleModel",
      "state": {
       "description_width": ""
      }
     },
     "908315333f7f4d528a464a4503e4b00a": {
      "model_module": "@jupyter-widgets/base",
      "model_module_version": "1.2.0",
      "model_name": "LayoutModel",
      "state": {}
     },
     "908c3becc41b4c0183b78cdfae3f01cb": {
      "model_module": "@jupyter-widgets/base",
      "model_module_version": "1.2.0",
      "model_name": "LayoutModel",
      "state": {}
     },
     "9094bb3067ee40848a561751fde60b3c": {
      "model_module": "jupyter-leaflet",
      "model_module_version": "^0.13.2",
      "model_name": "LeafletAwesomeIconModel",
      "state": {
       "_model_module_version": "^0.13.2",
       "_view_module_version": "^0.13.2",
       "icon_color": "white",
       "marker_color": "orange",
       "name": "life-ring"
      }
     },
     "909c3c7aa1d647b1a5090b3537bacaec": {
      "model_module": "jupyter-leaflet",
      "model_module_version": "^0.13.2",
      "model_name": "LeafletAwesomeIconModel",
      "state": {
       "_model_module_version": "^0.13.2",
       "_view_module_version": "^0.13.2",
       "icon_color": "white",
       "marker_color": "orange",
       "name": "life-ring"
      }
     },
     "90acece6b85e4e838d023690b6cec8e9": {
      "model_module": "jupyter-leaflet",
      "model_module_version": "^0.13.2",
      "model_name": "LeafletMarkerModel",
      "state": {
       "_model_module_version": "^0.13.2",
       "_view_module_version": "^0.13.2",
       "draggable": false,
       "icon": "IPY_MODEL_4b994bca9eb8465fa1ff5de0a4574abe",
       "location": [
        42.798,
        -70.168
       ],
       "options": [
        "alt",
        "draggable",
        "keyboard",
        "rise_offset",
        "rise_on_hover",
        "rotation_angle",
        "rotation_origin",
        "title",
        "z_index_offset"
       ],
       "popup": "IPY_MODEL_99d7e438667d4558acef8000efc9bf35"
      }
     },
     "90e83ce685404c349a32044ede9d62ce": {
      "model_module": "@jupyter-widgets/controls",
      "model_module_version": "1.5.0",
      "model_name": "DescriptionStyleModel",
      "state": {
       "description_width": ""
      }
     },
     "911908ed066f46f48965a2ea997e83a6": {
      "model_module": "jupyter-leaflet",
      "model_module_version": "^0.13.2",
      "model_name": "LeafletMarkerModel",
      "state": {
       "_model_module_version": "^0.13.2",
       "_view_module_version": "^0.13.2",
       "draggable": false,
       "icon": "IPY_MODEL_1527c7188bdf4f2e92d947b9bef4ba16",
       "location": [
        27.736,
        -82.686
       ],
       "options": [
        "alt",
        "draggable",
        "keyboard",
        "rise_offset",
        "rise_on_hover",
        "rotation_angle",
        "rotation_origin",
        "title",
        "z_index_offset"
       ],
       "popup": "IPY_MODEL_30b63e481f8f42aa8ef2e5ed9ad840e2"
      }
     },
     "9196b046fbca4fb5986e7212542c8f76": {
      "model_module": "@jupyter-widgets/controls",
      "model_module_version": "1.5.0",
      "model_name": "DescriptionStyleModel",
      "state": {
       "description_width": ""
      }
     },
     "91d1150d61654c7095644c9851423ff7": {
      "model_module": "jupyter-leaflet",
      "model_module_version": "^0.13.2",
      "model_name": "LeafletAwesomeIconModel",
      "state": {
       "_model_module_version": "^0.13.2",
       "_view_module_version": "^0.13.2",
       "icon_color": "white",
       "marker_color": "green",
       "name": "life-ring"
      }
     },
     "92955841334643ba8f581aa9eb759857": {
      "model_module": "jupyter-leaflet",
      "model_module_version": "^0.13.2",
      "model_name": "LeafletMarkerModel",
      "state": {
       "_model_module_version": "^0.13.2",
       "_view_module_version": "^0.13.2",
       "draggable": false,
       "icon": "IPY_MODEL_ea8bcc9b61e744fe8538a0f3b11ce818",
       "location": [
        30.308,
        -88.14
       ],
       "options": [
        "alt",
        "draggable",
        "keyboard",
        "rise_offset",
        "rise_on_hover",
        "rotation_angle",
        "rotation_origin",
        "title",
        "z_index_offset"
       ],
       "popup": "IPY_MODEL_c7584c3032b5420b914031b6f832eab0"
      }
     },
     "935cc6519a17472f9770f271ecf57df3": {
      "model_module": "jupyter-leaflet",
      "model_module_version": "^0.13.2",
      "model_name": "LeafletAwesomeIconModel",
      "state": {
       "_model_module_version": "^0.13.2",
       "_view_module_version": "^0.13.2",
       "icon_color": "white",
       "marker_color": "orange",
       "name": "life-ring"
      }
     },
     "937b700466bd47b8895ea153dc9baa6d": {
      "model_module": "@jupyter-widgets/controls",
      "model_module_version": "1.5.0",
      "model_name": "HTMLModel",
      "state": {
       "layout": "IPY_MODEL_32d9f07a58544bca95e8d2ff80bf1ca6",
       "style": "IPY_MODEL_e7c79c9ef37b4f9691fa8da65ba01c8b",
       "value": "<table border=\"1\" class=\"dataframe table table-striped table-hover table-condensed table-responsive\">\n  <thead>\n    <tr style=\"text-align: right;\">\n      <th></th>\n      <th>ppta1</th>\n    </tr>\n  </thead>\n  <tbody>\n    <tr>\n      <th>met</th>\n      <td>32560</td>\n    </tr>\n    <tr>\n      <th>wave</th>\n      <td>0</td>\n    </tr>\n    <tr>\n      <th>type</th>\n      <td>fixed</td>\n    </tr>\n    <tr>\n      <th>name</th>\n      <td>Perdido Pass, AL</td>\n    </tr>\n    <tr>\n      <th>pgm</th>\n      <td>IOOS Partners</td>\n    </tr>\n  </tbody>\n</table>"
      }
     },
     "93d95d7a83a547c2b9fd4b128e3f682a": {
      "model_module": "jupyter-leaflet",
      "model_module_version": "^0.13.2",
      "model_name": "LeafletMarkerModel",
      "state": {
       "_model_module_version": "^0.13.2",
       "_view_module_version": "^0.13.2",
       "draggable": false,
       "icon": "IPY_MODEL_6a598ce9b5ce4dc1b5ae65628d21d661",
       "location": [
        34.141,
        -77.715
       ],
       "options": [
        "alt",
        "draggable",
        "keyboard",
        "rise_offset",
        "rise_on_hover",
        "rotation_angle",
        "rotation_origin",
        "title",
        "z_index_offset"
       ],
       "popup": "IPY_MODEL_db304d3e76eb4f2788a7b30fc28a0d99"
      }
     },
     "948af176459847438b600abfc5a3f302": {
      "model_module": "@jupyter-widgets/controls",
      "model_module_version": "1.5.0",
      "model_name": "HTMLModel",
      "state": {
       "layout": "IPY_MODEL_e5ad2cd9b98849b4bff35d8868407d6d",
       "style": "IPY_MODEL_dd256091232f466f829d0146c9c2d05c",
       "value": "<table border=\"1\" class=\"dataframe table table-striped table-hover table-condensed table-responsive\">\n  <thead>\n    <tr style=\"text-align: right;\">\n      <th></th>\n      <th>slxa2</th>\n    </tr>\n  </thead>\n  <tbody>\n    <tr>\n      <th>met</th>\n      <td>110340</td>\n    </tr>\n    <tr>\n      <th>wave</th>\n      <td>0</td>\n    </tr>\n    <tr>\n      <th>type</th>\n      <td>fixed</td>\n    </tr>\n    <tr>\n      <th>name</th>\n      <td>Salmon Landing, AK</td>\n    </tr>\n    <tr>\n      <th>pgm</th>\n      <td>IOOS Partners</td>\n    </tr>\n  </tbody>\n</table>"
      }
     },
     "953ecb955324438890e111f00d03a976": {
      "model_module": "@jupyter-widgets/base",
      "model_module_version": "1.2.0",
      "model_name": "LayoutModel",
      "state": {}
     },
     "957927a808d748a2a91307d56aee0941": {
      "model_module": "@jupyter-widgets/controls",
      "model_module_version": "1.5.0",
      "model_name": "DescriptionStyleModel",
      "state": {
       "description_width": ""
      }
     },
     "95849d1d676f4055a18de1c2c389982a": {
      "model_module": "jupyter-leaflet",
      "model_module_version": "^0.13.2",
      "model_name": "LeafletMarkerModel",
      "state": {
       "_model_module_version": "^0.13.2",
       "_view_module_version": "^0.13.2",
       "draggable": false,
       "icon": "IPY_MODEL_6efa17e1a02c420d8c9a8d343d257e2d",
       "location": [
        58.255,
        -134.945
       ],
       "options": [
        "alt",
        "draggable",
        "keyboard",
        "rise_offset",
        "rise_on_hover",
        "rotation_angle",
        "rotation_origin",
        "title",
        "z_index_offset"
       ],
       "popup": "IPY_MODEL_6a62d46a9c094da1a86e1a92a69e1494"
      }
     },
     "95bb69d4411f432fa65310cfd1188ad2": {
      "model_module": "@jupyter-widgets/controls",
      "model_module_version": "1.5.0",
      "model_name": "DescriptionStyleModel",
      "state": {
       "description_width": ""
      }
     },
     "95c4225a53b745f0a362f36a631f7896": {
      "model_module": "@jupyter-widgets/base",
      "model_module_version": "1.2.0",
      "model_name": "LayoutModel",
      "state": {}
     },
     "96a944c5e77148f8839b98aa266f140a": {
      "model_module": "jupyter-leaflet",
      "model_module_version": "^0.13.2",
      "model_name": "LeafletAwesomeIconModel",
      "state": {
       "_model_module_version": "^0.13.2",
       "_view_module_version": "^0.13.2",
       "icon_color": "white",
       "marker_color": "orange",
       "name": "life-ring"
      }
     },
     "96dfac9b4ba648faa64e8c632537a974": {
      "model_module": "jupyter-leaflet",
      "model_module_version": "^0.13.2",
      "model_name": "LeafletMarkerModel",
      "state": {
       "_model_module_version": "^0.13.2",
       "_view_module_version": "^0.13.2",
       "draggable": false,
       "icon": "IPY_MODEL_568710b6b61f4d98b5337ff3df7a6bb8",
       "location": [
        43.292,
        -124.538
       ],
       "options": [
        "alt",
        "draggable",
        "keyboard",
        "rise_offset",
        "rise_on_hover",
        "rotation_angle",
        "rotation_origin",
        "title",
        "z_index_offset"
       ],
       "popup": "IPY_MODEL_11ba21d1eef44d93a5a550a131e0751a"
      }
     },
     "9765c757809642458c008fd01ca0d433": {
      "model_module": "@jupyter-widgets/controls",
      "model_module_version": "1.5.0",
      "model_name": "HTMLModel",
      "state": {
       "layout": "IPY_MODEL_e202b901fb0e4e2995750de87aee1682",
       "style": "IPY_MODEL_90e83ce685404c349a32044ede9d62ce",
       "value": "<table border=\"1\" class=\"dataframe table table-striped table-hover table-condensed table-responsive\">\n  <thead>\n    <tr style=\"text-align: right;\">\n      <th></th>\n      <th>44030</th>\n    </tr>\n  </thead>\n  <tbody>\n    <tr>\n      <th>met</th>\n      <td>18322</td>\n    </tr>\n    <tr>\n      <th>wave</th>\n      <td>17864</td>\n    </tr>\n    <tr>\n      <th>type</th>\n      <td>buoy</td>\n    </tr>\n    <tr>\n      <th>name</th>\n      <td>Buoy B01 - Western Maine Shelf</td>\n    </tr>\n    <tr>\n      <th>pgm</th>\n      <td>IOOS Partners</td>\n    </tr>\n  </tbody>\n</table>"
      }
     },
     "980a959d553a4f43ba9fd8cd3411fcff": {
      "model_module": "@jupyter-widgets/base",
      "model_module_version": "1.2.0",
      "model_name": "LayoutModel",
      "state": {}
     },
     "982c1a94aba044feb33eeade23dbdbd3": {
      "model_module": "jupyter-leaflet",
      "model_module_version": "^0.13.2",
      "model_name": "LeafletMarkerModel",
      "state": {
       "_model_module_version": "^0.13.2",
       "_view_module_version": "^0.13.2",
       "draggable": false,
       "icon": "IPY_MODEL_ac6f3cc736f547f890a9b62d17aa06da",
       "location": [
        41.912,
        -87.624
       ],
       "options": [
        "alt",
        "draggable",
        "keyboard",
        "rise_offset",
        "rise_on_hover",
        "rotation_angle",
        "rotation_origin",
        "title",
        "z_index_offset"
       ],
       "popup": "IPY_MODEL_31c2cd73d344484b8864154baebde41b"
      }
     },
     "99d2a57cdcec4d06b81241e791074713": {
      "model_module": "jupyter-leaflet",
      "model_module_version": "^0.13.2",
      "model_name": "LeafletMarkerModel",
      "state": {
       "_model_module_version": "^0.13.2",
       "_view_module_version": "^0.13.2",
       "draggable": false,
       "icon": "IPY_MODEL_2de560557f024e6d8dc5234a76f181c4",
       "location": [
        45.405,
        -85.086
       ],
       "options": [
        "alt",
        "draggable",
        "keyboard",
        "rise_offset",
        "rise_on_hover",
        "rotation_angle",
        "rotation_origin",
        "title",
        "z_index_offset"
       ],
       "popup": "IPY_MODEL_5ec8e9a5843d4abfb5d909e2aa9304cd"
      }
     },
     "99d7e438667d4558acef8000efc9bf35": {
      "model_module": "@jupyter-widgets/controls",
      "model_module_version": "1.5.0",
      "model_name": "HTMLModel",
      "state": {
       "layout": "IPY_MODEL_773f67c6018c40469c56b5b8688a601a",
       "style": "IPY_MODEL_534f0e71ed32428587c5aff263642eab",
       "value": "<table border=\"1\" class=\"dataframe table table-striped table-hover table-condensed table-responsive\">\n  <thead>\n    <tr style=\"text-align: right;\">\n      <th></th>\n      <th>44098</th>\n    </tr>\n  </thead>\n  <tbody>\n    <tr>\n      <th>met</th>\n      <td>0</td>\n    </tr>\n    <tr>\n      <th>wave</th>\n      <td>37222</td>\n    </tr>\n    <tr>\n      <th>type</th>\n      <td>buoy</td>\n    </tr>\n    <tr>\n      <th>name</th>\n      <td>Jeffrey's Ledge, NH (160)</td>\n    </tr>\n    <tr>\n      <th>pgm</th>\n      <td>IOOS Partners</td>\n    </tr>\n  </tbody>\n</table>"
      }
     },
     "9a0c432df5d14891925028eb48be3a69": {
      "model_module": "@jupyter-widgets/base",
      "model_module_version": "1.2.0",
      "model_name": "LayoutModel",
      "state": {}
     },
     "9a695073e01748a99ed4a4dadc34cad3": {
      "model_module": "@jupyter-widgets/base",
      "model_module_version": "1.2.0",
      "model_name": "LayoutModel",
      "state": {}
     },
     "9af014526d124a249b50d9b300e268a1": {
      "model_module": "@jupyter-widgets/controls",
      "model_module_version": "1.5.0",
      "model_name": "DescriptionStyleModel",
      "state": {
       "description_width": ""
      }
     },
     "9b87226ad6ea42f484d32711b8cbbee7": {
      "model_module": "jupyter-leaflet",
      "model_module_version": "^0.13.2",
      "model_name": "LeafletMarkerModel",
      "state": {
       "_model_module_version": "^0.13.2",
       "_view_module_version": "^0.13.2",
       "draggable": false,
       "icon": "IPY_MODEL_a05800386d2b4e68899f65134b516c0f",
       "location": [
        44.103,
        -68.112
       ],
       "options": [
        "alt",
        "draggable",
        "keyboard",
        "rise_offset",
        "rise_on_hover",
        "rotation_angle",
        "rotation_origin",
        "title",
        "z_index_offset"
       ],
       "popup": "IPY_MODEL_27a36503c12d4344b4344ca5af5ff7c9"
      }
     },
     "9bbbe459061e40a1b9ce15b7a6a25d7c": {
      "model_module": "@jupyter-widgets/base",
      "model_module_version": "1.2.0",
      "model_name": "LayoutModel",
      "state": {}
     },
     "9bbfa1c4a4b84fda9331e7f7f320a57f": {
      "model_module": "@jupyter-widgets/base",
      "model_module_version": "1.2.0",
      "model_name": "LayoutModel",
      "state": {}
     },
     "9c1f4f1692dc4b07a1a7cc7884680354": {
      "model_module": "jupyter-leaflet",
      "model_module_version": "^0.13.2",
      "model_name": "LeafletAwesomeIconModel",
      "state": {
       "_model_module_version": "^0.13.2",
       "_view_module_version": "^0.13.2",
       "icon_color": "white",
       "marker_color": "orange",
       "name": "life-ring"
      }
     },
     "9c441a811b494d04b66156fcd01b8aa6": {
      "model_module": "jupyter-leaflet",
      "model_module_version": "^0.13.2",
      "model_name": "LeafletMarkerModel",
      "state": {
       "_model_module_version": "^0.13.2",
       "_view_module_version": "^0.13.2",
       "draggable": false,
       "icon": "IPY_MODEL_517f3ad11e6a473487e3dc58e39dde0a",
       "location": [
        28.446,
        -96.396
       ],
       "options": [
        "alt",
        "draggable",
        "keyboard",
        "rise_offset",
        "rise_on_hover",
        "rotation_angle",
        "rotation_origin",
        "title",
        "z_index_offset"
       ],
       "popup": "IPY_MODEL_d3e2803938464414996f2fcc8d665ad6"
      }
     },
     "9cae2e268b604b7ba73ab7b972f2bf65": {
      "model_module": "@jupyter-widgets/controls",
      "model_module_version": "1.5.0",
      "model_name": "HTMLModel",
      "state": {
       "layout": "IPY_MODEL_0a85b91f498342afa666774c8f372389",
       "style": "IPY_MODEL_957927a808d748a2a91307d56aee0941",
       "value": "<table border=\"1\" class=\"dataframe table table-striped table-hover table-condensed table-responsive\">\n  <thead>\n    <tr style=\"text-align: right;\">\n      <th></th>\n      <th>mlsc1</th>\n    </tr>\n  </thead>\n  <tbody>\n    <tr>\n      <th>met</th>\n      <td>98018</td>\n    </tr>\n    <tr>\n      <th>wave</th>\n      <td>0</td>\n    </tr>\n    <tr>\n      <th>type</th>\n      <td>fixed</td>\n    </tr>\n    <tr>\n      <th>name</th>\n      <td>Moss Landing, South Harbor, CA</td>\n    </tr>\n    <tr>\n      <th>pgm</th>\n      <td>IOOS Partners</td>\n    </tr>\n  </tbody>\n</table>"
      }
     },
     "9cec4c68e4b04c0abc983e5630b854d0": {
      "model_module": "@jupyter-widgets/controls",
      "model_module_version": "1.5.0",
      "model_name": "HTMLModel",
      "state": {
       "layout": "IPY_MODEL_85b5368e09b1458a845935c704ff59e9",
       "style": "IPY_MODEL_3898c456996c41958d1188f3ecb5569e",
       "value": "<table border=\"1\" class=\"dataframe table table-striped table-hover table-condensed table-responsive\">\n  <thead>\n    <tr style=\"text-align: right;\">\n      <th></th>\n      <th>fhpf1</th>\n    </tr>\n  </thead>\n  <tbody>\n    <tr>\n      <th>met</th>\n      <td>187020</td>\n    </tr>\n    <tr>\n      <th>wave</th>\n      <td>0</td>\n    </tr>\n    <tr>\n      <th>type</th>\n      <td>fixed</td>\n    </tr>\n    <tr>\n      <th>name</th>\n      <td>FHP - Fred Howard Park, FL</td>\n    </tr>\n    <tr>\n      <th>pgm</th>\n      <td>IOOS Partners</td>\n    </tr>\n  </tbody>\n</table>"
      }
     },
     "9d653e35657b4b05a14d4fff48f94a93": {
      "model_module": "@jupyter-widgets/controls",
      "model_module_version": "1.5.0",
      "model_name": "HTMLModel",
      "state": {
       "layout": "IPY_MODEL_fddc6d64653146c0ac79e0ab1e437daf",
       "style": "IPY_MODEL_8bef69fdf6364a648d49023a7ad1face",
       "value": "<table border=\"1\" class=\"dataframe table table-striped table-hover table-condensed table-responsive\">\n  <thead>\n    <tr style=\"text-align: right;\">\n      <th></th>\n      <th>mbla1</th>\n    </tr>\n  </thead>\n  <tbody>\n    <tr>\n      <th>met</th>\n      <td>21978</td>\n    </tr>\n    <tr>\n      <th>wave</th>\n      <td>0</td>\n    </tr>\n    <tr>\n      <th>type</th>\n      <td>fixed</td>\n    </tr>\n    <tr>\n      <th>name</th>\n      <td>Middle Bay Lighthouse, AL</td>\n    </tr>\n    <tr>\n      <th>pgm</th>\n      <td>IOOS Partners</td>\n    </tr>\n  </tbody>\n</table>"
      }
     },
     "9dcb085bbaf74bda933030b153a0c602": {
      "model_module": "@jupyter-widgets/controls",
      "model_module_version": "1.5.0",
      "model_name": "DescriptionStyleModel",
      "state": {
       "description_width": ""
      }
     },
     "9e41c41bba09449baf1872221ddb7ca4": {
      "model_module": "@jupyter-widgets/controls",
      "model_module_version": "1.5.0",
      "model_name": "HTMLModel",
      "state": {
       "layout": "IPY_MODEL_46d3bc4af1a24deb89d382957a07fcbc",
       "style": "IPY_MODEL_ca84a928c91148f3bae43c28cddf1ab8",
       "value": "<table border=\"1\" class=\"dataframe table table-striped table-hover table-condensed table-responsive\">\n  <thead>\n    <tr style=\"text-align: right;\">\n      <th></th>\n      <th>nkla2</th>\n    </tr>\n  </thead>\n  <tbody>\n    <tr>\n      <th>met</th>\n      <td>110554</td>\n    </tr>\n    <tr>\n      <th>wave</th>\n      <td>0</td>\n    </tr>\n    <tr>\n      <th>type</th>\n      <td>fixed</td>\n    </tr>\n    <tr>\n      <th>name</th>\n      <td>Nikolski White Alice</td>\n    </tr>\n    <tr>\n      <th>pgm</th>\n      <td>IOOS Partners</td>\n    </tr>\n  </tbody>\n</table>"
      }
     },
     "9e5d3c6f7b5c4eb3858d31538adb06d7": {
      "model_module": "jupyter-leaflet",
      "model_module_version": "^0.13.2",
      "model_name": "LeafletAwesomeIconModel",
      "state": {
       "_model_module_version": "^0.13.2",
       "_view_module_version": "^0.13.2",
       "icon_color": "white",
       "marker_color": "red",
       "name": "life-ring"
      }
     },
     "9ef764a3b6c64a9895bee87b83418080": {
      "model_module": "@jupyter-widgets/controls",
      "model_module_version": "1.5.0",
      "model_name": "HTMLModel",
      "state": {
       "layout": "IPY_MODEL_a80e227af1144bfaa33f260d15b70b90",
       "style": "IPY_MODEL_414fabd4a56940f883a5d4d793a92562",
       "value": "<table border=\"1\" class=\"dataframe table table-striped table-hover table-condensed table-responsive\">\n  <thead>\n    <tr style=\"text-align: right;\">\n      <th></th>\n      <th>46253</th>\n    </tr>\n  </thead>\n  <tbody>\n    <tr>\n      <th>met</th>\n      <td>0</td>\n    </tr>\n    <tr>\n      <th>wave</th>\n      <td>37486</td>\n    </tr>\n    <tr>\n      <th>type</th>\n      <td>buoy</td>\n    </tr>\n    <tr>\n      <th>name</th>\n      <td>San Pedro South, CA (213)</td>\n    </tr>\n    <tr>\n      <th>pgm</th>\n      <td>IOOS Partners</td>\n    </tr>\n  </tbody>\n</table>"
      }
     },
     "9f58e9af6c3943529cae42223ba76b4d": {
      "model_module": "@jupyter-widgets/base",
      "model_module_version": "1.2.0",
      "model_name": "LayoutModel",
      "state": {}
     },
     "a03a19dab1d746b296957704bd2ef07e": {
      "model_module": "@jupyter-widgets/controls",
      "model_module_version": "1.5.0",
      "model_name": "DescriptionStyleModel",
      "state": {
       "description_width": ""
      }
     },
     "a04ca26b133e429ca9c6c5fd4d882b68": {
      "model_module": "@jupyter-widgets/base",
      "model_module_version": "1.2.0",
      "model_name": "LayoutModel",
      "state": {}
     },
     "a05800386d2b4e68899f65134b516c0f": {
      "model_module": "jupyter-leaflet",
      "model_module_version": "^0.13.2",
      "model_name": "LeafletAwesomeIconModel",
      "state": {
       "_model_module_version": "^0.13.2",
       "_view_module_version": "^0.13.2",
       "icon_color": "white",
       "marker_color": "green",
       "name": "life-ring"
      }
     },
     "a0e2dc8f6602484c931f47e6d7b1b5c9": {
      "model_module": "jupyter-leaflet",
      "model_module_version": "^0.13.2",
      "model_name": "LeafletAwesomeIconModel",
      "state": {
       "_model_module_version": "^0.13.2",
       "_view_module_version": "^0.13.2",
       "icon_color": "white",
       "marker_color": "orange",
       "name": "life-ring"
      }
     },
     "a11eac53434c44c2bfe7a5c6cfb9e65e": {
      "model_module": "jupyter-leaflet",
      "model_module_version": "^0.13.2",
      "model_name": "LeafletAwesomeIconModel",
      "state": {
       "_model_module_version": "^0.13.2",
       "_view_module_version": "^0.13.2",
       "icon_color": "white",
       "marker_color": "orange",
       "name": "life-ring"
      }
     },
     "a1398379df7a4405ae13c82942777ed5": {
      "model_module": "@jupyter-widgets/base",
      "model_module_version": "1.2.0",
      "model_name": "LayoutModel",
      "state": {}
     },
     "a193bc3b31324eebbd00f6d9d064c3c0": {
      "model_module": "@jupyter-widgets/base",
      "model_module_version": "1.2.0",
      "model_name": "LayoutModel",
      "state": {}
     },
     "a208200b06f943fd979c557c5dc4d4b6": {
      "model_module": "jupyter-leaflet",
      "model_module_version": "^0.13.2",
      "model_name": "LeafletAwesomeIconModel",
      "state": {
       "_model_module_version": "^0.13.2",
       "_view_module_version": "^0.13.2",
       "icon_color": "white",
       "marker_color": "orange",
       "name": "life-ring"
      }
     },
     "a242d779c16147ad92c8dd114683d59a": {
      "model_module": "jupyter-leaflet",
      "model_module_version": "^0.13.2",
      "model_name": "LeafletMarkerModel",
      "state": {
       "_model_module_version": "^0.13.2",
       "_view_module_version": "^0.13.2",
       "draggable": false,
       "icon": "IPY_MODEL_f45b67fa31a24f32845ca081440ad153",
       "location": [
        21.415,
        -157.678
       ],
       "options": [
        "alt",
        "draggable",
        "keyboard",
        "rise_offset",
        "rise_on_hover",
        "rotation_angle",
        "rotation_origin",
        "title",
        "z_index_offset"
       ],
       "popup": "IPY_MODEL_8edbad78731d4ca8943600763b5133b4"
      }
     },
     "a264dba647104c5f840f9691c65f655d": {
      "model_module": "jupyter-leaflet",
      "model_module_version": "^0.13.2",
      "model_name": "LeafletMarkerModel",
      "state": {
       "_model_module_version": "^0.13.2",
       "_view_module_version": "^0.13.2",
       "draggable": false,
       "icon": "IPY_MODEL_ceaaecc53bda42d5ab1bf24a72a44346",
       "location": [
        58.346,
        -134.752
       ],
       "options": [
        "alt",
        "draggable",
        "keyboard",
        "rise_offset",
        "rise_on_hover",
        "rotation_angle",
        "rotation_origin",
        "title",
        "z_index_offset"
       ],
       "popup": "IPY_MODEL_13afe411111c47c286dc4a5710d8e3b9"
      }
     },
     "a2c27ae784594b94a63d6fc9ad409a54": {
      "model_module": "jupyter-leaflet",
      "model_module_version": "^0.13.2",
      "model_name": "LeafletAwesomeIconModel",
      "state": {
       "_model_module_version": "^0.13.2",
       "_view_module_version": "^0.13.2",
       "icon_color": "white",
       "marker_color": "orange",
       "name": "life-ring"
      }
     },
     "a2c4d5879f554666bb332cf5386b00ba": {
      "model_module": "jupyter-leaflet",
      "model_module_version": "^0.13.2",
      "model_name": "LeafletAwesomeIconModel",
      "state": {
       "_model_module_version": "^0.13.2",
       "_view_module_version": "^0.13.2",
       "icon_color": "white",
       "marker_color": "red",
       "name": "life-ring"
      }
     },
     "a38ab9ab65df41bc95650246a47196d2": {
      "model_module": "@jupyter-widgets/base",
      "model_module_version": "1.2.0",
      "model_name": "LayoutModel",
      "state": {}
     },
     "a38ffca024664097b00789510b71209a": {
      "model_module": "@jupyter-widgets/base",
      "model_module_version": "1.2.0",
      "model_name": "LayoutModel",
      "state": {}
     },
     "a391fad5f6194677969cf0c655c2b88e": {
      "model_module": "jupyter-leaflet",
      "model_module_version": "^0.13.2",
      "model_name": "LeafletAwesomeIconModel",
      "state": {
       "_model_module_version": "^0.13.2",
       "_view_module_version": "^0.13.2",
       "icon_color": "white",
       "marker_color": "orange",
       "name": "life-ring"
      }
     },
     "a50a49a1fea940f988001a78ca241947": {
      "model_module": "@jupyter-widgets/controls",
      "model_module_version": "1.5.0",
      "model_name": "DescriptionStyleModel",
      "state": {
       "description_width": ""
      }
     },
     "a596c48bae514928b53a41a19a91fdc9": {
      "model_module": "@jupyter-widgets/controls",
      "model_module_version": "1.5.0",
      "model_name": "DescriptionStyleModel",
      "state": {
       "description_width": ""
      }
     },
     "a5afedb6f5a34ae9aa6751f93534cc7d": {
      "model_module": "jupyter-leaflet",
      "model_module_version": "^0.13.2",
      "model_name": "LeafletMarkerModel",
      "state": {
       "_model_module_version": "^0.13.2",
       "_view_module_version": "^0.13.2",
       "draggable": false,
       "icon": "IPY_MODEL_e091808b560e42a4ac75b4383ac08e0b",
       "location": [
        59.602,
        -151.417
       ],
       "options": [
        "alt",
        "draggable",
        "keyboard",
        "rise_offset",
        "rise_on_hover",
        "rotation_angle",
        "rotation_origin",
        "title",
        "z_index_offset"
       ],
       "popup": "IPY_MODEL_1eb1893ae57a4358b3e8b99dcd993c0f"
      }
     },
     "a6029edc7aca478eb62186b480e36cc2": {
      "model_module": "jupyter-leaflet",
      "model_module_version": "^0.13.2",
      "model_name": "LeafletMarkerModel",
      "state": {
       "_model_module_version": "^0.13.2",
       "_view_module_version": "^0.13.2",
       "draggable": false,
       "icon": "IPY_MODEL_c6692b8763244a838f5e2cfa1e497ea8",
       "location": [
        41.615,
        -81.821
       ],
       "options": [
        "alt",
        "draggable",
        "keyboard",
        "rise_offset",
        "rise_on_hover",
        "rotation_angle",
        "rotation_origin",
        "title",
        "z_index_offset"
       ],
       "popup": "IPY_MODEL_2fef8bfa7d394c0f830bfd920fcf60fe"
      }
     },
     "a6477fb56b7545dcab67165265b225a7": {
      "model_module": "@jupyter-widgets/controls",
      "model_module_version": "1.5.0",
      "model_name": "HTMLModel",
      "state": {
       "layout": "IPY_MODEL_c88a26cb48c54c73bd0f1554200bc21b",
       "style": "IPY_MODEL_cf6d0a769376451ab9e1c16334b8e40a",
       "value": "<table border=\"1\" class=\"dataframe table table-striped table-hover table-condensed table-responsive\">\n  <thead>\n    <tr style=\"text-align: right;\">\n      <th></th>\n      <th>mrya2</th>\n    </tr>\n  </thead>\n  <tbody>\n    <tr>\n      <th>met</th>\n      <td>110120</td>\n    </tr>\n    <tr>\n      <th>wave</th>\n      <td>0</td>\n    </tr>\n    <tr>\n      <th>type</th>\n      <td>fixed</td>\n    </tr>\n    <tr>\n      <th>name</th>\n      <td>Mary Island, AK</td>\n    </tr>\n    <tr>\n      <th>pgm</th>\n      <td>IOOS Partners</td>\n    </tr>\n  </tbody>\n</table>"
      }
     },
     "a69d6c4155174e98a077ab1c31d1dc08": {
      "model_module": "jupyter-leaflet",
      "model_module_version": "^0.13.2",
      "model_name": "LeafletMarkerModel",
      "state": {
       "_model_module_version": "^0.13.2",
       "_view_module_version": "^0.13.2",
       "draggable": false,
       "icon": "IPY_MODEL_15fc4fc6febb4531b0d2d0d47cec3974",
       "location": [
        29.515,
        -94.513
       ],
       "options": [
        "alt",
        "draggable",
        "keyboard",
        "rise_offset",
        "rise_on_hover",
        "rotation_angle",
        "rotation_origin",
        "title",
        "z_index_offset"
       ],
       "popup": "IPY_MODEL_15e2b906e7994f419fd3b819f71dab16"
      }
     },
     "a7aed1a359a74ce5849fe5222d2c8d46": {
      "model_module": "@jupyter-widgets/controls",
      "model_module_version": "1.5.0",
      "model_name": "DescriptionStyleModel",
      "state": {
       "description_width": ""
      }
     },
     "a7dd4627193141fd97795dfcaa31b93d": {
      "model_module": "jupyter-leaflet",
      "model_module_version": "^0.13.2",
      "model_name": "LeafletAwesomeIconModel",
      "state": {
       "_model_module_version": "^0.13.2",
       "_view_module_version": "^0.13.2",
       "icon_color": "white",
       "marker_color": "orange",
       "name": "life-ring"
      }
     },
     "a7fafaaacd8f43099d93a94afc166fb7": {
      "model_module": "@jupyter-widgets/controls",
      "model_module_version": "1.5.0",
      "model_name": "HTMLModel",
      "state": {
       "layout": "IPY_MODEL_c1bd472bfa43419685350263b1bf895a",
       "style": "IPY_MODEL_a596c48bae514928b53a41a19a91fdc9",
       "value": "<table border=\"1\" class=\"dataframe table table-striped table-hover table-condensed table-responsive\">\n  <thead>\n    <tr style=\"text-align: right;\">\n      <th></th>\n      <th>51212</th>\n    </tr>\n  </thead>\n  <tbody>\n    <tr>\n      <th>met</th>\n      <td>0</td>\n    </tr>\n    <tr>\n      <th>wave</th>\n      <td>36992</td>\n    </tr>\n    <tr>\n      <th>type</th>\n      <td>buoy</td>\n    </tr>\n    <tr>\n      <th>name</th>\n      <td>Barbers Point, Kalaeloa, HI (238)</td>\n    </tr>\n    <tr>\n      <th>pgm</th>\n      <td>IOOS Partners</td>\n    </tr>\n  </tbody>\n</table>"
      }
     },
     "a7fe051def7a4c91bdc7123f0979f485": {
      "model_module": "@jupyter-widgets/base",
      "model_module_version": "1.2.0",
      "model_name": "LayoutModel",
      "state": {}
     },
     "a80e227af1144bfaa33f260d15b70b90": {
      "model_module": "@jupyter-widgets/base",
      "model_module_version": "1.2.0",
      "model_name": "LayoutModel",
      "state": {}
     },
     "a847f3dabaef415bba3d1d0da770ec81": {
      "model_module": "jupyter-leaflet",
      "model_module_version": "^0.13.2",
      "model_name": "LeafletAwesomeIconModel",
      "state": {
       "_model_module_version": "^0.13.2",
       "_view_module_version": "^0.13.2",
       "icon_color": "white",
       "marker_color": "orange",
       "name": "life-ring"
      }
     },
     "a8a452a71e9d4304be7b52728532c19f": {
      "model_module": "@jupyter-widgets/controls",
      "model_module_version": "1.5.0",
      "model_name": "DescriptionStyleModel",
      "state": {
       "description_width": ""
      }
     },
     "a90a6d295b6646a8b537e75e4e746a7c": {
      "model_module": "@jupyter-widgets/base",
      "model_module_version": "1.2.0",
      "model_name": "LayoutModel",
      "state": {}
     },
     "a9dbf86e300243059d58e496de35417a": {
      "model_module": "@jupyter-widgets/controls",
      "model_module_version": "1.5.0",
      "model_name": "HTMLModel",
      "state": {
       "layout": "IPY_MODEL_3cfe17a010d44abd8e863e42deb27b9d",
       "style": "IPY_MODEL_5959b0cb515f4cfc995444c1ef530c55",
       "value": "<table border=\"1\" class=\"dataframe table table-striped table-hover table-condensed table-responsive\">\n  <thead>\n    <tr style=\"text-align: right;\">\n      <th></th>\n      <th>pact2</th>\n    </tr>\n  </thead>\n  <tbody>\n    <tr>\n      <th>met</th>\n      <td>182462</td>\n    </tr>\n    <tr>\n      <th>wave</th>\n      <td>0</td>\n    </tr>\n    <tr>\n      <th>type</th>\n      <td>fixed</td>\n    </tr>\n    <tr>\n      <th>name</th>\n      <td>8775792 - Packery Channel, TX</td>\n    </tr>\n    <tr>\n      <th>pgm</th>\n      <td>IOOS Partners</td>\n    </tr>\n  </tbody>\n</table>"
      }
     },
     "a9fe25b92cb245b6ac6727c7d1463f93": {
      "model_module": "@jupyter-widgets/base",
      "model_module_version": "1.2.0",
      "model_name": "LayoutModel",
      "state": {}
     },
     "aa47991eee944204a83e51e766976529": {
      "model_module": "jupyter-leaflet",
      "model_module_version": "^0.13.2",
      "model_name": "LeafletAwesomeIconModel",
      "state": {
       "_model_module_version": "^0.13.2",
       "_view_module_version": "^0.13.2",
       "icon_color": "white",
       "marker_color": "red",
       "name": "life-ring"
      }
     },
     "aadde3e41f4c4e188761b9b37ccf45bd": {
      "model_module": "jupyter-leaflet",
      "model_module_version": "^0.13.2",
      "model_name": "LeafletAwesomeIconModel",
      "state": {
       "_model_module_version": "^0.13.2",
       "_view_module_version": "^0.13.2",
       "icon_color": "white",
       "marker_color": "orange",
       "name": "life-ring"
      }
     },
     "aaf9ab4c9245423290819855498cc19a": {
      "model_module": "@jupyter-widgets/base",
      "model_module_version": "1.2.0",
      "model_name": "LayoutModel",
      "state": {}
     },
     "ab7bc7e19e3f4832ac33781de2ac80bf": {
      "model_module": "@jupyter-widgets/controls",
      "model_module_version": "1.5.0",
      "model_name": "DescriptionStyleModel",
      "state": {
       "description_width": ""
      }
     },
     "ac5641b069374b3584980bf51f001d06": {
      "model_module": "@jupyter-widgets/controls",
      "model_module_version": "1.5.0",
      "model_name": "DescriptionStyleModel",
      "state": {
       "description_width": ""
      }
     },
     "ac6f3cc736f547f890a9b62d17aa06da": {
      "model_module": "jupyter-leaflet",
      "model_module_version": "^0.13.2",
      "model_name": "LeafletAwesomeIconModel",
      "state": {
       "_model_module_version": "^0.13.2",
       "_view_module_version": "^0.13.2",
       "icon_color": "white",
       "marker_color": "orange",
       "name": "life-ring"
      }
     },
     "aca84a4de6c140ea8a670f32c610a385": {
      "model_module": "@jupyter-widgets/base",
      "model_module_version": "1.2.0",
      "model_name": "LayoutModel",
      "state": {}
     },
     "acba7c49debe4dc283d022797fd2b4b6": {
      "model_module": "@jupyter-widgets/base",
      "model_module_version": "1.2.0",
      "model_name": "LayoutModel",
      "state": {}
     },
     "ace05c446a9d49efb7913ecd274b6bbb": {
      "model_module": "jupyter-leaflet",
      "model_module_version": "^0.13.2",
      "model_name": "LeafletAwesomeIconModel",
      "state": {
       "_model_module_version": "^0.13.2",
       "_view_module_version": "^0.13.2",
       "icon_color": "white",
       "marker_color": "orange",
       "name": "life-ring"
      }
     },
     "ad092598435a4e3f8610e472f2ee1f1a": {
      "model_module": "jupyter-leaflet",
      "model_module_version": "^0.13.2",
      "model_name": "LeafletAwesomeIconModel",
      "state": {
       "_model_module_version": "^0.13.2",
       "_view_module_version": "^0.13.2",
       "icon_color": "white",
       "marker_color": "orange",
       "name": "life-ring"
      }
     },
     "ad0ebebf31304271ab563e9eca1c295a": {
      "model_module": "jupyter-leaflet",
      "model_module_version": "^0.13.2",
      "model_name": "LeafletMarkerModel",
      "state": {
       "_model_module_version": "^0.13.2",
       "_view_module_version": "^0.13.2",
       "draggable": false,
       "icon": "IPY_MODEL_a11eac53434c44c2bfe7a5c6cfb9e65e",
       "location": [
        27.84,
        -97.072
       ],
       "options": [
        "alt",
        "draggable",
        "keyboard",
        "rise_offset",
        "rise_on_hover",
        "rotation_angle",
        "rotation_origin",
        "title",
        "z_index_offset"
       ],
       "popup": "IPY_MODEL_ffa9f090623b498cb6e549134e4209d4"
      }
     },
     "ada1727097d3457c982daaf6e6dd7985": {
      "model_module": "@jupyter-widgets/base",
      "model_module_version": "1.2.0",
      "model_name": "LayoutModel",
      "state": {}
     },
     "ae90e0ae6cec452692728eee5f8d79be": {
      "model_module": "@jupyter-widgets/controls",
      "model_module_version": "1.5.0",
      "model_name": "HTMLModel",
      "state": {
       "layout": "IPY_MODEL_c098dd779d7b484ba60a694646be45a9",
       "style": "IPY_MODEL_4e3c36c17b2c42d987f7cb0bb968f969",
       "value": "<table border=\"1\" class=\"dataframe table table-striped table-hover table-condensed table-responsive\">\n  <thead>\n    <tr style=\"text-align: right;\">\n      <th></th>\n      <th>42098</th>\n    </tr>\n  </thead>\n  <tbody>\n    <tr>\n      <th>met</th>\n      <td>0</td>\n    </tr>\n    <tr>\n      <th>wave</th>\n      <td>36478</td>\n    </tr>\n    <tr>\n      <th>type</th>\n      <td>buoy</td>\n    </tr>\n    <tr>\n      <th>name</th>\n      <td>Egmont Channel Entrance, FL (214)</td>\n    </tr>\n    <tr>\n      <th>pgm</th>\n      <td>IOOS Partners</td>\n    </tr>\n  </tbody>\n</table>"
      }
     },
     "aefb8de7bc4e4876b3bb4adc34907d54": {
      "model_module": "jupyter-leaflet",
      "model_module_version": "^0.13.2",
      "model_name": "LeafletMarkerModel",
      "state": {
       "_model_module_version": "^0.13.2",
       "_view_module_version": "^0.13.2",
       "draggable": false,
       "icon": "IPY_MODEL_30029a21cdf94305a1b557639bcf7370",
       "location": [
        21.671,
        -158.117
       ],
       "options": [
        "alt",
        "draggable",
        "keyboard",
        "rise_offset",
        "rise_on_hover",
        "rotation_angle",
        "rotation_origin",
        "title",
        "z_index_offset"
       ],
       "popup": "IPY_MODEL_00f63d59d0024e2c9b24524ecef0cb3c"
      }
     },
     "af6a3833669f49d383da38c0afd616e5": {
      "model_module": "@jupyter-widgets/base",
      "model_module_version": "1.2.0",
      "model_name": "LayoutModel",
      "state": {}
     },
     "afb49d306ded4aa08d693727067bac22": {
      "model_module": "@jupyter-widgets/controls",
      "model_module_version": "1.5.0",
      "model_name": "DescriptionStyleModel",
      "state": {
       "description_width": ""
      }
     },
     "b01e719a2dff4fcaa14a36681ab6901a": {
      "model_module": "jupyter-leaflet",
      "model_module_version": "^0.13.2",
      "model_name": "LeafletMarkerModel",
      "state": {
       "_model_module_version": "^0.13.2",
       "_view_module_version": "^0.13.2",
       "draggable": false,
       "icon": "IPY_MODEL_3b084961c961434ea52b434b9e6ef275",
       "location": [
        26.191,
        -97.051
       ],
       "options": [
        "alt",
        "draggable",
        "keyboard",
        "rise_offset",
        "rise_on_hover",
        "rotation_angle",
        "rotation_origin",
        "title",
        "z_index_offset"
       ],
       "popup": "IPY_MODEL_f7cf9130603e486e861a5224f1b6d378"
      }
     },
     "b0392c098aff43cca91562ff3cfa7f67": {
      "model_module": "@jupyter-widgets/base",
      "model_module_version": "1.2.0",
      "model_name": "LayoutModel",
      "state": {}
     },
     "b0a144adc04e42e688f7d72c0a436095": {
      "model_module": "jupyter-leaflet",
      "model_module_version": "^0.13.2",
      "model_name": "LeafletAwesomeIconModel",
      "state": {
       "_model_module_version": "^0.13.2",
       "_view_module_version": "^0.13.2",
       "icon_color": "white",
       "marker_color": "green",
       "name": "life-ring"
      }
     },
     "b0d90326bcde45a9a43e9389347cda29": {
      "model_module": "jupyter-leaflet",
      "model_module_version": "^0.13.2",
      "model_name": "LeafletAwesomeIconModel",
      "state": {
       "_model_module_version": "^0.13.2",
       "_view_module_version": "^0.13.2",
       "icon_color": "white",
       "marker_color": "orange",
       "name": "life-ring"
      }
     },
     "b13541e474c043228cbe7101e98c9488": {
      "model_module": "@jupyter-widgets/base",
      "model_module_version": "1.2.0",
      "model_name": "LayoutModel",
      "state": {}
     },
     "b147a6360297406590201a8caea3cf42": {
      "model_module": "@jupyter-widgets/base",
      "model_module_version": "1.2.0",
      "model_name": "LayoutModel",
      "state": {}
     },
     "b1673594c3c4455e8506370f438b7db9": {
      "model_module": "@jupyter-widgets/controls",
      "model_module_version": "1.5.0",
      "model_name": "DescriptionStyleModel",
      "state": {
       "description_width": ""
      }
     },
     "b1b8df04257c49abaa5aa2b2407d5d34": {
      "model_module": "@jupyter-widgets/base",
      "model_module_version": "1.2.0",
      "model_name": "LayoutModel",
      "state": {}
     },
     "b1d62e8d048746c79f9165a9b45937e2": {
      "model_module": "@jupyter-widgets/controls",
      "model_module_version": "1.5.0",
      "model_name": "HTMLModel",
      "state": {
       "layout": "IPY_MODEL_32277911e2f542028d0543dacac7516d",
       "style": "IPY_MODEL_f26ab893616a4e5cb0f06ca6ed36521e",
       "value": "<table border=\"1\" class=\"dataframe table table-striped table-hover table-condensed table-responsive\">\n  <thead>\n    <tr style=\"text-align: right;\">\n      <th></th>\n      <th>51211</th>\n    </tr>\n  </thead>\n  <tbody>\n    <tr>\n      <th>met</th>\n      <td>0</td>\n    </tr>\n    <tr>\n      <th>wave</th>\n      <td>37446</td>\n    </tr>\n    <tr>\n      <th>type</th>\n      <td>buoy</td>\n    </tr>\n    <tr>\n      <th>name</th>\n      <td>Pearl Harbor Entrance, HI (233)</td>\n    </tr>\n    <tr>\n      <th>pgm</th>\n      <td>IOOS Partners</td>\n    </tr>\n  </tbody>\n</table>"
      }
     },
     "b1f983745321480ba23e218004677efb": {
      "model_module": "jupyter-leaflet",
      "model_module_version": "^0.13.2",
      "model_name": "LeafletMarkerModel",
      "state": {
       "_model_module_version": "^0.13.2",
       "_view_module_version": "^0.13.2",
       "draggable": false,
       "icon": "IPY_MODEL_28c0e8d9951a469692351e7cb48ec961",
       "location": [
        33.988,
        -77.362
       ],
       "options": [
        "alt",
        "draggable",
        "keyboard",
        "rise_offset",
        "rise_on_hover",
        "rotation_angle",
        "rotation_origin",
        "title",
        "z_index_offset"
       ],
       "popup": "IPY_MODEL_1a58797c06ff4630beef4d413994efae"
      }
     },
     "b2bfd2582c124366b1e9dc84562aa415": {
      "model_module": "@jupyter-widgets/controls",
      "model_module_version": "1.5.0",
      "model_name": "HTMLModel",
      "state": {
       "layout": "IPY_MODEL_c4e953042a244663a1edc9eddb9f7014",
       "style": "IPY_MODEL_cb406bdf94b64ba08d768f957884a05c",
       "value": "<table border=\"1\" class=\"dataframe table table-striped table-hover table-condensed table-responsive\">\n  <thead>\n    <tr style=\"text-align: right;\">\n      <th></th>\n      <th>41053</th>\n    </tr>\n  </thead>\n  <tbody>\n    <tr>\n      <th>met</th>\n      <td>111578</td>\n    </tr>\n    <tr>\n      <th>wave</th>\n      <td>13934</td>\n    </tr>\n    <tr>\n      <th>type</th>\n      <td>buoy</td>\n    </tr>\n    <tr>\n      <th>name</th>\n      <td>San Juan, PR</td>\n    </tr>\n    <tr>\n      <th>pgm</th>\n      <td>IOOS Partners</td>\n    </tr>\n  </tbody>\n</table>"
      }
     },
     "b2e5cda13bc1498fa4fb9ae0e026069d": {
      "model_module": "@jupyter-widgets/controls",
      "model_module_version": "1.5.0",
      "model_name": "DescriptionStyleModel",
      "state": {
       "description_width": ""
      }
     },
     "b3267263097649c3a008f93a1a9ae630": {
      "model_module": "@jupyter-widgets/controls",
      "model_module_version": "1.5.0",
      "model_name": "DescriptionStyleModel",
      "state": {
       "description_width": ""
      }
     },
     "b3dd05557ff6435cb028da1aabe0de06": {
      "model_module": "jupyter-leaflet",
      "model_module_version": "^0.13.2",
      "model_name": "LeafletMarkerModel",
      "state": {
       "_model_module_version": "^0.13.2",
       "_view_module_version": "^0.13.2",
       "draggable": false,
       "icon": "IPY_MODEL_a2c27ae784594b94a63d6fc9ad409a54",
       "location": [
        30.437,
        -88.011
       ],
       "options": [
        "alt",
        "draggable",
        "keyboard",
        "rise_offset",
        "rise_on_hover",
        "rotation_angle",
        "rotation_origin",
        "title",
        "z_index_offset"
       ],
       "popup": "IPY_MODEL_9d653e35657b4b05a14d4fff48f94a93"
      }
     },
     "b4b980bfc1234437b465f0a6c30cb339": {
      "model_module": "@jupyter-widgets/base",
      "model_module_version": "1.2.0",
      "model_name": "LayoutModel",
      "state": {}
     },
     "b50eb48a8b8c400bad593c8cb00424ff": {
      "model_module": "jupyter-leaflet",
      "model_module_version": "^0.13.2",
      "model_name": "LeafletMarkerModel",
      "state": {
       "_model_module_version": "^0.13.2",
       "_view_module_version": "^0.13.2",
       "draggable": false,
       "icon": "IPY_MODEL_a391fad5f6194677969cf0c655c2b88e",
       "location": [
        57.055,
        -135.349
       ],
       "options": [
        "alt",
        "draggable",
        "keyboard",
        "rise_offset",
        "rise_on_hover",
        "rotation_angle",
        "rotation_origin",
        "title",
        "z_index_offset"
       ],
       "popup": "IPY_MODEL_046b2ec0305b48f8bada0cbcde8e770e"
      }
     },
     "b55d9da6cb3b4f34ac3d11c6b908d46c": {
      "model_module": "@jupyter-widgets/controls",
      "model_module_version": "1.5.0",
      "model_name": "DescriptionStyleModel",
      "state": {
       "description_width": ""
      }
     },
     "b601129e86a34b6fb9100b70c095014f": {
      "model_module": "@jupyter-widgets/controls",
      "model_module_version": "1.5.0",
      "model_name": "DescriptionStyleModel",
      "state": {
       "description_width": ""
      }
     },
     "b606529fd6424e96a833373ae36c868b": {
      "model_module": "jupyter-leaflet",
      "model_module_version": "^0.13.2",
      "model_name": "LeafletAwesomeIconModel",
      "state": {
       "_model_module_version": "^0.13.2",
       "_view_module_version": "^0.13.2",
       "icon_color": "white",
       "marker_color": "green",
       "name": "life-ring"
      }
     },
     "b662097b04054c3aade1ec4b79ceae9d": {
      "model_module": "@jupyter-widgets/controls",
      "model_module_version": "1.5.0",
      "model_name": "DescriptionStyleModel",
      "state": {
       "description_width": ""
      }
     },
     "b69227c4748c4a009302c1740e13a46b": {
      "model_module": "@jupyter-widgets/controls",
      "model_module_version": "1.5.0",
      "model_name": "DescriptionStyleModel",
      "state": {
       "description_width": ""
      }
     },
     "b7ea74ee4a494a80a64fd8d122787a37": {
      "model_module": "jupyter-leaflet",
      "model_module_version": "^0.13.2",
      "model_name": "LeafletAwesomeIconModel",
      "state": {
       "_model_module_version": "^0.13.2",
       "_view_module_version": "^0.13.2",
       "icon_color": "white",
       "marker_color": "green",
       "name": "life-ring"
      }
     },
     "b836de72c8894b0f87bdffe3d3617989": {
      "model_module": "jupyter-leaflet",
      "model_module_version": "^0.13.2",
      "model_name": "LeafletMarkerModel",
      "state": {
       "_model_module_version": "^0.13.2",
       "_view_module_version": "^0.13.2",
       "draggable": false,
       "icon": "IPY_MODEL_b7ea74ee4a494a80a64fd8d122787a37",
       "location": [
        42.523,
        -70.566
       ],
       "options": [
        "alt",
        "draggable",
        "keyboard",
        "rise_offset",
        "rise_on_hover",
        "rotation_angle",
        "rotation_origin",
        "title",
        "z_index_offset"
       ],
       "popup": "IPY_MODEL_ecc12430cd724158851533d6be812456"
      }
     },
     "b8a241f4cade45448a20b3d685d4b89a": {
      "model_module": "@jupyter-widgets/controls",
      "model_module_version": "1.5.0",
      "model_name": "HTMLModel",
      "state": {
       "layout": "IPY_MODEL_aaf9ab4c9245423290819855498cc19a",
       "style": "IPY_MODEL_864b7c81df0a488f999b367fd3a69bc2",
       "value": "<table border=\"1\" class=\"dataframe table table-striped table-hover table-condensed table-responsive\">\n  <thead>\n    <tr style=\"text-align: right;\">\n      <th></th>\n      <th>42023</th>\n    </tr>\n  </thead>\n  <tbody>\n    <tr>\n      <th>met</th>\n      <td>34652</td>\n    </tr>\n    <tr>\n      <th>wave</th>\n      <td>0</td>\n    </tr>\n    <tr>\n      <th>type</th>\n      <td>buoy</td>\n    </tr>\n    <tr>\n      <th>name</th>\n      <td>C13 - WFS South Buoy, 50m Isobath</td>\n    </tr>\n    <tr>\n      <th>pgm</th>\n      <td>IOOS Partners</td>\n    </tr>\n  </tbody>\n</table>"
      }
     },
     "b9306674aa4f4815aa6da5bfec2c271b": {
      "model_module": "jupyter-leaflet",
      "model_module_version": "^0.13.2",
      "model_name": "LeafletMarkerModel",
      "state": {
       "_model_module_version": "^0.13.2",
       "_view_module_version": "^0.13.2",
       "draggable": false,
       "icon": "IPY_MODEL_8c811bdb9f024fedb816bf8ad0794a9b",
       "location": [
        41.976,
        -87.648
       ],
       "options": [
        "alt",
        "draggable",
        "keyboard",
        "rise_offset",
        "rise_on_hover",
        "rotation_angle",
        "rotation_origin",
        "title",
        "z_index_offset"
       ],
       "popup": "IPY_MODEL_709b6debf60d430cbed4e1014c431be8"
      }
     },
     "b9d1588f02f9410fa91e2ffff18aac42": {
      "model_module": "jupyter-leaflet",
      "model_module_version": "^0.13.2",
      "model_name": "LeafletAwesomeIconModel",
      "state": {
       "_model_module_version": "^0.13.2",
       "_view_module_version": "^0.13.2",
       "icon_color": "white",
       "marker_color": "orange",
       "name": "life-ring"
      }
     },
     "b9e111e5c1af4776b484205f1ddbb7cc": {
      "model_module": "jupyter-leaflet",
      "model_module_version": "^0.13.2",
      "model_name": "LeafletMarkerModel",
      "state": {
       "_model_module_version": "^0.13.2",
       "_view_module_version": "^0.13.2",
       "draggable": false,
       "icon": "IPY_MODEL_6567c75069464d458e90fac6d37039df",
       "location": [
        36.751,
        -122.029
       ],
       "options": [
        "alt",
        "draggable",
        "keyboard",
        "rise_offset",
        "rise_on_hover",
        "rotation_angle",
        "rotation_origin",
        "title",
        "z_index_offset"
       ],
       "popup": "IPY_MODEL_32505bd1ca394a498b995ccc5090b939"
      }
     },
     "ba266590ae454237936c7992bd87e134": {
      "model_module": "@jupyter-widgets/controls",
      "model_module_version": "1.5.0",
      "model_name": "DescriptionStyleModel",
      "state": {
       "description_width": ""
      }
     },
     "ba81cfb9e8664886a9e1f3cdc9f0d3de": {
      "model_module": "jupyter-leaflet",
      "model_module_version": "^0.13.2",
      "model_name": "LeafletAwesomeIconModel",
      "state": {
       "_model_module_version": "^0.13.2",
       "_view_module_version": "^0.13.2",
       "icon_color": "white",
       "marker_color": "orange",
       "name": "life-ring"
      }
     },
     "bb46463671774ab38e092425ce1b16b1": {
      "model_module": "jupyter-leaflet",
      "model_module_version": "^0.13.2",
      "model_name": "LeafletMarkerModel",
      "state": {
       "_model_module_version": "^0.13.2",
       "_view_module_version": "^0.13.2",
       "draggable": false,
       "icon": "IPY_MODEL_96a944c5e77148f8839b98aa266f140a",
       "location": [
        58.198,
        -134.257
       ],
       "options": [
        "alt",
        "draggable",
        "keyboard",
        "rise_offset",
        "rise_on_hover",
        "rotation_angle",
        "rotation_origin",
        "title",
        "z_index_offset"
       ],
       "popup": "IPY_MODEL_7cf5502702f54350a641533c2de92641"
      }
     },
     "bbd51ab513c949b5877ed018aa68aa0e": {
      "model_module": "jupyter-leaflet",
      "model_module_version": "^0.13.2",
      "model_name": "LeafletAwesomeIconModel",
      "state": {
       "_model_module_version": "^0.13.2",
       "_view_module_version": "^0.13.2",
       "icon_color": "white",
       "marker_color": "red",
       "name": "life-ring"
      }
     },
     "bbfd0633f472436b9000e0df61516c7d": {
      "model_module": "@jupyter-widgets/controls",
      "model_module_version": "1.5.0",
      "model_name": "HTMLModel",
      "state": {
       "layout": "IPY_MODEL_f5ad8532d1f7474b8a6decf5f2426137",
       "style": "IPY_MODEL_16b5b3c618b04e149fbd4ea5ca658008",
       "value": "<table border=\"1\" class=\"dataframe table table-striped table-hover table-condensed table-responsive\">\n  <thead>\n    <tr style=\"text-align: right;\">\n      <th></th>\n      <th>45013</th>\n    </tr>\n  </thead>\n  <tbody>\n    <tr>\n      <th>met</th>\n      <td>13034</td>\n    </tr>\n    <tr>\n      <th>wave</th>\n      <td>12884</td>\n    </tr>\n    <tr>\n      <th>type</th>\n      <td>buoy</td>\n    </tr>\n    <tr>\n      <th>name</th>\n      <td>ATW20 - Atwater Park, WI</td>\n    </tr>\n    <tr>\n      <th>pgm</th>\n      <td>IOOS Partners</td>\n    </tr>\n  </tbody>\n</table>"
      }
     },
     "bc4542ed7b7b4dbe91790c2b5c637aca": {
      "model_module": "@jupyter-widgets/controls",
      "model_module_version": "1.5.0",
      "model_name": "DescriptionStyleModel",
      "state": {
       "description_width": ""
      }
     },
     "bdad8f102e00450983a31fe7730bf462": {
      "model_module": "@jupyter-widgets/controls",
      "model_module_version": "1.5.0",
      "model_name": "DescriptionStyleModel",
      "state": {
       "description_width": ""
      }
     },
     "be60145c92be4fd68250d1492467931e": {
      "model_module": "jupyter-leaflet",
      "model_module_version": "^0.13.2",
      "model_name": "LeafletAwesomeIconModel",
      "state": {
       "_model_module_version": "^0.13.2",
       "_view_module_version": "^0.13.2",
       "icon_color": "white",
       "marker_color": "orange",
       "name": "life-ring"
      }
     },
     "bf01bb9c18614513bb70b85c78c04cb4": {
      "model_module": "@jupyter-widgets/controls",
      "model_module_version": "1.5.0",
      "model_name": "HTMLModel",
      "state": {
       "layout": "IPY_MODEL_c74dee58f52841058351f0dcf635451c",
       "style": "IPY_MODEL_2f8a18e81b05401fb51ce0a68f2910e4",
       "value": "<table border=\"1\" class=\"dataframe table table-striped table-hover table-condensed table-responsive\">\n  <thead>\n    <tr style=\"text-align: right;\">\n      <th></th>\n      <th>42045</th>\n    </tr>\n  </thead>\n  <tbody>\n    <tr>\n      <th>met</th>\n      <td>10860</td>\n    </tr>\n    <tr>\n      <th>wave</th>\n      <td>0</td>\n    </tr>\n    <tr>\n      <th>type</th>\n      <td>buoy</td>\n    </tr>\n    <tr>\n      <th>name</th>\n      <td>TGLO TABS Buoy K</td>\n    </tr>\n    <tr>\n      <th>pgm</th>\n      <td>IOOS Partners</td>\n    </tr>\n  </tbody>\n</table>"
      }
     },
     "bf52dae3e1e845579988f7fb686602b7": {
      "model_module": "@jupyter-widgets/controls",
      "model_module_version": "1.5.0",
      "model_name": "HTMLModel",
      "state": {
       "layout": "IPY_MODEL_c21d9618eaf54724b9690c9eed441b54",
       "style": "IPY_MODEL_bc4542ed7b7b4dbe91790c2b5c637aca",
       "value": "<table border=\"1\" class=\"dataframe table table-striped table-hover table-condensed table-responsive\">\n  <thead>\n    <tr style=\"text-align: right;\">\n      <th></th>\n      <th>45174</th>\n    </tr>\n  </thead>\n  <tbody>\n    <tr>\n      <th>met</th>\n      <td>40958</td>\n    </tr>\n    <tr>\n      <th>wave</th>\n      <td>40958</td>\n    </tr>\n    <tr>\n      <th>type</th>\n      <td>buoy</td>\n    </tr>\n    <tr>\n      <th>name</th>\n      <td>Wilmette Buoy, IL</td>\n    </tr>\n    <tr>\n      <th>pgm</th>\n      <td>IOOS Partners</td>\n    </tr>\n  </tbody>\n</table>"
      }
     },
     "bf7753e5e8654dc0b6558627fe5e65b7": {
      "model_module": "@jupyter-widgets/controls",
      "model_module_version": "1.5.0",
      "model_name": "DescriptionStyleModel",
      "state": {
       "description_width": ""
      }
     },
     "bf9fa74ca6e64af8b734aef1d169704b": {
      "model_module": "jupyter-leaflet",
      "model_module_version": "^0.13.2",
      "model_name": "LeafletAwesomeIconModel",
      "state": {
       "_model_module_version": "^0.13.2",
       "_view_module_version": "^0.13.2",
       "icon_color": "white",
       "marker_color": "green",
       "name": "life-ring"
      }
     },
     "c098dd779d7b484ba60a694646be45a9": {
      "model_module": "@jupyter-widgets/base",
      "model_module_version": "1.2.0",
      "model_name": "LayoutModel",
      "state": {}
     },
     "c12724f5505f4da48e936348305693b1": {
      "model_module": "@jupyter-widgets/controls",
      "model_module_version": "1.5.0",
      "model_name": "DescriptionStyleModel",
      "state": {
       "description_width": ""
      }
     },
     "c178f51e05a64a8ba023316bdaa8d785": {
      "model_module": "jupyter-leaflet",
      "model_module_version": "^0.13.2",
      "model_name": "LeafletAwesomeIconModel",
      "state": {
       "_model_module_version": "^0.13.2",
       "_view_module_version": "^0.13.2",
       "icon_color": "white",
       "marker_color": "green",
       "name": "life-ring"
      }
     },
     "c1bd472bfa43419685350263b1bf895a": {
      "model_module": "@jupyter-widgets/base",
      "model_module_version": "1.2.0",
      "model_name": "LayoutModel",
      "state": {}
     },
     "c1c11629d1354597872d37725e8d9bc2": {
      "model_module": "jupyter-leaflet",
      "model_module_version": "^0.13.2",
      "model_name": "LeafletAwesomeIconModel",
      "state": {
       "_model_module_version": "^0.13.2",
       "_view_module_version": "^0.13.2",
       "icon_color": "white",
       "marker_color": "red",
       "name": "life-ring"
      }
     },
     "c1db31c7b999401081f0da9177df1e3f": {
      "model_module": "@jupyter-widgets/controls",
      "model_module_version": "1.5.0",
      "model_name": "HTMLModel",
      "state": {
       "layout": "IPY_MODEL_8982adfa203a485ebcbcc72caf80a588",
       "style": "IPY_MODEL_b2e5cda13bc1498fa4fb9ae0e026069d",
       "value": "<table border=\"1\" class=\"dataframe table table-striped table-hover table-condensed table-responsive\">\n  <thead>\n    <tr style=\"text-align: right;\">\n      <th></th>\n      <th>ssbn7</th>\n    </tr>\n  </thead>\n  <tbody>\n    <tr>\n      <th>met</th>\n      <td>0</td>\n    </tr>\n    <tr>\n      <th>wave</th>\n      <td>6976</td>\n    </tr>\n    <tr>\n      <th>type</th>\n      <td>buoy</td>\n    </tr>\n    <tr>\n      <th>name</th>\n      <td>Sunset Beach Nearshore Waves (SUN2WAVE)</td>\n    </tr>\n    <tr>\n      <th>pgm</th>\n      <td>IOOS Partners</td>\n    </tr>\n  </tbody>\n</table>"
      }
     },
     "c1e947b6c898477382895793f0048d62": {
      "model_module": "jupyter-leaflet",
      "model_module_version": "^0.13.2",
      "model_name": "LeafletMarkerModel",
      "state": {
       "_model_module_version": "^0.13.2",
       "_view_module_version": "^0.13.2",
       "draggable": false,
       "icon": "IPY_MODEL_452090c84ab74f0ab88b87afa3f3cc48",
       "location": [
        30.667,
        -87.936
       ],
       "options": [
        "alt",
        "draggable",
        "keyboard",
        "rise_offset",
        "rise_on_hover",
        "rotation_angle",
        "rotation_origin",
        "title",
        "z_index_offset"
       ],
       "popup": "IPY_MODEL_e0ba471d788c4370b8ed3fb1fe1e56d2"
      }
     },
     "c21d9618eaf54724b9690c9eed441b54": {
      "model_module": "@jupyter-widgets/base",
      "model_module_version": "1.2.0",
      "model_name": "LayoutModel",
      "state": {}
     },
     "c23bba04a87c4f56a8ac50ebfe8eb531": {
      "model_module": "jupyter-leaflet",
      "model_module_version": "^0.13.2",
      "model_name": "LeafletMarkerModel",
      "state": {
       "_model_module_version": "^0.13.2",
       "_view_module_version": "^0.13.2",
       "draggable": false,
       "icon": "IPY_MODEL_51c0b739ab844fa6822a21f4b6abbae5",
       "location": [
        27.815,
        -97.389
       ],
       "options": [
        "alt",
        "draggable",
        "keyboard",
        "rise_offset",
        "rise_on_hover",
        "rotation_angle",
        "rotation_origin",
        "title",
        "z_index_offset"
       ],
       "popup": "IPY_MODEL_f27a37b2d479496d8f93e6fd33cf1e95"
      }
     },
     "c26d25ce6e2746e897d94ceaac8fef21": {
      "model_module": "jupyter-leaflet",
      "model_module_version": "^0.13.2",
      "model_name": "LeafletAwesomeIconModel",
      "state": {
       "_model_module_version": "^0.13.2",
       "_view_module_version": "^0.13.2",
       "icon_color": "white",
       "marker_color": "orange",
       "name": "life-ring"
      }
     },
     "c3963f5f0a574a5a88a38e55c132c1ea": {
      "model_module": "@jupyter-widgets/controls",
      "model_module_version": "1.5.0",
      "model_name": "HTMLModel",
      "state": {
       "layout": "IPY_MODEL_eb2e98a5ffa549dcb73388ebacb933ab",
       "style": "IPY_MODEL_1fc09a4f079a42db9c4083c1864fe895",
       "value": "<table border=\"1\" class=\"dataframe table table-striped table-hover table-condensed table-responsive\">\n  <thead>\n    <tr style=\"text-align: right;\">\n      <th></th>\n      <th>bsca1</th>\n    </tr>\n  </thead>\n  <tbody>\n    <tr>\n      <th>met</th>\n      <td>23752</td>\n    </tr>\n    <tr>\n      <th>wave</th>\n      <td>0</td>\n    </tr>\n    <tr>\n      <th>type</th>\n      <td>fixed</td>\n    </tr>\n    <tr>\n      <th>name</th>\n      <td>Bon Secour, AL</td>\n    </tr>\n    <tr>\n      <th>pgm</th>\n      <td>IOOS Partners</td>\n    </tr>\n  </tbody>\n</table>"
      }
     },
     "c3cc0dfca0154339880c6b97b662c0b4": {
      "model_module": "@jupyter-widgets/controls",
      "model_module_version": "1.5.0",
      "model_name": "DescriptionStyleModel",
      "state": {
       "description_width": ""
      }
     },
     "c47bf2d1342f46bca7e2490b9ccb4dd2": {
      "model_module": "@jupyter-widgets/base",
      "model_module_version": "1.2.0",
      "model_name": "LayoutModel",
      "state": {}
     },
     "c49c0259cae244748ba1300be41c5793": {
      "model_module": "jupyter-leaflet",
      "model_module_version": "^0.13.2",
      "model_name": "LeafletMarkerModel",
      "state": {
       "_model_module_version": "^0.13.2",
       "_view_module_version": "^0.13.2",
       "draggable": false,
       "icon": "IPY_MODEL_d3a0bdfaeaa4459bacdf485af4e4c4f4",
       "location": [
        26.559,
        -97.424
       ],
       "options": [
        "alt",
        "draggable",
        "keyboard",
        "rise_offset",
        "rise_on_hover",
        "rotation_angle",
        "rotation_origin",
        "title",
        "z_index_offset"
       ],
       "popup": "IPY_MODEL_075e34e376604d5381f5e87a73e0e1f0"
      }
     },
     "c4e953042a244663a1edc9eddb9f7014": {
      "model_module": "@jupyter-widgets/base",
      "model_module_version": "1.2.0",
      "model_name": "LayoutModel",
      "state": {}
     },
     "c5aac906404c45f884478b8681aadb71": {
      "model_module": "@jupyter-widgets/base",
      "model_module_version": "1.2.0",
      "model_name": "LayoutModel",
      "state": {}
     },
     "c5fcfab7015d40a5a129ee7cd05f44a0": {
      "model_module": "@jupyter-widgets/base",
      "model_module_version": "1.2.0",
      "model_name": "LayoutModel",
      "state": {}
     },
     "c5fdfb5f87b24856b5eb508dbcf93378": {
      "model_module": "@jupyter-widgets/base",
      "model_module_version": "1.2.0",
      "model_name": "LayoutModel",
      "state": {}
     },
     "c605c96951084ed0bc6dbc246d5060b0": {
      "model_module": "@jupyter-widgets/controls",
      "model_module_version": "1.5.0",
      "model_name": "HTMLModel",
      "state": {
       "layout": "IPY_MODEL_f7d386cc584a4091874d210bc3fbc8db",
       "style": "IPY_MODEL_5384c47444f947658781723510da0db2",
       "value": "<table border=\"1\" class=\"dataframe table table-striped table-hover table-condensed table-responsive\">\n  <thead>\n    <tr style=\"text-align: right;\">\n      <th></th>\n      <th>51208</th>\n    </tr>\n  </thead>\n  <tbody>\n    <tr>\n      <th>met</th>\n      <td>0</td>\n    </tr>\n    <tr>\n      <th>wave</th>\n      <td>19394</td>\n    </tr>\n    <tr>\n      <th>type</th>\n      <td>buoy</td>\n    </tr>\n    <tr>\n      <th>name</th>\n      <td>Hanalei, Kauai, HI (202)</td>\n    </tr>\n    <tr>\n      <th>pgm</th>\n      <td>IOOS Partners</td>\n    </tr>\n  </tbody>\n</table>"
      }
     },
     "c60afcdf23d740fbb9fa463877c42015": {
      "model_module": "@jupyter-widgets/controls",
      "model_module_version": "1.5.0",
      "model_name": "HTMLModel",
      "state": {
       "layout": "IPY_MODEL_acba7c49debe4dc283d022797fd2b4b6",
       "style": "IPY_MODEL_0cd17afcbf384c18bc1a29f992bc4547",
       "value": "<table border=\"1\" class=\"dataframe table table-striped table-hover table-condensed table-responsive\">\n  <thead>\n    <tr style=\"text-align: right;\">\n      <th></th>\n      <th>42043</th>\n    </tr>\n  </thead>\n  <tbody>\n    <tr>\n      <th>met</th>\n      <td>13354</td>\n    </tr>\n    <tr>\n      <th>wave</th>\n      <td>0</td>\n    </tr>\n    <tr>\n      <th>type</th>\n      <td>buoy</td>\n    </tr>\n    <tr>\n      <th>name</th>\n      <td>TGLO TABS Buoy B</td>\n    </tr>\n    <tr>\n      <th>pgm</th>\n      <td>IOOS Partners</td>\n    </tr>\n  </tbody>\n</table>"
      }
     },
     "c62364c1ddfd440eac817f64cbe63f36": {
      "model_module": "jupyter-leaflet",
      "model_module_version": "^0.13.2",
      "model_name": "LeafletMarkerModel",
      "state": {
       "_model_module_version": "^0.13.2",
       "_view_module_version": "^0.13.2",
       "draggable": false,
       "icon": "IPY_MODEL_1df43c7a1a524764a5eccefa896f7cdc",
       "location": [
        41.699,
        -83.259
       ],
       "options": [
        "alt",
        "draggable",
        "keyboard",
        "rise_offset",
        "rise_on_hover",
        "rotation_angle",
        "rotation_origin",
        "title",
        "z_index_offset"
       ],
       "popup": "IPY_MODEL_e332c2b956cb4f789f99daaee3022ea0"
      }
     },
     "c6692b8763244a838f5e2cfa1e497ea8": {
      "model_module": "jupyter-leaflet",
      "model_module_version": "^0.13.2",
      "model_name": "LeafletAwesomeIconModel",
      "state": {
       "_model_module_version": "^0.13.2",
       "_view_module_version": "^0.13.2",
       "icon_color": "white",
       "marker_color": "green",
       "name": "life-ring"
      }
     },
     "c6b83517f73f404fbb68f6282b1af806": {
      "model_module": "@jupyter-widgets/base",
      "model_module_version": "1.2.0",
      "model_name": "LayoutModel",
      "state": {}
     },
     "c72ad3ac937f4d11812e161d14186bee": {
      "model_module": "@jupyter-widgets/base",
      "model_module_version": "1.2.0",
      "model_name": "LayoutModel",
      "state": {}
     },
     "c745c2ca601548f99c8cebb8d8a41dd0": {
      "model_module": "@jupyter-widgets/controls",
      "model_module_version": "1.5.0",
      "model_name": "HTMLModel",
      "state": {
       "layout": "IPY_MODEL_10d396fd0bc44ad08b266b90e30f3e1a",
       "style": "IPY_MODEL_0d7f72d8e3e847ef982315b41ece9d50",
       "value": "<table border=\"1\" class=\"dataframe table table-striped table-hover table-condensed table-responsive\">\n  <thead>\n    <tr style=\"text-align: right;\">\n      <th></th>\n      <th>ldlc3</th>\n    </tr>\n  </thead>\n  <tbody>\n    <tr>\n      <th>met</th>\n      <td>49618</td>\n    </tr>\n    <tr>\n      <th>wave</th>\n      <td>0</td>\n    </tr>\n    <tr>\n      <th>type</th>\n      <td>fixed</td>\n    </tr>\n    <tr>\n      <th>name</th>\n      <td>New London Ledge Light, New London Harbor, CT</td>\n    </tr>\n    <tr>\n      <th>pgm</th>\n      <td>IOOS Partners</td>\n    </tr>\n  </tbody>\n</table>"
      }
     },
     "c74dee58f52841058351f0dcf635451c": {
      "model_module": "@jupyter-widgets/base",
      "model_module_version": "1.2.0",
      "model_name": "LayoutModel",
      "state": {}
     },
     "c7584c3032b5420b914031b6f832eab0": {
      "model_module": "@jupyter-widgets/controls",
      "model_module_version": "1.5.0",
      "model_name": "HTMLModel",
      "state": {
       "layout": "IPY_MODEL_d1a8ec178ea4482091ee8e495dc736f9",
       "style": "IPY_MODEL_e307742de2044b288fbbd6af2b621ae4",
       "value": "<table border=\"1\" class=\"dataframe table table-striped table-hover table-condensed table-responsive\">\n  <thead>\n    <tr style=\"text-align: right;\">\n      <th></th>\n      <th>crta1</th>\n    </tr>\n  </thead>\n  <tbody>\n    <tr>\n      <th>met</th>\n      <td>33638</td>\n    </tr>\n    <tr>\n      <th>wave</th>\n      <td>0</td>\n    </tr>\n    <tr>\n      <th>type</th>\n      <td>fixed</td>\n    </tr>\n    <tr>\n      <th>name</th>\n      <td>Cedar Point, AL</td>\n    </tr>\n    <tr>\n      <th>pgm</th>\n      <td>IOOS Partners</td>\n    </tr>\n  </tbody>\n</table>"
      }
     },
     "c7a980946286429eaca413ef8bce778d": {
      "model_module": "jupyter-leaflet",
      "model_module_version": "^0.13.2",
      "model_name": "LeafletMarkerModel",
      "state": {
       "_model_module_version": "^0.13.2",
       "_view_module_version": "^0.13.2",
       "draggable": false,
       "icon": "IPY_MODEL_791741f10f14431e842e6af0a7161ab7",
       "location": [
        21.297,
        -157.959
       ],
       "options": [
        "alt",
        "draggable",
        "keyboard",
        "rise_offset",
        "rise_on_hover",
        "rotation_angle",
        "rotation_origin",
        "title",
        "z_index_offset"
       ],
       "popup": "IPY_MODEL_b1d62e8d048746c79f9165a9b45937e2"
      }
     },
     "c831de2bdcfe40f29e3f3ac5ea490974": {
      "model_module": "@jupyter-widgets/controls",
      "model_module_version": "1.5.0",
      "model_name": "HTMLModel",
      "state": {
       "layout": "IPY_MODEL_908315333f7f4d528a464a4503e4b00a",
       "style": "IPY_MODEL_5f2c366ab7374bd1b2920f38bf4bb4db",
       "value": "<table border=\"1\" class=\"dataframe table table-striped table-hover table-condensed table-responsive\">\n  <thead>\n    <tr style=\"text-align: right;\">\n      <th></th>\n      <th>45173</th>\n    </tr>\n  </thead>\n  <tbody>\n    <tr>\n      <th>met</th>\n      <td>31478</td>\n    </tr>\n    <tr>\n      <th>wave</th>\n      <td>21268</td>\n    </tr>\n    <tr>\n      <th>type</th>\n      <td>buoy</td>\n    </tr>\n    <tr>\n      <th>name</th>\n      <td>Munising Buoy, Munising, MI</td>\n    </tr>\n    <tr>\n      <th>pgm</th>\n      <td>IOOS Partners</td>\n    </tr>\n  </tbody>\n</table>"
      }
     },
     "c851b29b27f0409daa022f918ca412ce": {
      "model_module": "@jupyter-widgets/base",
      "model_module_version": "1.2.0",
      "model_name": "LayoutModel",
      "state": {}
     },
     "c88a26cb48c54c73bd0f1554200bc21b": {
      "model_module": "@jupyter-widgets/base",
      "model_module_version": "1.2.0",
      "model_name": "LayoutModel",
      "state": {}
     },
     "c909940872084bf4b933d075116df7fe": {
      "model_module": "@jupyter-widgets/controls",
      "model_module_version": "1.5.0",
      "model_name": "DescriptionStyleModel",
      "state": {
       "description_width": ""
      }
     },
     "c93bb6062d074d04813e983a7a485d6a": {
      "model_module": "@jupyter-widgets/controls",
      "model_module_version": "1.5.0",
      "model_name": "DescriptionStyleModel",
      "state": {
       "description_width": ""
      }
     },
     "c9449096844b41be8f015bd730969f95": {
      "model_module": "@jupyter-widgets/controls",
      "model_module_version": "1.5.0",
      "model_name": "DescriptionStyleModel",
      "state": {
       "description_width": ""
      }
     },
     "c94f0484b4fd49b1b955418263d6fda9": {
      "model_module": "@jupyter-widgets/controls",
      "model_module_version": "1.5.0",
      "model_name": "DescriptionStyleModel",
      "state": {
       "description_width": ""
      }
     },
     "c9a688c4cea84d26887284ed078fa98c": {
      "model_module": "@jupyter-widgets/base",
      "model_module_version": "1.2.0",
      "model_name": "LayoutModel",
      "state": {}
     },
     "ca84a928c91148f3bae43c28cddf1ab8": {
      "model_module": "@jupyter-widgets/controls",
      "model_module_version": "1.5.0",
      "model_name": "DescriptionStyleModel",
      "state": {
       "description_width": ""
      }
     },
     "caf0fcc7fce449ccb7eb2757f04c8c6d": {
      "model_module": "jupyter-leaflet",
      "model_module_version": "^0.13.2",
      "model_name": "LeafletAwesomeIconModel",
      "state": {
       "_model_module_version": "^0.13.2",
       "_view_module_version": "^0.13.2",
       "icon_color": "white",
       "marker_color": "red",
       "name": "life-ring"
      }
     },
     "cb011b7f308b467689d5744134379f0f": {
      "model_module": "@jupyter-widgets/base",
      "model_module_version": "1.2.0",
      "model_name": "LayoutModel",
      "state": {}
     },
     "cb29d47f322c457cbffa7ccc607599ca": {
      "model_module": "jupyter-leaflet",
      "model_module_version": "^0.13.2",
      "model_name": "LeafletMarkerModel",
      "state": {
       "_model_module_version": "^0.13.2",
       "_view_module_version": "^0.13.2",
       "draggable": false,
       "icon": "IPY_MODEL_5be9d2c1bf57411194a875d6df3f1ff5",
       "location": [
        58.298,
        -134.405
       ],
       "options": [
        "alt",
        "draggable",
        "keyboard",
        "rise_offset",
        "rise_on_hover",
        "rotation_angle",
        "rotation_origin",
        "title",
        "z_index_offset"
       ],
       "popup": "IPY_MODEL_33d32168e23b40d994c18c1a1aacdb8e"
      }
     },
     "cb406bdf94b64ba08d768f957884a05c": {
      "model_module": "@jupyter-widgets/controls",
      "model_module_version": "1.5.0",
      "model_name": "DescriptionStyleModel",
      "state": {
       "description_width": ""
      }
     },
     "cb47f590b0154cf4a3cf3c4645475480": {
      "model_module": "jupyter-leaflet",
      "model_module_version": "^0.13.2",
      "model_name": "LeafletAwesomeIconModel",
      "state": {
       "_model_module_version": "^0.13.2",
       "_view_module_version": "^0.13.2",
       "icon_color": "white",
       "marker_color": "green",
       "name": "life-ring"
      }
     },
     "cb639409b67344b6a5701e6723fbe5c8": {
      "model_module": "@jupyter-widgets/controls",
      "model_module_version": "1.5.0",
      "model_name": "HTMLModel",
      "state": {
       "layout": "IPY_MODEL_c9a688c4cea84d26887284ed078fa98c",
       "style": "IPY_MODEL_eaaef4c5221b43179432260bb712962a",
       "value": "<table border=\"1\" class=\"dataframe table table-striped table-hover table-condensed table-responsive\">\n  <thead>\n    <tr style=\"text-align: right;\">\n      <th></th>\n      <th>fpst2</th>\n    </tr>\n  </thead>\n  <tbody>\n    <tr>\n      <th>met</th>\n      <td>179826</td>\n    </tr>\n    <tr>\n      <th>wave</th>\n      <td>0</td>\n    </tr>\n    <tr>\n      <th>type</th>\n      <td>fixed</td>\n    </tr>\n    <tr>\n      <th>name</th>\n      <td>8772471 - Freeport SPIP, TX</td>\n    </tr>\n    <tr>\n      <th>pgm</th>\n      <td>IOOS Partners</td>\n    </tr>\n  </tbody>\n</table>"
      }
     },
     "cbb99e30d72b494a8cfe3d7487f7e678": {
      "model_module": "@jupyter-widgets/controls",
      "model_module_version": "1.5.0",
      "model_name": "HTMLModel",
      "state": {
       "layout": "IPY_MODEL_0c2e3d7fb69c4e81a45656a5113928cc",
       "style": "IPY_MODEL_b3267263097649c3a008f93a1a9ae630",
       "value": "<table border=\"1\" class=\"dataframe table table-striped table-hover table-condensed table-responsive\">\n  <thead>\n    <tr style=\"text-align: right;\">\n      <th></th>\n      <th>ncht2</th>\n    </tr>\n  </thead>\n  <tbody>\n    <tr>\n      <th>met</th>\n      <td>181974</td>\n    </tr>\n    <tr>\n      <th>wave</th>\n      <td>0</td>\n    </tr>\n    <tr>\n      <th>type</th>\n      <td>fixed</td>\n    </tr>\n    <tr>\n      <th>name</th>\n      <td>8770777 - Manchester, TX</td>\n    </tr>\n    <tr>\n      <th>pgm</th>\n      <td>IOOS Partners</td>\n    </tr>\n  </tbody>\n</table>"
      }
     },
     "cc0367d4b9964bc0a04eba63cfdfcaf0": {
      "model_module": "@jupyter-widgets/controls",
      "model_module_version": "1.5.0",
      "model_name": "DescriptionStyleModel",
      "state": {
       "description_width": ""
      }
     },
     "cc0d94591e504037b6fed25ea3f0c923": {
      "model_module": "jupyter-leaflet",
      "model_module_version": "^0.13.2",
      "model_name": "LeafletMarkerModel",
      "state": {
       "_model_module_version": "^0.13.2",
       "_view_module_version": "^0.13.2",
       "draggable": false,
       "icon": "IPY_MODEL_935cc6519a17472f9770f271ecf57df3",
       "location": [
        40.883,
        -73.728
       ],
       "options": [
        "alt",
        "draggable",
        "keyboard",
        "rise_offset",
        "rise_on_hover",
        "rotation_angle",
        "rotation_origin",
        "title",
        "z_index_offset"
       ],
       "popup": "IPY_MODEL_24f5e065b8d848da86b272a6f17c3eed"
      }
     },
     "ccddfbbf389e4c57a900ca4b0c9a50b8": {
      "model_module": "@jupyter-widgets/base",
      "model_module_version": "1.2.0",
      "model_name": "LayoutModel",
      "state": {}
     },
     "cd297e10261940289c4950c4fb1fe684": {
      "model_module": "@jupyter-widgets/base",
      "model_module_version": "1.2.0",
      "model_name": "LayoutModel",
      "state": {}
     },
     "cd38ff91d058450ab84b482682968b3d": {
      "model_module": "@jupyter-widgets/controls",
      "model_module_version": "1.5.0",
      "model_name": "HTMLModel",
      "state": {
       "layout": "IPY_MODEL_ceefa46cc9174c4788c857eba97b09de",
       "style": "IPY_MODEL_76b13e69bc6543d89d5bd9ee18f441d2",
       "value": "<table border=\"1\" class=\"dataframe table table-striped table-hover table-condensed table-responsive\">\n  <thead>\n    <tr style=\"text-align: right;\">\n      <th></th>\n      <th>44032</th>\n    </tr>\n  </thead>\n  <tbody>\n    <tr>\n      <th>met</th>\n      <td>18548</td>\n    </tr>\n    <tr>\n      <th>wave</th>\n      <td>18108</td>\n    </tr>\n    <tr>\n      <th>type</th>\n      <td>buoy</td>\n    </tr>\n    <tr>\n      <th>name</th>\n      <td>Buoy E01 - Central Maine Shelf</td>\n    </tr>\n    <tr>\n      <th>pgm</th>\n      <td>IOOS Partners</td>\n    </tr>\n  </tbody>\n</table>"
      }
     },
     "cd4bc9b29f6a48deaf557b124ab21aa3": {
      "model_module": "jupyter-leaflet",
      "model_module_version": "^0.13.2",
      "model_name": "LeafletMarkerModel",
      "state": {
       "_model_module_version": "^0.13.2",
       "_view_module_version": "^0.13.2",
       "draggable": false,
       "icon": "IPY_MODEL_820a803e1a8e4dea97c88c8ecf0b614e",
       "location": [
        27.832,
        -97.486
       ],
       "options": [
        "alt",
        "draggable",
        "keyboard",
        "rise_offset",
        "rise_on_hover",
        "rotation_angle",
        "rotation_origin",
        "title",
        "z_index_offset"
       ],
       "popup": "IPY_MODEL_2a43960cd7b14b2f89bc280a9f3399b5"
      }
     },
     "cd4e02fa09cc42d3acc1413d7f98df09": {
      "model_module": "jupyter-leaflet",
      "model_module_version": "^0.13.2",
      "model_name": "LeafletAwesomeIconModel",
      "state": {
       "_model_module_version": "^0.13.2",
       "_view_module_version": "^0.13.2",
       "icon_color": "white",
       "marker_color": "orange",
       "name": "life-ring"
      }
     },
     "cd8a19a23d14498a924ee6db3cb92db2": {
      "model_module": "@jupyter-widgets/controls",
      "model_module_version": "1.5.0",
      "model_name": "DescriptionStyleModel",
      "state": {
       "description_width": ""
      }
     },
     "ce2c8326cf1447d0ad1a8d1501bd36ff": {
      "model_module": "jupyter-leaflet",
      "model_module_version": "^0.13.2",
      "model_name": "LeafletAwesomeIconModel",
      "state": {
       "_model_module_version": "^0.13.2",
       "_view_module_version": "^0.13.2",
       "icon_color": "white",
       "marker_color": "green",
       "name": "life-ring"
      }
     },
     "ce85db58c2fb465fa3eda43b8e1087f6": {
      "model_module": "jupyter-leaflet",
      "model_module_version": "^0.13.2",
      "model_name": "LeafletMarkerModel",
      "state": {
       "_model_module_version": "^0.13.2",
       "_view_module_version": "^0.13.2",
       "draggable": false,
       "icon": "IPY_MODEL_d068d97930864b94a30c3ebf94c04f9b",
       "location": [
        43.955,
        -86.554
       ],
       "options": [
        "alt",
        "draggable",
        "keyboard",
        "rise_offset",
        "rise_on_hover",
        "rotation_angle",
        "rotation_origin",
        "title",
        "z_index_offset"
       ],
       "popup": "IPY_MODEL_0d9eca3156574ac1b98fc9712293e583"
      }
     },
     "cea5f453271b45dc8dd3053e7f260852": {
      "model_module": "jupyter-leaflet",
      "model_module_version": "^0.13.2",
      "model_name": "LeafletMarkerModel",
      "state": {
       "_model_module_version": "^0.13.2",
       "_view_module_version": "^0.13.2",
       "draggable": false,
       "icon": "IPY_MODEL_79be39c4a58e49ec8f80488438196c12",
       "location": [
        41.781,
        -87.573
       ],
       "options": [
        "alt",
        "draggable",
        "keyboard",
        "rise_offset",
        "rise_on_hover",
        "rotation_angle",
        "rotation_origin",
        "title",
        "z_index_offset"
       ],
       "popup": "IPY_MODEL_7308bcc6a6d746fc80b5189257838aad"
      }
     },
     "ceaaecc53bda42d5ab1bf24a72a44346": {
      "model_module": "jupyter-leaflet",
      "model_module_version": "^0.13.2",
      "model_name": "LeafletAwesomeIconModel",
      "state": {
       "_model_module_version": "^0.13.2",
       "_view_module_version": "^0.13.2",
       "icon_color": "white",
       "marker_color": "orange",
       "name": "life-ring"
      }
     },
     "cecb6cc954f342228533f5970d345c8b": {
      "model_module": "jupyter-leaflet",
      "model_module_version": "^0.13.2",
      "model_name": "LeafletAwesomeIconModel",
      "state": {
       "_model_module_version": "^0.13.2",
       "_view_module_version": "^0.13.2",
       "icon_color": "white",
       "marker_color": "red",
       "name": "life-ring"
      }
     },
     "ceefa46cc9174c4788c857eba97b09de": {
      "model_module": "@jupyter-widgets/base",
      "model_module_version": "1.2.0",
      "model_name": "LayoutModel",
      "state": {}
     },
     "cf6d0a769376451ab9e1c16334b8e40a": {
      "model_module": "@jupyter-widgets/controls",
      "model_module_version": "1.5.0",
      "model_name": "DescriptionStyleModel",
      "state": {
       "description_width": ""
      }
     },
     "d01179b4bf78492b8719d12ec3e4bc17": {
      "model_module": "jupyter-leaflet",
      "model_module_version": "^0.13.2",
      "model_name": "LeafletAwesomeIconModel",
      "state": {
       "_model_module_version": "^0.13.2",
       "_view_module_version": "^0.13.2",
       "icon_color": "white",
       "marker_color": "orange",
       "name": "life-ring"
      }
     },
     "d023781cd26f4beb95a8b5d792c94f01": {
      "model_module": "@jupyter-widgets/controls",
      "model_module_version": "1.5.0",
      "model_name": "DescriptionStyleModel",
      "state": {
       "description_width": ""
      }
     },
     "d03b667fa0dc4a68986fe412b1d4520c": {
      "model_module": "jupyter-leaflet",
      "model_module_version": "^0.13.2",
      "model_name": "LeafletAwesomeIconModel",
      "state": {
       "_model_module_version": "^0.13.2",
       "_view_module_version": "^0.13.2",
       "icon_color": "white",
       "marker_color": "red",
       "name": "life-ring"
      }
     },
     "d068d97930864b94a30c3ebf94c04f9b": {
      "model_module": "jupyter-leaflet",
      "model_module_version": "^0.13.2",
      "model_name": "LeafletAwesomeIconModel",
      "state": {
       "_model_module_version": "^0.13.2",
       "_view_module_version": "^0.13.2",
       "icon_color": "white",
       "marker_color": "green",
       "name": "life-ring"
      }
     },
     "d07049b4ce8e4ea49ffe6b605e671bed": {
      "model_module": "jupyter-leaflet",
      "model_module_version": "^0.13.2",
      "model_name": "LeafletMarkerModel",
      "state": {
       "_model_module_version": "^0.13.2",
       "_view_module_version": "^0.13.2",
       "draggable": false,
       "icon": "IPY_MODEL_361fee7a88b4445696db24953c2956bf",
       "location": [
        46.721,
        -87.412
       ],
       "options": [
        "alt",
        "draggable",
        "keyboard",
        "rise_offset",
        "rise_on_hover",
        "rotation_angle",
        "rotation_origin",
        "title",
        "z_index_offset"
       ],
       "popup": "IPY_MODEL_e2767d6faee0499faa72c6f2bb615bf6"
      }
     },
     "d0708c4c2aa14a6a838751e487eb6305": {
      "model_module": "@jupyter-widgets/controls",
      "model_module_version": "1.5.0",
      "model_name": "HTMLModel",
      "state": {
       "layout": "IPY_MODEL_2e9ac4af8a694f5a97cc7fb936c0a638",
       "style": "IPY_MODEL_903aa5d49d3e4ae99e6f1a751321e7cb",
       "value": "<table border=\"1\" class=\"dataframe table table-striped table-hover table-condensed table-responsive\">\n  <thead>\n    <tr style=\"text-align: right;\">\n      <th></th>\n      <th>41064</th>\n    </tr>\n  </thead>\n  <tbody>\n    <tr>\n      <th>met</th>\n      <td>17736</td>\n    </tr>\n    <tr>\n      <th>wave</th>\n      <td>0</td>\n    </tr>\n    <tr>\n      <th>type</th>\n      <td>buoy</td>\n    </tr>\n    <tr>\n      <th>name</th>\n      <td>Onslow Bay Outer, NC (LEJ3)</td>\n    </tr>\n    <tr>\n      <th>pgm</th>\n      <td>IOOS Partners</td>\n    </tr>\n  </tbody>\n</table>"
      }
     },
     "d0c00cfe51db4923b5d5e9fa4cd0a47f": {
      "model_module": "jupyter-leaflet",
      "model_module_version": "^0.13.2",
      "model_name": "LeafletMarkerModel",
      "state": {
       "_model_module_version": "^0.13.2",
       "_view_module_version": "^0.13.2",
       "draggable": false,
       "icon": "IPY_MODEL_203198d2f91141cd814886234f760630",
       "location": [
        28.407,
        -96.712
       ],
       "options": [
        "alt",
        "draggable",
        "keyboard",
        "rise_offset",
        "rise_on_hover",
        "rotation_angle",
        "rotation_origin",
        "title",
        "z_index_offset"
       ],
       "popup": "IPY_MODEL_8cf9b723170a4f75a0ba4735909e697e"
      }
     },
     "d0d7bf55bc5d411dbe85e22c50d58492": {
      "model_module": "jupyter-leaflet",
      "model_module_version": "^0.13.2",
      "model_name": "LeafletAwesomeIconModel",
      "state": {
       "_model_module_version": "^0.13.2",
       "_view_module_version": "^0.13.2",
       "icon_color": "white",
       "marker_color": "orange",
       "name": "life-ring"
      }
     },
     "d1a8ec178ea4482091ee8e495dc736f9": {
      "model_module": "@jupyter-widgets/base",
      "model_module_version": "1.2.0",
      "model_name": "LayoutModel",
      "state": {}
     },
     "d1e15b8b0e1f48adb41867c3e740a238": {
      "model_module": "jupyter-leaflet",
      "model_module_version": "^0.13.2",
      "model_name": "LeafletMarkerModel",
      "state": {
       "_model_module_version": "^0.13.2",
       "_view_module_version": "^0.13.2",
       "draggable": false,
       "icon": "IPY_MODEL_ba81cfb9e8664886a9e1f3cdc9f0d3de",
       "location": [
        44.802,
        -87.763
       ],
       "options": [
        "alt",
        "draggable",
        "keyboard",
        "rise_offset",
        "rise_on_hover",
        "rotation_angle",
        "rotation_origin",
        "title",
        "z_index_offset"
       ],
       "popup": "IPY_MODEL_8d1df67f219543c495a7526586ddade1"
      }
     },
     "d1f2552b315c44f982d64208149edaff": {
      "model_module": "jupyter-leaflet",
      "model_module_version": "^0.13.2",
      "model_name": "LeafletZoomControlModel",
      "state": {
       "_model_module_version": "^0.13.2",
       "_view_module_version": "^0.13.2",
       "options": [
        "position",
        "zoom_in_text",
        "zoom_in_title",
        "zoom_out_text",
        "zoom_out_title"
       ]
      }
     },
     "d246141385944b4cac619bde08c36744": {
      "model_module": "jupyter-leaflet",
      "model_module_version": "^0.13.2",
      "model_name": "LeafletMarkerModel",
      "state": {
       "_model_module_version": "^0.13.2",
       "_view_module_version": "^0.13.2",
       "draggable": false,
       "icon": "IPY_MODEL_6651c27e556d43bf98a301a2511a54a2",
       "location": [
        37.892,
        -122.447
       ],
       "options": [
        "alt",
        "draggable",
        "keyboard",
        "rise_offset",
        "rise_on_hover",
        "rotation_angle",
        "rotation_origin",
        "title",
        "z_index_offset"
       ],
       "popup": "IPY_MODEL_6aebd9d1b2324763be09946de4947f09"
      }
     },
     "d2c197bf5f024c8cb7f76552c4483e9e": {
      "model_module": "jupyter-leaflet",
      "model_module_version": "^0.13.2",
      "model_name": "LeafletMarkerModel",
      "state": {
       "_model_module_version": "^0.13.2",
       "_view_module_version": "^0.13.2",
       "draggable": false,
       "icon": "IPY_MODEL_3a859d042c854b25ae1265f66e587828",
       "location": [
        58.177,
        -135.052
       ],
       "options": [
        "alt",
        "draggable",
        "keyboard",
        "rise_offset",
        "rise_on_hover",
        "rotation_angle",
        "rotation_origin",
        "title",
        "z_index_offset"
       ],
       "popup": "IPY_MODEL_6df04ecb29244a16a2b23599a1c232f8"
      }
     },
     "d2cbaf9218d54ee8b5b8b2abfdb50768": {
      "model_module": "@jupyter-widgets/base",
      "model_module_version": "1.2.0",
      "model_name": "LayoutModel",
      "state": {}
     },
     "d2d50aed0d1f48f5baa583affabaf3cf": {
      "model_module": "jupyter-leaflet",
      "model_module_version": "^0.13.2",
      "model_name": "LeafletAwesomeIconModel",
      "state": {
       "_model_module_version": "^0.13.2",
       "_view_module_version": "^0.13.2",
       "icon_color": "white",
       "marker_color": "orange",
       "name": "life-ring"
      }
     },
     "d37d77af19724c33bb1c6577335b6c16": {
      "model_module": "@jupyter-widgets/controls",
      "model_module_version": "1.5.0",
      "model_name": "HTMLModel",
      "state": {
       "layout": "IPY_MODEL_4b2ec5ca977940578f80276ae023c44d",
       "style": "IPY_MODEL_2c08f0c04e73475fa6bfa09bbdb0fe60",
       "value": "<table border=\"1\" class=\"dataframe table table-striped table-hover table-condensed table-responsive\">\n  <thead>\n    <tr style=\"text-align: right;\">\n      <th></th>\n      <th>46120</th>\n    </tr>\n  </thead>\n  <tbody>\n    <tr>\n      <th>met</th>\n      <td>93576</td>\n    </tr>\n    <tr>\n      <th>wave</th>\n      <td>0</td>\n    </tr>\n    <tr>\n      <th>type</th>\n      <td>buoy</td>\n    </tr>\n    <tr>\n      <th>name</th>\n      <td>Pt Wells, WA (U of Wash)</td>\n    </tr>\n    <tr>\n      <th>pgm</th>\n      <td>IOOS Partners</td>\n    </tr>\n  </tbody>\n</table>"
      }
     },
     "d3a0bdfaeaa4459bacdf485af4e4c4f4": {
      "model_module": "jupyter-leaflet",
      "model_module_version": "^0.13.2",
      "model_name": "LeafletAwesomeIconModel",
      "state": {
       "_model_module_version": "^0.13.2",
       "_view_module_version": "^0.13.2",
       "icon_color": "white",
       "marker_color": "orange",
       "name": "life-ring"
      }
     },
     "d3afcc2ec4c54dc79213568cf8c3502c": {
      "model_module": "jupyter-leaflet",
      "model_module_version": "^0.13.2",
      "model_name": "LeafletAwesomeIconModel",
      "state": {
       "_model_module_version": "^0.13.2",
       "_view_module_version": "^0.13.2",
       "icon_color": "white",
       "marker_color": "orange",
       "name": "life-ring"
      }
     },
     "d3bf5af4d0a84bc7b21eeda0f7b36167": {
      "model_module": "jupyter-leaflet",
      "model_module_version": "^0.13.2",
      "model_name": "LeafletMarkerModel",
      "state": {
       "_model_module_version": "^0.13.2",
       "_view_module_version": "^0.13.2",
       "draggable": false,
       "icon": "IPY_MODEL_9e5d3c6f7b5c4eb3858d31538adb06d7",
       "location": [
        34.141,
        -77.717
       ],
       "options": [
        "alt",
        "draggable",
        "keyboard",
        "rise_offset",
        "rise_on_hover",
        "rotation_angle",
        "rotation_origin",
        "title",
        "z_index_offset"
       ],
       "popup": "IPY_MODEL_e96f4f29adec47cea0a28176695b2e1c"
      }
     },
     "d3e2803938464414996f2fcc8d665ad6": {
      "model_module": "@jupyter-widgets/controls",
      "model_module_version": "1.5.0",
      "model_name": "HTMLModel",
      "state": {
       "layout": "IPY_MODEL_dd2ff96c601b4ceaafb38dcd384099fb",
       "style": "IPY_MODEL_206385ebd8114f10a67f0365ac5d63a9",
       "value": "<table border=\"1\" class=\"dataframe table table-striped table-hover table-condensed table-responsive\">\n  <thead>\n    <tr style=\"text-align: right;\">\n      <th></th>\n      <th>pcnt2</th>\n    </tr>\n  </thead>\n  <tbody>\n    <tr>\n      <th>met</th>\n      <td>183034</td>\n    </tr>\n    <tr>\n      <th>wave</th>\n      <td>0</td>\n    </tr>\n    <tr>\n      <th>type</th>\n      <td>fixed</td>\n    </tr>\n    <tr>\n      <th>name</th>\n      <td>8773701 - Port O'Connor, Matagorda Bay, TX</td>\n    </tr>\n    <tr>\n      <th>pgm</th>\n      <td>IOOS Partners</td>\n    </tr>\n  </tbody>\n</table>"
      }
     },
     "d428aee289a54aeaabca6cae856b2b28": {
      "model_module": "@jupyter-widgets/controls",
      "model_module_version": "1.5.0",
      "model_name": "HTMLModel",
      "state": {
       "layout": "IPY_MODEL_908c3becc41b4c0183b78cdfae3f01cb",
       "style": "IPY_MODEL_47c31ebb72454d55b6d1219986062386",
       "value": "<table border=\"1\" class=\"dataframe table table-striped table-hover table-condensed table-responsive\">\n  <thead>\n    <tr style=\"text-align: right;\">\n      <th></th>\n      <th>scxa2</th>\n    </tr>\n  </thead>\n  <tbody>\n    <tr>\n      <th>met</th>\n      <td>111130</td>\n    </tr>\n    <tr>\n      <th>wave</th>\n      <td>0</td>\n    </tr>\n    <tr>\n      <th>type</th>\n      <td>fixed</td>\n    </tr>\n    <tr>\n      <th>name</th>\n      <td>Scull Island, AK</td>\n    </tr>\n    <tr>\n      <th>pgm</th>\n      <td>IOOS Partners</td>\n    </tr>\n  </tbody>\n</table>"
      }
     },
     "d43213db7daa48d3bf666b5b734944b6": {
      "model_module": "@jupyter-widgets/controls",
      "model_module_version": "1.5.0",
      "model_name": "DescriptionStyleModel",
      "state": {
       "description_width": ""
      }
     },
     "d4bca8b0a5ae4bc4a3e9ea2e7502c0c9": {
      "model_module": "jupyter-leaflet",
      "model_module_version": "^0.13.2",
      "model_name": "LeafletAwesomeIconModel",
      "state": {
       "_model_module_version": "^0.13.2",
       "_view_module_version": "^0.13.2",
       "icon_color": "white",
       "marker_color": "orange",
       "name": "life-ring"
      }
     },
     "d50c2bfd1883442db2fcf27428447621": {
      "model_module": "jupyter-leaflet",
      "model_module_version": "^0.13.2",
      "model_name": "LeafletAwesomeIconModel",
      "state": {
       "_model_module_version": "^0.13.2",
       "_view_module_version": "^0.13.2",
       "icon_color": "white",
       "marker_color": "green",
       "name": "life-ring"
      }
     },
     "d51c9d8149034d6cbbfeb73438027351": {
      "model_module": "@jupyter-widgets/controls",
      "model_module_version": "1.5.0",
      "model_name": "DescriptionStyleModel",
      "state": {
       "description_width": ""
      }
     },
     "d59b6bd681cf4e169daa0ae04d58522a": {
      "model_module": "@jupyter-widgets/controls",
      "model_module_version": "1.5.0",
      "model_name": "DescriptionStyleModel",
      "state": {
       "description_width": ""
      }
     },
     "d5ac455e4a6e4318b0866248ab4f29c3": {
      "model_module": "@jupyter-widgets/controls",
      "model_module_version": "1.5.0",
      "model_name": "HTMLModel",
      "state": {
       "layout": "IPY_MODEL_6d1fda86813841ed936b0a1d31a3ffc2",
       "style": "IPY_MODEL_bf7753e5e8654dc0b6558627fe5e65b7",
       "value": "<table border=\"1\" class=\"dataframe table table-striped table-hover table-condensed table-responsive\">\n  <thead>\n    <tr style=\"text-align: right;\">\n      <th></th>\n      <th>44037</th>\n    </tr>\n  </thead>\n  <tbody>\n    <tr>\n      <th>met</th>\n      <td>18406</td>\n    </tr>\n    <tr>\n      <th>wave</th>\n      <td>17888</td>\n    </tr>\n    <tr>\n      <th>type</th>\n      <td>buoy</td>\n    </tr>\n    <tr>\n      <th>name</th>\n      <td>Buoy M01 - Jordan Basin</td>\n    </tr>\n    <tr>\n      <th>pgm</th>\n      <td>IOOS Partners</td>\n    </tr>\n  </tbody>\n</table>"
      }
     },
     "d5b0de59a76e48a0a0394e9e69493780": {
      "model_module": "@jupyter-widgets/controls",
      "model_module_version": "1.5.0",
      "model_name": "HTMLModel",
      "state": {
       "layout": "IPY_MODEL_f4eee48dba714c20a05b525d8492aab4",
       "style": "IPY_MODEL_84ad15b605d24fb9b64e7f7f47344df4",
       "value": "<table border=\"1\" class=\"dataframe table table-striped table-hover table-condensed table-responsive\">\n  <thead>\n    <tr style=\"text-align: right;\">\n      <th></th>\n      <th>44095</th>\n    </tr>\n  </thead>\n  <tbody>\n    <tr>\n      <th>met</th>\n      <td>0</td>\n    </tr>\n    <tr>\n      <th>wave</th>\n      <td>25492</td>\n    </tr>\n    <tr>\n      <th>type</th>\n      <td>buoy</td>\n    </tr>\n    <tr>\n      <th>name</th>\n      <td>Oregon Inlet, NC (192)</td>\n    </tr>\n    <tr>\n      <th>pgm</th>\n      <td>IOOS Partners</td>\n    </tr>\n  </tbody>\n</table>"
      }
     },
     "d5e96ca822b04257ae3229c4450a4daf": {
      "model_module": "jupyter-leaflet",
      "model_module_version": "^0.13.2",
      "model_name": "LeafletMarkerModel",
      "state": {
       "_model_module_version": "^0.13.2",
       "_view_module_version": "^0.13.2",
       "draggable": false,
       "icon": "IPY_MODEL_b9d1588f02f9410fa91e2ffff18aac42",
       "location": [
        28.153,
        -82.801
       ],
       "options": [
        "alt",
        "draggable",
        "keyboard",
        "rise_offset",
        "rise_on_hover",
        "rotation_angle",
        "rotation_origin",
        "title",
        "z_index_offset"
       ],
       "popup": "IPY_MODEL_9cec4c68e4b04c0abc983e5630b854d0"
      }
     },
     "d6be7f99656e4cfb822755ad7b2f4e90": {
      "model_module": "@jupyter-widgets/controls",
      "model_module_version": "1.5.0",
      "model_name": "DescriptionStyleModel",
      "state": {
       "description_width": ""
      }
     },
     "d6dba0a42f7e4b3ebc036ed01b12d336": {
      "model_module": "@jupyter-widgets/base",
      "model_module_version": "1.2.0",
      "model_name": "LayoutModel",
      "state": {}
     },
     "d7032c5b1e6b485293167554cda14232": {
      "model_module": "jupyter-leaflet",
      "model_module_version": "^0.13.2",
      "model_name": "LeafletAwesomeIconModel",
      "state": {
       "_model_module_version": "^0.13.2",
       "_view_module_version": "^0.13.2",
       "icon_color": "white",
       "marker_color": "green",
       "name": "life-ring"
      }
     },
     "d874e691c72846019f8f2d7c8c746661": {
      "model_module": "@jupyter-widgets/base",
      "model_module_version": "1.2.0",
      "model_name": "LayoutModel",
      "state": {}
     },
     "d879522636d843af9066f32d72917dc1": {
      "model_module": "jupyter-leaflet",
      "model_module_version": "^0.13.2",
      "model_name": "LeafletMarkerModel",
      "state": {
       "_model_module_version": "^0.13.2",
       "_view_module_version": "^0.13.2",
       "draggable": false,
       "icon": "IPY_MODEL_2ab884810e0a40edaa6601f690d085ca",
       "location": [
        27.297,
        -97.405
       ],
       "options": [
        "alt",
        "draggable",
        "keyboard",
        "rise_offset",
        "rise_on_hover",
        "rotation_angle",
        "rotation_origin",
        "title",
        "z_index_offset"
       ],
       "popup": "IPY_MODEL_3af81c81c0aa4715a164393ec0ec413d"
      }
     },
     "d8c8dc0e70ff4fa88c04c0d3430c2d1b": {
      "model_module": "@jupyter-widgets/base",
      "model_module_version": "1.2.0",
      "model_name": "LayoutModel",
      "state": {}
     },
     "d92582acb8394419aec58671043a0f9f": {
      "model_module": "@jupyter-widgets/controls",
      "model_module_version": "1.5.0",
      "model_name": "HTMLModel",
      "state": {
       "layout": "IPY_MODEL_1a44b44ae76744bda732ff1496961ac4",
       "style": "IPY_MODEL_23a047c5009b459995d5b697a0575e79",
       "value": "<table border=\"1\" class=\"dataframe table table-striped table-hover table-condensed table-responsive\">\n  <thead>\n    <tr style=\"text-align: right;\">\n      <th></th>\n      <th>rlit2</th>\n    </tr>\n  </thead>\n  <tbody>\n    <tr>\n      <th>met</th>\n      <td>115304</td>\n    </tr>\n    <tr>\n      <th>wave</th>\n      <td>0</td>\n    </tr>\n    <tr>\n      <th>type</th>\n      <td>fixed</td>\n    </tr>\n    <tr>\n      <th>name</th>\n      <td>8779280 - Realitos Peninsula, TX</td>\n    </tr>\n    <tr>\n      <th>pgm</th>\n      <td>IOOS Partners</td>\n    </tr>\n  </tbody>\n</table>"
      }
     },
     "d978998c9f80458cad892a8a8c5fdb32": {
      "model_module": "@jupyter-widgets/controls",
      "model_module_version": "1.5.0",
      "model_name": "DescriptionStyleModel",
      "state": {
       "description_width": ""
      }
     },
     "da267e272c8745ec8fecf3fc6cc1d93f": {
      "model_module": "@jupyter-widgets/controls",
      "model_module_version": "1.5.0",
      "model_name": "DescriptionStyleModel",
      "state": {
       "description_width": ""
      }
     },
     "da864bbf080c432eb91ff3f1d601edf4": {
      "model_module": "@jupyter-widgets/base",
      "model_module_version": "1.2.0",
      "model_name": "LayoutModel",
      "state": {}
     },
     "db08ade78a03485dba0a2de37ab21bf3": {
      "model_module": "jupyter-leaflet",
      "model_module_version": "^0.13.2",
      "model_name": "LeafletMarkerModel",
      "state": {
       "_model_module_version": "^0.13.2",
       "_view_module_version": "^0.13.2",
       "draggable": false,
       "icon": "IPY_MODEL_cd4e02fa09cc42d3acc1413d7f98df09",
       "location": [
        57.779,
        -135.219
       ],
       "options": [
        "alt",
        "draggable",
        "keyboard",
        "rise_offset",
        "rise_on_hover",
        "rotation_angle",
        "rotation_origin",
        "title",
        "z_index_offset"
       ],
       "popup": "IPY_MODEL_2672b6ae4005416e9492e22907c6818f"
      }
     },
     "db304d3e76eb4f2788a7b30fc28a0d99": {
      "model_module": "@jupyter-widgets/controls",
      "model_module_version": "1.5.0",
      "model_name": "HTMLModel",
      "state": {
       "layout": "IPY_MODEL_4c8d6ccca17343df8a8c548b42a96b6b",
       "style": "IPY_MODEL_37065f4477684e3fbaf875f9dbb289cd",
       "value": "<table border=\"1\" class=\"dataframe table table-striped table-hover table-condensed table-responsive\">\n  <thead>\n    <tr style=\"text-align: right;\">\n      <th></th>\n      <th>41038</th>\n    </tr>\n  </thead>\n  <tbody>\n    <tr>\n      <th>met</th>\n      <td>20276</td>\n    </tr>\n    <tr>\n      <th>wave</th>\n      <td>0</td>\n    </tr>\n    <tr>\n      <th>type</th>\n      <td>buoy</td>\n    </tr>\n    <tr>\n      <th>name</th>\n      <td>Wrightsville Beach Nearshore, NC (ILM2)</td>\n    </tr>\n    <tr>\n      <th>pgm</th>\n      <td>IOOS Partners</td>\n    </tr>\n  </tbody>\n</table>"
      }
     },
     "dc1216e76ef24d4b918ea4ebd97262ff": {
      "model_module": "jupyter-leaflet",
      "model_module_version": "^0.13.2",
      "model_name": "LeafletMarkerModel",
      "state": {
       "_model_module_version": "^0.13.2",
       "_view_module_version": "^0.13.2",
       "draggable": false,
       "icon": "IPY_MODEL_42ad1c5239c34e94b2a1d66200a92c31",
       "location": [
        27.173,
        -82.924
       ],
       "options": [
        "alt",
        "draggable",
        "keyboard",
        "rise_offset",
        "rise_on_hover",
        "rotation_angle",
        "rotation_origin",
        "title",
        "z_index_offset"
       ],
       "popup": "IPY_MODEL_6d1d1d9ec8664b45accd70d8653e3e21"
      }
     },
     "dcf8c6a9154445fe9c79f743456a4797": {
      "model_module": "@jupyter-widgets/controls",
      "model_module_version": "1.5.0",
      "model_name": "HTMLModel",
      "state": {
       "layout": "IPY_MODEL_a1398379df7a4405ae13c82942777ed5",
       "style": "IPY_MODEL_0ae210c4b5f24da4b06c3785babeb279",
       "value": "<table border=\"1\" class=\"dataframe table table-striped table-hover table-condensed table-responsive\">\n  <thead>\n    <tr style=\"text-align: right;\">\n      <th></th>\n      <th>41024</th>\n    </tr>\n  </thead>\n  <tbody>\n    <tr>\n      <th>met</th>\n      <td>20260</td>\n    </tr>\n    <tr>\n      <th>wave</th>\n      <td>0</td>\n    </tr>\n    <tr>\n      <th>type</th>\n      <td>buoy</td>\n    </tr>\n    <tr>\n      <th>name</th>\n      <td>Sunset Nearshore, NC (SUN2)</td>\n    </tr>\n    <tr>\n      <th>pgm</th>\n      <td>IOOS Partners</td>\n    </tr>\n  </tbody>\n</table>"
      }
     },
     "dd0f4c3dfdf04a79bffeca3439139d8b": {
      "model_module": "@jupyter-widgets/base",
      "model_module_version": "1.2.0",
      "model_name": "LayoutModel",
      "state": {}
     },
     "dd256091232f466f829d0146c9c2d05c": {
      "model_module": "@jupyter-widgets/controls",
      "model_module_version": "1.5.0",
      "model_name": "DescriptionStyleModel",
      "state": {
       "description_width": ""
      }
     },
     "dd2ff96c601b4ceaafb38dcd384099fb": {
      "model_module": "@jupyter-widgets/base",
      "model_module_version": "1.2.0",
      "model_name": "LayoutModel",
      "state": {}
     },
     "ddb9cfdae52946958465a12a11b71b3f": {
      "model_module": "jupyter-leaflet",
      "model_module_version": "^0.13.2",
      "model_name": "LeafletMarkerModel",
      "state": {
       "_model_module_version": "^0.13.2",
       "_view_module_version": "^0.13.2",
       "draggable": false,
       "icon": "IPY_MODEL_9094bb3067ee40848a561751fde60b3c",
       "location": [
        33.837,
        -78.477
       ],
       "options": [
        "alt",
        "draggable",
        "keyboard",
        "rise_offset",
        "rise_on_hover",
        "rotation_angle",
        "rotation_origin",
        "title",
        "z_index_offset"
       ],
       "popup": "IPY_MODEL_dcf8c6a9154445fe9c79f743456a4797"
      }
     },
     "dde2eec1619d42a3a63c95e80e247f5d": {
      "model_module": "@jupyter-widgets/controls",
      "model_module_version": "1.5.0",
      "model_name": "HTMLModel",
      "state": {
       "layout": "IPY_MODEL_8978f82af680495a8a70a89ce340351c",
       "style": "IPY_MODEL_4cdf83b8867a4984ab0d8f80c2ec0e7d",
       "value": "<table border=\"1\" class=\"dataframe table table-striped table-hover table-condensed table-responsive\">\n  <thead>\n    <tr style=\"text-align: right;\">\n      <th></th>\n      <th>mvxa2</th>\n    </tr>\n  </thead>\n  <tbody>\n    <tr>\n      <th>met</th>\n      <td>111176</td>\n    </tr>\n    <tr>\n      <th>wave</th>\n      <td>0</td>\n    </tr>\n    <tr>\n      <th>type</th>\n      <td>fixed</td>\n    </tr>\n    <tr>\n      <th>name</th>\n      <td>Mendenhall Valley, AK</td>\n    </tr>\n    <tr>\n      <th>pgm</th>\n      <td>IOOS Partners</td>\n    </tr>\n  </tbody>\n</table>"
      }
     },
     "de4d4607eb6d43dabbda346a1255942c": {
      "model_module": "@jupyter-widgets/base",
      "model_module_version": "1.2.0",
      "model_name": "LayoutModel",
      "state": {}
     },
     "de6adfce60c7449eb3185f7894032f74": {
      "model_module": "@jupyter-widgets/base",
      "model_module_version": "1.2.0",
      "model_name": "LayoutModel",
      "state": {}
     },
     "de98150b6ddd46f2997f6ed68420e01c": {
      "model_module": "@jupyter-widgets/controls",
      "model_module_version": "1.5.0",
      "model_name": "HTMLModel",
      "state": {
       "layout": "IPY_MODEL_ecdd6a29d30c4d52bcb413b64f515bb8",
       "style": "IPY_MODEL_8b20de308d75497ca8faada76c1fbd32",
       "value": "<table border=\"1\" class=\"dataframe table table-striped table-hover table-condensed table-responsive\">\n  <thead>\n    <tr style=\"text-align: right;\">\n      <th></th>\n      <th>mrsl1</th>\n    </tr>\n  </thead>\n  <tbody>\n    <tr>\n      <th>met</th>\n      <td>6560</td>\n    </tr>\n    <tr>\n      <th>wave</th>\n      <td>0</td>\n    </tr>\n    <tr>\n      <th>type</th>\n      <td>fixed</td>\n    </tr>\n    <tr>\n      <th>name</th>\n      <td>Marsh Island, LA / CSI03</td>\n    </tr>\n    <tr>\n      <th>pgm</th>\n      <td>IOOS Partners</td>\n    </tr>\n  </tbody>\n</table>"
      }
     },
     "def1893bcfca49a4944710b6f8f4ee48": {
      "model_module": "jupyter-leaflet",
      "model_module_version": "^0.13.2",
      "model_name": "LeafletAwesomeIconModel",
      "state": {
       "_model_module_version": "^0.13.2",
       "_view_module_version": "^0.13.2",
       "icon_color": "white",
       "marker_color": "red",
       "name": "life-ring"
      }
     },
     "df00d01cff2944f48ba1621d7d964cf8": {
      "model_module": "jupyter-leaflet",
      "model_module_version": "^0.13.2",
      "model_name": "LeafletMarkerModel",
      "state": {
       "_model_module_version": "^0.13.2",
       "_view_module_version": "^0.13.2",
       "draggable": false,
       "icon": "IPY_MODEL_861cc83e2aec4ca2a8ba8d8f86e5d9b4",
       "location": [
        -14.264,
        -170.493
       ],
       "options": [
        "alt",
        "draggable",
        "keyboard",
        "rise_offset",
        "rise_on_hover",
        "rotation_angle",
        "rotation_origin",
        "title",
        "z_index_offset"
       ],
       "popup": "IPY_MODEL_42e05a7b22e14b54b487539a36e98b8a"
      }
     },
     "df0d1ad2a3bd419fb5a2fb9eacc72c7a": {
      "model_module": "jupyter-leaflet",
      "model_module_version": "^0.13.2",
      "model_name": "LeafletMarkerModel",
      "state": {
       "_model_module_version": "^0.13.2",
       "_view_module_version": "^0.13.2",
       "draggable": false,
       "icon": "IPY_MODEL_04a06c8a4fc740888a849a514472a638",
       "location": [
        30.279,
        -87.556
       ],
       "options": [
        "alt",
        "draggable",
        "keyboard",
        "rise_offset",
        "rise_on_hover",
        "rotation_angle",
        "rotation_origin",
        "title",
        "z_index_offset"
       ],
       "popup": "IPY_MODEL_937b700466bd47b8895ea153dc9baa6d"
      }
     },
     "df1a597242354fbe8eff08e602b3475b": {
      "model_module": "@jupyter-widgets/controls",
      "model_module_version": "1.5.0",
      "model_name": "DescriptionStyleModel",
      "state": {
       "description_width": ""
      }
     },
     "df4280ac48654d45a642a41e6c90e632": {
      "model_module": "jupyter-leaflet",
      "model_module_version": "^0.13.2",
      "model_name": "LeafletMarkerModel",
      "state": {
       "_model_module_version": "^0.13.2",
       "_view_module_version": "^0.13.2",
       "draggable": false,
       "icon": "IPY_MODEL_602c8e56d88b43619d53e54b1873f9bf",
       "location": [
        18.261,
        -65.464
       ],
       "options": [
        "alt",
        "draggable",
        "keyboard",
        "rise_offset",
        "rise_on_hover",
        "rotation_angle",
        "rotation_origin",
        "title",
        "z_index_offset"
       ],
       "popup": "IPY_MODEL_61540a1bf02e459caa2edddedf4b386d"
      }
     },
     "df55c83e2d3b4c0d9e95ac34fe2bfab4": {
      "model_module": "@jupyter-widgets/base",
      "model_module_version": "1.2.0",
      "model_name": "LayoutModel",
      "state": {}
     },
     "dfc1e223525b4cb9a6d4ec8d2e3dba32": {
      "model_module": "@jupyter-widgets/base",
      "model_module_version": "1.2.0",
      "model_name": "LayoutModel",
      "state": {}
     },
     "dfd5a6077cbb4885811f248cf22f20e0": {
      "model_module": "@jupyter-widgets/controls",
      "model_module_version": "1.5.0",
      "model_name": "HTMLModel",
      "state": {
       "layout": "IPY_MODEL_de6adfce60c7449eb3185f7894032f74",
       "style": "IPY_MODEL_56657a01dbba417eac9878614d9427be",
       "value": "<table border=\"1\" class=\"dataframe table table-striped table-hover table-condensed table-responsive\">\n  <thead>\n    <tr style=\"text-align: right;\">\n      <th></th>\n      <th>awrt2</th>\n    </tr>\n  </thead>\n  <tbody>\n    <tr>\n      <th>met</th>\n      <td>174928</td>\n    </tr>\n    <tr>\n      <th>wave</th>\n      <td>0</td>\n    </tr>\n    <tr>\n      <th>type</th>\n      <td>fixed</td>\n    </tr>\n    <tr>\n      <th>name</th>\n      <td>8774230 - Aransas Wildlife Refuge, TX</td>\n    </tr>\n    <tr>\n      <th>pgm</th>\n      <td>IOOS Partners</td>\n    </tr>\n  </tbody>\n</table>"
      }
     },
     "dfefee4bc7464f1caf9e215f6f38dabc": {
      "model_module": "@jupyter-widgets/controls",
      "model_module_version": "1.5.0",
      "model_name": "DescriptionStyleModel",
      "state": {
       "description_width": ""
      }
     },
     "e063109e304444858ded7e59c2811b9c": {
      "model_module": "@jupyter-widgets/controls",
      "model_module_version": "1.5.0",
      "model_name": "HTMLModel",
      "state": {
       "layout": "IPY_MODEL_2cde4a29107b4a659a802e077c7ef7c4",
       "style": "IPY_MODEL_710c0bc593ca4f36b78cb92b7e38167e",
       "value": "<table border=\"1\" class=\"dataframe table table-striped table-hover table-condensed table-responsive\">\n  <thead>\n    <tr style=\"text-align: right;\">\n      <th></th>\n      <th>hist2</th>\n    </tr>\n  </thead>\n  <tbody>\n    <tr>\n      <th>met</th>\n      <td>168382</td>\n    </tr>\n    <tr>\n      <th>wave</th>\n      <td>0</td>\n    </tr>\n    <tr>\n      <th>type</th>\n      <td>fixed</td>\n    </tr>\n    <tr>\n      <th>name</th>\n      <td>8770808 - High Island, TX</td>\n    </tr>\n    <tr>\n      <th>pgm</th>\n      <td>IOOS Partners</td>\n    </tr>\n  </tbody>\n</table>"
      }
     },
     "e0715a91d7fe46ad8d068ae60af9b527": {
      "model_module": "@jupyter-widgets/controls",
      "model_module_version": "1.5.0",
      "model_name": "DescriptionStyleModel",
      "state": {
       "description_width": ""
      }
     },
     "e091808b560e42a4ac75b4383ac08e0b": {
      "model_module": "jupyter-leaflet",
      "model_module_version": "^0.13.2",
      "model_name": "LeafletAwesomeIconModel",
      "state": {
       "_model_module_version": "^0.13.2",
       "_view_module_version": "^0.13.2",
       "icon_color": "white",
       "marker_color": "orange",
       "name": "life-ring"
      }
     },
     "e0ba471d788c4370b8ed3fb1fe1e56d2": {
      "model_module": "@jupyter-widgets/controls",
      "model_module_version": "1.5.0",
      "model_name": "HTMLModel",
      "state": {
       "layout": "IPY_MODEL_5da91a724cb7484199a7d9cb421eab9e",
       "style": "IPY_MODEL_45c1b02aa7594f0492a916a4440cf339",
       "value": "<table border=\"1\" class=\"dataframe table table-striped table-hover table-condensed table-responsive\">\n  <thead>\n    <tr style=\"text-align: right;\">\n      <th></th>\n      <th>mhpa1</th>\n    </tr>\n  </thead>\n  <tbody>\n    <tr>\n      <th>met</th>\n      <td>30784</td>\n    </tr>\n    <tr>\n      <th>wave</th>\n      <td>0</td>\n    </tr>\n    <tr>\n      <th>type</th>\n      <td>fixed</td>\n    </tr>\n    <tr>\n      <th>name</th>\n      <td>Meaher Park, AL</td>\n    </tr>\n    <tr>\n      <th>pgm</th>\n      <td>IOOS Partners</td>\n    </tr>\n  </tbody>\n</table>"
      }
     },
     "e1003afa6a4f46d897713bb10b0044b1": {
      "model_module": "@jupyter-widgets/base",
      "model_module_version": "1.2.0",
      "model_name": "LayoutModel",
      "state": {}
     },
     "e14671f64c1e47d9bbfbe18529f19e22": {
      "model_module": "@jupyter-widgets/controls",
      "model_module_version": "1.5.0",
      "model_name": "HTMLModel",
      "state": {
       "layout": "IPY_MODEL_746a0f71be094324997ebf8f9652bcf0",
       "style": "IPY_MODEL_21d3a93f8a0a47aa9b4521e9dc52918d",
       "value": "<table border=\"1\" class=\"dataframe table table-striped table-hover table-condensed table-responsive\">\n  <thead>\n    <tr style=\"text-align: right;\">\n      <th></th>\n      <th>51206</th>\n    </tr>\n  </thead>\n  <tbody>\n    <tr>\n      <th>met</th>\n      <td>0</td>\n    </tr>\n    <tr>\n      <th>wave</th>\n      <td>37628</td>\n    </tr>\n    <tr>\n      <th>type</th>\n      <td>buoy</td>\n    </tr>\n    <tr>\n      <th>name</th>\n      <td>Hilo, Hawaii, HI (188)</td>\n    </tr>\n    <tr>\n      <th>pgm</th>\n      <td>IOOS Partners</td>\n    </tr>\n  </tbody>\n</table>"
      }
     },
     "e1e650cff0254d188b619ddf3c28c2db": {
      "model_module": "jupyter-leaflet",
      "model_module_version": "^0.13.2",
      "model_name": "LeafletAwesomeIconModel",
      "state": {
       "_model_module_version": "^0.13.2",
       "_view_module_version": "^0.13.2",
       "icon_color": "white",
       "marker_color": "orange",
       "name": "life-ring"
      }
     },
     "e202b901fb0e4e2995750de87aee1682": {
      "model_module": "@jupyter-widgets/base",
      "model_module_version": "1.2.0",
      "model_name": "LayoutModel",
      "state": {}
     },
     "e2767d6faee0499faa72c6f2bb615bf6": {
      "model_module": "@jupyter-widgets/controls",
      "model_module_version": "1.5.0",
      "model_name": "HTMLModel",
      "state": {
       "layout": "IPY_MODEL_21496c8075954d04b68f8acccb1509b9",
       "style": "IPY_MODEL_249c603133404284ac83d182e2e2b7af",
       "value": "<table border=\"1\" class=\"dataframe table table-striped table-hover table-condensed table-responsive\">\n  <thead>\n    <tr style=\"text-align: right;\">\n      <th></th>\n      <th>grim4</th>\n    </tr>\n  </thead>\n  <tbody>\n    <tr>\n      <th>met</th>\n      <td>79410</td>\n    </tr>\n    <tr>\n      <th>wave</th>\n      <td>0</td>\n    </tr>\n    <tr>\n      <th>type</th>\n      <td>fixed</td>\n    </tr>\n    <tr>\n      <th>name</th>\n      <td>Granite Island, MI</td>\n    </tr>\n    <tr>\n      <th>pgm</th>\n      <td>IOOS Partners</td>\n    </tr>\n  </tbody>\n</table>"
      }
     },
     "e307742de2044b288fbbd6af2b621ae4": {
      "model_module": "@jupyter-widgets/controls",
      "model_module_version": "1.5.0",
      "model_name": "DescriptionStyleModel",
      "state": {
       "description_width": ""
      }
     },
     "e332c2b956cb4f789f99daaee3022ea0": {
      "model_module": "@jupyter-widgets/controls",
      "model_module_version": "1.5.0",
      "model_name": "HTMLModel",
      "state": {
       "layout": "IPY_MODEL_da864bbf080c432eb91ff3f1d601edf4",
       "style": "IPY_MODEL_c9449096844b41be8f015bd730969f95",
       "value": "<table border=\"1\" class=\"dataframe table table-striped table-hover table-condensed table-responsive\">\n  <thead>\n    <tr style=\"text-align: right;\">\n      <th></th>\n      <th>twco1</th>\n    </tr>\n  </thead>\n  <tbody>\n    <tr>\n      <th>met</th>\n      <td>104530</td>\n    </tr>\n    <tr>\n      <th>wave</th>\n      <td>0</td>\n    </tr>\n    <tr>\n      <th>type</th>\n      <td>fixed</td>\n    </tr>\n    <tr>\n      <th>name</th>\n      <td>Toledo Crib, OH</td>\n    </tr>\n    <tr>\n      <th>pgm</th>\n      <td>IOOS Partners</td>\n    </tr>\n  </tbody>\n</table>"
      }
     },
     "e3a022b4fb494e8fbb22d6dcfd49d9c1": {
      "model_module": "@jupyter-widgets/base",
      "model_module_version": "1.2.0",
      "model_name": "LayoutModel",
      "state": {}
     },
     "e3e1085b041f488e9a0ddb5442427e0b": {
      "model_module": "@jupyter-widgets/controls",
      "model_module_version": "1.5.0",
      "model_name": "HTMLModel",
      "state": {
       "layout": "IPY_MODEL_a38ab9ab65df41bc95650246a47196d2",
       "style": "IPY_MODEL_25a14ed6e54c40d6bcc9bd3c5226a1a1",
       "value": "<table border=\"1\" class=\"dataframe table table-striped table-hover table-condensed table-responsive\">\n  <thead>\n    <tr style=\"text-align: right;\">\n      <th></th>\n      <th>45187</th>\n    </tr>\n  </thead>\n  <tbody>\n    <tr>\n      <th>met</th>\n      <td>14550</td>\n    </tr>\n    <tr>\n      <th>wave</th>\n      <td>14550</td>\n    </tr>\n    <tr>\n      <th>type</th>\n      <td>buoy</td>\n    </tr>\n    <tr>\n      <th>name</th>\n      <td>Winthrop Harbor Buoy, IL</td>\n    </tr>\n    <tr>\n      <th>pgm</th>\n      <td>IOOS Partners</td>\n    </tr>\n  </tbody>\n</table>"
      }
     },
     "e4115efddf48413496015275cab349a0": {
      "model_module": "jupyter-leaflet",
      "model_module_version": "^0.13.2",
      "model_name": "LeafletMarkerModel",
      "state": {
       "_model_module_version": "^0.13.2",
       "_view_module_version": "^0.13.2",
       "draggable": false,
       "icon": "IPY_MODEL_91d1150d61654c7095644c9851423ff7",
       "location": [
        42.135,
        -87.655
       ],
       "options": [
        "alt",
        "draggable",
        "keyboard",
        "rise_offset",
        "rise_on_hover",
        "rotation_angle",
        "rotation_origin",
        "title",
        "z_index_offset"
       ],
       "popup": "IPY_MODEL_bf52dae3e1e845579988f7fb686602b7"
      }
     },
     "e4705756c63e488cbb9b0f96efd8c535": {
      "model_module": "@jupyter-widgets/controls",
      "model_module_version": "1.5.0",
      "model_name": "HTMLModel",
      "state": {
       "layout": "IPY_MODEL_1108f9fd90d04e458946ae8b5cb8b443",
       "style": "IPY_MODEL_f4603e45702d4aee92a5428425be3a3f",
       "value": "<table border=\"1\" class=\"dataframe table table-striped table-hover table-condensed table-responsive\">\n  <thead>\n    <tr style=\"text-align: right;\">\n      <th></th>\n      <th>jmla2</th>\n    </tr>\n  </thead>\n  <tbody>\n    <tr>\n      <th>met</th>\n      <td>111442</td>\n    </tr>\n    <tr>\n      <th>wave</th>\n      <td>0</td>\n    </tr>\n    <tr>\n      <th>type</th>\n      <td>fixed</td>\n    </tr>\n    <tr>\n      <th>name</th>\n      <td>Juneau AML Dock</td>\n    </tr>\n    <tr>\n      <th>pgm</th>\n      <td>IOOS Partners</td>\n    </tr>\n  </tbody>\n</table>"
      }
     },
     "e5ad2cd9b98849b4bff35d8868407d6d": {
      "model_module": "@jupyter-widgets/base",
      "model_module_version": "1.2.0",
      "model_name": "LayoutModel",
      "state": {}
     },
     "e5ccbe4d73eb43cdafe5f85c08645f6a": {
      "model_module": "@jupyter-widgets/base",
      "model_module_version": "1.2.0",
      "model_name": "LayoutModel",
      "state": {}
     },
     "e5dc982c97e44fbfb17545b8d3dc197a": {
      "model_module": "@jupyter-widgets/controls",
      "model_module_version": "1.5.0",
      "model_name": "HTMLModel",
      "state": {
       "layout": "IPY_MODEL_b147a6360297406590201a8caea3cf42",
       "style": "IPY_MODEL_40cad90d4c11435eb134931b1bbd0892",
       "value": "<table border=\"1\" class=\"dataframe table table-striped table-hover table-condensed table-responsive\">\n  <thead>\n    <tr style=\"text-align: right;\">\n      <th></th>\n      <th>pgxa2</th>\n    </tr>\n  </thead>\n  <tbody>\n    <tr>\n      <th>met</th>\n      <td>109800</td>\n    </tr>\n    <tr>\n      <th>wave</th>\n      <td>0</td>\n    </tr>\n    <tr>\n      <th>type</th>\n      <td>fixed</td>\n    </tr>\n    <tr>\n      <th>name</th>\n      <td>Point Gardner</td>\n    </tr>\n    <tr>\n      <th>pgm</th>\n      <td>IOOS Partners</td>\n    </tr>\n  </tbody>\n</table>"
      }
     },
     "e60ddf3a4bf64f7fb1fba2d25b424dff": {
      "model_module": "jupyter-leaflet",
      "model_module_version": "^0.13.2",
      "model_name": "LeafletAwesomeIconModel",
      "state": {
       "_model_module_version": "^0.13.2",
       "_view_module_version": "^0.13.2",
       "icon_color": "white",
       "marker_color": "orange",
       "name": "life-ring"
      }
     },
     "e6266dbbf78c47269ab20c8642bb736d": {
      "model_module": "@jupyter-widgets/base",
      "model_module_version": "1.2.0",
      "model_name": "LayoutModel",
      "state": {}
     },
     "e6ea2e2c8e96421094f8118a2900aef4": {
      "model_module": "@jupyter-widgets/base",
      "model_module_version": "1.2.0",
      "model_name": "LayoutModel",
      "state": {}
     },
     "e75b04fd2db6421ba771ba4bd416f464": {
      "model_module": "jupyter-leaflet",
      "model_module_version": "^0.13.2",
      "model_name": "LeafletMarkerModel",
      "state": {
       "_model_module_version": "^0.13.2",
       "_view_module_version": "^0.13.2",
       "draggable": false,
       "icon": "IPY_MODEL_d03b667fa0dc4a68986fe412b1d4520c",
       "location": [
        19.78,
        -154.97
       ],
       "options": [
        "alt",
        "draggable",
        "keyboard",
        "rise_offset",
        "rise_on_hover",
        "rotation_angle",
        "rotation_origin",
        "title",
        "z_index_offset"
       ],
       "popup": "IPY_MODEL_e14671f64c1e47d9bbfbe18529f19e22"
      }
     },
     "e778dfe6ae9e4e6c880b445f3d05c0c1": {
      "model_module": "jupyter-leaflet",
      "model_module_version": "^0.13.2",
      "model_name": "LeafletAwesomeIconModel",
      "state": {
       "_model_module_version": "^0.13.2",
       "_view_module_version": "^0.13.2",
       "icon_color": "white",
       "marker_color": "orange",
       "name": "life-ring"
      }
     },
     "e78deb4289d84978b0ef49e88e55c7b2": {
      "model_module": "@jupyter-widgets/controls",
      "model_module_version": "1.5.0",
      "model_name": "DescriptionStyleModel",
      "state": {
       "description_width": ""
      }
     },
     "e795b7453eca43cd986a75ffd26efe02": {
      "model_module": "jupyter-leaflet",
      "model_module_version": "^0.13.2",
      "model_name": "LeafletAwesomeIconModel",
      "state": {
       "_model_module_version": "^0.13.2",
       "_view_module_version": "^0.13.2",
       "icon_color": "white",
       "marker_color": "orange",
       "name": "life-ring"
      }
     },
     "e7aa7a258d4543679d2870ec60fe07c4": {
      "model_module": "jupyter-leaflet",
      "model_module_version": "^0.13.2",
      "model_name": "LeafletMarkerModel",
      "state": {
       "_model_module_version": "^0.13.2",
       "_view_module_version": "^0.13.2",
       "draggable": false,
       "icon": "IPY_MODEL_cb47f590b0154cf4a3cf3c4645475480",
       "location": [
        43.179,
        -70.426
       ],
       "options": [
        "alt",
        "draggable",
        "keyboard",
        "rise_offset",
        "rise_on_hover",
        "rotation_angle",
        "rotation_origin",
        "title",
        "z_index_offset"
       ],
       "popup": "IPY_MODEL_9765c757809642458c008fd01ca0d433"
      }
     },
     "e7c79c9ef37b4f9691fa8da65ba01c8b": {
      "model_module": "@jupyter-widgets/controls",
      "model_module_version": "1.5.0",
      "model_name": "DescriptionStyleModel",
      "state": {
       "description_width": ""
      }
     },
     "e809220a8af24be099a64e61bb09c432": {
      "model_module": "jupyter-leaflet",
      "model_module_version": "^0.13.2",
      "model_name": "LeafletMarkerModel",
      "state": {
       "_model_module_version": "^0.13.2",
       "_view_module_version": "^0.13.2",
       "draggable": false,
       "icon": "IPY_MODEL_f1175ade3eb64aefb0b48b347b8b86fb",
       "location": [
        46.814,
        -91.829
       ],
       "options": [
        "alt",
        "draggable",
        "keyboard",
        "rise_offset",
        "rise_on_hover",
        "rotation_angle",
        "rotation_origin",
        "title",
        "z_index_offset"
       ],
       "popup": "IPY_MODEL_65da719305f24cab80e875b668ae5c95"
      }
     },
     "e84851ba3cff411f913abc5709201b6b": {
      "model_module": "@jupyter-widgets/controls",
      "model_module_version": "1.5.0",
      "model_name": "DescriptionStyleModel",
      "state": {
       "description_width": ""
      }
     },
     "e8bba27421e64a1e97c6911f2816f9aa": {
      "model_module": "@jupyter-widgets/controls",
      "model_module_version": "1.5.0",
      "model_name": "HTMLModel",
      "state": {
       "layout": "IPY_MODEL_df55c83e2d3b4c0d9e95ac34fe2bfab4",
       "style": "IPY_MODEL_a03a19dab1d746b296957704bd2ef07e",
       "value": "<table border=\"1\" class=\"dataframe table table-striped table-hover table-condensed table-responsive\">\n  <thead>\n    <tr style=\"text-align: right;\">\n      <th></th>\n      <th>45029</th>\n    </tr>\n  </thead>\n  <tbody>\n    <tr>\n      <th>met</th>\n      <td>67840</td>\n    </tr>\n    <tr>\n      <th>wave</th>\n      <td>67840</td>\n    </tr>\n    <tr>\n      <th>type</th>\n      <td>buoy</td>\n    </tr>\n    <tr>\n      <th>name</th>\n      <td>Holland Buoy, MI</td>\n    </tr>\n    <tr>\n      <th>pgm</th>\n      <td>IOOS Partners</td>\n    </tr>\n  </tbody>\n</table>"
      }
     },
     "e8fa05abe8a9404baf92731f4be0f2ac": {
      "model_module": "jupyter-leaflet",
      "model_module_version": "^0.13.2",
      "model_name": "LeafletAwesomeIconModel",
      "state": {
       "_model_module_version": "^0.13.2",
       "_view_module_version": "^0.13.2",
       "icon_color": "white",
       "marker_color": "red",
       "name": "life-ring"
      }
     },
     "e908a3012c624f4eb4c82c13297b32ef": {
      "model_module": "@jupyter-widgets/controls",
      "model_module_version": "1.5.0",
      "model_name": "HTMLModel",
      "state": {
       "layout": "IPY_MODEL_f2e4cfca6cea4c9cb3d84dcbc8b87791",
       "style": "IPY_MODEL_2af2bdda46a046f0bc87a613f1115bd5",
       "value": "<table border=\"1\" class=\"dataframe table table-striped table-hover table-condensed table-responsive\">\n  <thead>\n    <tr style=\"text-align: right;\">\n      <th></th>\n      <th>51207</th>\n    </tr>\n  </thead>\n  <tbody>\n    <tr>\n      <th>met</th>\n      <td>0</td>\n    </tr>\n    <tr>\n      <th>wave</th>\n      <td>37598</td>\n    </tr>\n    <tr>\n      <th>type</th>\n      <td>buoy</td>\n    </tr>\n    <tr>\n      <th>name</th>\n      <td>Kaneohe Bay, HI (198)</td>\n    </tr>\n    <tr>\n      <th>pgm</th>\n      <td>IOOS Partners</td>\n    </tr>\n  </tbody>\n</table>"
      }
     },
     "e96f4f29adec47cea0a28176695b2e1c": {
      "model_module": "@jupyter-widgets/controls",
      "model_module_version": "1.5.0",
      "model_name": "HTMLModel",
      "state": {
       "layout": "IPY_MODEL_95c4225a53b745f0a362f36a631f7896",
       "style": "IPY_MODEL_7839dafd3d0f4e4bb9bf410d6448c4e9",
       "value": "<table border=\"1\" class=\"dataframe table table-striped table-hover table-condensed table-responsive\">\n  <thead>\n    <tr style=\"text-align: right;\">\n      <th></th>\n      <th>41110</th>\n    </tr>\n  </thead>\n  <tbody>\n    <tr>\n      <th>met</th>\n      <td>0</td>\n    </tr>\n    <tr>\n      <th>wave</th>\n      <td>37676</td>\n    </tr>\n    <tr>\n      <th>type</th>\n      <td>buoy</td>\n    </tr>\n    <tr>\n      <th>name</th>\n      <td>Masonboro Inlet, ILM2, NC (150)</td>\n    </tr>\n    <tr>\n      <th>pgm</th>\n      <td>IOOS Partners</td>\n    </tr>\n  </tbody>\n</table>"
      }
     },
     "e9c694b916e44303aaedab55f9f36bd0": {
      "model_module": "@jupyter-widgets/base",
      "model_module_version": "1.2.0",
      "model_name": "LayoutModel",
      "state": {}
     },
     "e9d7c1e5cac345c9b86bac23ec797bf8": {
      "model_module": "@jupyter-widgets/controls",
      "model_module_version": "1.5.0",
      "model_name": "DescriptionStyleModel",
      "state": {
       "description_width": ""
      }
     },
     "ea8bcc9b61e744fe8538a0f3b11ce818": {
      "model_module": "jupyter-leaflet",
      "model_module_version": "^0.13.2",
      "model_name": "LeafletAwesomeIconModel",
      "state": {
       "_model_module_version": "^0.13.2",
       "_view_module_version": "^0.13.2",
       "icon_color": "white",
       "marker_color": "orange",
       "name": "life-ring"
      }
     },
     "ea8eb25919cb4fa584c46a1334a582fd": {
      "model_module": "@jupyter-widgets/controls",
      "model_module_version": "1.5.0",
      "model_name": "DescriptionStyleModel",
      "state": {
       "description_width": ""
      }
     },
     "eaad9ea36efd485db60c19b77ff83f9b": {
      "model_module": "@jupyter-widgets/controls",
      "model_module_version": "1.5.0",
      "model_name": "HTMLModel",
      "state": {
       "layout": "IPY_MODEL_17d2506a9d4e4250a1dab52524aae985",
       "style": "IPY_MODEL_0fe5a15429f848769c3c937feb4625c8",
       "value": "<table border=\"1\" class=\"dataframe table table-striped table-hover table-condensed table-responsive\">\n  <thead>\n    <tr style=\"text-align: right;\">\n      <th></th>\n      <th>52211</th>\n    </tr>\n  </thead>\n  <tbody>\n    <tr>\n      <th>met</th>\n      <td>0</td>\n    </tr>\n    <tr>\n      <th>wave</th>\n      <td>37342</td>\n    </tr>\n    <tr>\n      <th>type</th>\n      <td>buoy</td>\n    </tr>\n    <tr>\n      <th>name</th>\n      <td>Tanapag, Saipan, NMI (197)</td>\n    </tr>\n    <tr>\n      <th>pgm</th>\n      <td>IOOS Partners</td>\n    </tr>\n  </tbody>\n</table>"
      }
     },
     "eaaef4c5221b43179432260bb712962a": {
      "model_module": "@jupyter-widgets/controls",
      "model_module_version": "1.5.0",
      "model_name": "DescriptionStyleModel",
      "state": {
       "description_width": ""
      }
     },
     "eb2e98a5ffa549dcb73388ebacb933ab": {
      "model_module": "@jupyter-widgets/base",
      "model_module_version": "1.2.0",
      "model_name": "LayoutModel",
      "state": {}
     },
     "eb5ca10052ea4a629d437cc639e9e326": {
      "model_module": "jupyter-leaflet",
      "model_module_version": "^0.13.2",
      "model_name": "LeafletMarkerModel",
      "state": {
       "_model_module_version": "^0.13.2",
       "_view_module_version": "^0.13.2",
       "draggable": false,
       "icon": "IPY_MODEL_a7dd4627193141fd97795dfcaa31b93d",
       "location": [
        26.801,
        -97.471
       ],
       "options": [
        "alt",
        "draggable",
        "keyboard",
        "rise_offset",
        "rise_on_hover",
        "rotation_angle",
        "rotation_origin",
        "title",
        "z_index_offset"
       ],
       "popup": "IPY_MODEL_7f233d1fb65749338ed337e7fe37fb4a"
      }
     },
     "ebd3ead1a9b243ab9c70a96642407f3a": {
      "model_module": "jupyter-leaflet",
      "model_module_version": "^0.13.2",
      "model_name": "LeafletMarkerModel",
      "state": {
       "_model_module_version": "^0.13.2",
       "_view_module_version": "^0.13.2",
       "draggable": false,
       "icon": "IPY_MODEL_13b780d52cf348ddb34b8133671a828d",
       "location": [
        40.956,
        -73.58
       ],
       "options": [
        "alt",
        "draggable",
        "keyboard",
        "rise_offset",
        "rise_on_hover",
        "rotation_angle",
        "rotation_origin",
        "title",
        "z_index_offset"
       ],
       "popup": "IPY_MODEL_675f1680d21f49ac87eba685a639a330"
      }
     },
     "ec2738044e9041bd9c6be159cb74a27d": {
      "model_module": "jupyter-leaflet",
      "model_module_version": "^0.13.2",
      "model_name": "LeafletMarkerModel",
      "state": {
       "_model_module_version": "^0.13.2",
       "_view_module_version": "^0.13.2",
       "draggable": false,
       "icon": "IPY_MODEL_909c3c7aa1d647b1a5090b3537bacaec",
       "location": [
        32.803,
        -79.624
       ],
       "options": [
        "alt",
        "draggable",
        "keyboard",
        "rise_offset",
        "rise_on_hover",
        "rotation_angle",
        "rotation_origin",
        "title",
        "z_index_offset"
       ],
       "popup": "IPY_MODEL_8896c3576b46405bb7db00b55cf17e49"
      }
     },
     "ec33181d6dfe40a5a35b4561b90febd7": {
      "model_module": "jupyter-leaflet",
      "model_module_version": "^0.13.2",
      "model_name": "LeafletAwesomeIconModel",
      "state": {
       "_model_module_version": "^0.13.2",
       "_view_module_version": "^0.13.2",
       "icon_color": "white",
       "marker_color": "orange",
       "name": "life-ring"
      }
     },
     "ecc12430cd724158851533d6be812456": {
      "model_module": "@jupyter-widgets/controls",
      "model_module_version": "1.5.0",
      "model_name": "HTMLModel",
      "state": {
       "layout": "IPY_MODEL_89be2db890ef4125b959d3f8f5f708c9",
       "style": "IPY_MODEL_9af014526d124a249b50d9b300e268a1",
       "value": "<table border=\"1\" class=\"dataframe table table-striped table-hover table-condensed table-responsive\">\n  <thead>\n    <tr style=\"text-align: right;\">\n      <th></th>\n      <th>44029</th>\n    </tr>\n  </thead>\n  <tbody>\n    <tr>\n      <th>met</th>\n      <td>18546</td>\n    </tr>\n    <tr>\n      <th>wave</th>\n      <td>18216</td>\n    </tr>\n    <tr>\n      <th>type</th>\n      <td>buoy</td>\n    </tr>\n    <tr>\n      <th>name</th>\n      <td>Buoy A01 - Massachusetts Bay</td>\n    </tr>\n    <tr>\n      <th>pgm</th>\n      <td>IOOS Partners</td>\n    </tr>\n  </tbody>\n</table>"
      }
     },
     "ecdd6a29d30c4d52bcb413b64f515bb8": {
      "model_module": "@jupyter-widgets/base",
      "model_module_version": "1.2.0",
      "model_name": "LayoutModel",
      "state": {}
     },
     "ecfbcf52817d44ffb78193df7ed4cbec": {
      "model_module": "jupyter-leaflet",
      "model_module_version": "^0.13.2",
      "model_name": "LeafletMapStyleModel",
      "state": {
       "_model_module_version": "^0.13.2"
      }
     },
     "ed5be83921b143cf8bd1e920c1ab106d": {
      "model_module": "jupyter-leaflet",
      "model_module_version": "^0.13.2",
      "model_name": "LeafletAwesomeIconModel",
      "state": {
       "_model_module_version": "^0.13.2",
       "_view_module_version": "^0.13.2",
       "icon_color": "white",
       "marker_color": "orange",
       "name": "life-ring"
      }
     },
     "ed9aad0f402a4883b68b08feb626b37d": {
      "model_module": "jupyter-leaflet",
      "model_module_version": "^0.13.2",
      "model_name": "LeafletMarkerModel",
      "state": {
       "_model_module_version": "^0.13.2",
       "_view_module_version": "^0.13.2",
       "draggable": false,
       "icon": "IPY_MODEL_f6f81a571ee94dc28fd3184e6b2d976d",
       "location": [
        21.477,
        -157.752
       ],
       "options": [
        "alt",
        "draggable",
        "keyboard",
        "rise_offset",
        "rise_on_hover",
        "rotation_angle",
        "rotation_origin",
        "title",
        "z_index_offset"
       ],
       "popup": "IPY_MODEL_e908a3012c624f4eb4c82c13297b32ef"
      }
     },
     "edfcbb9d3edd4730a7a6b890b7b43df0": {
      "model_module": "@jupyter-widgets/controls",
      "model_module_version": "1.5.0",
      "model_name": "HTMLModel",
      "state": {
       "layout": "IPY_MODEL_7b1cc5835aca45e29b8399ec8832886c",
       "style": "IPY_MODEL_81c02dd84dab4eae8ee7a6ab3e4eb4f7",
       "value": "<table border=\"1\" class=\"dataframe table table-striped table-hover table-condensed table-responsive\">\n  <thead>\n    <tr style=\"text-align: right;\">\n      <th></th>\n      <th>sipf1</th>\n    </tr>\n  </thead>\n  <tbody>\n    <tr>\n      <th>met</th>\n      <td>70624</td>\n    </tr>\n    <tr>\n      <th>wave</th>\n      <td>0</td>\n    </tr>\n    <tr>\n      <th>type</th>\n      <td>fixed</td>\n    </tr>\n    <tr>\n      <th>name</th>\n      <td>Sebastian Inlet State Park North Jetty, FL</td>\n    </tr>\n    <tr>\n      <th>pgm</th>\n      <td>IOOS Partners</td>\n    </tr>\n  </tbody>\n</table>"
      }
     },
     "ee08b75c2ebe4e359330548a8b1db1eb": {
      "model_module": "@jupyter-widgets/base",
      "model_module_version": "1.2.0",
      "model_name": "LayoutModel",
      "state": {}
     },
     "ee615bcd426144b7929868e0bee11b3d": {
      "model_module": "@jupyter-widgets/base",
      "model_module_version": "1.2.0",
      "model_name": "LayoutModel",
      "state": {}
     },
     "eeecca4ba5ea462c91d78d665d8d5c2c": {
      "model_module": "jupyter-leaflet",
      "model_module_version": "^0.13.2",
      "model_name": "LeafletMarkerModel",
      "state": {
       "_model_module_version": "^0.13.2",
       "_view_module_version": "^0.13.2",
       "draggable": false,
       "icon": "IPY_MODEL_413ef07f2add474eb905f40958e862bf",
       "location": [
        27.634,
        -97.237
       ],
       "options": [
        "alt",
        "draggable",
        "keyboard",
        "rise_offset",
        "rise_on_hover",
        "rotation_angle",
        "rotation_origin",
        "title",
        "z_index_offset"
       ],
       "popup": "IPY_MODEL_a9dbf86e300243059d58e496de35417a"
      }
     },
     "efba4ac6ac9d4f31a834e33994d085e6": {
      "model_module": "jupyter-leaflet",
      "model_module_version": "^0.13.2",
      "model_name": "LeafletAwesomeIconModel",
      "state": {
       "_model_module_version": "^0.13.2",
       "_view_module_version": "^0.13.2",
       "icon_color": "white",
       "marker_color": "orange",
       "name": "life-ring"
      }
     },
     "efbf3e5250bc4a338d1ce68868c78993": {
      "model_module": "@jupyter-widgets/controls",
      "model_module_version": "1.5.0",
      "model_name": "HTMLModel",
      "state": {
       "layout": "IPY_MODEL_20fd58b649ec4641ad6a4d890e7d1bf3",
       "style": "IPY_MODEL_8163c73bbba04e259594321e121fbb89",
       "value": "<table border=\"1\" class=\"dataframe table table-striped table-hover table-condensed table-responsive\">\n  <thead>\n    <tr style=\"text-align: right;\">\n      <th></th>\n      <th>45172</th>\n    </tr>\n  </thead>\n  <tbody>\n    <tr>\n      <th>met</th>\n      <td>34490</td>\n    </tr>\n    <tr>\n      <th>wave</th>\n      <td>32326</td>\n    </tr>\n    <tr>\n      <th>type</th>\n      <td>buoy</td>\n    </tr>\n    <tr>\n      <th>name</th>\n      <td>Grand Marais Buoy, Grand Marais, MI</td>\n    </tr>\n    <tr>\n      <th>pgm</th>\n      <td>IOOS Partners</td>\n    </tr>\n  </tbody>\n</table>"
      }
     },
     "efd428866ccc44dab1ff1e0fe5154da6": {
      "model_module": "@jupyter-widgets/base",
      "model_module_version": "1.2.0",
      "model_name": "LayoutModel",
      "state": {}
     },
     "efd52a41e70c4dcd95110c8c6f89a470": {
      "model_module": "@jupyter-widgets/base",
      "model_module_version": "1.2.0",
      "model_name": "LayoutModel",
      "state": {}
     },
     "f0248d40d42c467dacd92cfe0d8b40ad": {
      "model_module": "@jupyter-widgets/controls",
      "model_module_version": "1.5.0",
      "model_name": "HTMLModel",
      "state": {
       "layout": "IPY_MODEL_ccddfbbf389e4c57a900ca4b0c9a50b8",
       "style": "IPY_MODEL_c12724f5505f4da48e936348305693b1",
       "value": "<table border=\"1\" class=\"dataframe table table-striped table-hover table-condensed table-responsive\">\n  <thead>\n    <tr style=\"text-align: right;\">\n      <th></th>\n      <th>46121</th>\n    </tr>\n  </thead>\n  <tbody>\n    <tr>\n      <th>met</th>\n      <td>86094</td>\n    </tr>\n    <tr>\n      <th>wave</th>\n      <td>0</td>\n    </tr>\n    <tr>\n      <th>type</th>\n      <td>buoy</td>\n    </tr>\n    <tr>\n      <th>name</th>\n      <td>Carr Inlet, WA (U of Wash)</td>\n    </tr>\n    <tr>\n      <th>pgm</th>\n      <td>IOOS Partners</td>\n    </tr>\n  </tbody>\n</table>"
      }
     },
     "f04b5474067c454589e3e26c530d1b3a": {
      "model_module": "@jupyter-widgets/controls",
      "model_module_version": "1.5.0",
      "model_name": "DescriptionStyleModel",
      "state": {
       "description_width": ""
      }
     },
     "f1175ade3eb64aefb0b48b347b8b86fb": {
      "model_module": "jupyter-leaflet",
      "model_module_version": "^0.13.2",
      "model_name": "LeafletAwesomeIconModel",
      "state": {
       "_model_module_version": "^0.13.2",
       "_view_module_version": "^0.13.2",
       "icon_color": "white",
       "marker_color": "green",
       "name": "life-ring"
      }
     },
     "f1454052d9f34d9cb1479dd04a6417cd": {
      "model_module": "@jupyter-widgets/controls",
      "model_module_version": "1.5.0",
      "model_name": "DescriptionStyleModel",
      "state": {
       "description_width": ""
      }
     },
     "f1f3b595a0aa463a85aa2edd4a3fabc9": {
      "model_module": "@jupyter-widgets/base",
      "model_module_version": "1.2.0",
      "model_name": "LayoutModel",
      "state": {}
     },
     "f20f58f2ef4941bfbf7b45af7e9f58e8": {
      "model_module": "jupyter-leaflet",
      "model_module_version": "^0.13.2",
      "model_name": "LeafletAwesomeIconModel",
      "state": {
       "_model_module_version": "^0.13.2",
       "_view_module_version": "^0.13.2",
       "icon_color": "white",
       "marker_color": "orange",
       "name": "life-ring"
      }
     },
     "f26ab893616a4e5cb0f06ca6ed36521e": {
      "model_module": "@jupyter-widgets/controls",
      "model_module_version": "1.5.0",
      "model_name": "DescriptionStyleModel",
      "state": {
       "description_width": ""
      }
     },
     "f27a37b2d479496d8f93e6fd33cf1e95": {
      "model_module": "@jupyter-widgets/controls",
      "model_module_version": "1.5.0",
      "model_name": "HTMLModel",
      "state": {
       "layout": "IPY_MODEL_de4d4607eb6d43dabbda346a1255942c",
       "style": "IPY_MODEL_f1454052d9f34d9cb1479dd04a6417cd",
       "value": "<table border=\"1\" class=\"dataframe table table-striped table-hover table-condensed table-responsive\">\n  <thead>\n    <tr style=\"text-align: right;\">\n      <th></th>\n      <th>taqt2</th>\n    </tr>\n  </thead>\n  <tbody>\n    <tr>\n      <th>met</th>\n      <td>183468</td>\n    </tr>\n    <tr>\n      <th>wave</th>\n      <td>0</td>\n    </tr>\n    <tr>\n      <th>type</th>\n      <td>fixed</td>\n    </tr>\n    <tr>\n      <th>name</th>\n      <td>8775296 - USS Lexington, TX</td>\n    </tr>\n    <tr>\n      <th>pgm</th>\n      <td>IOOS Partners</td>\n    </tr>\n  </tbody>\n</table>"
      }
     },
     "f2e4cfca6cea4c9cb3d84dcbc8b87791": {
      "model_module": "@jupyter-widgets/base",
      "model_module_version": "1.2.0",
      "model_name": "LayoutModel",
      "state": {}
     },
     "f2f60fefd9a4485a8f36c6fded559c78": {
      "model_module": "@jupyter-widgets/base",
      "model_module_version": "1.2.0",
      "model_name": "LayoutModel",
      "state": {}
     },
     "f30527f0e2414e4a9dcbb0c305f7426b": {
      "model_module": "@jupyter-widgets/controls",
      "model_module_version": "1.5.0",
      "model_name": "HTMLModel",
      "state": {
       "layout": "IPY_MODEL_26cb192363cf489f9361f02f0c100b53",
       "style": "IPY_MODEL_040bd3b18e874daaba02d9c01d73a240",
       "value": "<table border=\"1\" class=\"dataframe table table-striped table-hover table-condensed table-responsive\">\n  <thead>\n    <tr style=\"text-align: right;\">\n      <th></th>\n      <th>51213</th>\n    </tr>\n  </thead>\n  <tbody>\n    <tr>\n      <th>met</th>\n      <td>0</td>\n    </tr>\n    <tr>\n      <th>wave</th>\n      <td>28206</td>\n    </tr>\n    <tr>\n      <th>type</th>\n      <td>buoy</td>\n    </tr>\n    <tr>\n      <th>name</th>\n      <td>Kaumalapau Southwest, Lanai, HI (239)</td>\n    </tr>\n    <tr>\n      <th>pgm</th>\n      <td>IOOS Partners</td>\n    </tr>\n  </tbody>\n</table>"
      }
     },
     "f38032e13d4e4ae8b4a3214189bf4215": {
      "model_module": "@jupyter-widgets/controls",
      "model_module_version": "1.5.0",
      "model_name": "DescriptionStyleModel",
      "state": {
       "description_width": ""
      }
     },
     "f3a6cb8b86924747ab30415c3b0ed4e6": {
      "model_module": "jupyter-leaflet",
      "model_module_version": "^0.13.2",
      "model_name": "LeafletMarkerModel",
      "state": {
       "_model_module_version": "^0.13.2",
       "_view_module_version": "^0.13.2",
       "draggable": false,
       "icon": "IPY_MODEL_d2d50aed0d1f48f5baa583affabaf3cf",
       "location": [
        28.433,
        -82.667
       ],
       "options": [
        "alt",
        "draggable",
        "keyboard",
        "rise_offset",
        "rise_on_hover",
        "rotation_angle",
        "rotation_origin",
        "title",
        "z_index_offset"
       ],
       "popup": "IPY_MODEL_022a2729b303438184e39aaaf7002961"
      }
     },
     "f3df302328c7488ca2c1e3bbab3ed19a": {
      "model_module": "jupyter-leaflet",
      "model_module_version": "^0.13.2",
      "model_name": "LeafletAwesomeIconModel",
      "state": {
       "_model_module_version": "^0.13.2",
       "_view_module_version": "^0.13.2",
       "icon_color": "white",
       "marker_color": "orange",
       "name": "life-ring"
      }
     },
     "f3f8c185f34b4091a6fbd3f2d939e92b": {
      "model_module": "@jupyter-widgets/controls",
      "model_module_version": "1.5.0",
      "model_name": "DescriptionStyleModel",
      "state": {
       "description_width": ""
      }
     },
     "f432291cd3b544b4a1a740e8a6b69059": {
      "model_module": "@jupyter-widgets/controls",
      "model_module_version": "1.5.0",
      "model_name": "DescriptionStyleModel",
      "state": {
       "description_width": ""
      }
     },
     "f438ba2a9cc945a89a390bd8dccf1c41": {
      "model_module": "jupyter-leaflet",
      "model_module_version": "^0.13.2",
      "model_name": "LeafletFullScreenControlModel",
      "state": {
       "_model_module_version": "^0.13.2",
       "_view_module_version": "^0.13.2",
       "options": [
        "position"
       ]
      }
     },
     "f45154c8bfae4f4a9c29559c47c9a36d": {
      "model_module": "jupyter-leaflet",
      "model_module_version": "^0.13.2",
      "model_name": "LeafletMarkerModel",
      "state": {
       "_model_module_version": "^0.13.2",
       "_view_module_version": "^0.13.2",
       "draggable": false,
       "icon": "IPY_MODEL_1433f2ce8bd94f4192df211b03031427",
       "location": [
        47.28,
        -122.73
       ],
       "options": [
        "alt",
        "draggable",
        "keyboard",
        "rise_offset",
        "rise_on_hover",
        "rotation_angle",
        "rotation_origin",
        "title",
        "z_index_offset"
       ],
       "popup": "IPY_MODEL_f0248d40d42c467dacd92cfe0d8b40ad"
      }
     },
     "f45b67fa31a24f32845ca081440ad153": {
      "model_module": "jupyter-leaflet",
      "model_module_version": "^0.13.2",
      "model_name": "LeafletAwesomeIconModel",
      "state": {
       "_model_module_version": "^0.13.2",
       "_view_module_version": "^0.13.2",
       "icon_color": "white",
       "marker_color": "red",
       "name": "life-ring"
      }
     },
     "f4603e45702d4aee92a5428425be3a3f": {
      "model_module": "@jupyter-widgets/controls",
      "model_module_version": "1.5.0",
      "model_name": "DescriptionStyleModel",
      "state": {
       "description_width": ""
      }
     },
     "f469ecbc22e54333800b64c214c51d07": {
      "model_module": "jupyter-leaflet",
      "model_module_version": "^0.13.2",
      "model_name": "LeafletMarkerModel",
      "state": {
       "_model_module_version": "^0.13.2",
       "_view_module_version": "^0.13.2",
       "draggable": false,
       "icon": "IPY_MODEL_bf9fa74ca6e64af8b734aef1d169704b",
       "location": [
        43.1,
        -87.85
       ],
       "options": [
        "alt",
        "draggable",
        "keyboard",
        "rise_offset",
        "rise_on_hover",
        "rotation_angle",
        "rotation_origin",
        "title",
        "z_index_offset"
       ],
       "popup": "IPY_MODEL_bbfd0633f472436b9000e0df61516c7d"
      }
     },
     "f4ee95b5d8ee4cd9a919fc1ed28ec20e": {
      "model_module": "jupyter-leaflet",
      "model_module_version": "^0.13.2",
      "model_name": "LeafletMarkerModel",
      "state": {
       "_model_module_version": "^0.13.2",
       "_view_module_version": "^0.13.2",
       "draggable": false,
       "icon": "IPY_MODEL_621610969ddc4d3486230ef7b0f6f905",
       "location": [
        29.076,
        -95.122
       ],
       "options": [
        "alt",
        "draggable",
        "keyboard",
        "rise_offset",
        "rise_on_hover",
        "rotation_angle",
        "rotation_origin",
        "title",
        "z_index_offset"
       ],
       "popup": "IPY_MODEL_2c9a541e81574b8ea820c0a7db6f7586"
      }
     },
     "f4eee48dba714c20a05b525d8492aab4": {
      "model_module": "@jupyter-widgets/base",
      "model_module_version": "1.2.0",
      "model_name": "LayoutModel",
      "state": {}
     },
     "f5ad8532d1f7474b8a6decf5f2426137": {
      "model_module": "@jupyter-widgets/base",
      "model_module_version": "1.2.0",
      "model_name": "LayoutModel",
      "state": {}
     },
     "f5eba57e94d147ae9364b9be8a8b20a2": {
      "model_module": "@jupyter-widgets/controls",
      "model_module_version": "1.5.0",
      "model_name": "DescriptionStyleModel",
      "state": {
       "description_width": ""
      }
     },
     "f6dc0adfcd8d43de80c592a595c78b22": {
      "model_module": "jupyter-leaflet",
      "model_module_version": "^0.13.2",
      "model_name": "LeafletMarkerModel",
      "state": {
       "_model_module_version": "^0.13.2",
       "_view_module_version": "^0.13.2",
       "draggable": false,
       "icon": "IPY_MODEL_40b4cb77e2c641c482858349cbf562ff",
       "location": [
        18.376,
        -67.28
       ],
       "options": [
        "alt",
        "draggable",
        "keyboard",
        "rise_offset",
        "rise_on_hover",
        "rotation_angle",
        "rotation_origin",
        "title",
        "z_index_offset"
       ],
       "popup": "IPY_MODEL_49f9edc599e941b18d1f38b63dd1d4b5"
      }
     },
     "f6f81a571ee94dc28fd3184e6b2d976d": {
      "model_module": "jupyter-leaflet",
      "model_module_version": "^0.13.2",
      "model_name": "LeafletAwesomeIconModel",
      "state": {
       "_model_module_version": "^0.13.2",
       "_view_module_version": "^0.13.2",
       "icon_color": "white",
       "marker_color": "red",
       "name": "life-ring"
      }
     },
     "f6fdc7f8a1904ee5a8f7006ebc1810c5": {
      "model_module": "@jupyter-widgets/controls",
      "model_module_version": "1.5.0",
      "model_name": "HTMLModel",
      "state": {
       "layout": "IPY_MODEL_1fca1cdd1c0a41b180ef71145ad5167c",
       "style": "IPY_MODEL_74829284b3144b53bbc4292705f2716f",
       "value": "<table border=\"1\" class=\"dataframe table table-striped table-hover table-condensed table-responsive\">\n  <thead>\n    <tr style=\"text-align: right;\">\n      <th></th>\n      <th>gixa2</th>\n    </tr>\n  </thead>\n  <tbody>\n    <tr>\n      <th>met</th>\n      <td>111362</td>\n    </tr>\n    <tr>\n      <th>wave</th>\n      <td>0</td>\n    </tr>\n    <tr>\n      <th>type</th>\n      <td>fixed</td>\n    </tr>\n    <tr>\n      <th>name</th>\n      <td>Guard Island, AK</td>\n    </tr>\n    <tr>\n      <th>pgm</th>\n      <td>IOOS Partners</td>\n    </tr>\n  </tbody>\n</table>"
      }
     },
     "f711cf141bc349db8eae0962a00561af": {
      "model_module": "jupyter-leaflet",
      "model_module_version": "^0.13.2",
      "model_name": "LeafletMarkerModel",
      "state": {
       "_model_module_version": "^0.13.2",
       "_view_module_version": "^0.13.2",
       "draggable": false,
       "icon": "IPY_MODEL_ed5be83921b143cf8bd1e920c1ab106d",
       "location": [
        58.364,
        -134.606
       ],
       "options": [
        "alt",
        "draggable",
        "keyboard",
        "rise_offset",
        "rise_on_hover",
        "rotation_angle",
        "rotation_origin",
        "title",
        "z_index_offset"
       ],
       "popup": "IPY_MODEL_dde2eec1619d42a3a63c95e80e247f5d"
      }
     },
     "f765b2c7144a4d088fcde6ea959e6a41": {
      "model_module": "jupyter-leaflet",
      "model_module_version": "^0.13.2",
      "model_name": "LeafletMarkerModel",
      "state": {
       "_model_module_version": "^0.13.2",
       "_view_module_version": "^0.13.2",
       "draggable": false,
       "icon": "IPY_MODEL_3c26137874eb428f90e52fed7a7aea78",
       "location": [
        29.302,
        -94.896
       ],
       "options": [
        "alt",
        "draggable",
        "keyboard",
        "rise_offset",
        "rise_on_hover",
        "rotation_angle",
        "rotation_origin",
        "title",
        "z_index_offset"
       ],
       "popup": "IPY_MODEL_116f97d170c34ae692acb8c4f98eee41"
      }
     },
     "f7cf9130603e486e861a5224f1b6d378": {
      "model_module": "@jupyter-widgets/controls",
      "model_module_version": "1.5.0",
      "model_name": "HTMLModel",
      "state": {
       "layout": "IPY_MODEL_4d9df8f2551b4d40970c1927883b43af",
       "style": "IPY_MODEL_8ea02b6b0305493ca87f3bb6885739b4",
       "value": "<table border=\"1\" class=\"dataframe table table-striped table-hover table-condensed table-responsive\">\n  <thead>\n    <tr style=\"text-align: right;\">\n      <th></th>\n      <th>42044</th>\n    </tr>\n  </thead>\n  <tbody>\n    <tr>\n      <th>met</th>\n      <td>3088</td>\n    </tr>\n    <tr>\n      <th>wave</th>\n      <td>0</td>\n    </tr>\n    <tr>\n      <th>type</th>\n      <td>buoy</td>\n    </tr>\n    <tr>\n      <th>name</th>\n      <td>TGLO TABS Buoy J</td>\n    </tr>\n    <tr>\n      <th>pgm</th>\n      <td>IOOS Partners</td>\n    </tr>\n  </tbody>\n</table>"
      }
     },
     "f7d386cc584a4091874d210bc3fbc8db": {
      "model_module": "@jupyter-widgets/base",
      "model_module_version": "1.2.0",
      "model_name": "LayoutModel",
      "state": {}
     },
     "f7d59fe8d3d046d89f19e3bb655c68d8": {
      "model_module": "@jupyter-widgets/controls",
      "model_module_version": "1.5.0",
      "model_name": "HTMLModel",
      "state": {
       "layout": "IPY_MODEL_ee615bcd426144b7929868e0bee11b3d",
       "style": "IPY_MODEL_3aaace4a96f644479dbf0db19cfccbe3",
       "value": "<table border=\"1\" class=\"dataframe table table-striped table-hover table-condensed table-responsive\">\n  <thead>\n    <tr style=\"text-align: right;\">\n      <th></th>\n      <th>arop4</th>\n    </tr>\n  </thead>\n  <tbody>\n    <tr>\n      <th>met</th>\n      <td>120748</td>\n    </tr>\n    <tr>\n      <th>wave</th>\n      <td>0</td>\n    </tr>\n    <tr>\n      <th>type</th>\n      <td>fixed</td>\n    </tr>\n    <tr>\n      <th>name</th>\n      <td>9757809 - Arecibo, PR</td>\n    </tr>\n    <tr>\n      <th>pgm</th>\n      <td>IOOS Partners</td>\n    </tr>\n  </tbody>\n</table>"
      }
     },
     "f7f3649df88f4cdfa53d576d8af90542": {
      "model_module": "jupyter-leaflet",
      "model_module_version": "^0.13.2",
      "model_name": "LeafletMarkerModel",
      "state": {
       "_model_module_version": "^0.13.2",
       "_view_module_version": "^0.13.2",
       "draggable": false,
       "icon": "IPY_MODEL_33a8ca7958124ec493aa014ad5fd356f",
       "location": [
        33.576,
        -118.181
       ],
       "options": [
        "alt",
        "draggable",
        "keyboard",
        "rise_offset",
        "rise_on_hover",
        "rotation_angle",
        "rotation_origin",
        "title",
        "z_index_offset"
       ],
       "popup": "IPY_MODEL_9ef764a3b6c64a9895bee87b83418080"
      }
     },
     "f85cb1b954624d8e8a52b6a3b726e68e": {
      "model_module": "jupyter-leaflet",
      "model_module_version": "^0.13.2",
      "model_name": "LeafletMarkerModel",
      "state": {
       "_model_module_version": "^0.13.2",
       "_view_module_version": "^0.13.2",
       "draggable": false,
       "icon": "IPY_MODEL_efba4ac6ac9d4f31a834e33994d085e6",
       "location": [
        48.724,
        -122.576
       ],
       "options": [
        "alt",
        "draggable",
        "keyboard",
        "rise_offset",
        "rise_on_hover",
        "rotation_angle",
        "rotation_origin",
        "title",
        "z_index_offset"
       ],
       "popup": "IPY_MODEL_853723e55a044b8f89f39f1f24c1533a"
      }
     },
     "f88256eb3476458e9d6d133eaa1c3cfe": {
      "model_module": "@jupyter-widgets/controls",
      "model_module_version": "1.5.0",
      "model_name": "HTMLModel",
      "state": {
       "layout": "IPY_MODEL_b4b980bfc1234437b465f0a6c30cb339",
       "style": "IPY_MODEL_f5eba57e94d147ae9364b9be8a8b20a2",
       "value": "<table border=\"1\" class=\"dataframe table table-striped table-hover table-condensed table-responsive\">\n  <thead>\n    <tr style=\"text-align: right;\">\n      <th></th>\n      <th>42022</th>\n    </tr>\n  </thead>\n  <tbody>\n    <tr>\n      <th>met</th>\n      <td>35836</td>\n    </tr>\n    <tr>\n      <th>wave</th>\n      <td>0</td>\n    </tr>\n    <tr>\n      <th>type</th>\n      <td>buoy</td>\n    </tr>\n    <tr>\n      <th>name</th>\n      <td>C12 - WFS Central Buoy, 50m Isobath</td>\n    </tr>\n    <tr>\n      <th>pgm</th>\n      <td>IOOS Partners</td>\n    </tr>\n  </tbody>\n</table>"
      }
     },
     "f8bf660672a241368ac374539e08527c": {
      "model_module": "@jupyter-widgets/base",
      "model_module_version": "1.2.0",
      "model_name": "LayoutModel",
      "state": {}
     },
     "f8c1606c01054acfba306da922ed6a3a": {
      "model_module": "jupyter-leaflet",
      "model_module_version": "^0.13.2",
      "model_name": "LeafletAwesomeIconModel",
      "state": {
       "_model_module_version": "^0.13.2",
       "_view_module_version": "^0.13.2",
       "icon_color": "white",
       "marker_color": "orange",
       "name": "life-ring"
      }
     },
     "f98c1d0403d547c2b2269eca07768cc0": {
      "model_module": "@jupyter-widgets/base",
      "model_module_version": "1.2.0",
      "model_name": "LayoutModel",
      "state": {}
     },
     "f99f96e1a19443078a8bc4f1268a3f4c": {
      "model_module": "jupyter-leaflet",
      "model_module_version": "^0.13.2",
      "model_name": "LeafletMarkerModel",
      "state": {
       "_model_module_version": "^0.13.2",
       "_view_module_version": "^0.13.2",
       "draggable": false,
       "icon": "IPY_MODEL_014bd1361d654ae5b37f609c0e1b241d",
       "location": [
        28.936,
        -95.294
       ],
       "options": [
        "alt",
        "draggable",
        "keyboard",
        "rise_offset",
        "rise_on_hover",
        "rotation_angle",
        "rotation_origin",
        "title",
        "z_index_offset"
       ],
       "popup": "IPY_MODEL_cb639409b67344b6a5701e6723fbe5c8"
      }
     },
     "fadad80529704a76a39517605df57704": {
      "model_module": "jupyter-leaflet",
      "model_module_version": "^0.13.2",
      "model_name": "LeafletMarkerModel",
      "state": {
       "_model_module_version": "^0.13.2",
       "_view_module_version": "^0.13.2",
       "draggable": false,
       "icon": "IPY_MODEL_399ffaf6f86c49c6ae8e621a49ac1785",
       "location": [
        58.54,
        -135.047
       ],
       "options": [
        "alt",
        "draggable",
        "keyboard",
        "rise_offset",
        "rise_on_hover",
        "rotation_angle",
        "rotation_origin",
        "title",
        "z_index_offset"
       ],
       "popup": "IPY_MODEL_52cb6d3df5e9484da51f70958922b1ec"
      }
     },
     "fbb2f6dd0f0b4b8484396942ea90998b": {
      "model_module": "@jupyter-widgets/controls",
      "model_module_version": "1.5.0",
      "model_name": "HTMLModel",
      "state": {
       "layout": "IPY_MODEL_c5fcfab7015d40a5a129ee7cd05f44a0",
       "style": "IPY_MODEL_2604e8c52b73404d8e670f845371bb84",
       "value": "<table border=\"1\" class=\"dataframe table table-striped table-hover table-condensed table-responsive\">\n  <thead>\n    <tr style=\"text-align: right;\">\n      <th></th>\n      <th>vcat2</th>\n    </tr>\n  </thead>\n  <tbody>\n    <tr>\n      <th>met</th>\n      <td>183444</td>\n    </tr>\n    <tr>\n      <th>wave</th>\n      <td>0</td>\n    </tr>\n    <tr>\n      <th>type</th>\n      <td>fixed</td>\n    </tr>\n    <tr>\n      <th>name</th>\n      <td>8773259 - Port Lavaca, TX</td>\n    </tr>\n    <tr>\n      <th>pgm</th>\n      <td>IOOS Partners</td>\n    </tr>\n  </tbody>\n</table>"
      }
     },
     "fbff03a7c330459eb10edb5a54b40e36": {
      "model_module": "jupyter-leaflet",
      "model_module_version": "^0.13.2",
      "model_name": "LeafletMarkerModel",
      "state": {
       "_model_module_version": "^0.13.2",
       "_view_module_version": "^0.13.2",
       "draggable": false,
       "icon": "IPY_MODEL_065e3f62ff444004b94ec527d1968b1c",
       "location": [
        55.352,
        -131.684
       ],
       "options": [
        "alt",
        "draggable",
        "keyboard",
        "rise_offset",
        "rise_on_hover",
        "rotation_angle",
        "rotation_origin",
        "title",
        "z_index_offset"
       ],
       "popup": "IPY_MODEL_8e66b04adc7f475a85bd13b39302c034"
      }
     },
     "fc90b893ad0842a087edbffe25fc224a": {
      "model_module": "jupyter-leaflet",
      "model_module_version": "^0.13.2",
      "model_name": "LeafletMarkerModel",
      "state": {
       "_model_module_version": "^0.13.2",
       "_view_module_version": "^0.13.2",
       "draggable": false,
       "icon": "IPY_MODEL_6de86034fdde475094895a088fddcc7b",
       "location": [
        30.058,
        -84.291
       ],
       "options": [
        "alt",
        "draggable",
        "keyboard",
        "rise_offset",
        "rise_on_hover",
        "rotation_angle",
        "rotation_origin",
        "title",
        "z_index_offset"
       ],
       "popup": "IPY_MODEL_5577412b0626493a90d2c904ed2274e7"
      }
     },
     "fd193ff28d18465d9c61968cf8540964": {
      "model_module": "@jupyter-widgets/controls",
      "model_module_version": "1.5.0",
      "model_name": "HTMLModel",
      "state": {
       "layout": "IPY_MODEL_70d17b4ab94c48a799ff22c4e3ed86cd",
       "style": "IPY_MODEL_95bb69d4411f432fa65310cfd1188ad2",
       "value": "<table border=\"1\" class=\"dataframe table table-striped table-hover table-condensed table-responsive\">\n  <thead>\n    <tr style=\"text-align: right;\">\n      <th></th>\n      <th>irdt2</th>\n    </tr>\n  </thead>\n  <tbody>\n    <tr>\n      <th>met</th>\n      <td>177144</td>\n    </tr>\n    <tr>\n      <th>wave</th>\n      <td>0</td>\n    </tr>\n    <tr>\n      <th>type</th>\n      <td>fixed</td>\n    </tr>\n    <tr>\n      <th>name</th>\n      <td>8776139 - South Bird Island, TX</td>\n    </tr>\n    <tr>\n      <th>pgm</th>\n      <td>IOOS Partners</td>\n    </tr>\n  </tbody>\n</table>"
      }
     },
     "fd20ab55f3944f99b2871898dc0bdf72": {
      "model_module": "jupyter-leaflet",
      "model_module_version": "^0.13.2",
      "model_name": "LeafletMarkerModel",
      "state": {
       "_model_module_version": "^0.13.2",
       "_view_module_version": "^0.13.2",
       "draggable": false,
       "icon": "IPY_MODEL_8fa3dae851ce4af6ad90994d4924cab3",
       "location": [
        57.016,
        -134.618
       ],
       "options": [
        "alt",
        "draggable",
        "keyboard",
        "rise_offset",
        "rise_on_hover",
        "rotation_angle",
        "rotation_origin",
        "title",
        "z_index_offset"
       ],
       "popup": "IPY_MODEL_e5dc982c97e44fbfb17545b8d3dc197a"
      }
     },
     "fdbc835f268d499886219e035bb02c0e": {
      "model_module": "@jupyter-widgets/base",
      "model_module_version": "1.2.0",
      "model_name": "LayoutModel",
      "state": {}
     },
     "fddc6d64653146c0ac79e0ab1e437daf": {
      "model_module": "@jupyter-widgets/base",
      "model_module_version": "1.2.0",
      "model_name": "LayoutModel",
      "state": {}
     },
     "fdff20158fb44bc4b3d3d2c68df2308b": {
      "model_module": "jupyter-leaflet",
      "model_module_version": "^0.13.2",
      "model_name": "LeafletMarkerModel",
      "state": {
       "_model_module_version": "^0.13.2",
       "_view_module_version": "^0.13.2",
       "draggable": false,
       "icon": "IPY_MODEL_4d89b6cef30f46f4836d45428e8634e7",
       "location": [
        59.448,
        -135.326
       ],
       "options": [
        "alt",
        "draggable",
        "keyboard",
        "rise_offset",
        "rise_on_hover",
        "rotation_angle",
        "rotation_origin",
        "title",
        "z_index_offset"
       ],
       "popup": "IPY_MODEL_5fa15003c6594b43a26b4e1a5b4e402f"
      }
     },
     "fe65f2271e9548a6af6da0e41e2fb777": {
      "model_module": "jupyter-leaflet",
      "model_module_version": "^0.13.2",
      "model_name": "LeafletAwesomeIconModel",
      "state": {
       "_model_module_version": "^0.13.2",
       "_view_module_version": "^0.13.2",
       "icon_color": "white",
       "marker_color": "red",
       "name": "life-ring"
      }
     },
     "feb82d2fbf894be684f012cd8eb23fad": {
      "model_module": "@jupyter-widgets/controls",
      "model_module_version": "1.5.0",
      "model_name": "DescriptionStyleModel",
      "state": {
       "description_width": ""
      }
     },
     "ff048db60e2b4be58ef84faa9fc70c08": {
      "model_module": "jupyter-leaflet",
      "model_module_version": "^0.13.2",
      "model_name": "LeafletAwesomeIconModel",
      "state": {
       "_model_module_version": "^0.13.2",
       "_view_module_version": "^0.13.2",
       "icon_color": "white",
       "marker_color": "orange",
       "name": "life-ring"
      }
     },
     "ff901f7ffcfe48a3bed0cb22391fc62c": {
      "model_module": "jupyter-leaflet",
      "model_module_version": "^0.13.2",
      "model_name": "LeafletMarkerModel",
      "state": {
       "_model_module_version": "^0.13.2",
       "_view_module_version": "^0.13.2",
       "draggable": false,
       "icon": "IPY_MODEL_0c13d30b6b6a4592963a6e2e7a04fef9",
       "location": [
        46.573,
        -86.572
       ],
       "options": [
        "alt",
        "draggable",
        "keyboard",
        "rise_offset",
        "rise_on_hover",
        "rotation_angle",
        "rotation_origin",
        "title",
        "z_index_offset"
       ],
       "popup": "IPY_MODEL_c831de2bdcfe40f29e3f3ac5ea490974"
      }
     },
     "ffa9f090623b498cb6e549134e4209d4": {
      "model_module": "@jupyter-widgets/controls",
      "model_module_version": "1.5.0",
      "model_name": "HTMLModel",
      "state": {
       "layout": "IPY_MODEL_b1b8df04257c49abaa5aa2b2407d5d34",
       "style": "IPY_MODEL_1e1e4fc476964646be15d28fbd647a43",
       "value": "<table border=\"1\" class=\"dataframe table table-striped table-hover table-condensed table-responsive\">\n  <thead>\n    <tr style=\"text-align: right;\">\n      <th></th>\n      <th>rtat2</th>\n    </tr>\n  </thead>\n  <tbody>\n    <tr>\n      <th>met</th>\n      <td>182252</td>\n    </tr>\n    <tr>\n      <th>wave</th>\n      <td>0</td>\n    </tr>\n    <tr>\n      <th>type</th>\n      <td>fixed</td>\n    </tr>\n    <tr>\n      <th>name</th>\n      <td>8775237 - Port Aransas, TX</td>\n    </tr>\n    <tr>\n      <th>pgm</th>\n      <td>IOOS Partners</td>\n    </tr>\n  </tbody>\n</table>"
      }
     }
    },
    "version_major": 2,
    "version_minor": 0
   }
  }
 },
 "nbformat": 4,
 "nbformat_minor": 4
}
