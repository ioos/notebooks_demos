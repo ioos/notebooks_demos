{
 "cells": [
  {
   "cell_type": "markdown",
   "metadata": {
    "collapsed": true
   },
   "source": [
    "# Using NCEI geoportal REST API to collect information about IOOS Regional Association archived data\n",
    "\n",
    "by Mathew Biddle, Faculty Specialist, UMD/ESSIC/CICS at the NOAA National Centers for Environmental Information (NCEI)\n",
    "\n",
    "### IOOS regional associations archive their non-federal observational data with NOAA's National Center for Environmental Information (NCEI). In this notebook we will use the [RESTful](https://github.com/Esri/geoportal-server/wiki/REST-API-Syntax) services of the [NCEI geoportal](https://www.nodc.noaa.gov/archivesearch/catalog/search/search.page) to collect metadata from the Archival Information Packages found in the NCEI archives. The metadata information are stored in [ISO 19115-2](https://wiki.earthdata.nasa.gov/display/NASAISO/ISO+19115-2) xml files which the NCEI geoportal uses for discovery of Archival Information Packages (AIPs). This example uses the ISO metadata records to display publication information as well as plot the time coverage of each AIP at NCEI which meets the search criteria.\n",
    "\n",
    "First we import the owslib and numpy package. This allows us to parse the ISO xml records and process the information we gather.\n",
    "\n",
    "Initialize a counter for plotting and a list to collect the NCEI Accession identifiers (we use this in the plotting routine). Also, update the namespaces dictionary from owslib to include the appropriate namespace reference for gmi and gml. \n",
    "\n",
    "For more information on ISO Namespaces see:  https://geo-ide.noaa.gov/wiki/index.php?title=ISO_Namespaces"
   ]
  },
  {
   "cell_type": "code",
   "execution_count": 1,
   "metadata": {},
   "outputs": [],
   "source": [
    "from owslib.iso import namespaces\n",
    "\n",
    "# Append gmi namespace to namespaces dictionary.\n",
    "namespaces.update({\"gmi\": \"http://www.isotc211.org/2005/gmi\"})\n",
    "namespaces.update({\"gml\": \"http://www.opengis.net/gml/3.2\"})"
   ]
  },
  {
   "cell_type": "markdown",
   "metadata": {},
   "source": [
    "### Now we select a Regional Association \n",
    "This is where the user identifies the Regional Association they are interested in. Simply uncomment the line that identifies the region of interest. The user can also omit the Regional Association to collect metadata information about all IOOS non-Federal observation data archived through the NCEI-IOOS pipeline."
   ]
  },
  {
   "cell_type": "code",
   "execution_count": 2,
   "metadata": {},
   "outputs": [],
   "source": [
    "# Select RA\n",
    "\n",
    "RAs = {\n",
    "    \"GLOS\": \"Great Lakes Observing System\",\n",
    "    \"SCCOOS\": \"Southern California Coastal Ocean Observing System\",\n",
    "    \"SECOORA\": \"Southeast Coastal Ocean Observing Regional Association\",\n",
    "    \"PacIOOS\": \"Pacific Islands Ocean Observing System\",\n",
    "    \"NANOOS\": \"Northwest Association of Networked Ocean Observing Systems\",\n",
    "}\n",
    "\n",
    "ra = RAs[\"SCCOOS\"]"
   ]
  },
  {
   "cell_type": "markdown",
   "metadata": {},
   "source": [
    "### Next we generate a geoportal query and georss feed\n",
    "To find more information about how to compile a geoportal query, have a look at [REST API Syntax](https://github.com/Esri/geoportal-server/wiki/REST-API-Syntax) and the [NCEI Search Tips](https://www.nodc.noaa.gov/search/granule/catalog/searchtips/searchtips.page) for the [NCEI geoportal](https://data.nodc.noaa.gov/geoportal/catalog/search/search.page). The example provided is specific to the NCEI-IOOS data pipeline project and only searches for non-federal timeseries data collected by each Regional Association. \n",
    "\n",
    "The query developed here can be updated to search for any Archival Information Packages at NCEI, therefore the user should develop the appropriate query using the [NCEI Geoportal](https://data.nodc.noaa.gov/geoportal/catalog/search/search.page) and update this portion of the code to identify the REST API of interest."
   ]
  },
  {
   "cell_type": "code",
   "execution_count": 3,
   "metadata": {},
   "outputs": [
    {
     "name": "stdout",
     "output_type": "stream",
     "text": [
      "Identified response format:\n",
      "https://data.nodc.noaa.gov/geoportal/rest/find/document?searchText=dataThemeprojects%3A%22Integrated%20Ocean%20Observing%20System%20Data%20Assembly%20Centers%20Data%20Stewardship%20Program%22%20AND%20%22Southern%20California%20Coastal%20Ocean%20Observing%20System%22%20AND%20%22FIXED%20PLATFORM%22&start=1&max=1010&f=georss\n",
      "\n",
      "Search page response:\n",
      "https://data.nodc.noaa.gov/geoportal/rest/find/document?searchText=dataThemeprojects%3A%22Integrated%20Ocean%20Observing%20System%20Data%20Assembly%20Centers%20Data%20Stewardship%20Program%22%20AND%20%22Southern%20California%20Coastal%20Ocean%20Observing%20System%22%20AND%20%22FIXED%20PLATFORM%22&start=1&max=1010&f=searchPage\n"
     ]
    }
   ],
   "source": [
    "try:\n",
    "    from urllib.parse import quote\n",
    "except ImportError:\n",
    "    from urllib import quote\n",
    "\n",
    "# Generate geoportal query and georss feed.\n",
    "\n",
    "# Base geoportal url.\n",
    "baseurl = \"https://data.nodc.noaa.gov/\" \"geoportal/rest/find/document\" \"?searchText=\"\n",
    "\n",
    "# Identify the project.\n",
    "project = (\n",
    "    \"dataThemeprojects:\"\n",
    "    '\"Integrated Ocean Observing System '\n",
    "    'Data Assembly Centers Data Stewardship Program\"'\n",
    ")\n",
    "\n",
    "# Identify the Regional Association\n",
    "ra = ' AND \"{}\" '.format(ra)\n",
    "\n",
    "# Identify the platform.\n",
    "platform = 'AND \"FIXED PLATFORM\"'\n",
    "\n",
    "# Identify the amount of records and format of the response: 1 to 1010 records.\n",
    "records = \"&start=1&max=1010\"\n",
    "\n",
    "# Identify the format of the response: georss.\n",
    "response_format = \"&f=georss\"\n",
    "\n",
    "# Combine the URL.\n",
    "url = \"{}{}\".format(baseurl, quote(project + ra + platform) + records + response_format)\n",
    "\n",
    "print(\"Identified response format:\\n{}\".format(url))\n",
    "print(\n",
    "    \"\\nSearch page response:\\n{}\".format(url.replace(response_format, \"&f=searchPage\"))\n",
    ")"
   ]
  },
  {
   "cell_type": "markdown",
   "metadata": {},
   "source": [
    "### Time to query the portal and parse out the georrs response\n",
    "Here we are opening the specified REST API and parsing it into a string. Then, since we identified it as a georss xml format above, we parse it using the etree package. We then pull out all the ISO metadata record links and print them out so the user can browse to the metadata record and look for what items they might be interested in."
   ]
  },
  {
   "cell_type": "code",
   "execution_count": 4,
   "metadata": {},
   "outputs": [
    {
     "name": "stdout",
     "output_type": "stream",
     "text": [
      "Found 4 records\n",
      "https://data.nodc.noaa.gov/geoportal/rest/document?id=%7B39551FC8-BFF1-48A6-9250-18B02A6AC9C6%7D\n",
      "https://data.nodc.noaa.gov/geoportal/rest/document?id=%7B5EBDCCAB-E9ED-4C9D-A3FF-99EB69042DA0%7D\n",
      "https://data.nodc.noaa.gov/geoportal/rest/document?id=%7B18120F26-D96D-4677-8DF8-0A5A8D79EC1B%7D\n",
      "https://data.nodc.noaa.gov/geoportal/rest/document?id=%7BED88A565-52E1-43EF-9C48-F8FAA377107E%7D\n"
     ]
    }
   ],
   "source": [
    "# Query the NCEI Geoportal and parse the georss response.\n",
    "\n",
    "from lxml import etree\n",
    "\n",
    "try:\n",
    "    from urllib.request import urlopen\n",
    "except ImportError:\n",
    "    from urllib import urlopen\n",
    "\n",
    "f = urlopen(url)  # Open georss response.\n",
    "url_string = f.read()  # Read response into string.\n",
    "\n",
    "# Create etree object from georss response.\n",
    "url_root = etree.fromstring(url_string)\n",
    "# Find all iso record links.\n",
    "iso_record = url_root.findall(\"channel/item/link\")\n",
    "print(\"Found %i records\" % len(iso_record))\n",
    "for item in iso_record:\n",
    "    print(item.text)  # URL to ISO19115-2 record."
   ]
  },
  {
   "cell_type": "markdown",
   "metadata": {},
   "source": [
    "### Lets plot up what we have found\n",
    "Now that we have all the ISO metadata records we are interested in, it's time to do something fun with them. In this example we want to generate a timeseries plot of the data coverage for the \"Southern California Coastal Ocean Observing System\" stations we have archived at NCEI.\n",
    "\n",
    "First we set up the figure and import some modules to facilitate plotting and string parsing.\n",
    "\n",
    "Next, we loop through each iso record to collect metadata information about each package. The example here shows how to collect the following items:\n",
    "   1. NCEI Archival Information Package (AIP) Accession ID (7-digit Accession Number) \n",
    "   2. The first date the archive package was published.\n",
    "   3. The platform code identified from the provider.\n",
    "   4. The version number and date it was published.\n",
    "   5. The current AIP size, in MB.\n",
    "   6. The bounding time, for each AIP found.\n",
    "\n",
    "There are plenty of other metadata elements to collect from the ISO records, so we recommend browsing to one of the records and having a look at the items of interest to your community.\n",
    "\n",
    "Then, the process plots each AIP as a timeseries showing the time coverage. "
   ]
  },
  {
   "cell_type": "code",
   "execution_count": 5,
   "metadata": {
    "scrolled": false
   },
   "outputs": [
    {
     "name": "stdout",
     "output_type": "stream",
     "text": [
      "Accession Number = 0157035\n",
      "First published date = 2016-11-23\n",
      "NCEI Accession 0157035 v1.1 = \n",
      "NCEI Accession 0157035 v2.2 = \n",
      "NCEI Accession 0157035 v3.3 = \n",
      "Current AIP Size = 52.084 MB\n",
      "Bounding Time = 2005-06-16 TO 2016-12-31\n",
      "\n",
      "Accession Number = 0157036\n",
      "First published date = 2016-11-23\n",
      "NCEI Accession 0157036 v1.1 = \n",
      "NCEI Accession 0157036 v2.2 = \n",
      "NCEI Accession 0157036 v3.3 = \n",
      "Current AIP Size = 48 MB\n",
      "Bounding Time = 2005-09-16 TO 2016-12-31\n",
      "\n",
      "Accession Number = 0157016\n",
      "First published date = 2016-11-22\n",
      "NCEI Accession 0157016 v1.1 = \n",
      "NCEI Accession 0157016 v2.2 = \n",
      "Current AIP Size = 52.208 MB\n",
      "Bounding Time = 2005-06-16 TO 2015-07-13\n",
      "\n",
      "Accession Number = 0157034\n",
      "First published date = 2016-11-23\n",
      "NCEI Accession 0157034 v1.1 = \n",
      "NCEI Accession 0157034 v2.2 = \n",
      "NCEI Accession 0157034 v3.3 = \n",
      "Current AIP Size = 89.956 MB\n",
      "Bounding Time = 2005-06-16 TO 2016-12-31\n",
      "\n"
     ]
    },
    {
     "data": {
      "image/png": "[encoded data removed]",
      "text/plain": [
       "<matplotlib.figure.Figure at 0x7f8d01cea240>"
      ]
     },
     "metadata": {},
     "output_type": "display_data"
    }
   ],
   "source": [
    "# Process each iso record.\n",
    "%matplotlib inline\n",
    "\n",
    "import re\n",
    "from datetime import datetime\n",
    "\n",
    "import matplotlib.dates as mdates\n",
    "import matplotlib.pyplot as plt\n",
    "import numpy as np\n",
    "from owslib import util\n",
    "\n",
    "fig, ax = plt.subplots(figsize=(15, 12))\n",
    "\n",
    "i = 0\n",
    "accenos = []\n",
    "\n",
    "# For each accession in geo.rss response.\n",
    "for item in iso_record:\n",
    "    # Opens the iso xml web reference.\n",
    "    iso_url = urlopen(item.text)\n",
    "    # Creates tree element.\n",
    "    iso_tree = etree.ElementTree(file=urlopen(item.text))\n",
    "    # Gets the root from tree element.\n",
    "    root = iso_tree.getroot()\n",
    "    # Pulls out identifier string.\n",
    "    ident = root.find(\n",
    "        util.nspath_eval(\"gmd:fileIdentifier/gco:CharacterString\", namespaces)\n",
    "    )\n",
    "    # Pulls out 7-digit accession number from identifier.\n",
    "    acce = re.search(\"[0-9]{7}\", util.testXMLValue(ident))\n",
    "    # Adds accession number to accenos list.\n",
    "    accenos.append(acce.group(0))\n",
    "    print(\"Accession Number = %s\" % acce.group(0))\n",
    "\n",
    "    # Collect Publication date information.\n",
    "    date_path = (\n",
    "        \"gmd:identificationInfo/\"\n",
    "        \"gmd:MD_DataIdentification/\"\n",
    "        \"gmd:citation/\"\n",
    "        \"gmd:CI_Citation/\"\n",
    "        \"gmd:date/\"\n",
    "        \"gmd:CI_Date/\"\n",
    "        \"gmd:date/gco:Date\"\n",
    "    )\n",
    "    # First published date.\n",
    "    pubdate = root.find(util.nspath_eval(date_path, namespaces))\n",
    "    print(\"First published date = %s\" % util.testXMLValue(pubdate))\n",
    "\n",
    "    # Collect Provider Platform Codes (if it has it).\n",
    "    for tag in root.getiterator(util.nspath_eval(\"gco:CharacterString\", namespaces)):\n",
    "        if tag.text == \"Provider Platform Codes\":\n",
    "            # Backs up to the MD_keywords element.\n",
    "            node = tag.getparent().getparent().getparent().getparent()\n",
    "            for item in node.findall(\n",
    "                util.nspath_eval(\"gmd:keyword/gco:CharacterString\", namespaces)\n",
    "            ):\n",
    "                print(\"Provider Platform Code = %s\" % item.text)\n",
    "\n",
    "    # Pull out the version information.\n",
    "    # Iterate through each processing step which is an NCEI version.\n",
    "    for tag in root.getiterator(util.nspath_eval(\"gmd:processStep\", namespaces)):\n",
    "        # Only parse gco:DateTime and gmd:title/gco:CharacterString.\n",
    "        vers_title = (\n",
    "            \"gmi:LE_ProcessStep/\"\n",
    "            \"gmi:output/\"\n",
    "            \"gmi:LE_Source/\"\n",
    "            \"gmd:sourceCitation/\"\n",
    "            \"gmd:CI_Citation/\"\n",
    "            \"gmd:title/gco:CharacterString\"\n",
    "        )\n",
    "        vers_date = \"gmi:LE_ProcessStep/\" \"gmd:dateTime/gco:DateTime\"\n",
    "        if tag.findall(util.nspath_eval(vers_date, namespaces)) and tag.findall(\n",
    "            util.nspath_eval(vers_title, namespaces)\n",
    "        ):\n",
    "            # Extract dateTime for each version.\n",
    "            datetimes = tag.findall(util.nspath_eval(vers_date, namespaces))\n",
    "            # Extract title string (contains version number).\n",
    "            titles = tag.findall(util.nspath_eval(vers_title, namespaces))\n",
    "            print(\n",
    "                \"{} = \".format(\n",
    "                    util.testXMLValue(titles[0]), util.testXMLValue(datetimes[0])\n",
    "                )\n",
    "            )\n",
    "\n",
    "    # Collect package size information.\n",
    "    # Iterate through transfersize nodes.\n",
    "    for tag in root.getiterator(util.nspath_eval(\"gmd:transferSize\", namespaces)):\n",
    "        # Only go into first gco:Real (where size exists).\n",
    "        if tag.find(util.nspath_eval(\"gco:Real\", namespaces)).text:\n",
    "            # Extract size.\n",
    "            sizes = tag.find(util.nspath_eval(\"gco:Real\", namespaces))\n",
    "            print(\"Current AIP Size = %s MB\" % sizes.text)\n",
    "            break\n",
    "        # Only use first size instance, all gco:Real attributes are the same.\n",
    "        break\n",
    "\n",
    "    # Bounding time for AIP.\n",
    "    for tag in root.getiterator(util.nspath_eval(\"gml:TimePeriod\", namespaces)):\n",
    "        # If text exists in begin or end position nodes.\n",
    "        if (\n",
    "            tag.find(util.nspath_eval(\"gml:beginPosition\", namespaces)).text\n",
    "            and tag.find(util.nspath_eval(\"gml:endPosition\", namespaces)).text\n",
    "        ):\n",
    "            start_date = tag.find(\n",
    "                util.nspath_eval(\"gml:beginPosition\", namespaces)\n",
    "            ).text\n",
    "            end_date = tag.find(util.nspath_eval(\"gml:endPosition\", namespaces)).text\n",
    "    print(\"Bounding Time = %s TO %s\\n\" % (start_date, end_date))\n",
    "\n",
    "    # Plotting routine for each accession, plot start-end as timeseries for each accession.\n",
    "    # Create datetime objects for start_date and end_date.\n",
    "    date1 = datetime(\n",
    "        int(start_date.split(\"-\")[0]),\n",
    "        int(start_date.split(\"-\")[1]),\n",
    "        int(start_date.split(\"-\")[2]),\n",
    "    )\n",
    "    date2 = datetime(\n",
    "        int(end_date.split(\"-\")[0]),\n",
    "        int(end_date.split(\"-\")[1]),\n",
    "        int(end_date.split(\"-\")[2]),\n",
    "    )\n",
    "    dates = [date1, date2]\n",
    "    i += 1  # Counter for plotting.\n",
    "    y = [i, i]\n",
    "    # Plot the timeseries.\n",
    "    ax.plot_date(x=dates, y=y, fmt=\"-\", color=\"b\", linewidth=6.0)\n",
    "\n",
    "# Clean up the plot.\n",
    "ax.set_ylim([0, i + 1])\n",
    "years = mdates.YearLocator()\n",
    "months = mdates.MonthLocator()\n",
    "yearsFmt = mdates.DateFormatter(\"%Y\")\n",
    "ax.xaxis.grid(True)\n",
    "ax.xaxis.set_major_locator(years)\n",
    "ax.xaxis.set_major_formatter(yearsFmt)  # Format the xaxis labels.\n",
    "ax.xaxis.set_minor_locator(months)\n",
    "ax.xaxis.set_ticks_position(\"bottom\")\n",
    "ax.yaxis.grid(True)\n",
    "ax.set(yticks=np.arange(1, len(accenos) + 1))\n",
    "ax.tick_params(which=\"both\", direction=\"out\")\n",
    "ax.set_yticklabels(accenos)\n",
    "plt.ylabel(\"NCEI Accession Number\")\n",
    "title = ax.set_title(\"%s Data Archived at NCEI\" % ra)"
   ]
  },
  {
   "cell_type": "markdown",
   "metadata": {
    "collapsed": true
   },
   "source": [
    "This procedure has been developed as an example of how to use NCEI's geoportal REST API's to collect information about packages that have been archived at NCEI. The intention is to provide some guidance and ways to collect this information without having to request it directly from NCEI. There are a significant amount of metadata elements which NCEI makes available through their ISO metadata records. Therefore, anyone interested in collecting other information from the records at NCEI should have a look at the ISO metadata records and determine which items are of interest to their community. Then, update the example code provided to collect that information.\n"
   ]
  }
 ],
 "metadata": {
  "anaconda-cloud": {},
  "celltoolbar": "Raw Cell Format",
  "kernelspec": {
   "display_name": "Python 3",
   "language": "python",
   "name": "python3"
  },
  "language_info": {
   "codemirror_mode": {
    "name": "ipython",
    "version": 3
   },
   "file_extension": ".py",
   "mimetype": "text/x-python",
   "name": "python",
   "nbconvert_exporter": "python",
   "pygments_lexer": "ipython3",
   "version": "3.9.1"
  }
 },
 "nbformat": 4,
 "nbformat_minor": 1
}
