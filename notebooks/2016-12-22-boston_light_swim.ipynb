{
 "cells": [
  {
   "cell_type": "markdown",
   "metadata": {},
   "source": [
    "# The Boston Light Swim temperature analysis with Python\n",
    "\n",
    "In the past we demonstrated how to perform a CSW catalog search with [`OWSLib`](https://ioos.github.io/notebooks_demos//notebooks/2016-12-19-exploring_csw),\n",
    "and how to obtain near real-time data with [`pyoos`](https://ioos.github.io/notebooks_demos//notebooks/2016-10-12-fetching_data).\n",
    "In this notebook we will use both to find all observations and model data around the Boston Harbor to access the sea water temperature.\n",
    "\n",
    "\n",
    "This workflow is part of an example to advise swimmers of the annual [Boston lighthouse swim](http://bostonlightswim.org/) of the Boston Harbor water temperature conditions prior to the race. For more information regarding the workflow presented here see [Signell, Richard P.; Fernandes, Filipe; Wilcox, Kyle.   2016. \"Dynamic Reusable Workflows for Ocean Science.\" *J. Mar. Sci. Eng.* 4, no. 4: 68](http://dx.doi.org/10.3390/jmse4040068)."
   ]
  },
  {
   "cell_type": "code",
   "execution_count": 1,
   "metadata": {
    "collapsed": true
   },
   "outputs": [],
   "source": [
    "import warnings\n",
    "\n",
    "# Suppresing warnings for a \"pretty output.\"\n",
    "warnings.simplefilter('ignore')"
   ]
  },
  {
   "cell_type": "markdown",
   "metadata": {},
   "source": [
    "This notebook is quite big and complex,\n",
    "so to help us keep things organized we'll define a cell with the most important options and switches.\n",
    "\n",
    "Below we can define the date,\n",
    "bounding box, phenomena `SOS` and `CF` names and units,\n",
    "and the catalogs we will search."
   ]
  },
  {
   "cell_type": "code",
   "execution_count": 2,
   "metadata": {},
   "outputs": [
    {
     "name": "stdout",
     "output_type": "stream",
     "text": [
      "Overwriting config.yaml\n"
     ]
    }
   ],
   "source": [
    "%%writefile config.yaml\n",
    "\n",
    "# Specify a YYYY-MM-DD hh:mm:ss date or integer day offset.\n",
    "# If both start and stop are offsets they will be computed relative to datetime.today() at midnight.\n",
    "# Use the dates commented below to reproduce the last Boston Light Swim event forecast.\n",
    "date:\n",
    "    start: -5 # 2016-8-16 00:00:00\n",
    "    stop: +4 # 2016-8-29 00:00:00\n",
    "\n",
    "run_name: 'latest'\n",
    "\n",
    "# Boston harbor.\n",
    "region:\n",
    "    bbox: [-71.3, 42.03, -70.57, 42.63]\n",
    "    # Try the bounding box below to see how the notebook will behave for a different region.\n",
    "    #bbox: [-74.5, 40, -72., 41.5]\n",
    "    crs: 'urn:ogc:def:crs:OGC:1.3:CRS84'\n",
    "\n",
    "sos_name: 'sea_water_temperature'\n",
    "\n",
    "cf_names:\n",
    "    - sea_water_temperature\n",
    "    - sea_surface_temperature\n",
    "    - sea_water_potential_temperature\n",
    "    - equivalent_potential_temperature\n",
    "    - sea_water_conservative_temperature\n",
    "    - pseudo_equivalent_potential_temperature\n",
    "\n",
    "units: 'celsius'\n",
    "\n",
    "catalogs:\n",
    "    - https://data.ioos.us/csw\n",
    "    - https://gamone.whoi.edu/csw"
   ]
  },
  {
   "cell_type": "markdown",
   "metadata": {},
   "source": [
    "We'll print some of the search configuration options along the way to keep track of them."
   ]
  },
  {
   "cell_type": "code",
   "execution_count": 3,
   "metadata": {},
   "outputs": [
    {
     "name": "stdout",
     "output_type": "stream",
     "text": [
      "Saving data inside directory /home/filipe/IOOS/notebooks_demos/notebooks/latest\n",
      "*********************** Run information ************************\n",
      "Run date: 2017-08-22 12:25:10\n",
      "Start: 2017-08-17 00:00:00\n",
      "Stop: 2017-08-26 00:00:00\n",
      "Bounding box: -71.30, 42.03,-70.57, 42.63\n"
     ]
    }
   ],
   "source": [
    "import os\n",
    "import shutil\n",
    "from datetime import datetime\n",
    "from ioos_tools.ioos import parse_config\n",
    "\n",
    "config = parse_config('config.yaml')\n",
    "\n",
    "# Saves downloaded data into a temporary directory.\n",
    "save_dir = os.path.abspath(config['run_name'])\n",
    "if os.path.exists(save_dir):\n",
    "    shutil.rmtree(save_dir)\n",
    "os.makedirs(save_dir)\n",
    "\n",
    "fmt = '{:*^64}'.format\n",
    "print(fmt('Saving data inside directory {}'.format(save_dir)))\n",
    "print(fmt(' Run information '))\n",
    "print('Run date: {:%Y-%m-%d %H:%M:%S}'.format(datetime.utcnow()))\n",
    "print('Start: {:%Y-%m-%d %H:%M:%S}'.format(config['date']['start']))\n",
    "print('Stop: {:%Y-%m-%d %H:%M:%S}'.format(config['date']['stop']))\n",
    "print('Bounding box: {0:3.2f}, {1:3.2f},'\n",
    "      '{2:3.2f}, {3:3.2f}'.format(*config['region']['bbox']))"
   ]
  },
  {
   "cell_type": "markdown",
   "metadata": {},
   "source": [
    "We already created an `OWSLib.fes` filter [before](https://ioos.github.io/notebooks_demos//notebooks/2016-12-19-exploring_csw).\n",
    "The main difference here is that we do not want the atmosphere model data,\n",
    "so we are filtering out all the `GRIB-2` data format."
   ]
  },
  {
   "cell_type": "code",
   "execution_count": 4,
   "metadata": {
    "collapsed": true
   },
   "outputs": [],
   "source": [
    "def make_filter(config):\n",
    "    from owslib import fes\n",
    "    from ioos_tools.ioos import fes_date_filter\n",
    "    kw = dict(wildCard='*', escapeChar='\\\\',\n",
    "              singleChar='?', propertyname='apiso:AnyText')\n",
    "\n",
    "    or_filt = fes.Or([fes.PropertyIsLike(literal=('*%s*' % val), **kw)\n",
    "                      for val in config['cf_names']])\n",
    "\n",
    "    not_filt = fes.Not([fes.PropertyIsLike(literal='GRIB-2', **kw)])\n",
    "\n",
    "    begin, end = fes_date_filter(config['date']['start'],\n",
    "                                 config['date']['stop'])\n",
    "    bbox_crs = fes.BBox(config['region']['bbox'],\n",
    "                        crs=config['region']['crs'])\n",
    "    filter_list = [fes.And([bbox_crs, begin, end, or_filt, not_filt])]\n",
    "    return filter_list\n",
    "\n",
    "\n",
    "filter_list = make_filter(config)"
   ]
  },
  {
   "cell_type": "markdown",
   "metadata": {},
   "source": [
    "In the cell below we ask the catalog for all the returns that match the filter and have an OPeNDAP endpoint."
   ]
  },
  {
   "cell_type": "code",
   "execution_count": 5,
   "metadata": {
    "code_folding": [],
    "scrolled": false
   },
   "outputs": [
    {
     "name": "stdout",
     "output_type": "stream",
     "text": [
      "********************* Catalog information **********************\n",
      "URL: https://data.ioos.us/csw\n",
      "Number of datasets available: 14\n",
      "NECOFS Massachusetts (FVCOM) - Boston - Latest Forecast\n",
      "NECOFS Massachusetts (FVCOM) - Massachusetts Coastal - Latest Forecast\n",
      "NERACOOS Gulf of Maine Ocean Array: Realtime Buoy Observations: A01 Massachusetts Bay: A01 ACCELEROMETER Massachusetts Bay\n",
      "NOAA Coral Reef Watch Operational Daily Near-Real-Time Global 5-km Satellite Coral Bleaching Monitoring Products\n",
      "COAWST Modeling System: USEast: ROMS-WRF-SWAN coupled model (aka CNAPS)\n",
      "Coupled Northwest Atlantic Prediction System (CNAPS)\n",
      "Directional wave and sea surface temperature measurements collected in situ by Datawell Mark 3 directional buoy located near CLATSOP SPIT, OR from 2016/10/12 17:00:00 to 2017/08/21 18:00:52.\n",
      "Directional wave and sea surface temperature measurements collected in situ by Datawell Mark 3 directional buoy located near LAKESIDE, OR from 2017/03/31 23:00:00 to 2017/08/21 17:31:10.\n",
      "Directional wave and sea surface temperature measurements collected in situ by Datawell Mark 3 directional buoy located near LOWER COOK INLET, AK from 2016/12/16 00:00:00 to 2017/08/21 18:09:36.\n",
      "Directional wave and sea surface temperature measurements collected in situ by Datawell Mark 3 directional buoy located near OCEAN STATION PAPA from 2015/01/01 01:00:00 to 2017/08/21 17:41:35.\n",
      "Directional wave and sea surface temperature measurements collected in situ by Datawell Mark 3 directional buoy located near SCRIPPS NEARSHORE, CA from 2015/01/07 23:00:00 to 2017/08/21 18:00:34.\n",
      "HYbrid Coordinate Ocean Model (HYCOM): Global\n",
      "NECOFS (FVCOM) - Scituate - Latest Forecast\n",
      "NECOFS GOM3 (FVCOM) - Northeast US - Latest Forecast\n",
      "***************************** DAP ******************************\n",
      "http://oos.soest.hawaii.edu/thredds/dodsC/hioos/satellite/dhw_5km.html\n",
      "http://oos.soest.hawaii.edu/thredds/dodsC/pacioos/hycom/global.html\n",
      "http://thredds.cdip.ucsd.edu/thredds/dodsC/cdip/realtime/162p1_rt.nc.html\n",
      "http://thredds.cdip.ucsd.edu/thredds/dodsC/cdip/realtime/166p1_rt.nc.html\n",
      "http://thredds.cdip.ucsd.edu/thredds/dodsC/cdip/realtime/201p1_rt.nc.html\n",
      "http://thredds.cdip.ucsd.edu/thredds/dodsC/cdip/realtime/204p1_rt.nc.html\n",
      "http://thredds.cdip.ucsd.edu/thredds/dodsC/cdip/realtime/231p1_rt.nc.html\n",
      "http://thredds.secoora.org/thredds/dodsC/SECOORA_NCSU_CNAPS.nc.html\n",
      "http://www.neracoos.org/thredds/dodsC/UMO/DSG/SOS/A01/Accelerometer/HistoricRealtime/Agg.ncml.html\n",
      "http://www.smast.umassd.edu:8080/thredds/dodsC/FVCOM/NECOFS/Forecasts/NECOFS_FVCOM_OCEAN_BOSTON_FORECAST.nc.html\n",
      "http://www.smast.umassd.edu:8080/thredds/dodsC/FVCOM/NECOFS/Forecasts/NECOFS_FVCOM_OCEAN_MASSBAY_FORECAST.nc.html\n",
      "http://www.smast.umassd.edu:8080/thredds/dodsC/FVCOM/NECOFS/Forecasts/NECOFS_FVCOM_OCEAN_SCITUATE_FORECAST.nc.html\n",
      "http://www.smast.umassd.edu:8080/thredds/dodsC/FVCOM/NECOFS/Forecasts/NECOFS_GOM3_FORECAST.nc.html\n",
      "\n",
      "\n",
      "URL: https://gamone.whoi.edu/csw\n",
      "Number of datasets available: 2\n",
      "COAWST Forecast System : USGS : US East Coast and Gulf of Mexico (Experimental)\n",
      "COAWST Modeling System: USEast: ROMS-WRF-SWAN coupled model (aka CNAPS)\n",
      "***************************** DAP ******************************\n",
      "http://geoport-dev.whoi.edu/thredds/dodsC/coawst_4/use/fmrc/coawst_4_use_best.ncd.html\n",
      "\n",
      "\n"
     ]
    }
   ],
   "source": [
    "from ioos_tools.ioos import service_urls, get_csw_records\n",
    "from owslib.csw import CatalogueServiceWeb\n",
    "\n",
    "\n",
    "dap_urls = []\n",
    "print(fmt(' Catalog information '))\n",
    "for endpoint in config['catalogs']:\n",
    "    print('URL: {}'.format(endpoint))\n",
    "    try:\n",
    "        csw = CatalogueServiceWeb(endpoint, timeout=120)\n",
    "    except Exception as e:\n",
    "        print('{}'.format(e))\n",
    "        continue\n",
    "    csw = get_csw_records(csw, filter_list, esn='full')\n",
    "    OPeNDAP = service_urls(csw.records, identifier='OPeNDAP:OPeNDAP')\n",
    "    odp = service_urls(csw.records, identifier='urn:x-esri:specification:ServiceType:odp:url')\n",
    "    dap = OPeNDAP + odp\n",
    "    dap_urls.extend(dap)\n",
    "\n",
    "    print('Number of datasets available: {}'.format(len(csw.records.keys())))\n",
    "\n",
    "    for rec, item in csw.records.items():\n",
    "        print('{}'.format(item.title))\n",
    "    if dap:\n",
    "        print(fmt(' DAP '))\n",
    "        for url in dap:\n",
    "            print('{}.html'.format(url))\n",
    "    print('\\n')\n",
    "\n",
    "# Get only unique endpoints.\n",
    "dap_urls = list(set(dap_urls))"
   ]
  },
  {
   "cell_type": "markdown",
   "metadata": {},
   "source": [
    "We found some models, and observations from NERACOOS there.\n",
    "However, we do know that there are some buoys from NDBC and CO-OPS available too.\n",
    "Also, those NERACOOS observations seem to be from a [CTD](http://www.neracoos.org/thredds/dodsC/UMO/DSG/SOS/A01/CTD1m/HistoricRealtime/Agg.ncml.html) mounted at 65 meters below the sea surface. Rendering them useless from our purpose.\n",
    "\n",
    "So let's use the catalog only for the models by filtering the observations with `is_station` below.\n",
    "And we'll rely `CO-OPS` and `NDBC` services for the observations."
   ]
  },
  {
   "cell_type": "code",
   "execution_count": 6,
   "metadata": {},
   "outputs": [
    {
     "name": "stdout",
     "output_type": "stream",
     "text": [
      "************************* Filtered DAP *************************\n",
      "http://www.smast.umassd.edu:8080/thredds/dodsC/FVCOM/NECOFS/Forecasts/NECOFS_FVCOM_OCEAN_BOSTON_FORECAST.nc.html\n",
      "http://thredds.secoora.org/thredds/dodsC/SECOORA_NCSU_CNAPS.nc.html\n",
      "http://www.smast.umassd.edu:8080/thredds/dodsC/FVCOM/NECOFS/Forecasts/NECOFS_FVCOM_OCEAN_SCITUATE_FORECAST.nc.html\n",
      "http://geoport-dev.whoi.edu/thredds/dodsC/coawst_4/use/fmrc/coawst_4_use_best.ncd.html\n",
      "http://www.smast.umassd.edu:8080/thredds/dodsC/FVCOM/NECOFS/Forecasts/NECOFS_FVCOM_OCEAN_MASSBAY_FORECAST.nc.html\n",
      "http://www.smast.umassd.edu:8080/thredds/dodsC/FVCOM/NECOFS/Forecasts/NECOFS_GOM3_FORECAST.nc.html\n",
      "http://oos.soest.hawaii.edu/thredds/dodsC/pacioos/hycom/global.html\n",
      "http://oos.soest.hawaii.edu/thredds/dodsC/hioos/satellite/dhw_5km.html\n"
     ]
    }
   ],
   "source": [
    "from ioos_tools.ioos import is_station\n",
    "\n",
    "# Filter out some station endpoints.\n",
    "non_stations = []\n",
    "for url in dap_urls:\n",
    "    try:\n",
    "        if not is_station(url):\n",
    "            non_stations.append(url)\n",
    "    except (RuntimeError, OSError, IOError) as e:\n",
    "        print('Could not access URL {}. {!r}'.format(url, e))\n",
    "\n",
    "dap_urls = non_stations\n",
    "\n",
    "print(fmt(' Filtered DAP '))\n",
    "for url in dap_urls:\n",
    "    print('{}.html'.format(url))"
   ]
  },
  {
   "cell_type": "markdown",
   "metadata": {},
   "source": [
    "Now we can use `pyoos` collectors for `NdbcSos`,"
   ]
  },
  {
   "cell_type": "code",
   "execution_count": 7,
   "metadata": {},
   "outputs": [
    {
     "name": "stdout",
     "output_type": "stream",
     "text": [
      "******************* NDBC Collector offerings *******************\n",
      "National Data Buoy Center SOS: 992 offerings\n"
     ]
    }
   ],
   "source": [
    "from pyoos.collectors.ndbc.ndbc_sos import NdbcSos\n",
    "\n",
    "collector_ndbc = NdbcSos()\n",
    "\n",
    "collector_ndbc.set_bbox(config['region']['bbox'])\n",
    "collector_ndbc.end_time = config['date']['stop']\n",
    "collector_ndbc.start_time = config['date']['start']\n",
    "collector_ndbc.variables = [config['sos_name']]\n",
    "\n",
    "ofrs = collector_ndbc.server.offerings\n",
    "title = collector_ndbc.server.identification.title\n",
    "print(fmt(' NDBC Collector offerings '))\n",
    "print('{}: {} offerings'.format(title, len(ofrs)))"
   ]
  },
  {
   "cell_type": "code",
   "execution_count": 8,
   "metadata": {},
   "outputs": [
    {
     "data": {
      "text/html": [
       "<div>\n",
       "<style>\n",
       "    .dataframe thead tr:only-child th {\n",
       "        text-align: right;\n",
       "    }\n",
       "\n",
       "    .dataframe thead th {\n",
       "        text-align: left;\n",
       "    }\n",
       "\n",
       "    .dataframe tbody tr th {\n",
       "        vertical-align: top;\n",
       "    }\n",
       "</style>\n",
       "<table border=\"1\" class=\"dataframe\">\n",
       "  <thead>\n",
       "    <tr style=\"text-align: right;\">\n",
       "      <th></th>\n",
       "      <th>depth</th>\n",
       "      <th>lat</th>\n",
       "      <th>lon</th>\n",
       "      <th>sensor</th>\n",
       "      <th>station_name</th>\n",
       "    </tr>\n",
       "    <tr>\n",
       "      <th>station_code</th>\n",
       "      <th></th>\n",
       "      <th></th>\n",
       "      <th></th>\n",
       "      <th></th>\n",
       "      <th></th>\n",
       "    </tr>\n",
       "  </thead>\n",
       "  <tbody>\n",
       "    <tr>\n",
       "      <th>44013</th>\n",
       "      <td>0.6</td>\n",
       "      <td>42.346</td>\n",
       "      <td>-70.651</td>\n",
       "      <td>urn:ioos:sensor:wmo:44013::watertemp1</td>\n",
       "      <td>BOSTON 16 NM East of Boston, MA</td>\n",
       "    </tr>\n",
       "  </tbody>\n",
       "</table>\n",
       "</div>"
      ],
      "text/plain": [
       "              depth     lat     lon                                 sensor  \\\n",
       "station_code                                                                 \n",
       "44013           0.6  42.346 -70.651  urn:ioos:sensor:wmo:44013::watertemp1   \n",
       "\n",
       "                                 station_name  \n",
       "station_code                                   \n",
       "44013         BOSTON 16 NM East of Boston, MA  "
      ]
     },
     "execution_count": 8,
     "metadata": {},
     "output_type": "execute_result"
    }
   ],
   "source": [
    "import pandas as pd\n",
    "from ioos_tools.ioos import collector2table\n",
    "\n",
    "ndbc = collector2table(collector=collector_ndbc,\n",
    "                       config=config,\n",
    "                       col='sea_water_temperature (C)')\n",
    "\n",
    "if ndbc:\n",
    "    data = dict(\n",
    "        station_name=[s._metadata.get('station_name') for s in ndbc],\n",
    "        station_code=[s._metadata.get('station_code') for s in ndbc],\n",
    "        sensor=[s._metadata.get('sensor') for s in ndbc],\n",
    "        lon=[s._metadata.get('lon') for s in ndbc],\n",
    "        lat=[s._metadata.get('lat') for s in ndbc],\n",
    "        depth=[s._metadata.get('depth') for s in ndbc],\n",
    "    )\n",
    "\n",
    "table = pd.DataFrame(data).set_index('station_code')\n",
    "table"
   ]
  },
  {
   "cell_type": "markdown",
   "metadata": {},
   "source": [
    "and `CoopsSos`."
   ]
  },
  {
   "cell_type": "code",
   "execution_count": 9,
   "metadata": {},
   "outputs": [
    {
     "name": "stdout",
     "output_type": "stream",
     "text": [
      "********************* Collector offerings **********************\n",
      "NOAA.NOS.CO-OPS SOS: 1188 offerings\n"
     ]
    }
   ],
   "source": [
    "from pyoos.collectors.coops.coops_sos import CoopsSos\n",
    "\n",
    "collector_coops = CoopsSos()\n",
    "\n",
    "collector_coops.set_bbox(config['region']['bbox'])\n",
    "collector_coops.end_time = config['date']['stop']\n",
    "collector_coops.start_time = config['date']['start']\n",
    "collector_coops.variables = [config['sos_name']]\n",
    "\n",
    "ofrs = collector_coops.server.offerings\n",
    "title = collector_coops.server.identification.title\n",
    "print(fmt(' Collector offerings '))\n",
    "print('{}: {} offerings'.format(title, len(ofrs)))"
   ]
  },
  {
   "cell_type": "code",
   "execution_count": 10,
   "metadata": {
    "scrolled": true
   },
   "outputs": [
    {
     "data": {
      "text/html": [
       "<div>\n",
       "<style>\n",
       "    .dataframe thead tr:only-child th {\n",
       "        text-align: right;\n",
       "    }\n",
       "\n",
       "    .dataframe thead th {\n",
       "        text-align: left;\n",
       "    }\n",
       "\n",
       "    .dataframe tbody tr th {\n",
       "        vertical-align: top;\n",
       "    }\n",
       "</style>\n",
       "<table border=\"1\" class=\"dataframe\">\n",
       "  <thead>\n",
       "    <tr style=\"text-align: right;\">\n",
       "      <th></th>\n",
       "      <th>depth</th>\n",
       "      <th>lat</th>\n",
       "      <th>lon</th>\n",
       "      <th>sensor</th>\n",
       "      <th>station_name</th>\n",
       "    </tr>\n",
       "    <tr>\n",
       "      <th>station_code</th>\n",
       "      <th></th>\n",
       "      <th></th>\n",
       "      <th></th>\n",
       "      <th></th>\n",
       "      <th></th>\n",
       "    </tr>\n",
       "  </thead>\n",
       "  <tbody>\n",
       "    <tr>\n",
       "      <th>44013</th>\n",
       "      <td>0.6</td>\n",
       "      <td>42.346</td>\n",
       "      <td>-70.651</td>\n",
       "      <td>urn:ioos:sensor:wmo:44013::watertemp1</td>\n",
       "      <td>BOSTON 16 NM East of Boston, MA</td>\n",
       "    </tr>\n",
       "  </tbody>\n",
       "</table>\n",
       "</div>"
      ],
      "text/plain": [
       "              depth     lat     lon                                 sensor  \\\n",
       "station_code                                                                 \n",
       "44013           0.6  42.346 -70.651  urn:ioos:sensor:wmo:44013::watertemp1   \n",
       "\n",
       "                                 station_name  \n",
       "station_code                                   \n",
       "44013         BOSTON 16 NM East of Boston, MA  "
      ]
     },
     "execution_count": 10,
     "metadata": {},
     "output_type": "execute_result"
    }
   ],
   "source": [
    "coops = collector2table(collector=collector_coops,\n",
    "                        config=config,\n",
    "                        col='sea_water_temperature (C)')\n",
    "\n",
    "if coops:\n",
    "    data = dict(\n",
    "        station_name=[s._metadata.get('station_name') for s in coops],\n",
    "        station_code=[s._metadata.get('station_code') for s in coops],\n",
    "        sensor=[s._metadata.get('sensor') for s in coops],\n",
    "        lon=[s._metadata.get('lon') for s in coops],\n",
    "        lat=[s._metadata.get('lat') for s in coops],\n",
    "        depth=[s._metadata.get('depth') for s in coops],\n",
    "    )\n",
    "\n",
    "table = pd.DataFrame(data).set_index('station_code')\n",
    "table"
   ]
  },
  {
   "cell_type": "markdown",
   "metadata": {},
   "source": [
    "We will join all the observations into an uniform series, interpolated to 1-hour interval, for the model-data comparison.\n",
    "\n",
    "This step is necessary because the observations can be 7 or 10 minutes resolution,\n",
    "while the models can be 30 to 60 minutes."
   ]
  },
  {
   "cell_type": "code",
   "execution_count": 11,
   "metadata": {
    "collapsed": true,
    "scrolled": true
   },
   "outputs": [],
   "source": [
    "data = ndbc + coops\n",
    "\n",
    "index = pd.date_range(start=config['date']['start'].replace(tzinfo=None),\n",
    "                      end=config['date']['stop'].replace(tzinfo=None),\n",
    "                      freq='1H')\n",
    "\n",
    "# Preserve metadata with `reindex`.\n",
    "observations = []\n",
    "for series in data:\n",
    "    _metadata = series._metadata\n",
    "    obs = series.reindex(index=index, limit=1, method='nearest')\n",
    "    obs._metadata = _metadata\n",
    "    observations.append(obs)"
   ]
  },
  {
   "cell_type": "markdown",
   "metadata": {},
   "source": [
    "In this next cell we will save the data for quicker access later."
   ]
  },
  {
   "cell_type": "code",
   "execution_count": 12,
   "metadata": {
    "collapsed": true,
    "scrolled": false
   },
   "outputs": [],
   "source": [
    "import iris\n",
    "from ioos_tools.tardis import series2cube\n",
    "\n",
    "attr = dict(\n",
    "    featureType='timeSeries',\n",
    "    Conventions='CF-1.6',\n",
    "    standard_name_vocabulary='CF-1.6',\n",
    "    cdm_data_type='Station',\n",
    "    comment='Data from http://opendap.co-ops.nos.noaa.gov'\n",
    ")\n",
    "\n",
    "\n",
    "cubes = iris.cube.CubeList(\n",
    "    [series2cube(obs, attr=attr) for obs in observations]\n",
    ")\n",
    "\n",
    "outfile = os.path.join(save_dir, 'OBS_DATA.nc')\n",
    "iris.save(cubes, outfile)"
   ]
  },
  {
   "cell_type": "markdown",
   "metadata": {},
   "source": [
    "Taking a quick look at the observations:"
   ]
  },
  {
   "cell_type": "code",
   "execution_count": 13,
   "metadata": {},
   "outputs": [
    {
     "data": {
      "image/png": "[encoded data removed]",
      "text/plain": [
       "<matplotlib.figure.Figure at 0x7fca3ef33e48>"
      ]
     },
     "metadata": {},
     "output_type": "display_data"
    }
   ],
   "source": [
    "%matplotlib inline\n",
    "\n",
    "ax = pd.concat(data).plot(figsize=(11, 2.25))"
   ]
  },
  {
   "cell_type": "markdown",
   "metadata": {},
   "source": [
    "Now it is time to loop the models we found above,"
   ]
  },
  {
   "cell_type": "code",
   "execution_count": 14,
   "metadata": {},
   "outputs": [
    {
     "name": "stdout",
     "output_type": "stream",
     "text": [
      "**************************** Models ****************************\n",
      "\n",
      "[Reading url 1/8]: http://www.smast.umassd.edu:8080/thredds/dodsC/FVCOM/NECOFS/Forecasts/NECOFS_FVCOM_OCEAN_BOSTON_FORECAST.nc\n",
      "\n",
      "[Reading url 2/8]: http://thredds.secoora.org/thredds/dodsC/SECOORA_NCSU_CNAPS.nc\n",
      "\n",
      "[Reading url 3/8]: http://www.smast.umassd.edu:8080/thredds/dodsC/FVCOM/NECOFS/Forecasts/NECOFS_FVCOM_OCEAN_SCITUATE_FORECAST.nc\n",
      "\n",
      "[Reading url 4/8]: http://geoport-dev.whoi.edu/thredds/dodsC/coawst_4/use/fmrc/coawst_4_use_best.ncd\n",
      "\n",
      "[Reading url 5/8]: http://www.smast.umassd.edu:8080/thredds/dodsC/FVCOM/NECOFS/Forecasts/NECOFS_FVCOM_OCEAN_MASSBAY_FORECAST.nc\n",
      "\n",
      "[Reading url 6/8]: http://www.smast.umassd.edu:8080/thredds/dodsC/FVCOM/NECOFS/Forecasts/NECOFS_GOM3_FORECAST.nc\n",
      "\n",
      "[Reading url 7/8]: http://oos.soest.hawaii.edu/thredds/dodsC/pacioos/hycom/global\n",
      "\n",
      "[Reading url 8/8]: http://oos.soest.hawaii.edu/thredds/dodsC/hioos/satellite/dhw_5km\n"
     ]
    }
   ],
   "source": [
    "from iris.exceptions import (CoordinateNotFoundError, ConstraintMismatchError,\n",
    "                             MergeError)\n",
    "from ioos_tools.ioos import get_model_name\n",
    "from ioos_tools.tardis import quick_load_cubes, proc_cube, is_model, get_surface\n",
    "\n",
    "print(fmt(' Models '))\n",
    "cubes = dict()\n",
    "for k, url in enumerate(dap_urls):\n",
    "    print('\\n[Reading url {}/{}]: {}'.format(k+1, len(dap_urls), url))\n",
    "    try:\n",
    "        cube = quick_load_cubes(url, config['cf_names'],\n",
    "                                callback=None, strict=True)\n",
    "        if is_model(cube):\n",
    "            cube = proc_cube(cube,\n",
    "                             bbox=config['region']['bbox'],\n",
    "                             time=(config['date']['start'],\n",
    "                                   config['date']['stop']),\n",
    "                             units=config['units'])\n",
    "        else:\n",
    "            print('[Not model data]: {}'.format(url))\n",
    "            continue\n",
    "        cube = get_surface(cube)\n",
    "        mod_name = get_model_name(url)\n",
    "        cubes.update({mod_name: cube})\n",
    "    except (RuntimeError, ValueError,\n",
    "            ConstraintMismatchError, CoordinateNotFoundError,\n",
    "            IndexError) as e:\n",
    "        print('Cannot get cube for: {}\\n{}'.format(url, e))"
   ]
  },
  {
   "cell_type": "markdown",
   "metadata": {},
   "source": [
    "Next, we will match them with the nearest observed time-series. The `max_dist=0.08` is in degrees, that is roughly 8 kilometers."
   ]
  },
  {
   "cell_type": "code",
   "execution_count": 15,
   "metadata": {},
   "outputs": [
    {
     "name": "stdout",
     "output_type": "stream",
     "text": [
      " Downloading to file /home/filipe/IOOS/notebooks_demos/notebooks/latest/Forecasts-NECOFS_FVCOM_OCEAN_BOSTON_FORECAST.nc \n",
      "[No Data] BOSTON 16 NM East of Boston, MA\n",
      "Finished processing [Forecasts-NECOFS_FVCOM_OCEAN_BOSTON_FORECAST]\n",
      " Downloading to file /home/filipe/IOOS/notebooks_demos/notebooks/latest/SECOORA_NCSU_CNAPS.nc \n",
      "[Water  ] BOSTON 16 NM East of Boston, MA\n",
      "Finished processing [SECOORA_NCSU_CNAPS]\n",
      " Downloading to file /home/filipe/IOOS/notebooks_demos/notebooks/latest/Forecasts-NECOFS_FVCOM_OCEAN_SCITUATE_FORECAST.nc \n",
      "[No Data] BOSTON 16 NM East of Boston, MA\n",
      "Finished processing [Forecasts-NECOFS_FVCOM_OCEAN_SCITUATE_FORECAST]\n",
      " Downloading to file /home/filipe/IOOS/notebooks_demos/notebooks/latest/fmrc-coawst_4_use_best.nc \n",
      "[Water  ] BOSTON 16 NM East of Boston, MA\n",
      "Finished processing [fmrc-coawst_4_use_best]\n",
      " Downloading to file /home/filipe/IOOS/notebooks_demos/notebooks/latest/Forecasts-NECOFS_FVCOM_OCEAN_MASSBAY_FORECAST.nc \n",
      "[Water  ] BOSTON 16 NM East of Boston, MA\n",
      "Finished processing [Forecasts-NECOFS_FVCOM_OCEAN_MASSBAY_FORECAST]\n",
      " Downloading to file /home/filipe/IOOS/notebooks_demos/notebooks/latest/FVCOM_Forecasts-NECOFS_GOM3_FORECAST.nc \n",
      "[Water  ] BOSTON 16 NM East of Boston, MA\n",
      "Finished processing [FVCOM_Forecasts-NECOFS_GOM3_FORECAST]\n",
      " Downloading to file /home/filipe/IOOS/notebooks_demos/notebooks/latest/pacioos_hycom-global.nc \n",
      "[Water  ] BOSTON 16 NM East of Boston, MA\n",
      "Finished processing [pacioos_hycom-global]\n",
      " Downloading to file /home/filipe/IOOS/notebooks_demos/notebooks/latest/hioos_satellite-dhw_5km.nc \n",
      "[Water  ] BOSTON 16 NM East of Boston, MA\n",
      "Finished processing [hioos_satellite-dhw_5km]\n"
     ]
    }
   ],
   "source": [
    "import iris\n",
    "from iris.pandas import as_series\n",
    "from ioos_tools.tardis import (make_tree, get_nearest_water,\n",
    "                               add_station, ensure_timeseries, remove_ssh)\n",
    "\n",
    "for mod_name, cube in cubes.items():\n",
    "    fname = '{}.nc'.format(mod_name)\n",
    "    fname = os.path.join(save_dir, fname)\n",
    "    print(fmt(' Downloading to file {} '.format(fname)))\n",
    "    try:\n",
    "        tree, lon, lat = make_tree(cube)\n",
    "    except CoordinateNotFoundError as e:\n",
    "        print('Cannot make KDTree for: {}'.format(mod_name))\n",
    "        continue\n",
    "    # Get model series at observed locations.\n",
    "    raw_series = dict()\n",
    "    for obs in observations:\n",
    "        obs = obs._metadata\n",
    "        station = obs['station_code']\n",
    "        try:\n",
    "            kw = dict(k=10, max_dist=0.08, min_var=0.01)\n",
    "            args = cube, tree, obs['lon'], obs['lat']\n",
    "            try:\n",
    "                series, dist, idx = get_nearest_water(*args, **kw)\n",
    "            except RuntimeError as e:\n",
    "                print('Cannot download {!r}.\\n{}'.format(cube, e))\n",
    "                series = None\n",
    "        except ValueError as e:\n",
    "            status = 'No Data'\n",
    "            print('[{}] {}'.format(status, obs['station_name']))\n",
    "            continue\n",
    "        if not series:\n",
    "            status = 'Land   '\n",
    "        else:\n",
    "            raw_series.update({station: series})\n",
    "            series = as_series(series)\n",
    "            status = 'Water  '\n",
    "        print('[{}] {}'.format(status, obs['station_name']))\n",
    "    if raw_series:  # Save cube.\n",
    "        for station, cube in raw_series.items():\n",
    "            cube = add_station(cube, station)\n",
    "            cube = remove_ssh(cube)\n",
    "        try:\n",
    "            cube = iris.cube.CubeList(raw_series.values()).merge_cube()\n",
    "        except MergeError as e:\n",
    "            print(e)\n",
    "        ensure_timeseries(cube)\n",
    "        try:\n",
    "            iris.save(cube, fname)\n",
    "        except AttributeError:\n",
    "            # FIXME: we should patch the bad attribute instead of removing everything.\n",
    "            cube.attributes = {}\n",
    "            iris.save(cube, fname)\n",
    "        del cube\n",
    "    print('Finished processing [{}]'.format(mod_name))"
   ]
  },
  {
   "cell_type": "markdown",
   "metadata": {},
   "source": [
    "Now it is possible to compute some simple comparison metrics. First we'll calculate the model mean bias:\n",
    "\n",
    "$$ \\text{MB} = \\mathbf{\\overline{m}} - \\mathbf{\\overline{o}}$$"
   ]
  },
  {
   "cell_type": "code",
   "execution_count": 16,
   "metadata": {
    "collapsed": true
   },
   "outputs": [],
   "source": [
    "from ioos_tools.ioos import stations_keys\n",
    "\n",
    "\n",
    "def rename_cols(df, config):\n",
    "    cols = stations_keys(config, key='station_name')\n",
    "    return df.rename(columns=cols)"
   ]
  },
  {
   "cell_type": "code",
   "execution_count": 17,
   "metadata": {
    "collapsed": true,
    "scrolled": false
   },
   "outputs": [],
   "source": [
    "from ioos_tools.ioos import load_ncs\n",
    "from ioos_tools.skill_score import mean_bias, apply_skill\n",
    "\n",
    "dfs = load_ncs(config)\n",
    "\n",
    "df = apply_skill(dfs, mean_bias, remove_mean=False, filter_tides=False)\n",
    "skill_score = dict(mean_bias=df.to_dict())\n",
    "\n",
    "# Filter out stations with no valid comparison.\n",
    "df.dropna(how='all', axis=1, inplace=True)\n",
    "df = df.applymap('{:.2f}'.format).replace('nan', '--')"
   ]
  },
  {
   "cell_type": "markdown",
   "metadata": {},
   "source": [
    "And the root mean squared rrror of the deviations from the mean:\n",
    "$$ \\text{CRMS} = \\sqrt{\\left(\\mathbf{m'} - \\mathbf{o'}\\right)^2}$$\n",
    "\n",
    "where: $\\mathbf{m'} = \\mathbf{m} - \\mathbf{\\overline{m}}$ and $\\mathbf{o'} = \\mathbf{o} - \\mathbf{\\overline{o}}$"
   ]
  },
  {
   "cell_type": "code",
   "execution_count": 18,
   "metadata": {
    "collapsed": true
   },
   "outputs": [],
   "source": [
    "from ioos_tools.skill_score import rmse\n",
    "\n",
    "dfs = load_ncs(config)\n",
    "\n",
    "df = apply_skill(dfs, rmse, remove_mean=True, filter_tides=False)\n",
    "skill_score['rmse'] = df.to_dict()\n",
    "\n",
    "# Filter out stations with no valid comparison.\n",
    "df.dropna(how='all', axis=1, inplace=True)\n",
    "df = df.applymap('{:.2f}'.format).replace('nan', '--')"
   ]
  },
  {
   "cell_type": "markdown",
   "metadata": {},
   "source": [
    "The next 2 cells make the scores \"pretty\" for plotting."
   ]
  },
  {
   "cell_type": "code",
   "execution_count": 19,
   "metadata": {
    "collapsed": true
   },
   "outputs": [],
   "source": [
    "import pandas as pd\n",
    "\n",
    "# Stringfy keys.\n",
    "for key in skill_score.keys():\n",
    "    skill_score[key] = {str(k): v for k, v in skill_score[key].items()}\n",
    "\n",
    "mean_bias = pd.DataFrame.from_dict(skill_score['mean_bias'])\n",
    "mean_bias = mean_bias.applymap('{:.2f}'.format).replace('nan', '--')\n",
    "\n",
    "skill_score = pd.DataFrame.from_dict(skill_score['rmse'])\n",
    "skill_score = skill_score.applymap('{:.2f}'.format).replace('nan', '--')"
   ]
  },
  {
   "cell_type": "code",
   "execution_count": 20,
   "metadata": {
    "collapsed": true
   },
   "outputs": [],
   "source": [
    "import folium\n",
    "from ioos_tools.ioos import get_coordinates\n",
    "\n",
    "\n",
    "def make_map(bbox, **kw):\n",
    "    import numpy \n",
    "    line = kw.pop('line', True)\n",
    "    layers = kw.pop('layers', True)\n",
    "    zoom_start = kw.pop('zoom_start', 5)\n",
    "\n",
    "    lon = (bbox[0] + bbox[2]) / 2\n",
    "    lat = (bbox[1] + bbox[3]) / 2\n",
    "    m = folium.Map(width='100%', height='100%',\n",
    "                   location=[lat, lon], zoom_start=zoom_start)\n",
    "\n",
    "    if layers:\n",
    "        url = 'http://oos.soest.hawaii.edu/thredds/wms/hioos/satellite/dhw_5km'\n",
    "        w = folium.WmsTileLayer(\n",
    "            url,\n",
    "            name='sea_surface_temperature',\n",
    "            format='image/png',\n",
    "            layers='CRW_SST',\n",
    "            attr='PacIOOS TDS',\n",
    "            overlay=True,\n",
    "            transparent=True)\n",
    "        w.add_to(m)\n",
    "\n",
    "    if line:\n",
    "        p = folium.PolyLine(get_coordinates(bbox),\n",
    "                            color='#FF0000',\n",
    "                            weight=2,\n",
    "                            opacity=0.9,\n",
    "                            latlon=True)\n",
    "        p.add_to(m)\n",
    "\n",
    "    folium.LayerControl().add_to(m)\n",
    "    return m"
   ]
  },
  {
   "cell_type": "code",
   "execution_count": 21,
   "metadata": {
    "collapsed": true
   },
   "outputs": [],
   "source": [
    "bbox = config['region']['bbox']\n",
    "\n",
    "m = make_map(\n",
    "    bbox,\n",
    "    zoom_start=11,\n",
    "    line=True,\n",
    "    layers=True\n",
    ")"
   ]
  },
  {
   "cell_type": "markdown",
   "metadata": {},
   "source": [
    "The cells from `[20]` to `[25]` create a [`folium`](https://github.com/python-visualization/folium) map with [`bokeh`](http://bokeh.pydata.org/en/latest/) for the time-series at the observed points.\n",
    "\n",
    "Note that we did mark the nearest model cell location used in the comparison."
   ]
  },
  {
   "cell_type": "code",
   "execution_count": 22,
   "metadata": {},
   "outputs": [
    {
     "data": {
      "text/plain": [
       "<folium.plugins.marker_cluster.MarkerCluster at 0x7fca360d7e10>"
      ]
     },
     "execution_count": 22,
     "metadata": {},
     "output_type": "execute_result"
    }
   ],
   "source": [
    "all_obs = stations_keys(config)\n",
    "\n",
    "from glob import glob\n",
    "from operator import itemgetter\n",
    "\n",
    "import iris\n",
    "import folium\n",
    "from folium.plugins import MarkerCluster\n",
    "\n",
    "iris.FUTURE.netcdf_promote = True\n",
    "\n",
    "big_list = []\n",
    "for fname in glob(os.path.join(save_dir, '*.nc')):\n",
    "    if 'OBS_DATA' in fname:\n",
    "        continue\n",
    "    cube = iris.load_cube(fname)\n",
    "    model = os.path.split(fname)[1].split('-')[-1].split('.')[0]\n",
    "    lons = cube.coord(axis='X').points\n",
    "    lats = cube.coord(axis='Y').points\n",
    "    stations = cube.coord('station_code').points\n",
    "    models = [model]*lons.size\n",
    "    lista = zip(models, lons.tolist(), lats.tolist(), stations.tolist())\n",
    "    big_list.extend(lista)\n",
    "\n",
    "big_list.sort(key=itemgetter(3))\n",
    "df = pd.DataFrame(big_list, columns=['name', 'lon', 'lat', 'station'])\n",
    "df.set_index('station', drop=True, inplace=True)\n",
    "groups = df.groupby(df.index)\n",
    "\n",
    "\n",
    "locations, popups = [], []\n",
    "for station, info in groups:\n",
    "    sta_name = all_obs[station]\n",
    "    for lat, lon, name in zip(info.lat, info.lon, info.name):\n",
    "        locations.append([lat, lon])\n",
    "        popups.append('[{}]: {}'.format(name, sta_name))\n",
    "\n",
    "MarkerCluster(locations=locations, popups=popups).add_to(m)"
   ]
  },
  {
   "cell_type": "markdown",
   "metadata": {},
   "source": [
    "Here we use a dictionary with some models we expect to find so we can create a better legend for the plots. If any new models are found, we will use its filename in the legend as a default until we can go back and add a short name to our library."
   ]
  },
  {
   "cell_type": "code",
   "execution_count": 23,
   "metadata": {
    "collapsed": true
   },
   "outputs": [],
   "source": [
    "titles = {\n",
    "    'coawst_4_use_best': 'COAWST_4',\n",
    "    'global': 'HYCOM',\n",
    "    'NECOFS_GOM3_FORECAST': 'NECOFS_GOM3',\n",
    "    'NECOFS_FVCOM_OCEAN_MASSBAY_FORECAST': 'NECOFS_MassBay',\n",
    "    'OBS_DATA': 'Observations'\n",
    "}"
   ]
  },
  {
   "cell_type": "code",
   "execution_count": 24,
   "metadata": {
    "collapsed": true
   },
   "outputs": [],
   "source": [
    "from bokeh.resources import CDN\n",
    "from bokeh.plotting import figure\n",
    "from bokeh.embed import file_html\n",
    "from bokeh.models import HoverTool\n",
    "from itertools import cycle\n",
    "from bokeh.palettes import Category20\n",
    "\n",
    "from folium import IFrame\n",
    "\n",
    "# Plot defaults.\n",
    "colors = Category20[20]\n",
    "colorcycler = cycle(colors)\n",
    "tools = 'pan,box_zoom,reset'\n",
    "width, height = 750, 250\n",
    "\n",
    "\n",
    "def make_plot(df, station):\n",
    "    p = figure(\n",
    "        toolbar_location='above',\n",
    "        x_axis_type='datetime',\n",
    "        width=width,\n",
    "        height=height,\n",
    "        tools=tools,\n",
    "        title=str(station)\n",
    "    )\n",
    "    for column, series in df.iteritems():\n",
    "        series.dropna(inplace=True)\n",
    "        if not series.empty:\n",
    "            if 'OBS_DATA' not in column:\n",
    "                bias = mean_bias[str(station)][column]\n",
    "                skill = skill_score[str(station)][column]\n",
    "                line_color = next(colorcycler)\n",
    "                kw = dict(alpha=0.65, line_color=line_color)\n",
    "            else:\n",
    "                skill = bias = 'NA'\n",
    "                kw = dict(alpha=1, color='crimson')\n",
    "            line = p.line(\n",
    "                x=series.index,\n",
    "                y=series.values,\n",
    "                legend='{}'.format(titles.get(column, column)),\n",
    "                line_width=5,\n",
    "                line_cap='round',\n",
    "                line_join='round',\n",
    "                **kw\n",
    "            )\n",
    "            p.add_tools(HoverTool(tooltips=[('Name', '{}'.format(titles.get(column, column))),\n",
    "                                            ('Bias', bias),\n",
    "                                            ('Skill', skill)],\n",
    "                                  renderers=[line]))\n",
    "    return p\n",
    "\n",
    "\n",
    "def make_marker(p, station):\n",
    "    lons = stations_keys(config, key='lon')\n",
    "    lats = stations_keys(config, key='lat')\n",
    "\n",
    "    lon, lat = lons[station], lats[station]\n",
    "    html = file_html(p, CDN, station)\n",
    "    iframe = IFrame(html, width=width+40, height=height+80)\n",
    "\n",
    "    popup = folium.Popup(iframe, max_width=2650)\n",
    "    icon = folium.Icon(color='green', icon='stats')\n",
    "    marker = folium.Marker(location=[lat, lon],\n",
    "                           popup=popup,\n",
    "                           icon=icon)\n",
    "    return marker"
   ]
  },
  {
   "cell_type": "code",
   "execution_count": 25,
   "metadata": {},
   "outputs": [
    {
     "data": {
      "text/html": [
       "<div style=\"width:100%;\"><div style=\"position:relative;width:100%;height:0;padding-bottom:60%;\"><iframe src=\"data:text/html;charset=utf-8;base64,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\" style=\"position:absolute;width:100%;height:100%;left:0;top:0;border:none !important;\" allowfullscreen webkitallowfullscreen mozallowfullscreen></iframe></div></div>"
      ],
      "text/plain": [
       "<folium.folium.Map at 0x7fca357b2860>"
      ]
     },
     "execution_count": 25,
     "metadata": {},
     "output_type": "execute_result"
    }
   ],
   "source": [
    "dfs = load_ncs(config)\n",
    "\n",
    "for station in dfs:\n",
    "    sta_name = all_obs[station]\n",
    "    df = dfs[station]\n",
    "    if df.empty:\n",
    "        continue\n",
    "    p = make_plot(df, station)\n",
    "    maker = make_marker(p, station)\n",
    "    maker.add_to(m)\n",
    "\n",
    "m"
   ]
  },
  {
   "cell_type": "markdown",
   "metadata": {},
   "source": [
    "Now we can navigate the map and click on the markers to explorer our findings.\n",
    "\n",
    "The green markers locate the observations locations. They pop-up an interactive plot with the time-series and scores for the models (hover over the lines to se the scores). The blue markers indicate the nearest model grid point found for the comparison."
   ]
  }
 ],
 "metadata": {
  "anaconda-cloud": {},
  "kernelspec": {
   "display_name": "Python [default]",
   "language": "python",
   "name": "python3"
  },
  "language_info": {
   "codemirror_mode": {
    "name": "ipython",
    "version": 3
   },
   "file_extension": ".py",
   "mimetype": "text/x-python",
   "name": "python",
   "nbconvert_exporter": "python",
   "pygments_lexer": "ipython3",
   "version": "3.6.2"
  }
 },
 "nbformat": 4,
 "nbformat_minor": 1
}
