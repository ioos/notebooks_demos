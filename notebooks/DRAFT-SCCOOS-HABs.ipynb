{
 "cells": [
  {
   "cell_type": "markdown",
   "metadata": {},
   "source": [
    "how this data contribution expands the OBIS holdings\n",
    "\n",
    "- picking a species from SCCOOS, then pulling all the data for that species from OBIS\n",
    "- plotting it all together with SCCOOS on a timeslider."
   ]
  },
  {
   "cell_type": "markdown",
   "metadata": {},
   "source": [
    "## Load library and data for SCCOOS dataset"
   ]
  },
  {
   "cell_type": "code",
   "execution_count": null,
   "metadata": {},
   "outputs": [],
   "source": [
    "# get SCCOOS occurrence and measurement or fact data\n",
    "library(robis)\n",
    "library(leaflet)\n",
    "\n",
    "sccoos_dataset_id = \"c9aaa0e9-8f6c-4553-a014-a857baba0680\"\n",
    "\n",
    "species = \"Lingulodinium polyedra\"\n",
    "\n",
    "sccoos_occur <- occurrence(\n",
    "    datasetid = sccoos_dataset_id, mof=TRUE\n",
    ")"
   ]
  },
  {
   "cell_type": "markdown",
   "metadata": {},
   "source": [
    "## Take a look at response data"
   ]
  },
  {
   "cell_type": "code",
   "execution_count": null,
   "metadata": {},
   "outputs": [],
   "source": [
    "# # make table bigger for review\n",
    "options(repr.matrix.max.cols=100)\n",
    "head(sccoos_occur,n = 1)"
   ]
  },
  {
   "cell_type": "markdown",
   "metadata": {},
   "source": [
    "## Note measurement or fact data are in `mof` column."
   ]
  },
  {
   "cell_type": "code",
   "execution_count": null,
   "metadata": {},
   "outputs": [],
   "source": [
    "# # additional observations (measurements or facts) connected to the occurrence above \n",
    "# sccoos_mof <- sccoos_occur$mof # list\n",
    "head(sccoos_occur$mof,n = 1)"
   ]
  },
  {
   "cell_type": "markdown",
   "metadata": {},
   "source": [
    "## Create a map of all SCCOOS observations for the dataset"
   ]
  },
  {
   "cell_type": "code",
   "execution_count": null,
   "metadata": {},
   "outputs": [],
   "source": [
    "# create a map\n",
    "library(htmlwidgets)\n",
    "library(IRdisplay)\n",
    "\n",
    "# m = map_leaflet(sccoos_occur)\n",
    "# m\n",
    "# saveWidget(m, \"sccoos_data.html\", selfcontained = FALSE)\n",
    "# display_html(\"<iframe src=\\\"sccoos_data.html\\\"></iframe>\")"
   ]
  },
  {
   "cell_type": "code",
   "execution_count": null,
   "metadata": {},
   "outputs": [],
   "source": []
  },
  {
   "cell_type": "markdown",
   "metadata": {},
   "source": [
    "## Query OBIS for specific species and map out all observations"
   ]
  },
  {
   "cell_type": "code",
   "execution_count": null,
   "metadata": {},
   "outputs": [],
   "source": [
    "# get all Lingulodinium polyedra occurrences from OBIS\n",
    "# lingpoly_occur <- occurrence(\n",
    "#     scientificname = species\n",
    "# )\n",
    "\n",
    "# or by taxon id from AphiaID: urn:lsid:algaebase.org:taxname:233592\n",
    "# could use rtaxize 'get_wormsid' here or obistools 'match_taxa' to search on taxonid from species name? \n",
    "# lingpoly_occur <- occurrence(\n",
    "#   taxonid = '233592'\n",
    "# )\n",
    "\n",
    "# remove sccoos entries from full occurrence response\n",
    "# lingpoly_occur <- lingpoly_occur[!lingpoly_occur$dataset_id==sccoos_dataset_id,]\n",
    "\n",
    "# create a map of all lingulodinium polyedra, excluding sccoos contributions\n",
    "# m = map_leaflet(lingpoly_occur)\n",
    "# m\n",
    "# saveWidget(m, \"lingpoly_data.html\", selfcontained = FALSE)\n",
    "# display_html(\"<iframe src=\\\"lingpoly_data.html\\\"></iframe>\")"
   ]
  },
  {
   "cell_type": "code",
   "execution_count": null,
   "metadata": {},
   "outputs": [],
   "source": []
  },
  {
   "cell_type": "markdown",
   "metadata": {},
   "source": [
    "## Subset SCCOOS response for species and move mof data into occurrence data table"
   ]
  },
  {
   "cell_type": "code",
   "execution_count": null,
   "metadata": {},
   "outputs": [],
   "source": [
    "# build a character list of all the unique measurement or fact types.\n",
    "sccoos_lingpoly_occur <- sccoos_occur[ which(sccoos_occur$scientificName == species), ]\n",
    "\n",
    "for (j in 1:length(sccoos_lingpoly_occur$mof)){\n",
    "    if (j == 1){\n",
    "        measurementTypes <- sccoos_lingpoly_occur$mof[[j]]$measurementType\n",
    "    } else {\n",
    "    measurementTypes <- unique(c(measurementTypes, sccoos_lingpoly_occur$mof[[j]]$measurementType))\n",
    "        }\n",
    "}\n",
    "\n",
    "# add columns for all potential mof types\n",
    "sccoos_lingpoly_occur[,measurementTypes] <- \"\"\n",
    "\n",
    "## Populate mof_tbl with mof observations\n",
    "for (i in 1:length(sccoos_lingpoly_occur$mof)){\n",
    "    for (j in 1:length(sccoos_lingpoly_occur$mof[[i]])){\n",
    "        for (var in measurementTypes){\n",
    "            if ( length(sccoos_lingpoly_occur$mof[[i]]$measurementType[j]) == 0 || is.na(sccoos_lingpoly_occur$mof[[i]]$measurementType[j])) {\n",
    "            } else{\n",
    "                if ( sccoos_lingpoly_occur$mof[[i]]$measurementType[j] == var ){\n",
    "                    #print(paste(\"sccoos_lingpoly_occur$mof[[\",i,\"]]$measurementType[\",j,\"] =\", sccoos_lingpoly_occur$mof[[i]]$measurementType[j],\" = \", sccoos_lingpoly_occur$mof[[i]]$measurementValue[j]))\n",
    "                    sccoos_lingpoly_occur[i,var] <- sccoos_lingpoly_occur$mof[[i]]$measurementValue[j]\n",
    "                } else {\n",
    "                    sccoos_lingpoly_occur[i,var] <- NA\n",
    "                }     \n",
    "            }\n",
    "        }\n",
    "    }\n",
    "}\n",
    "# convert mofs to doubles\n",
    "measurementTypes <- c(\"organismQuantity\", \"sss\", \"sst\", \"bathymetry\", measurementTypes)\n",
    "sccoos_lingpoly_occur[ ,measurementTypes] <- apply(sccoos_lingpoly_occur[ ,measurementTypes], 2, function(x) as.double(x))\n",
    "sccoos_lingpoly_occur$dateTime <- as.Date(sccoos_lingpoly_occur$eventDate, format = \"%Y-%m-%dT%H:%M:%SZ\", tz=utc)\n",
    "\n",
    "# collect column names and drop 'mof' from list:\n",
    "cols <- colnames(sccoos_lingpoly_occur)\n",
    "cols <- cols[cols!='mof']\n",
    "sccoos_lingpoly_occur <- sccoos_lingpoly_occur[cols]\n",
    "head(sccoos_lingpoly_occur)"
   ]
  },
  {
   "cell_type": "markdown",
   "metadata": {},
   "source": [
    "## Count the number of observations per location and include some stats"
   ]
  },
  {
   "cell_type": "code",
   "execution_count": null,
   "metadata": {},
   "outputs": [],
   "source": [
    "library(tidyverse)\n",
    "by_location <- sccoos_lingpoly_occur %>% group_by(locationID)\n",
    "# by_location %>% tally\n",
    "\n",
    "by_location %>%\n",
    "    summarise(\n",
    "        n = n(),\n",
    "        Temp = mean(Temp, na.rm = TRUE),\n",
    "        Salinity = mean(Salinity, na.rm = TRUE),\n",
    "        organismQuantity = max(organismQuantity, na.rm = TRUE)\n",
    "    )\n",
    "\n"
   ]
  },
  {
   "cell_type": "markdown",
   "metadata": {},
   "source": [
    "## create some time-series plots"
   ]
  },
  {
   "cell_type": "code",
   "execution_count": null,
   "metadata": {},
   "outputs": [],
   "source": [
    "library(ggplot2)\n",
    "\n",
    "#sccoos_lingpoly_occur.m <- melt(sccoos_lingpoly_occur, measure.vars=c(\"Temp\",\"organismQuantity\"))\n",
    "\n",
    "p1 <- ggplot(sccoos_lingpoly_occur, aes(x=dateTime, y=Temp)) +\n",
    "geom_line()\n",
    "\n",
    "p2 <- ggplot(sccoos_lingpoly_occur, aes(x=dateTime, y=organismQuantity)) +\n",
    "geom_line()\n",
    "\n",
    "p1\n",
    "p2"
   ]
  },
  {
   "cell_type": "code",
   "execution_count": null,
   "metadata": {
    "scrolled": false
   },
   "outputs": [],
   "source": [
    "glimpse(sccoos_lingpoly_occur)"
   ]
  },
  {
   "cell_type": "code",
   "execution_count": null,
   "metadata": {},
   "outputs": [],
   "source": [
    "ggplot(by_location, aes(x=dateTime, y=Temp, col=locationID)) + geom_line()"
   ]
  },
  {
   "cell_type": "markdown",
   "metadata": {},
   "source": [
    "## Make a map of all occurrences with SCCOOS obs as cluster pins"
   ]
  },
  {
   "cell_type": "code",
   "execution_count": null,
   "metadata": {},
   "outputs": [],
   "source": [
    "# TODO\n",
    "# make the popup's on the map above have a table of the mof observations for each occurrence.\n",
    "# Might need to have the popup with a time slider since the SCCOOS occurrences are at only 7 locations for 1007 occurrences.\n",
    "m = map_leaflet(lingpoly_occur) %>% \n",
    "  addTiles() %>% \n",
    "  addMarkers(\n",
    "    sccoos_lingpoly_occur$decimalLongitude, sccoos_lingpoly_occur$decimalLatitude,\n",
    "    clusterOptions = markerClusterOptions(),\n",
    "    #radius = 3, weight = 1, opacity = 1, fillOpacity = 0.1, \n",
    "    popup = ~paste(\"<table>\n",
    "                        <thead><tr><td>measurementType</td><td>measurementValue</td></tr></thead>\n",
    "                        <tbody><tr><td>\", sccoos_lingpoly_occur$mof[[1]]$measurementType, \"</td><td>\", sccoos_lingpoly_occur$mof[[1]]$measurementValue, \"</td></tr></tbody>\n",
    "                    </table>\")\n",
    "  )\n",
    "m\n",
    "saveWidget(m, \"lingpoly_data_sub.html\", selfcontained = FALSE)\n",
    "display_html(\"<iframe src=\\\"lingpoly_data_sub.html\\\"></iframe>\")"
   ]
  },
  {
   "cell_type": "markdown",
   "metadata": {},
   "source": [
    "## Update map to plot cluster pins with time-series observational data"
   ]
  },
  {
   "cell_type": "code",
   "execution_count": null,
   "metadata": {},
   "outputs": [],
   "source": [
    "\n",
    "# iterate through each site\n",
    "for (site in unique(sccoos_lingpoly_occur$locationID)) {\n",
    "    site_filt <- filter(sccoos_lingpoly_occur, locationID == site)\n",
    "    ggplot(cal_poly, aes(x=dateTime, y=Temp)) + geom_line() + ggtitle(site)\n",
    "    # save ggplot as image to add to plot \n",
    "    image_name <- paste0(site,\"_ts.png\")\n",
    "    ggsave(image_name)\n",
    "    n <- length(measurementTypes)\n",
    "    pop = paste0(\"<img src=\\\"\",image_name,\"\\\" />\")\n",
    "    m <- map_leaflet(site_filt) %>%\n",
    "        addTiles() %>%\n",
    "        addMarkers(\n",
    "            head(site_filt$decimalLongitude, n=n), head(site_filt$decimalLatitude, n=n),\n",
    "            clusterOptions=markerClusterOptions(),\n",
    "            popup = pop\n",
    "        )\n",
    "    filename <- paste0(site,\"_sub.html\")\n",
    "    saveWidget(m, filename, selfcontained = FALSE)\n",
    "    html_file = paste0(\"<iframe src=\\\"\",filename,\"\\\"></iframe>\")\n",
    "    display_html(html_file)\n",
    "    }"
   ]
  },
  {
   "cell_type": "code",
   "execution_count": null,
   "metadata": {},
   "outputs": [],
   "source": [
    "p"
   ]
  },
  {
   "cell_type": "code",
   "execution_count": null,
   "metadata": {},
   "outputs": [],
   "source": []
  }
 ],
 "metadata": {
  "kernelspec": {
   "display_name": "R",
   "language": "R",
   "name": "ir"
  },
  "language_info": {
   "codemirror_mode": "r",
   "file_extension": ".r",
   "mimetype": "text/x-r-source",
   "name": "R",
   "pygments_lexer": "r",
   "version": "4.0.3"
  }
 },
 "nbformat": 4,
 "nbformat_minor": 4
}
