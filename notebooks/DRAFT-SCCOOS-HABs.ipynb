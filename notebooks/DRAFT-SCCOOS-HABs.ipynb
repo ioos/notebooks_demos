{
 "cells": [
  {
   "cell_type": "markdown",
   "metadata": {},
   "source": [
    "how this data contribution expands the OBIS holdings\n",
    "\n",
    "- picking a species from SCCOOS, then pulling all the data for that species from OBIS\n",
    "- plotting it all together with SCCOOS on a timeslider."
   ]
  },
  {
   "cell_type": "code",
   "execution_count": 1,
   "metadata": {},
   "outputs": [
    {
     "name": "stderr",
     "output_type": "stream",
     "text": [
      "Retrieved 5000 records of approximately 10483 (47%)\n",
      "Retrieved 10000 records of approximately 10483 (95%)\n",
      "Retrieved 10483 records of approximately 10483 (100%)\n"
     ]
    }
   ],
   "source": [
    "# get SCCOOS occurrence and measurement or fact data\n",
    "library(robis)\n",
    "library(leaflet)\n",
    "\n",
    "sccoos_dataset_id = \"c9aaa0e9-8f6c-4553-a014-a857baba0680\"\n",
    "\n",
    "species = \"Lingulodinium polyedra\"\n",
    "\n",
    "sccoos_occur <- occurrence(\n",
    "    datasetid=sccoos_dataset_id, mof=TRUE\n",
    ")"
   ]
  },
  {
   "cell_type": "code",
   "execution_count": 2,
   "metadata": {},
   "outputs": [
    {
     "data": {
      "text/html": [
       "<table>\n",
       "<caption>A tibble: 1 × 67</caption>\n",
       "<thead>\n",
       "\t<tr><th scope=col>infraphylum</th><th scope=col>date_year</th><th scope=col>scientificNameID</th><th scope=col>scientificName</th><th scope=col>dropped</th><th scope=col>hab</th><th scope=col>aphiaID</th><th scope=col>decimalLatitude</th><th scope=col>infraphylumid</th><th scope=col>phylumid</th><th scope=col>familyid</th><th scope=col>occurrenceStatus</th><th scope=col>basisOfRecord</th><th scope=col>subkingdom</th><th scope=col>organismName</th><th scope=col>maximumDepthInMeters</th><th scope=col>id</th><th scope=col>order</th><th scope=col>organismQuantity</th><th scope=col>dataset_id</th><th scope=col>decimalLongitude</th><th scope=col>date_end</th><th scope=col>occurrenceID</th><th scope=col>infrakingdom</th><th scope=col>subkingdomid</th><th scope=col>date_start</th><th scope=col>organismQuantityType</th><th scope=col>genus</th><th scope=col>eventDate</th><th scope=col>eventID</th><th scope=col>infrakingdomid</th><th scope=col>coordinateUncertaintyInMeters</th><th scope=col>absence</th><th scope=col>eventRemarks</th><th scope=col>genusid</th><th scope=col>taxonID</th><th scope=col>originalScientificName</th><th scope=col>marine</th><th scope=col>minimumDepthInMeters</th><th scope=col>subphylumid</th><th scope=col>date_mid</th><th scope=col>class</th><th scope=col>orderid</th><th scope=col>geodeticDatum</th><th scope=col>kingdom</th><th scope=col>classid</th><th scope=col>phylum</th><th scope=col>locationID</th><th scope=col>subphylum</th><th scope=col>family</th><th scope=col>kingdomid</th><th scope=col>node_id</th><th scope=col>sss</th><th scope=col>depth</th><th scope=col>shoredistance</th><th scope=col>sst</th><th scope=col>bathymetry</th><th scope=col>subclassid</th><th scope=col>terrestrial</th><th scope=col>speciesid</th><th scope=col>superorder</th><th scope=col>superorderid</th><th scope=col>wrims</th><th scope=col>species</th><th scope=col>subclass</th><th scope=col>flags</th><th scope=col>brackish</th></tr>\n",
       "\t<tr><th scope=col>&lt;chr&gt;</th><th scope=col>&lt;int&gt;</th><th scope=col>&lt;chr&gt;</th><th scope=col>&lt;chr&gt;</th><th scope=col>&lt;lgl&gt;</th><th scope=col>&lt;lgl&gt;</th><th scope=col>&lt;int&gt;</th><th scope=col>&lt;dbl&gt;</th><th scope=col>&lt;int&gt;</th><th scope=col>&lt;int&gt;</th><th scope=col>&lt;int&gt;</th><th scope=col>&lt;chr&gt;</th><th scope=col>&lt;chr&gt;</th><th scope=col>&lt;chr&gt;</th><th scope=col>&lt;chr&gt;</th><th scope=col>&lt;int&gt;</th><th scope=col>&lt;chr&gt;</th><th scope=col>&lt;chr&gt;</th><th scope=col>&lt;chr&gt;</th><th scope=col>&lt;chr&gt;</th><th scope=col>&lt;dbl&gt;</th><th scope=col>&lt;dbl&gt;</th><th scope=col>&lt;chr&gt;</th><th scope=col>&lt;chr&gt;</th><th scope=col>&lt;int&gt;</th><th scope=col>&lt;dbl&gt;</th><th scope=col>&lt;chr&gt;</th><th scope=col>&lt;chr&gt;</th><th scope=col>&lt;chr&gt;</th><th scope=col>&lt;chr&gt;</th><th scope=col>&lt;int&gt;</th><th scope=col>&lt;chr&gt;</th><th scope=col>&lt;lgl&gt;</th><th scope=col>&lt;chr&gt;</th><th scope=col>&lt;int&gt;</th><th scope=col>&lt;chr&gt;</th><th scope=col>&lt;chr&gt;</th><th scope=col>&lt;lgl&gt;</th><th scope=col>&lt;int&gt;</th><th scope=col>&lt;int&gt;</th><th scope=col>&lt;dbl&gt;</th><th scope=col>&lt;chr&gt;</th><th scope=col>&lt;int&gt;</th><th scope=col>&lt;chr&gt;</th><th scope=col>&lt;chr&gt;</th><th scope=col>&lt;int&gt;</th><th scope=col>&lt;chr&gt;</th><th scope=col>&lt;chr&gt;</th><th scope=col>&lt;chr&gt;</th><th scope=col>&lt;chr&gt;</th><th scope=col>&lt;int&gt;</th><th scope=col>&lt;chr&gt;</th><th scope=col>&lt;dbl&gt;</th><th scope=col>&lt;dbl&gt;</th><th scope=col>&lt;int&gt;</th><th scope=col>&lt;dbl&gt;</th><th scope=col>&lt;int&gt;</th><th scope=col>&lt;int&gt;</th><th scope=col>&lt;lgl&gt;</th><th scope=col>&lt;int&gt;</th><th scope=col>&lt;chr&gt;</th><th scope=col>&lt;int&gt;</th><th scope=col>&lt;lgl&gt;</th><th scope=col>&lt;chr&gt;</th><th scope=col>&lt;chr&gt;</th><th scope=col>&lt;chr&gt;</th><th scope=col>&lt;lgl&gt;</th></tr>\n",
       "</thead>\n",
       "<tbody>\n",
       "\t<tr><td>Dinoflagellata</td><td>2018</td><td>(urn:lsid:marinespecies.org:taxname:109470)</td><td>Alexandrium</td><td>FALSE</td><td>TRUE</td><td>109470</td><td>34.408</td><td>146203</td><td>450030</td><td>109431</td><td>present</td><td>HumanObservation</td><td>Harosa</td><td>Alexandrium_spp</td><td>1</td><td>00024365-b76d-4722-9530-538372d53272</td><td>Gonyaulacales</td><td>11184</td><td>c9aaa0e9-8f6c-4553-a014-a857baba0680</td><td>-119.685</td><td>1.526256e+12</td><td>HABs-StearnsWharf_2018-05-14T15:51:00Z_Alexandrium_spp</td><td>Alveolata</td><td>582419</td><td>1.526256e+12</td><td>cells/L</td><td>Alexandrium</td><td>2018-05-14T15:51:00Z</td><td>HABs-StearnsWharf_2018-05-14T15:51:00Z</td><td>536209</td><td>12</td><td>FALSE</td><td>20180514</td><td>109470</td><td>urn:lsid:algaebase.org:taxname:6378</td><td>Alexandrium</td><td>TRUE</td><td>1</td><td>562620</td><td>1.526256e+12</td><td>Dinophyceae</td><td>109391</td><td>EPSG:4326 WGS84</td><td>Chromista</td><td>19542</td><td>Myzozoa</td><td>HABs-StearnsWharf</td><td>Dinozoa</td><td>Ostreopsidaceae</td><td>7</td><td>b7c47783-a020-4173-b390-7b57c4fa1426</td><td>33.44</td><td>1</td><td>202</td><td>15.4</td><td>7</td><td>NA</td><td>NA</td><td>NA</td><td>NA</td><td>NA</td><td>NA</td><td>NA</td><td>NA</td><td>NA</td><td>NA</td></tr>\n",
       "</tbody>\n",
       "</table>\n"
      ],
      "text/latex": [
       "A tibble: 1 × 67\n",
       "\\begin{tabular}{lllllllllllllllllllllllllllllllllllllllllllllllllllllllllllllllllll}\n",
       " infraphylum & date\\_year & scientificNameID & scientificName & dropped & hab & aphiaID & decimalLatitude & infraphylumid & phylumid & familyid & occurrenceStatus & basisOfRecord & subkingdom & organismName & maximumDepthInMeters & id & order & organismQuantity & dataset\\_id & decimalLongitude & date\\_end & occurrenceID & infrakingdom & subkingdomid & date\\_start & organismQuantityType & genus & eventDate & eventID & infrakingdomid & coordinateUncertaintyInMeters & absence & eventRemarks & genusid & taxonID & originalScientificName & marine & minimumDepthInMeters & subphylumid & date\\_mid & class & orderid & geodeticDatum & kingdom & classid & phylum & locationID & subphylum & family & kingdomid & node\\_id & sss & depth & shoredistance & sst & bathymetry & subclassid & terrestrial & speciesid & superorder & superorderid & wrims & species & subclass & flags & brackish\\\\\n",
       " <chr> & <int> & <chr> & <chr> & <lgl> & <lgl> & <int> & <dbl> & <int> & <int> & <int> & <chr> & <chr> & <chr> & <chr> & <int> & <chr> & <chr> & <chr> & <chr> & <dbl> & <dbl> & <chr> & <chr> & <int> & <dbl> & <chr> & <chr> & <chr> & <chr> & <int> & <chr> & <lgl> & <chr> & <int> & <chr> & <chr> & <lgl> & <int> & <int> & <dbl> & <chr> & <int> & <chr> & <chr> & <int> & <chr> & <chr> & <chr> & <chr> & <int> & <chr> & <dbl> & <dbl> & <int> & <dbl> & <int> & <int> & <lgl> & <int> & <chr> & <int> & <lgl> & <chr> & <chr> & <chr> & <lgl>\\\\\n",
       "\\hline\n",
       "\t Dinoflagellata & 2018 & (urn:lsid:marinespecies.org:taxname:109470) & Alexandrium & FALSE & TRUE & 109470 & 34.408 & 146203 & 450030 & 109431 & present & HumanObservation & Harosa & Alexandrium\\_spp & 1 & 00024365-b76d-4722-9530-538372d53272 & Gonyaulacales & 11184 & c9aaa0e9-8f6c-4553-a014-a857baba0680 & -119.685 & 1.526256e+12 & HABs-StearnsWharf\\_2018-05-14T15:51:00Z\\_Alexandrium\\_spp & Alveolata & 582419 & 1.526256e+12 & cells/L & Alexandrium & 2018-05-14T15:51:00Z & HABs-StearnsWharf\\_2018-05-14T15:51:00Z & 536209 & 12 & FALSE & 20180514 & 109470 & urn:lsid:algaebase.org:taxname:6378 & Alexandrium & TRUE & 1 & 562620 & 1.526256e+12 & Dinophyceae & 109391 & EPSG:4326 WGS84 & Chromista & 19542 & Myzozoa & HABs-StearnsWharf & Dinozoa & Ostreopsidaceae & 7 & b7c47783-a020-4173-b390-7b57c4fa1426 & 33.44 & 1 & 202 & 15.4 & 7 & NA & NA & NA & NA & NA & NA & NA & NA & NA & NA\\\\\n",
       "\\end{tabular}\n"
      ],
      "text/markdown": [
       "\n",
       "A tibble: 1 × 67\n",
       "\n",
       "| infraphylum &lt;chr&gt; | date_year &lt;int&gt; | scientificNameID &lt;chr&gt; | scientificName &lt;chr&gt; | dropped &lt;lgl&gt; | hab &lt;lgl&gt; | aphiaID &lt;int&gt; | decimalLatitude &lt;dbl&gt; | infraphylumid &lt;int&gt; | phylumid &lt;int&gt; | familyid &lt;int&gt; | occurrenceStatus &lt;chr&gt; | basisOfRecord &lt;chr&gt; | subkingdom &lt;chr&gt; | organismName &lt;chr&gt; | maximumDepthInMeters &lt;int&gt; | id &lt;chr&gt; | order &lt;chr&gt; | organismQuantity &lt;chr&gt; | dataset_id &lt;chr&gt; | decimalLongitude &lt;dbl&gt; | date_end &lt;dbl&gt; | occurrenceID &lt;chr&gt; | infrakingdom &lt;chr&gt; | subkingdomid &lt;int&gt; | date_start &lt;dbl&gt; | organismQuantityType &lt;chr&gt; | genus &lt;chr&gt; | eventDate &lt;chr&gt; | eventID &lt;chr&gt; | infrakingdomid &lt;int&gt; | coordinateUncertaintyInMeters &lt;chr&gt; | absence &lt;lgl&gt; | eventRemarks &lt;chr&gt; | genusid &lt;int&gt; | taxonID &lt;chr&gt; | originalScientificName &lt;chr&gt; | marine &lt;lgl&gt; | minimumDepthInMeters &lt;int&gt; | subphylumid &lt;int&gt; | date_mid &lt;dbl&gt; | class &lt;chr&gt; | orderid &lt;int&gt; | geodeticDatum &lt;chr&gt; | kingdom &lt;chr&gt; | classid &lt;int&gt; | phylum &lt;chr&gt; | locationID &lt;chr&gt; | subphylum &lt;chr&gt; | family &lt;chr&gt; | kingdomid &lt;int&gt; | node_id &lt;chr&gt; | sss &lt;dbl&gt; | depth &lt;dbl&gt; | shoredistance &lt;int&gt; | sst &lt;dbl&gt; | bathymetry &lt;int&gt; | subclassid &lt;int&gt; | terrestrial &lt;lgl&gt; | speciesid &lt;int&gt; | superorder &lt;chr&gt; | superorderid &lt;int&gt; | wrims &lt;lgl&gt; | species &lt;chr&gt; | subclass &lt;chr&gt; | flags &lt;chr&gt; | brackish &lt;lgl&gt; |\n",
       "|---|---|---|---|---|---|---|---|---|---|---|---|---|---|---|---|---|---|---|---|---|---|---|---|---|---|---|---|---|---|---|---|---|---|---|---|---|---|---|---|---|---|---|---|---|---|---|---|---|---|---|---|---|---|---|---|---|---|---|---|---|---|---|---|---|---|---|\n",
       "| Dinoflagellata | 2018 | (urn:lsid:marinespecies.org:taxname:109470) | Alexandrium | FALSE | TRUE | 109470 | 34.408 | 146203 | 450030 | 109431 | present | HumanObservation | Harosa | Alexandrium_spp | 1 | 00024365-b76d-4722-9530-538372d53272 | Gonyaulacales | 11184 | c9aaa0e9-8f6c-4553-a014-a857baba0680 | -119.685 | 1.526256e+12 | HABs-StearnsWharf_2018-05-14T15:51:00Z_Alexandrium_spp | Alveolata | 582419 | 1.526256e+12 | cells/L | Alexandrium | 2018-05-14T15:51:00Z | HABs-StearnsWharf_2018-05-14T15:51:00Z | 536209 | 12 | FALSE | 20180514 | 109470 | urn:lsid:algaebase.org:taxname:6378 | Alexandrium | TRUE | 1 | 562620 | 1.526256e+12 | Dinophyceae | 109391 | EPSG:4326 WGS84 | Chromista | 19542 | Myzozoa | HABs-StearnsWharf | Dinozoa | Ostreopsidaceae | 7 | b7c47783-a020-4173-b390-7b57c4fa1426 | 33.44 | 1 | 202 | 15.4 | 7 | NA | NA | NA | NA | NA | NA | NA | NA | NA | NA |\n",
       "\n"
      ],
      "text/plain": [
       "  infraphylum    date_year scientificNameID                           \n",
       "1 Dinoflagellata 2018      (urn:lsid:marinespecies.org:taxname:109470)\n",
       "  scientificName dropped hab  aphiaID decimalLatitude infraphylumid phylumid\n",
       "1 Alexandrium    FALSE   TRUE 109470  34.408          146203        450030  \n",
       "  familyid occurrenceStatus basisOfRecord    subkingdom organismName   \n",
       "1 109431   present          HumanObservation Harosa     Alexandrium_spp\n",
       "  maximumDepthInMeters id                                   order        \n",
       "1 1                    00024365-b76d-4722-9530-538372d53272 Gonyaulacales\n",
       "  organismQuantity dataset_id                           decimalLongitude\n",
       "1 11184            c9aaa0e9-8f6c-4553-a014-a857baba0680 -119.685        \n",
       "  date_end     occurrenceID                                          \n",
       "1 1.526256e+12 HABs-StearnsWharf_2018-05-14T15:51:00Z_Alexandrium_spp\n",
       "  infrakingdom subkingdomid date_start   organismQuantityType genus      \n",
       "1 Alveolata    582419       1.526256e+12 cells/L              Alexandrium\n",
       "  eventDate            eventID                                infrakingdomid\n",
       "1 2018-05-14T15:51:00Z HABs-StearnsWharf_2018-05-14T15:51:00Z 536209        \n",
       "  coordinateUncertaintyInMeters absence eventRemarks genusid\n",
       "1 12                            FALSE   20180514     109470 \n",
       "  taxonID                             originalScientificName marine\n",
       "1 urn:lsid:algaebase.org:taxname:6378 Alexandrium            TRUE  \n",
       "  minimumDepthInMeters subphylumid date_mid     class       orderid\n",
       "1 1                    562620      1.526256e+12 Dinophyceae 109391 \n",
       "  geodeticDatum   kingdom   classid phylum  locationID        subphylum\n",
       "1 EPSG:4326 WGS84 Chromista 19542   Myzozoa HABs-StearnsWharf Dinozoa  \n",
       "  family          kingdomid node_id                              sss   depth\n",
       "1 Ostreopsidaceae 7         b7c47783-a020-4173-b390-7b57c4fa1426 33.44 1    \n",
       "  shoredistance sst  bathymetry subclassid terrestrial speciesid superorder\n",
       "1 202           15.4 7          NA         NA          NA        NA        \n",
       "  superorderid wrims species subclass flags brackish\n",
       "1 NA           NA    NA      NA       NA    NA      "
      ]
     },
     "metadata": {},
     "output_type": "display_data"
    }
   ],
   "source": [
    "# make table bigger for review\n",
    "options(repr.matrix.max.cols=100)\n",
    "\n",
    "# collect column names and drop 'mof' from list:\n",
    "cols <- colnames(sccoos_occur)\n",
    "cols <- cols[cols!='mof']\n",
    "\n",
    "# One occurrence observation without measurement or fact data:\n",
    "head(sccoos_occur[cols],n = 1)"
   ]
  },
  {
   "cell_type": "code",
   "execution_count": 3,
   "metadata": {},
   "outputs": [
    {
     "data": {
      "text/html": [
       "<ol>\n",
       "\t<li><table>\n",
       "<caption>A data.frame: 12 × 14</caption>\n",
       "<thead>\n",
       "\t<tr><th></th><th scope=col>measurementDeterminedBy</th><th scope=col>measurementAccuracy</th><th scope=col>measurementValue</th><th scope=col>measurementRemarks</th><th scope=col>measurementValueID</th><th scope=col>level</th><th scope=col>occurrenceID</th><th scope=col>measurementUnit</th><th scope=col>measurementDeterminedDate</th><th scope=col>measurementType</th><th scope=col>measurementUnitID</th><th scope=col>measurementTypeID</th><th scope=col>measurementID</th><th scope=col>measurementMethod</th></tr>\n",
       "\t<tr><th></th><th scope=col>&lt;lgl&gt;</th><th scope=col>&lt;lgl&gt;</th><th scope=col>&lt;chr&gt;</th><th scope=col>&lt;lgl&gt;</th><th scope=col>&lt;lgl&gt;</th><th scope=col>&lt;int&gt;</th><th scope=col>&lt;lgl&gt;</th><th scope=col>&lt;chr&gt;</th><th scope=col>&lt;lgl&gt;</th><th scope=col>&lt;chr&gt;</th><th scope=col>&lt;chr&gt;</th><th scope=col>&lt;chr&gt;</th><th scope=col>&lt;chr&gt;</th><th scope=col>&lt;lgl&gt;</th></tr>\n",
       "</thead>\n",
       "<tbody>\n",
       "\t<tr><th scope=row>1</th><td>NA</td><td>NA</td><td>6.728</td><td>NA</td><td>NA</td><td>1</td><td>NA</td><td>uM     </td><td>NA</td><td>Ammonium       </td><td>NA                                                  </td><td>http://vocab.nerc.ac.uk/collection/S27/current/CS026908/                                                                                                </td><td>HABs-StearnsWharf_2018-05-14T15:51:00Z_Ammonium       </td><td>NA</td></tr>\n",
       "\t<tr><th scope=row>2</th><td>NA</td><td>NA</td><td>15   </td><td>NA</td><td>NA</td><td>1</td><td>NA</td><td>Celsius</td><td>NA</td><td>Temp           </td><td>http://vocab.nerc.ac.uk/collection/P06/current/UPAA/</td><td>http://vocab.nerc.ac.uk/collection/P25/current/WTEMP/                                                                                                   </td><td>HABs-StearnsWharf_2018-05-14T15:51:00Z_Temp           </td><td>NA</td></tr>\n",
       "\t<tr><th scope=row>3</th><td>NA</td><td>NA</td><td>7.393</td><td>NA</td><td>NA</td><td>1</td><td>NA</td><td>uM     </td><td>NA</td><td>Silicate       </td><td>NA                                                  </td><td>http://vocab.nerc.ac.uk/collection/P25/current/SLCA/ , https://www.bco-dmo.org/parameter/1209                                                           </td><td>HABs-StearnsWharf_2018-05-14T15:51:00Z_Silicate       </td><td>NA</td></tr>\n",
       "\t<tr><th scope=row>4</th><td>NA</td><td>NA</td><td>0.764</td><td>NA</td><td>NA</td><td>1</td><td>NA</td><td>uM     </td><td>NA</td><td>Phosphate      </td><td>NA                                                  </td><td>http://vocab.nerc.ac.uk/collection/S27/current/CS026904/                                                                                                </td><td>HABs-StearnsWharf_2018-05-14T15:51:00Z_Phosphate      </td><td>NA</td></tr>\n",
       "\t<tr><th scope=row>5</th><td>NA</td><td>NA</td><td>0.903</td><td>NA</td><td>NA</td><td>1</td><td>NA</td><td>mg/m3  </td><td>NA</td><td>Phaeo1         </td><td>http://vocab.nerc.ac.uk/collection/P06/current/UMMC/</td><td>http://vocab.nerc.ac.uk/collection/P25/current/PHAEO/ , https://www.bco-dmo.org/parameter/925 , http://vocab.nerc.ac.uk/collection/P01/current/PHAEFMP1/</td><td>HABs-StearnsWharf_2018-05-14T15:51:00Z_Phaeo1         </td><td>NA</td></tr>\n",
       "\t<tr><th scope=row>6</th><td>NA</td><td>NA</td><td>0    </td><td>NA</td><td>NA</td><td>1</td><td>NA</td><td>ng/mL  </td><td>NA</td><td>pDA            </td><td>NA                                                  </td><td>https://pubchem.ncbi.nlm.nih.gov/compound/Domoic-acid                                                                                                   </td><td>HABs-StearnsWharf_2018-05-14T15:51:00Z_pDA            </td><td>NA</td></tr>\n",
       "\t<tr><th scope=row>7</th><td>NA</td><td>NA</td><td>0.368</td><td>NA</td><td>NA</td><td>1</td><td>NA</td><td>uM     </td><td>NA</td><td>Nitrite_Nitrate</td><td>NA                                                  </td><td>http://vocab.nerc.ac.uk/collection/S27/current/CS026905/                                                                                                </td><td>HABs-StearnsWharf_2018-05-14T15:51:00Z_Nitrite_Nitrate</td><td>NA</td></tr>\n",
       "\t<tr><th scope=row>8</th><td>NA</td><td>NA</td><td>0    </td><td>NA</td><td>NA</td><td>1</td><td>NA</td><td>uM     </td><td>NA</td><td>Nitrite        </td><td>NA                                                  </td><td>http://vocab.nerc.ac.uk/collection/S27/current/CS002877/ , https://www.bco-dmo.org/parameter/1192 , http://vocab.nerc.ac.uk/collection/P02/current/NTRI/</td><td>HABs-StearnsWharf_2018-05-14T15:51:00Z_Nitrite        </td><td>NA</td></tr>\n",
       "\t<tr><th scope=row>9</th><td>NA</td><td>NA</td><td>0.368</td><td>NA</td><td>NA</td><td>1</td><td>NA</td><td>uM     </td><td>NA</td><td>Nitrate        </td><td>NA                                                  </td><td>http://vocab.nerc.ac.uk/collection/S27/current/CS002879/ , https://www.bco-dmo.org/parameter/1194 ,                                                     </td><td>HABs-StearnsWharf_2018-05-14T15:51:00Z_Nitrate        </td><td>NA</td></tr>\n",
       "\t<tr><th scope=row>10</th><td>NA</td><td>NA</td><td>2.086</td><td>NA</td><td>NA</td><td>1</td><td>NA</td><td>mg/m3  </td><td>NA</td><td>Chl1           </td><td>http://vocab.nerc.ac.uk/collection/P06/current/UMMC/</td><td>http://vocab.nerc.ac.uk/collection/P25/current/CHLA/                                                                                                    </td><td>HABs-StearnsWharf_2018-05-14T15:51:00Z_Chl1           </td><td>NA</td></tr>\n",
       "\t<tr><th scope=row>11</th><td>NA</td><td>NA</td><td>0.903</td><td>NA</td><td>NA</td><td>1</td><td>NA</td><td>mg/m3  </td><td>NA</td><td>Avg_Phaeo      </td><td>http://vocab.nerc.ac.uk/collection/P06/current/UMMC/</td><td>http://vocab.nerc.ac.uk/collection/P25/current/PHAEO/ , https://www.bco-dmo.org/parameter/925 , http://vocab.nerc.ac.uk/collection/P01/current/PHAEFMP1/</td><td>HABs-StearnsWharf_2018-05-14T15:51:00Z_Avg_Phaeo      </td><td>NA</td></tr>\n",
       "\t<tr><th scope=row>12</th><td>NA</td><td>NA</td><td>2.086</td><td>NA</td><td>NA</td><td>1</td><td>NA</td><td>mg/m3  </td><td>NA</td><td>Avg_Chloro     </td><td>http://vocab.nerc.ac.uk/collection/P06/current/UMMC/</td><td>http://vocab.nerc.ac.uk/collection/P25/current/CHLA/                                                                                                    </td><td>HABs-StearnsWharf_2018-05-14T15:51:00Z_Avg_Chloro     </td><td>NA</td></tr>\n",
       "</tbody>\n",
       "</table>\n",
       "</li>\n",
       "</ol>\n"
      ],
      "text/latex": [
       "\\begin{enumerate}\n",
       "\\item A data.frame: 12 × 14\n",
       "\\begin{tabular}{r|llllllllllllll}\n",
       "  & measurementDeterminedBy & measurementAccuracy & measurementValue & measurementRemarks & measurementValueID & level & occurrenceID & measurementUnit & measurementDeterminedDate & measurementType & measurementUnitID & measurementTypeID & measurementID & measurementMethod\\\\\n",
       "  & <lgl> & <lgl> & <chr> & <lgl> & <lgl> & <int> & <lgl> & <chr> & <lgl> & <chr> & <chr> & <chr> & <chr> & <lgl>\\\\\n",
       "\\hline\n",
       "\t1 & NA & NA & 6.728 & NA & NA & 1 & NA & uM      & NA & Ammonium        & NA                                                   & http://vocab.nerc.ac.uk/collection/S27/current/CS026908/                                                                                                 & HABs-StearnsWharf\\_2018-05-14T15:51:00Z\\_Ammonium        & NA\\\\\n",
       "\t2 & NA & NA & 15    & NA & NA & 1 & NA & Celsius & NA & Temp            & http://vocab.nerc.ac.uk/collection/P06/current/UPAA/ & http://vocab.nerc.ac.uk/collection/P25/current/WTEMP/                                                                                                    & HABs-StearnsWharf\\_2018-05-14T15:51:00Z\\_Temp            & NA\\\\\n",
       "\t3 & NA & NA & 7.393 & NA & NA & 1 & NA & uM      & NA & Silicate        & NA                                                   & http://vocab.nerc.ac.uk/collection/P25/current/SLCA/ , https://www.bco-dmo.org/parameter/1209                                                            & HABs-StearnsWharf\\_2018-05-14T15:51:00Z\\_Silicate        & NA\\\\\n",
       "\t4 & NA & NA & 0.764 & NA & NA & 1 & NA & uM      & NA & Phosphate       & NA                                                   & http://vocab.nerc.ac.uk/collection/S27/current/CS026904/                                                                                                 & HABs-StearnsWharf\\_2018-05-14T15:51:00Z\\_Phosphate       & NA\\\\\n",
       "\t5 & NA & NA & 0.903 & NA & NA & 1 & NA & mg/m3   & NA & Phaeo1          & http://vocab.nerc.ac.uk/collection/P06/current/UMMC/ & http://vocab.nerc.ac.uk/collection/P25/current/PHAEO/ , https://www.bco-dmo.org/parameter/925 , http://vocab.nerc.ac.uk/collection/P01/current/PHAEFMP1/ & HABs-StearnsWharf\\_2018-05-14T15:51:00Z\\_Phaeo1          & NA\\\\\n",
       "\t6 & NA & NA & 0     & NA & NA & 1 & NA & ng/mL   & NA & pDA             & NA                                                   & https://pubchem.ncbi.nlm.nih.gov/compound/Domoic-acid                                                                                                    & HABs-StearnsWharf\\_2018-05-14T15:51:00Z\\_pDA             & NA\\\\\n",
       "\t7 & NA & NA & 0.368 & NA & NA & 1 & NA & uM      & NA & Nitrite\\_Nitrate & NA                                                   & http://vocab.nerc.ac.uk/collection/S27/current/CS026905/                                                                                                 & HABs-StearnsWharf\\_2018-05-14T15:51:00Z\\_Nitrite\\_Nitrate & NA\\\\\n",
       "\t8 & NA & NA & 0     & NA & NA & 1 & NA & uM      & NA & Nitrite         & NA                                                   & http://vocab.nerc.ac.uk/collection/S27/current/CS002877/ , https://www.bco-dmo.org/parameter/1192 , http://vocab.nerc.ac.uk/collection/P02/current/NTRI/ & HABs-StearnsWharf\\_2018-05-14T15:51:00Z\\_Nitrite         & NA\\\\\n",
       "\t9 & NA & NA & 0.368 & NA & NA & 1 & NA & uM      & NA & Nitrate         & NA                                                   & http://vocab.nerc.ac.uk/collection/S27/current/CS002879/ , https://www.bco-dmo.org/parameter/1194 ,                                                      & HABs-StearnsWharf\\_2018-05-14T15:51:00Z\\_Nitrate         & NA\\\\\n",
       "\t10 & NA & NA & 2.086 & NA & NA & 1 & NA & mg/m3   & NA & Chl1            & http://vocab.nerc.ac.uk/collection/P06/current/UMMC/ & http://vocab.nerc.ac.uk/collection/P25/current/CHLA/                                                                                                     & HABs-StearnsWharf\\_2018-05-14T15:51:00Z\\_Chl1            & NA\\\\\n",
       "\t11 & NA & NA & 0.903 & NA & NA & 1 & NA & mg/m3   & NA & Avg\\_Phaeo       & http://vocab.nerc.ac.uk/collection/P06/current/UMMC/ & http://vocab.nerc.ac.uk/collection/P25/current/PHAEO/ , https://www.bco-dmo.org/parameter/925 , http://vocab.nerc.ac.uk/collection/P01/current/PHAEFMP1/ & HABs-StearnsWharf\\_2018-05-14T15:51:00Z\\_Avg\\_Phaeo       & NA\\\\\n",
       "\t12 & NA & NA & 2.086 & NA & NA & 1 & NA & mg/m3   & NA & Avg\\_Chloro      & http://vocab.nerc.ac.uk/collection/P06/current/UMMC/ & http://vocab.nerc.ac.uk/collection/P25/current/CHLA/                                                                                                     & HABs-StearnsWharf\\_2018-05-14T15:51:00Z\\_Avg\\_Chloro      & NA\\\\\n",
       "\\end{tabular}\n",
       "\n",
       "\\end{enumerate}\n"
      ],
      "text/markdown": [
       "1. \n",
       "A data.frame: 12 × 14\n",
       "\n",
       "| <!--/--> | measurementDeterminedBy &lt;lgl&gt; | measurementAccuracy &lt;lgl&gt; | measurementValue &lt;chr&gt; | measurementRemarks &lt;lgl&gt; | measurementValueID &lt;lgl&gt; | level &lt;int&gt; | occurrenceID &lt;lgl&gt; | measurementUnit &lt;chr&gt; | measurementDeterminedDate &lt;lgl&gt; | measurementType &lt;chr&gt; | measurementUnitID &lt;chr&gt; | measurementTypeID &lt;chr&gt; | measurementID &lt;chr&gt; | measurementMethod &lt;lgl&gt; |\n",
       "|---|---|---|---|---|---|---|---|---|---|---|---|---|---|---|\n",
       "| 1 | NA | NA | 6.728 | NA | NA | 1 | NA | uM      | NA | Ammonium        | NA                                                   | http://vocab.nerc.ac.uk/collection/S27/current/CS026908/                                                                                                 | HABs-StearnsWharf_2018-05-14T15:51:00Z_Ammonium        | NA |\n",
       "| 2 | NA | NA | 15    | NA | NA | 1 | NA | Celsius | NA | Temp            | http://vocab.nerc.ac.uk/collection/P06/current/UPAA/ | http://vocab.nerc.ac.uk/collection/P25/current/WTEMP/                                                                                                    | HABs-StearnsWharf_2018-05-14T15:51:00Z_Temp            | NA |\n",
       "| 3 | NA | NA | 7.393 | NA | NA | 1 | NA | uM      | NA | Silicate        | NA                                                   | http://vocab.nerc.ac.uk/collection/P25/current/SLCA/ , https://www.bco-dmo.org/parameter/1209                                                            | HABs-StearnsWharf_2018-05-14T15:51:00Z_Silicate        | NA |\n",
       "| 4 | NA | NA | 0.764 | NA | NA | 1 | NA | uM      | NA | Phosphate       | NA                                                   | http://vocab.nerc.ac.uk/collection/S27/current/CS026904/                                                                                                 | HABs-StearnsWharf_2018-05-14T15:51:00Z_Phosphate       | NA |\n",
       "| 5 | NA | NA | 0.903 | NA | NA | 1 | NA | mg/m3   | NA | Phaeo1          | http://vocab.nerc.ac.uk/collection/P06/current/UMMC/ | http://vocab.nerc.ac.uk/collection/P25/current/PHAEO/ , https://www.bco-dmo.org/parameter/925 , http://vocab.nerc.ac.uk/collection/P01/current/PHAEFMP1/ | HABs-StearnsWharf_2018-05-14T15:51:00Z_Phaeo1          | NA |\n",
       "| 6 | NA | NA | 0     | NA | NA | 1 | NA | ng/mL   | NA | pDA             | NA                                                   | https://pubchem.ncbi.nlm.nih.gov/compound/Domoic-acid                                                                                                    | HABs-StearnsWharf_2018-05-14T15:51:00Z_pDA             | NA |\n",
       "| 7 | NA | NA | 0.368 | NA | NA | 1 | NA | uM      | NA | Nitrite_Nitrate | NA                                                   | http://vocab.nerc.ac.uk/collection/S27/current/CS026905/                                                                                                 | HABs-StearnsWharf_2018-05-14T15:51:00Z_Nitrite_Nitrate | NA |\n",
       "| 8 | NA | NA | 0     | NA | NA | 1 | NA | uM      | NA | Nitrite         | NA                                                   | http://vocab.nerc.ac.uk/collection/S27/current/CS002877/ , https://www.bco-dmo.org/parameter/1192 , http://vocab.nerc.ac.uk/collection/P02/current/NTRI/ | HABs-StearnsWharf_2018-05-14T15:51:00Z_Nitrite         | NA |\n",
       "| 9 | NA | NA | 0.368 | NA | NA | 1 | NA | uM      | NA | Nitrate         | NA                                                   | http://vocab.nerc.ac.uk/collection/S27/current/CS002879/ , https://www.bco-dmo.org/parameter/1194 ,                                                      | HABs-StearnsWharf_2018-05-14T15:51:00Z_Nitrate         | NA |\n",
       "| 10 | NA | NA | 2.086 | NA | NA | 1 | NA | mg/m3   | NA | Chl1            | http://vocab.nerc.ac.uk/collection/P06/current/UMMC/ | http://vocab.nerc.ac.uk/collection/P25/current/CHLA/                                                                                                     | HABs-StearnsWharf_2018-05-14T15:51:00Z_Chl1            | NA |\n",
       "| 11 | NA | NA | 0.903 | NA | NA | 1 | NA | mg/m3   | NA | Avg_Phaeo       | http://vocab.nerc.ac.uk/collection/P06/current/UMMC/ | http://vocab.nerc.ac.uk/collection/P25/current/PHAEO/ , https://www.bco-dmo.org/parameter/925 , http://vocab.nerc.ac.uk/collection/P01/current/PHAEFMP1/ | HABs-StearnsWharf_2018-05-14T15:51:00Z_Avg_Phaeo       | NA |\n",
       "| 12 | NA | NA | 2.086 | NA | NA | 1 | NA | mg/m3   | NA | Avg_Chloro      | http://vocab.nerc.ac.uk/collection/P06/current/UMMC/ | http://vocab.nerc.ac.uk/collection/P25/current/CHLA/                                                                                                     | HABs-StearnsWharf_2018-05-14T15:51:00Z_Avg_Chloro      | NA |\n",
       "\n",
       "\n",
       "\n",
       "\n"
      ],
      "text/plain": [
       "[[1]]\n",
       "   measurementDeterminedBy measurementAccuracy measurementValue\n",
       "1                       NA                  NA            6.728\n",
       "2                       NA                  NA               15\n",
       "3                       NA                  NA            7.393\n",
       "4                       NA                  NA            0.764\n",
       "5                       NA                  NA            0.903\n",
       "6                       NA                  NA                0\n",
       "7                       NA                  NA            0.368\n",
       "8                       NA                  NA                0\n",
       "9                       NA                  NA            0.368\n",
       "10                      NA                  NA            2.086\n",
       "11                      NA                  NA            0.903\n",
       "12                      NA                  NA            2.086\n",
       "   measurementRemarks measurementValueID level occurrenceID measurementUnit\n",
       "1                  NA                 NA     1           NA              uM\n",
       "2                  NA                 NA     1           NA         Celsius\n",
       "3                  NA                 NA     1           NA              uM\n",
       "4                  NA                 NA     1           NA              uM\n",
       "5                  NA                 NA     1           NA           mg/m3\n",
       "6                  NA                 NA     1           NA           ng/mL\n",
       "7                  NA                 NA     1           NA              uM\n",
       "8                  NA                 NA     1           NA              uM\n",
       "9                  NA                 NA     1           NA              uM\n",
       "10                 NA                 NA     1           NA           mg/m3\n",
       "11                 NA                 NA     1           NA           mg/m3\n",
       "12                 NA                 NA     1           NA           mg/m3\n",
       "   measurementDeterminedDate measurementType\n",
       "1                         NA        Ammonium\n",
       "2                         NA            Temp\n",
       "3                         NA        Silicate\n",
       "4                         NA       Phosphate\n",
       "5                         NA          Phaeo1\n",
       "6                         NA             pDA\n",
       "7                         NA Nitrite_Nitrate\n",
       "8                         NA         Nitrite\n",
       "9                         NA         Nitrate\n",
       "10                        NA            Chl1\n",
       "11                        NA       Avg_Phaeo\n",
       "12                        NA      Avg_Chloro\n",
       "                                      measurementUnitID\n",
       "1                                                    NA\n",
       "2  http://vocab.nerc.ac.uk/collection/P06/current/UPAA/\n",
       "3                                                    NA\n",
       "4                                                    NA\n",
       "5  http://vocab.nerc.ac.uk/collection/P06/current/UMMC/\n",
       "6                                                    NA\n",
       "7                                                    NA\n",
       "8                                                    NA\n",
       "9                                                    NA\n",
       "10 http://vocab.nerc.ac.uk/collection/P06/current/UMMC/\n",
       "11 http://vocab.nerc.ac.uk/collection/P06/current/UMMC/\n",
       "12 http://vocab.nerc.ac.uk/collection/P06/current/UMMC/\n",
       "                                                                                                                                          measurementTypeID\n",
       "1                                                                                                  http://vocab.nerc.ac.uk/collection/S27/current/CS026908/\n",
       "2                                                                                                     http://vocab.nerc.ac.uk/collection/P25/current/WTEMP/\n",
       "3                                                             http://vocab.nerc.ac.uk/collection/P25/current/SLCA/ , https://www.bco-dmo.org/parameter/1209\n",
       "4                                                                                                  http://vocab.nerc.ac.uk/collection/S27/current/CS026904/\n",
       "5  http://vocab.nerc.ac.uk/collection/P25/current/PHAEO/ , https://www.bco-dmo.org/parameter/925 , http://vocab.nerc.ac.uk/collection/P01/current/PHAEFMP1/\n",
       "6                                                                                                     https://pubchem.ncbi.nlm.nih.gov/compound/Domoic-acid\n",
       "7                                                                                                  http://vocab.nerc.ac.uk/collection/S27/current/CS026905/\n",
       "8  http://vocab.nerc.ac.uk/collection/S27/current/CS002877/ , https://www.bco-dmo.org/parameter/1192 , http://vocab.nerc.ac.uk/collection/P02/current/NTRI/\n",
       "9                                                       http://vocab.nerc.ac.uk/collection/S27/current/CS002879/ , https://www.bco-dmo.org/parameter/1194 ,\n",
       "10                                                                                                     http://vocab.nerc.ac.uk/collection/P25/current/CHLA/\n",
       "11 http://vocab.nerc.ac.uk/collection/P25/current/PHAEO/ , https://www.bco-dmo.org/parameter/925 , http://vocab.nerc.ac.uk/collection/P01/current/PHAEFMP1/\n",
       "12                                                                                                     http://vocab.nerc.ac.uk/collection/P25/current/CHLA/\n",
       "                                            measurementID measurementMethod\n",
       "1         HABs-StearnsWharf_2018-05-14T15:51:00Z_Ammonium                NA\n",
       "2             HABs-StearnsWharf_2018-05-14T15:51:00Z_Temp                NA\n",
       "3         HABs-StearnsWharf_2018-05-14T15:51:00Z_Silicate                NA\n",
       "4        HABs-StearnsWharf_2018-05-14T15:51:00Z_Phosphate                NA\n",
       "5           HABs-StearnsWharf_2018-05-14T15:51:00Z_Phaeo1                NA\n",
       "6              HABs-StearnsWharf_2018-05-14T15:51:00Z_pDA                NA\n",
       "7  HABs-StearnsWharf_2018-05-14T15:51:00Z_Nitrite_Nitrate                NA\n",
       "8          HABs-StearnsWharf_2018-05-14T15:51:00Z_Nitrite                NA\n",
       "9          HABs-StearnsWharf_2018-05-14T15:51:00Z_Nitrate                NA\n",
       "10            HABs-StearnsWharf_2018-05-14T15:51:00Z_Chl1                NA\n",
       "11       HABs-StearnsWharf_2018-05-14T15:51:00Z_Avg_Phaeo                NA\n",
       "12      HABs-StearnsWharf_2018-05-14T15:51:00Z_Avg_Chloro                NA\n"
      ]
     },
     "metadata": {},
     "output_type": "display_data"
    }
   ],
   "source": [
    "# additional observations (measurements or facts) connected to the occurrence above\n",
    "sccoos_mof <- sccoos_occur$mof\n",
    "head(sccoos_mof,n = 1)"
   ]
  },
  {
   "cell_type": "code",
   "execution_count": 4,
   "metadata": {},
   "outputs": [
    {
     "data": {
      "text/html": [
       "<iframe src=\"sccoos_data.html\"></iframe>"
      ]
     },
     "metadata": {},
     "output_type": "display_data"
    }
   ],
   "source": [
    "# create a map\n",
    "library(htmlwidgets)\n",
    "library(IRdisplay)\n",
    "\n",
    "m = map_leaflet(sccoos_occur)\n",
    "\n",
    "saveWidget(m, \"sccoos_data.html\", selfcontained = FALSE)\n",
    "display_html(\"<iframe src=\\\"sccoos_data.html\\\"></iframe>\")"
   ]
  },
  {
   "cell_type": "code",
   "execution_count": 5,
   "metadata": {},
   "outputs": [
    {
     "name": "stderr",
     "output_type": "stream",
     "text": [
      "Retrieved 5000 records of approximately 9199 (54%)\n",
      "Retrieved 9199 records of approximately 9199 (100%)\n"
     ]
    }
   ],
   "source": [
    "# get all Lingulodinium polyedra occurrences from OBIS\n",
    "lingpoly_occur <- occurrence(\n",
    "    scientificname = species\n",
    ")\n",
    "\n",
    "# or by taxon id from AphiaID: urn:lsid:algaebase.org:taxname:233592\n",
    "# could use rtaxize 'get_wormsid' here or obistools 'match_taxa' to search on taxonid from species name? \n",
    "# lingpoly_occur <- occurrence(\n",
    "#   taxonid = '233592'\n",
    "# )"
   ]
  },
  {
   "cell_type": "code",
   "execution_count": 6,
   "metadata": {},
   "outputs": [],
   "source": [
    "# remove sccoos entries from full occurrence response\n",
    "lingpoly_occur <- lingpoly_occur[!lingpoly_occur$dataset_id==sccoos_dataset_id,]"
   ]
  },
  {
   "cell_type": "code",
   "execution_count": 7,
   "metadata": {},
   "outputs": [
    {
     "data": {
      "text/html": [
       "<iframe src=\"lingpoly_data.html\"></iframe>"
      ]
     },
     "metadata": {},
     "output_type": "display_data"
    }
   ],
   "source": [
    "# create a map of all lingulodinium polyedra, excluding sccoos contributions\n",
    "m = map_leaflet(lingpoly_occur)\n",
    "\n",
    "saveWidget(m, \"lingpoly_data.html\", selfcontained = FALSE)\n",
    "display_html(\"<iframe src=\\\"lingpoly_data.html\\\"></iframe>\")"
   ]
  },
  {
   "cell_type": "code",
   "execution_count": 9,
   "metadata": {},
   "outputs": [
    {
     "data": {
      "text/html": [
       "<iframe src=\"lingpoly_data_sub.html\"></iframe>"
      ]
     },
     "metadata": {},
     "output_type": "display_data"
    }
   ],
   "source": [
    "# subset sccoos observations for Lingulodinium and add those markers to global map\n",
    "sccoos_lingpoly_occur <- sccoos_occur[ which(sccoos_occur$scientificName == species), ]\n",
    "\n",
    "m = map_leaflet(lingpoly_occur) %>% \n",
    "  addTiles() %>% \n",
    "  addMarkers(\n",
    "      sccoos_lingpoly_occur$decimalLongitude, sccoos_lingpoly_occur$decimalLatitude,\n",
    "      clusterOptions = markerClusterOptions(),\n",
    "    #radius = 3, weight = 1, opacity = 1, fillOpacity = 0.1, \n",
    "      popup = sccoos_lingpoly_occur$mof[[1]]\n",
    "  )\n",
    "\n",
    "\n",
    "saveWidget(m, \"lingpoly_data_sub.html\", selfcontained = FALSE)\n",
    "display_html(\"<iframe src=\\\"lingpoly_data_sub.html\\\"></iframe>\")"
   ]
  },
  {
   "cell_type": "code",
   "execution_count": null,
   "metadata": {},
   "outputs": [],
   "source": [
    "# print occurrenceID's from mof observations for the first occurrence \n",
    "sccoos_lingpoly_occur$mof[[1]]$measurementValue"
   ]
  },
  {
   "cell_type": "code",
   "execution_count": 11,
   "metadata": {},
   "outputs": [
    {
     "data": {
      "text/html": [
       "<iframe src=\"lingpoly_data_sub.html\"></iframe>"
      ]
     },
     "metadata": {},
     "output_type": "display_data"
    }
   ],
   "source": [
    "# TODO\n",
    "# make the popup's on the map above have a table of the mof observations for each occurrence.\n",
    "# Might need to have the popup with a time slider since the SCCOOS occurrences are at only 7 locations for 1007 occurrences.\n",
    "m = map_leaflet(lingpoly_occur) %>% \n",
    "  addTiles() %>% \n",
    "  addMarkers(\n",
    "    sccoos_lingpoly_occur$decimalLongitude, sccoos_lingpoly_occur$decimalLatitude,\n",
    "    clusterOptions = markerClusterOptions(),\n",
    "    #radius = 3, weight = 1, opacity = 1, fillOpacity = 0.1, \n",
    "    popup = ~paste(\"<table>\n",
    "                        <thead><tr><td>measurementType</td><td>measurementValue</td></tr></thead>\n",
    "                        <tbody><tr><td>\", sccoos_lingpoly_occur$mof[[1]]$measurementType, \"</td><td>\", sccoos_lingpoly_occur$mof[[1]]$measurementValue, \"</td></tr></tbody>\n",
    "                    </table>\")\n",
    "  )\n",
    "\n",
    "saveWidget(m, \"lingpoly_data_sub.html\", selfcontained = FALSE)\n",
    "display_html(\"<iframe src=\\\"lingpoly_data_sub.html\\\"></iframe>\")"
   ]
  },
  {
   "cell_type": "code",
   "execution_count": null,
   "metadata": {},
   "outputs": [],
   "source": []
  }
 ],
 "metadata": {
  "kernelspec": {
   "display_name": "R",
   "language": "R",
   "name": "ir"
  },
  "language_info": {
   "codemirror_mode": "r",
   "file_extension": ".r",
   "mimetype": "text/x-r-source",
   "name": "R",
   "pygments_lexer": "r",
   "version": "4.0.3"
  }
 },
 "nbformat": 4,
 "nbformat_minor": 4
}
