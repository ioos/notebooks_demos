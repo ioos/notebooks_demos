{
 "cells": [
  {
   "cell_type": "markdown",
   "metadata": {},
   "source": [
    "how this data contribution expands the OBIS holdings\n",
    "\n",
    "- picking a species from SCCOOS, then pulling all the data for that species from OBIS\n",
    "- plotting it all together with SCCOOS a different color?"
   ]
  },
  {
   "cell_type": "code",
   "execution_count": 1,
   "metadata": {},
   "outputs": [
    {
     "name": "stderr",
     "output_type": "stream",
     "text": [
      "Retrieved 5000 records of approximately 10483 (47%)\n",
      "Retrieved 10000 records of approximately 10483 (95%)\n",
      "Retrieved 10483 records of approximately 10483 (100%)\n"
     ]
    }
   ],
   "source": [
    "# get SCCOOS occurrence and measurement or fact data\n",
    "library(robis)\n",
    "library(leaflet)\n",
    "\n",
    "sccoos_dataset_id = \"c9aaa0e9-8f6c-4553-a014-a857baba0680\"\n",
    "\n",
    "sccoos_data <- occurrence(\n",
    "    datasetid=sccoos_dataset_id, mof=TRUE\n",
    ")"
   ]
  },
  {
   "cell_type": "code",
   "execution_count": null,
   "metadata": {},
   "outputs": [],
   "source": [
    "sccoos_data"
   ]
  },
  {
   "cell_type": "code",
   "execution_count": 3,
   "metadata": {},
   "outputs": [
    {
     "data": {
      "text/html": [
       "<iframe src=\"sccoos_data.html\"></iframe>"
      ]
     },
     "metadata": {},
     "output_type": "display_data"
    }
   ],
   "source": [
    "library(htmlwidgets)\n",
    "library(IRdisplay)\n",
    "\n",
    "\n",
    "m = map_leaflet(sccoos_data)\n",
    "\n",
    "saveWidget(m, \"sccoos_data.html\", selfcontained = FALSE)\n",
    "display_html(\"<iframe src=\\\"sccoos_data.html\\\"></iframe>\")"
   ]
  },
  {
   "cell_type": "code",
   "execution_count": 4,
   "metadata": {},
   "outputs": [
    {
     "name": "stderr",
     "output_type": "stream",
     "text": [
      "Retrieved 5000 records of approximately 8592 (58%)\n",
      "Retrieved 8592 records of approximately 8592 (100%)\n",
      "Retrieved 5000 records of approximately 8592 (58%)\n",
      "Retrieved 8592 records of approximately 8592 (100%)\n"
     ]
    }
   ],
   "source": [
    "# get all Lingulodinium polyedra occurrences from OBIS\n",
    "lingpoly_data <- occurrence(\n",
    "    scientificname = \"Lingulodinium polyedra\"\n",
    ")\n",
    "\n",
    "# or by taxon id from AphiaID: urn:lsid:algaebase.org:taxname:233592\n",
    "lingpoly_data <- occurrence(\n",
    "  taxonid = '233592'\n",
    ")"
   ]
  },
  {
   "cell_type": "code",
   "execution_count": 5,
   "metadata": {},
   "outputs": [
    {
     "data": {
      "text/html": [
       "<iframe src=\"lingpoly_data.html\"></iframe>"
      ]
     },
     "metadata": {},
     "output_type": "display_data"
    }
   ],
   "source": [
    "m = map_leaflet(lingpoly_data)\n",
    "\n",
    "saveWidget(m, \"lingpoly_data.html\", selfcontained = FALSE)\n",
    "display_html(\"<iframe src=\\\"lingpoly_data.html\\\"></iframe>\")"
   ]
  },
  {
   "cell_type": "code",
   "execution_count": 7,
   "metadata": {},
   "outputs": [
    {
     "data": {
      "text/html": [
       "<iframe src=\"lingpoly_data_sub.html\"></iframe>"
      ]
     },
     "metadata": {},
     "output_type": "display_data"
    }
   ],
   "source": [
    "# subset sccoos observations for Lingulodinium and add those markers to global map\n",
    "sccoos_lingpoly_data <- sccoos_data[ which(sccoos_data$scientificName =='Lingulodinium polyedra'), ]\n",
    "\n",
    "m = map_leaflet(lingpoly_data) %>% \n",
    "    addTiles() %>% \n",
    "    addMarkers(\n",
    "        sccoos_lingpoly_data$decimalLongitude, sccoos_lingpoly_data$decimalLatitude,\n",
    "        )\n",
    "\n",
    "\n",
    "saveWidget(m, \"lingpoly_data_sub.html\", selfcontained = FALSE)\n",
    "display_html(\"<iframe src=\\\"lingpoly_data_sub.html\\\"></iframe>\")"
   ]
  },
  {
   "cell_type": "code",
   "execution_count": null,
   "metadata": {},
   "outputs": [],
   "source": []
  }
 ],
 "metadata": {
  "kernelspec": {
   "display_name": "R",
   "language": "R",
   "name": "ir"
  },
  "language_info": {
   "codemirror_mode": "r",
   "file_extension": ".r",
   "mimetype": "text/x-r-source",
   "name": "R",
   "pygments_lexer": "r",
   "version": "4.0.3"
  }
 },
 "nbformat": 4,
 "nbformat_minor": 4
}
